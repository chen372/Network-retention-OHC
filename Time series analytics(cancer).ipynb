{
 "cells": [
  {
   "cell_type": "code",
   "execution_count": 3,
   "metadata": {
    "collapsed": true
   },
   "outputs": [],
   "source": [
    "import json\n",
    "import datetime\n",
    "import numpy as np\n",
    "import pandas as pd\n",
    "from collections import Counter\n",
    "import matplotlib.pyplot as plt\n",
    "%matplotlib inline\n",
    "import networkx as nx"
   ]
  },
  {
   "cell_type": "code",
   "execution_count": 4,
   "metadata": {
    "collapsed": false
   },
   "outputs": [
    {
     "name": "stdout",
     "output_type": "stream",
     "text": [
      "gracelyn\n",
      "rosie43539\n"
     ]
    }
   ],
   "source": [
    "# load json file\n",
    "with open('em_data.txt') as json_file:  \n",
    "    data = json.load(json_file)\n",
    "print data['/node/139863']['user']\n",
    "print data['/node/139863']['reply'][1]['user']"
   ]
  },
  {
   "cell_type": "code",
   "execution_count": 5,
   "metadata": {
    "collapsed": false
   },
   "outputs": [
    {
     "name": "stdout",
     "output_type": "stream",
     "text": [
      "8047\n",
      "[u'Sep 30, 2012 ', u'Sep 30, 2012 ', u'Oct 04, 2012 ', u'Oct 06, 2012 ', u'Oct 07, 2012 ', u'Oct 11, 2012 ', u'Oct 12, 2012 ', u'Oct 12, 2012 ', u'Oct 14, 2012 ', u'Jan 29, 2011 ']\n",
      "8047\n",
      "[u'Sep 2012 ', u'Sep 2012 ', u'Oct 2012 ', u'Oct 2012 ', u'Oct 2012 ', u'Oct 2012 ', u'Oct 2012 ', u'Oct 2012 ', u'Oct 2012 ', u'Jan 2011 ']\n",
      "8047\n",
      "[u'2012 ', u'2012 ', u'2012 ', u'2012 ', u'2012 ', u'2012 ', u'2012 ', u'2012 ', u'2012 ', u'2011 ']\n"
     ]
    }
   ],
   "source": [
    "post_time = []\n",
    "for key in data:\n",
    "    t = data[key]['post_time']\n",
    "    post_time.append(t)\n",
    "    \n",
    "    i = 0\n",
    "    while i < 100:\n",
    "        try:\n",
    "            t = data[key]['reply'][i]['post_time']\n",
    "            post_time.append(t)\n",
    "        except:\n",
    "            pass\n",
    "        i += 1\n",
    "print len(post_time)\n",
    "print post_time[:10]\n",
    "\n",
    "post_time1 = []\n",
    "for time in post_time:\n",
    "    month = time.split()[0]\n",
    "    year = time.split(',')[1]\n",
    "    time = month+year\n",
    "    post_time1.append(time)\n",
    "print len(post_time1)\n",
    "print post_time1[:10]\n",
    "\n",
    "post_time2 = []\n",
    "for time in post_time:\n",
    "    year = time.split(', ')[1]\n",
    "    post_time2.append(year)\n",
    "print len(post_time2)\n",
    "print post_time2[:10]"
   ]
  },
  {
   "cell_type": "code",
   "execution_count": 6,
   "metadata": {
    "collapsed": false
   },
   "outputs": [
    {
     "data": {
      "text/plain": [
       "Counter({u'2000 ': 31,\n",
       "         u'2001 ': 103,\n",
       "         u'2002 ': 247,\n",
       "         u'2003 ': 251,\n",
       "         u'2004 ': 251,\n",
       "         u'2005 ': 176,\n",
       "         u'2006 ': 133,\n",
       "         u'2007 ': 143,\n",
       "         u'2008 ': 750,\n",
       "         u'2009 ': 2264,\n",
       "         u'2010 ': 1615,\n",
       "         u'2011 ': 1165,\n",
       "         u'2012 ': 458,\n",
       "         u'2013 ': 217,\n",
       "         u'2014 ': 126,\n",
       "         u'2015 ': 98,\n",
       "         u'2016 ': 19})"
      ]
     },
     "execution_count": 6,
     "metadata": {},
     "output_type": "execute_result"
    }
   ],
   "source": [
    "#count = Counter(post_time1)\n",
    "count = Counter(post_time2)\n",
    "count"
   ]
  },
  {
   "cell_type": "code",
   "execution_count": 58,
   "metadata": {
    "collapsed": false
   },
   "outputs": [],
   "source": [
    "index = pd.date_range('7/1/2000','4/1/2016', freq='MS')"
   ]
  },
  {
   "cell_type": "code",
   "execution_count": 51,
   "metadata": {
    "collapsed": false
   },
   "outputs": [
    {
     "name": "stdout",
     "output_type": "stream",
     "text": [
      "190\n"
     ]
    }
   ],
   "source": [
    "y = []\n",
    "for year in range(2000, 2017):\n",
    "    for month in ['Jan','Feb','Mar','Apr','May','Jun','Jul','Aug','Sep','Oct','Nov','Dec']:\n",
    "        y.append(count[month+' '+str(year)+' '])\n",
    "        #print count[month+' '+str(year)+' ']\n",
    "        #print month+' '+str(year)\n",
    "y = y[6:196]\n",
    "print len(y)"
   ]
  },
  {
   "cell_type": "code",
   "execution_count": 55,
   "metadata": {
    "collapsed": false
   },
   "outputs": [
    {
     "data": {
      "text/plain": [
       "<matplotlib.axes._subplots.AxesSubplot at 0xa9c7eb8>"
      ]
     },
     "execution_count": 55,
     "metadata": {},
     "output_type": "execute_result"
    },
    {
     "data": {
      "image/png": "[encoded data removed]",
      "text/plain": [
       "<matplotlib.figure.Figure at 0xb1439e8>"
      ]
     },
     "metadata": {},
     "output_type": "display_data"
    }
   ],
   "source": [
    "ts = pd.Series(y, index)\n",
    "ts.plot()"
   ]
  },
  {
   "cell_type": "code",
   "execution_count": 63,
   "metadata": {
    "collapsed": false
   },
   "outputs": [
    {
     "data": {
      "text/html": [
       "<div>\n",
       "<table border=\"1\" class=\"dataframe\">\n",
       "  <thead>\n",
       "    <tr style=\"text-align: right;\">\n",
       "      <th></th>\n",
       "      <th>count</th>\n",
       "      <th>time</th>\n",
       "    </tr>\n",
       "  </thead>\n",
       "  <tbody>\n",
       "    <tr>\n",
       "      <th>0</th>\n",
       "      <td>1</td>\n",
       "      <td>2000-07-01</td>\n",
       "    </tr>\n",
       "    <tr>\n",
       "      <th>1</th>\n",
       "      <td>6</td>\n",
       "      <td>2000-08-01</td>\n",
       "    </tr>\n",
       "    <tr>\n",
       "      <th>2</th>\n",
       "      <td>1</td>\n",
       "      <td>2000-09-01</td>\n",
       "    </tr>\n",
       "    <tr>\n",
       "      <th>3</th>\n",
       "      <td>6</td>\n",
       "      <td>2000-10-01</td>\n",
       "    </tr>\n",
       "    <tr>\n",
       "      <th>4</th>\n",
       "      <td>15</td>\n",
       "      <td>2000-11-01</td>\n",
       "    </tr>\n",
       "  </tbody>\n",
       "</table>\n",
       "</div>"
      ],
      "text/plain": [
       "   count       time\n",
       "0      1 2000-07-01\n",
       "1      6 2000-08-01\n",
       "2      1 2000-09-01\n",
       "3      6 2000-10-01\n",
       "4     15 2000-11-01"
      ]
     },
     "execution_count": 63,
     "metadata": {},
     "output_type": "execute_result"
    }
   ],
   "source": [
    "df = pd.DataFrame({'time':index, 'count':y})\n",
    "df.head()"
   ]
  },
  {
   "cell_type": "code",
   "execution_count": 77,
   "metadata": {
    "collapsed": false
   },
   "outputs": [
    {
     "name": "stderr",
     "output_type": "stream",
     "text": [
      "C:\\Anaconda2\\envs\\gl-env\\lib\\site-packages\\ipykernel\\__main__.py:1: FutureWarning: pd.rolling_mean is deprecated for Series and will be removed in a future version, replace with \n",
      "\tSeries.rolling(window=10,center=False).mean()\n",
      "  if __name__ == '__main__':\n"
     ]
    },
    {
     "data": {
      "text/plain": [
       "<matplotlib.axes._subplots.AxesSubplot at 0x61255198>"
      ]
     },
     "execution_count": 77,
     "metadata": {},
     "output_type": "execute_result"
    },
    {
     "data": {
      "image/png": "[encoded data removed]",
      "text/plain": [
       "<matplotlib.figure.Figure at 0x4f3b4198>"
      ]
     },
     "metadata": {},
     "output_type": "display_data"
    }
   ],
   "source": [
    "df['10MA'] = pd.rolling_mean(df['count'], 10)\n",
    "df1 = df[9:]\n",
    "ts = pd.Series(df1['10MA'].tolist(), df1['time'].tolist())\n",
    "ts.plot()"
   ]
  },
  {
   "cell_type": "code",
   "execution_count": 12,
   "metadata": {
    "collapsed": false
   },
   "outputs": [
    {
     "data": {
      "text/plain": [
       "DatetimeIndex(['2000-12-31', '2001-12-31', '2002-12-31', '2003-12-31',\n",
       "               '2004-12-31', '2005-12-31', '2006-12-31', '2007-12-31',\n",
       "               '2008-12-31', '2009-12-31', '2010-12-31', '2011-12-31',\n",
       "               '2012-12-31', '2013-12-31', '2014-12-31', '2015-12-31',\n",
       "               '2016-12-31'],\n",
       "              dtype='datetime64[ns]', freq='A-DEC')"
      ]
     },
     "execution_count": 12,
     "metadata": {},
     "output_type": "execute_result"
    }
   ],
   "source": [
    "#index = pd.date_range('2000', '2017', freq='A')"
   ]
  },
  {
   "cell_type": "code",
   "execution_count": 16,
   "metadata": {
    "collapsed": false
   },
   "outputs": [
    {
     "data": {
      "text/plain": [
       "<matplotlib.collections.PathCollection at 0xb1b1c50>"
      ]
     },
     "execution_count": 16,
     "metadata": {},
     "output_type": "execute_result"
    },
    {
     "data": {
      "image/png": "[encoded data removed]",
      "text/plain": [
       "<matplotlib.figure.Figure at 0xaf0e4a8>"
      ]
     },
     "metadata": {},
     "output_type": "display_data"
    }
   ],
   "source": [
    "x = []\n",
    "y = []\n",
    "for key in count:\n",
    "    x.append(key)\n",
    "    y.append(count[key])\n",
    "plt.scatter(x,y)"
   ]
  },
  {
   "cell_type": "markdown",
   "metadata": {
    "collapsed": true
   },
   "source": [
    "# Construct a series of networks"
   ]
  },
  {
   "cell_type": "code",
   "execution_count": 15,
   "metadata": {
    "collapsed": false
   },
   "outputs": [],
   "source": [
    "# define time windows\n",
    "# frequency=one year, 901, g02, ... g15\n",
    "def extract_digraph(t):\n",
    "    g = nx.DiGraph()\n",
    "    for key in data:\n",
    "        i = 0\n",
    "        while i < 100:\n",
    "            try:\n",
    "                if data[key]['user'] != data[key]['reply'][i]['user'] and data[key]['reply'][i]['post_time'].split(', ')[1]  == t+' ':\n",
    "                    g.add_edge(data[key]['reply'][i]['user'], data[key]['user'])\n",
    "            except:\n",
    "                pass\n",
    "            i += 1\n",
    "    return g\n",
    "\n",
    "def extract_graph(t):\n",
    "    g = nx.Graph()\n",
    "    for key in data:\n",
    "        i = 0\n",
    "        while i < 100:\n",
    "            try:\n",
    "                if data[key]['user'] != data[key]['reply'][i]['user'] and data[key]['reply'][i]['post_time'].split(', ')[1]  == t+' ':\n",
    "                    g.add_edge(data[key]['reply'][i]['user'], data[key]['user'])\n",
    "            except:\n",
    "                pass\n",
    "            i += 1\n",
    "    return g\n",
    "\n",
    "# frequency=half a year, 901, g02, ... g30\n",
    "  \n",
    "def extract_graph(m, y):\n",
    "    g = nx.Graph()\n",
    "    for key in data:\n",
    "        i = 0\n",
    "        while i < 100:\n",
    "            try:\n",
    "                if data[key]['user'] != data[key]['reply'][i]['user'] and data[key]['reply'][i]['post_time'].split()[0] in m and data[key]['reply'][i]['post_time'].split(', ')[1] == y+' ':\n",
    "                    g.add_edge(data[key]['reply'][i]['user'], data[key]['user'])\n",
    "            except:\n",
    "                pass\n",
    "            i += 1\n",
    "    return g"
   ]
  },
  {
   "cell_type": "code",
   "execution_count": 5,
   "metadata": {
    "collapsed": false
   },
   "outputs": [],
   "source": [
    "#construct a series of graphs\n",
    "graphs = []\n",
    "for i in range(2001, 2016):\n",
    "    g = extract_graph(str(i))    \n",
    "    graphs.append(g)"
   ]
  },
  {
   "cell_type": "code",
   "execution_count": 12,
   "metadata": {
    "collapsed": false
   },
   "outputs": [
    {
     "name": "stdout",
     "output_type": "stream",
     "text": [
      "15\n"
     ]
    }
   ],
   "source": [
    "cc = []\n",
    "for g in graphs:\n",
    "    c = nx.average_clustering(g)\n",
    "    cc.append(c)\n",
    "print len(cc)"
   ]
  },
  {
   "cell_type": "code",
   "execution_count": 10,
   "metadata": {
    "collapsed": false
   },
   "outputs": [
    {
     "name": "stdout",
     "output_type": "stream",
     "text": [
      "15\n",
      "14\n"
     ]
    }
   ],
   "source": [
    "# define retaining(dropout) rate\n",
    "users = []\n",
    "for g in graphs:\n",
    "    s = set()\n",
    "    for node in g:\n",
    "        s.add(node)\n",
    "    users.append(s)\n",
    "print len(users)\n",
    "\n",
    "retain = []\n",
    "for i in range(14):\n",
    "    r = len(users[i]&users[i+1])/float(len(users[i]))\n",
    "    retain.append(r)\n",
    "print len(retain)"
   ]
  },
  {
   "cell_type": "code",
   "execution_count": 11,
   "metadata": {
    "collapsed": false
   },
   "outputs": [
    {
     "data": {
      "text/plain": [
       "[0.17857142857142858,\n",
       " 0.1935483870967742,\n",
       " 0.10810810810810811,\n",
       " 0.09154929577464789,\n",
       " 0.11458333333333333,\n",
       " 0.1875,\n",
       " 0.21052631578947367,\n",
       " 0.2608695652173913,\n",
       " 0.1879432624113475,\n",
       " 0.12968299711815562,\n",
       " 0.14453125,\n",
       " 0.11538461538461539,\n",
       " 0.1388888888888889,\n",
       " 0.16666666666666666]"
      ]
     },
     "execution_count": 11,
     "metadata": {},
     "output_type": "execute_result"
    }
   ],
   "source": [
    "retain"
   ]
  },
  {
   "cell_type": "code",
   "execution_count": 13,
   "metadata": {
    "collapsed": false
   },
   "outputs": [
    {
     "data": {
      "text/plain": [
       "<matplotlib.collections.PathCollection at 0xb711908>"
      ]
     },
     "execution_count": 13,
     "metadata": {},
     "output_type": "execute_result"
    },
    {
     "data": {
      "image/png": "[encoded data removed]",
      "text/plain": [
       "<matplotlib.figure.Figure at 0xb37a9b0>"
      ]
     },
     "metadata": {},
     "output_type": "display_data"
    }
   ],
   "source": [
    "plt.scatter(retain, cc[:14])"
   ]
  },
  {
   "cell_type": "code",
   "execution_count": 19,
   "metadata": {
    "collapsed": true
   },
   "outputs": [],
   "source": [
    "first = set(['Jan', 'Feb', 'Mar', 'Apr', 'May', 'Jun'])\n",
    "second = set(['Jul', 'Aug', 'Sep', 'Oct', 'Nov', 'Dec'])\n",
    "graphs1 = []\n",
    "for i in range(2001, 2016):\n",
    "    g = extract_graph(first, str(i))    \n",
    "    graphs1.append(g)\n",
    "\n",
    "graphs2 = []\n",
    "for i in range(2001, 2016):\n",
    "    g = extract_graph(second, str(i))    \n",
    "    graphs2.append(g)    "
   ]
  },
  {
   "cell_type": "code",
   "execution_count": 23,
   "metadata": {
    "collapsed": false
   },
   "outputs": [
    {
     "name": "stdout",
     "output_type": "stream",
     "text": [
      "Name: \n",
      "Type: Graph\n",
      "Number of nodes: 70\n",
      "Number of edges: 106\n",
      "Average degree:   3.0286\n",
      "Name: \n",
      "Type: Graph\n",
      "Number of nodes: 30\n",
      "Number of edges: 34\n",
      "Average degree:   2.2667\n",
      "15\n",
      "15\n"
     ]
    }
   ],
   "source": [
    "print nx.info(graphs1[1])\n",
    "print nx.info(graphs2[1])\n",
    "print len(graphs1)\n",
    "print len(graphs2)"
   ]
  },
  {
   "cell_type": "code",
   "execution_count": 35,
   "metadata": {
    "collapsed": false
   },
   "outputs": [
    {
     "data": {
      "text/plain": [
       "30"
      ]
     },
     "execution_count": 35,
     "metadata": {},
     "output_type": "execute_result"
    }
   ],
   "source": [
    "graphs = []\n",
    "for i in range(15):\n",
    "    graphs.append(graphs1[i])\n",
    "    graphs.append(graphs2[i])\n",
    "len(graphs)"
   ]
  },
  {
   "cell_type": "code",
   "execution_count": 39,
   "metadata": {
    "collapsed": false
   },
   "outputs": [
    {
     "name": "stdout",
     "output_type": "stream",
     "text": [
      "30\n",
      "30\n",
      "29\n"
     ]
    }
   ],
   "source": [
    "cc = []\n",
    "for g in graphs:\n",
    "    c = nx.average_clustering(g)\n",
    "    cc.append(c)\n",
    "print len(cc)\n",
    "\n",
    "users = []\n",
    "for g in graphs:\n",
    "    s = set()\n",
    "    for node in g:\n",
    "        s.add(node)\n",
    "    users.append(s)\n",
    "print len(users)\n",
    "\n",
    "retain = []\n",
    "for i in range(29):\n",
    "    r = len(users[i]&users[i+1])/float(len(users[i]))\n",
    "    retain.append(r)\n",
    "print len(retain)"
   ]
  },
  {
   "cell_type": "code",
   "execution_count": 40,
   "metadata": {
    "collapsed": false
   },
   "outputs": [
    {
     "data": {
      "text/plain": [
       "<matplotlib.collections.PathCollection at 0xb6f56d8>"
      ]
     },
     "execution_count": 40,
     "metadata": {},
     "output_type": "execute_result"
    },
    {
     "data": {
      "image/png": "[encoded data removed]",
      "text/plain": [
       "<matplotlib.figure.Figure at 0xb37aa20>"
      ]
     },
     "metadata": {},
     "output_type": "display_data"
    }
   ],
   "source": [
    "plt.scatter(retain, cc[:29])"
   ]
  },
  {
   "cell_type": "code",
   "execution_count": 41,
   "metadata": {
    "collapsed": false
   },
   "outputs": [
    {
     "data": {
      "text/plain": [
       "[0.2571428571428571,\n",
       " 0.3,\n",
       " 0.1,\n",
       " 0.3,\n",
       " 0.0660377358490566,\n",
       " 0.20408163265306123,\n",
       " 0.17346938775510204,\n",
       " 0.13114754098360656,\n",
       " 0.1956521739130435,\n",
       " 0.15254237288135594,\n",
       " 0.2,\n",
       " 0.2,\n",
       " 0.22857142857142856,\n",
       " 0.24489795918367346,\n",
       " 0.3469387755102041,\n",
       " 0.2830188679245283,\n",
       " 0.26119402985074625,\n",
       " 0.22404371584699453,\n",
       " 0.24019607843137256,\n",
       " 0.1875,\n",
       " 0.26490066225165565,\n",
       " 0.18620689655172415,\n",
       " 0.2571428571428571,\n",
       " 0.14423076923076922,\n",
       " 0.15384615384615385,\n",
       " 0.2830188679245283,\n",
       " 0.20454545454545456,\n",
       " 0.16129032258064516,\n",
       " 0.2413793103448276]"
      ]
     },
     "execution_count": 41,
     "metadata": {},
     "output_type": "execute_result"
    }
   ],
   "source": [
    "retain"
   ]
  },
  {
   "cell_type": "code",
   "execution_count": null,
   "metadata": {
    "collapsed": true
   },
   "outputs": [],
   "source": []
  }
 ],
 "metadata": {
  "kernelspec": {
   "display_name": "Python 2",
   "language": "python",
   "name": "python2"
  },
  "language_info": {
   "codemirror_mode": {
    "name": "ipython",
    "version": 2
   },
   "file_extension": ".py",
   "mimetype": "text/x-python",
   "name": "python",
   "nbconvert_exporter": "python",
   "pygments_lexer": "ipython2",
   "version": "2.7.11"
  }
 },
 "nbformat": 4,
 "nbformat_minor": 0
}
