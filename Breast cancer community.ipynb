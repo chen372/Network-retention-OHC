{
 "cells": [
  {
   "cell_type": "markdown",
   "metadata": {},
   "source": [
    "# Breast cancer community"
   ]
  },
  {
   "cell_type": "code",
   "execution_count": 1,
   "metadata": {
    "collapsed": true
   },
   "outputs": [],
   "source": [
    "import json\n",
    "import datetime\n",
    "import numpy as np\n",
    "import pandas as pd\n",
    "from collections import Counter\n",
    "import matplotlib.pyplot as plt\n",
    "%matplotlib inline\n",
    "import networkx as nx\n",
    "import scipy.stats as stats\n",
    "import csv\n",
    "import random"
   ]
  },
  {
   "cell_type": "code",
   "execution_count": 2,
   "metadata": {
    "collapsed": false
   },
   "outputs": [],
   "source": [
    "# load json file\n",
    "data = {}\n",
    "for i in range(546, 0, -1):\n",
    "    with open('breast/breast_data'+str(i)+'.txt') as json_file:\n",
    "#for i in range(503, 0, -1):\n",
    "    #with open('D:/breast/colore_data'+str(i)+'.txt') as json_file:              \n",
    "        dat = json.load(json_file)\n",
    "        data.update(dat)"
   ]
  },
  {
   "cell_type": "code",
   "execution_count": 3,
   "metadata": {
    "collapsed": false
   },
   "outputs": [
    {
     "name": "stdout",
     "output_type": "stream",
     "text": [
      "The number of threads is 27221\n",
      "Jun 04, 2002 \n",
      "bullfrog13\n",
      "Jun 05, 2002 \n",
      "marytres\n",
      "Hi, Jerilyn, my periods stopped when I was on the chemo too and the oncologist told me to tell him if my periods came back after I finished the chemo. Well, they did and he told me to come in so he could give me a shot to make sure my periods don't come back. I'm sorry to say that I don't remember the name of the shot but I've been having it every 3 months for almost 2 years now. The doctor said I shouldn't have my periods anymore. I'm 44 years old now. Don't know if I've been of any help but I would ask another oncologist if I were you. Take care, Marie</p>\\n</div>, \n"
     ]
    }
   ],
   "source": [
    "# check\n",
    "\"\"\"data is a dictionary; each key is a post webpage\"\"\"\n",
    "print \"The number of threads is \" +str(len(data))\n",
    "print data['/node/137891']['post_time']\n",
    "print data['/node/137891']['user']\n",
    "print data['/node/137891']['reply'][0]['post_time']\n",
    "print data['/node/137891']['reply'][0]['user']\n",
    "print data['/node/137891']['reply'][0]['text']"
   ]
  },
  {
   "cell_type": "markdown",
   "metadata": {},
   "source": [
    "# Construct graphs (every 3 months)"
   ]
  },
  {
   "cell_type": "code",
   "execution_count": 4,
   "metadata": {
    "collapsed": false
   },
   "outputs": [
    {
     "ename": "SyntaxError",
     "evalue": "EOF while scanning triple-quoted string literal (<ipython-input-4-c73d4e51ee49>, line 50)",
     "output_type": "error",
     "traceback": [
      "\u001b[1;36m  File \u001b[1;32m\"<ipython-input-4-c73d4e51ee49>\"\u001b[1;36m, line \u001b[1;32m50\u001b[0m\n\u001b[1;33m    len(graphs)\u001b[0m\n\u001b[1;37m               \n^\u001b[0m\n\u001b[1;31mSyntaxError\u001b[0m\u001b[1;31m:\u001b[0m EOF while scanning triple-quoted string literal\n"
     ]
    }
   ],
   "source": [
    "\"\"\"\"\"\n",
    "# construct a directed graph\n",
    "def extract_digraph_3m(m, y):  # two parameters: m = month, y = year\n",
    "    g = nx.DiGraph()\n",
    "    for key in data:\n",
    "        i = 0      \n",
    "        while i < 80:            \n",
    "            try:\n",
    "                if data[key]['user'] != data[key]['reply'][i]['user'] and data[key]['reply'][i]['post_time'].split()[0] in m and data[key]['reply'][i]['post_time'].split(', ')[1] == y+' ':\n",
    "                    g.add_edge(data[key]['user'], data[key]['reply'][i]['user'])\n",
    "                elif data[key]['user'] == data[key]['reply'][i]['user'] and data[key]['reply'][i]['post_time'].split()[0] in m and data[key]['reply'][i]['post_time'].split(', ')[1] == y+' ':\n",
    "                    continue\n",
    "            except:\n",
    "                if data[key]['post_time'].split()[0] in m and data[key]['post_time'].split(', ')[1] == y+' ': # no one replies the poster\n",
    "                    g.add_node(data[key]['user'])\n",
    "            i += 1\n",
    "    return g\n",
    "\n",
    "m1 = set(['Jan', 'Feb', 'Mar'])\n",
    "m4 = set(['Apr', 'May', 'Jun'])\n",
    "m7 = set(['Jul', 'Aug', 'Sep'])\n",
    "m10 = set(['Oct', 'Nov', 'Dec'])\n",
    "\n",
    "graphs1 = []\n",
    "for i in range(2000, 2017):\n",
    "    g = extract_digraph_3m(m1, str(i))    \n",
    "    graphs1.append(g)\n",
    "\n",
    "graphs2 = []\n",
    "for i in range(2000, 2017):\n",
    "    g = extract_digraph_3m(m4, str(i))    \n",
    "    graphs2.append(g)  \n",
    "\n",
    "graphs3 = []\n",
    "for i in range(2000, 2017):\n",
    "    g = extract_digraph_3m(m7, str(i))    \n",
    "    graphs3.append(g)\n",
    "\n",
    "graphs4 = []\n",
    "for i in range(2000, 2017):\n",
    "    g = extract_digraph_3m(m10, str(i))    \n",
    "    graphs4.append(g)     \n",
    "    \n",
    "graphs = []\n",
    "for i in range(17):  #remember of change this range\n",
    "    graphs.append(graphs1[i])\n",
    "    graphs.append(graphs2[i])\n",
    "    graphs.append(graphs3[i])\n",
    "    graphs.append(graphs4[i])    \n",
    "len(graphs)"
   ]
  },
  {
   "cell_type": "markdown",
   "metadata": {},
   "source": [
    "# Construct a single graph"
   ]
  },
  {
   "cell_type": "code",
   "execution_count": 5,
   "metadata": {
    "collapsed": true
   },
   "outputs": [],
   "source": [
    "G = nx.DiGraph()\n",
    "for key in data:                               \n",
    "    if data[key]['reply'] == []: # no one replies the poster\n",
    "        G.add_node(data[key]['user'])\n",
    "        continue   # go back to the for loop to find the next webpage\n",
    "    else:\n",
    "        i = 0 \n",
    "        while i < 50: \n",
    "            try:  # handle exception: When i is out of range, break\n",
    "                if data[key]['user'] != data[key]['reply'][i]['user']:\n",
    "                    G.add_edge(data[key]['user'], data[key]['reply'][i]['user']) # from poster to replier\n",
    "                else:\n",
    "                    pass\n",
    "            except:\n",
    "                break\n",
    "            i += 1"
   ]
  },
  {
   "cell_type": "code",
   "execution_count": 6,
   "metadata": {
    "collapsed": false
   },
   "outputs": [
    {
     "name": "stdout",
     "output_type": "stream",
     "text": [
      "Name: \n",
      "Type: DiGraph\n",
      "Number of nodes: 8493\n",
      "Number of edges: 100196\n",
      "Average in degree:  11.7975\n",
      "Average out degree:  11.7975\n"
     ]
    }
   ],
   "source": [
    "print nx.info(G)"
   ]
  },
  {
   "cell_type": "code",
   "execution_count": 9,
   "metadata": {
    "collapsed": false
   },
   "outputs": [
    {
     "ename": "NameError",
     "evalue": "name 'all_neighbors' is not defined",
     "output_type": "error",
     "traceback": [
      "\u001b[1;31m---------------------------------------------------------------------------\u001b[0m",
      "\u001b[1;31mNameError\u001b[0m                                 Traceback (most recent call last)",
      "\u001b[1;32m<ipython-input-9-e213e242f256>\u001b[0m in \u001b[0;36m<module>\u001b[1;34m()\u001b[0m\n\u001b[0;32m      1\u001b[0m \u001b[1;32mfor\u001b[0m \u001b[0mnode\u001b[0m \u001b[1;32min\u001b[0m \u001b[0mG\u001b[0m\u001b[1;33m:\u001b[0m\u001b[1;33m\u001b[0m\u001b[0m\n\u001b[1;32m----> 2\u001b[1;33m     \u001b[0mall_neighbors\u001b[0m\u001b[1;33m(\u001b[0m\u001b[0mG\u001b[0m\u001b[1;33m,\u001b[0m \u001b[0mnode\u001b[0m\u001b[1;33m)\u001b[0m\u001b[1;33m\u001b[0m\u001b[0m\n\u001b[0m",
      "\u001b[1;31mNameError\u001b[0m: name 'all_neighbors' is not defined"
     ]
    }
   ],
   "source": [
    "for node in G:\n",
    "    all_neighbors(G, node)"
   ]
  },
  {
   "cell_type": "code",
   "execution_count": null,
   "metadata": {
    "collapsed": true
   },
   "outputs": [],
   "source": []
  },
  {
   "cell_type": "code",
   "execution_count": 19,
   "metadata": {
    "collapsed": false
   },
   "outputs": [
    {
     "data": {
      "text/plain": [
       "68"
      ]
     },
     "execution_count": 19,
     "metadata": {},
     "output_type": "execute_result"
    }
   ],
   "source": [
    "# construct a directed graph\n",
    "def extract_digraph_3m(m, y):  # two parameters: m = month, y = year\n",
    "    g = nx.DiGraph()\n",
    "    for key in data:                               \n",
    "        if data[key]['post_time'].split()[0] in m and data[key]['post_time'].split(', ')[1] == y+' ' and data[key]['reply'] == []: # no one replies the poster\n",
    "            g.add_node(data[key]['user'])\n",
    "            continue   # go back to the for loop to find the next webpage\n",
    "        else:\n",
    "            i = 0 \n",
    "            while i < 50: \n",
    "                try:  # handle exception: When i is out of range, break\n",
    "                    if data[key]['reply'][i]['post_time'].split()[0] in m and data[key]['reply'][i]['post_time'].split(', ')[1] == y+' ':  #exclude self-loop\n",
    "                        if data[key]['user'] != data[key]['reply'][i]['user']:\n",
    "                            g.add_edge(data[key]['user'], data[key]['reply'][i]['user']) # from poster to replier\n",
    "                        else:\n",
    "                            pass\n",
    "                except:\n",
    "                    break\n",
    "                i += 1\n",
    "    return g\n",
    "\n",
    "m1 = set(['Jan', 'Feb', 'Mar'])\n",
    "m4 = set(['Apr', 'May', 'Jun'])\n",
    "m7 = set(['Jul', 'Aug', 'Sep'])\n",
    "m10 = set(['Oct', 'Nov', 'Dec'])\n",
    "\n",
    "graphs1 = []\n",
    "for i in range(2000, 2017):\n",
    "    g = extract_digraph_3m(m1, str(i))    \n",
    "    graphs1.append(g)\n",
    "\n",
    "graphs2 = []\n",
    "for i in range(2000, 2017):\n",
    "    g = extract_digraph_3m(m4, str(i))    \n",
    "    graphs2.append(g)  \n",
    "\n",
    "graphs3 = []\n",
    "for i in range(2000, 2017):\n",
    "    g = extract_digraph_3m(m7, str(i))    \n",
    "    graphs3.append(g)\n",
    "\n",
    "graphs4 = []\n",
    "for i in range(2000, 2017):\n",
    "    g = extract_digraph_3m(m10, str(i))    \n",
    "    graphs4.append(g)     \n",
    "    \n",
    "graphs = []\n",
    "for i in range(17):  #remember of change this range\n",
    "    graphs.append(graphs1[i])\n",
    "    graphs.append(graphs2[i])\n",
    "    graphs.append(graphs3[i])\n",
    "    graphs.append(graphs4[i])    \n",
    "len(graphs)"
   ]
  },
  {
   "cell_type": "markdown",
   "metadata": {},
   "source": [
    "# Construct graphs by month"
   ]
  },
  {
   "cell_type": "code",
   "execution_count": 36,
   "metadata": {
    "collapsed": false
   },
   "outputs": [
    {
     "data": {
      "text/plain": [
       "204"
      ]
     },
     "execution_count": 36,
     "metadata": {},
     "output_type": "execute_result"
    }
   ],
   "source": [
    "# construct a directed graph\n",
    "def extract_digraph_m(m, y):  # two parameters: m = month, y = year\n",
    "    g = nx.DiGraph()\n",
    "    for key in data:                               \n",
    "        if data[key]['post_time'].split()[0] in m and data[key]['post_time'].split(', ')[1] == y+' ' and data[key]['reply'] == []: # no one replies the poster\n",
    "            g.add_node(data[key]['user'])\n",
    "            continue   # go back to the for loop to find the next webpage\n",
    "        else:\n",
    "            i = 0 \n",
    "            while i < 50: \n",
    "                try:  # handle exception: When i is out of range, break\n",
    "                    if data[key]['reply'][i]['post_time'].split()[0] in m and data[key]['reply'][i]['post_time'].split(', ')[1] == y+' ':  #exclude self-loop\n",
    "                        if data[key]['user'] != data[key]['reply'][i]['user']:\n",
    "                            g.add_edge(data[key]['user'], data[key]['reply'][i]['user']) # from poster to replier\n",
    "                        else:\n",
    "                            pass\n",
    "                except:\n",
    "                    break\n",
    "                i += 1\n",
    "    return g\n",
    "\n",
    "graphs = []\n",
    "for i in range(2000, 2017):\n",
    "    for m in ['Jan', 'Feb', 'Mar', 'Apr', 'May', 'Jun', 'Jul', 'Aug', 'Sep', 'Oct', 'Nov', 'Dec']:\n",
    "        g = extract_digraph_m(m, str(i))    \n",
    "        graphs.append(g)   \n",
    "len(graphs)"
   ]
  },
  {
   "cell_type": "markdown",
   "metadata": {},
   "source": [
    "# Construct graphs every 2 months"
   ]
  },
  {
   "cell_type": "code",
   "execution_count": 3,
   "metadata": {
    "collapsed": false
   },
   "outputs": [
    {
     "data": {
      "text/plain": [
       "102"
      ]
     },
     "execution_count": 3,
     "metadata": {},
     "output_type": "execute_result"
    }
   ],
   "source": [
    "# construct a directed graph\n",
    "def extract_digraph_2m(m, y):  # two parameters: m = month, y = year\n",
    "    g = nx.DiGraph()\n",
    "    for key in data:                               \n",
    "        if data[key]['post_time'].split()[0] in m and data[key]['post_time'].split(', ')[1] == y+' ' and data[key]['reply'] == []: # no one replies the poster\n",
    "            g.add_node(data[key]['user'])\n",
    "            continue   # go back to the for loop to find the next webpage\n",
    "        else:\n",
    "            i = 0 \n",
    "            while i < 50: \n",
    "                try:  # handle exception: When i is out of range, break\n",
    "                    if data[key]['reply'][i]['post_time'].split()[0] in m and data[key]['reply'][i]['post_time'].split(', ')[1] == y+' ':  #exclude self-loop\n",
    "                        if data[key]['user'] != data[key]['reply'][i]['user']:\n",
    "                            g.add_edge(data[key]['user'], data[key]['reply'][i]['user']) # from poster to replier\n",
    "                        else:\n",
    "                            pass\n",
    "                except:\n",
    "                    break\n",
    "                i += 1\n",
    "    return g\n",
    "\n",
    "m1 = set(['Jan', 'Feb'])\n",
    "m3 = set(['Mar', 'Apr'])\n",
    "m5 = set(['May', 'Jun'])\n",
    "m7 = set(['Jul', 'Aug'])\n",
    "m9 = set(['Sep', 'Oct'])\n",
    "m11 = set(['Nov', 'Dec'])\n",
    "\n",
    "graphs1 = []\n",
    "for i in range(2000, 2017):\n",
    "    g = extract_digraph_2m(m1, str(i))    \n",
    "    graphs1.append(g)\n",
    "\n",
    "graphs2 = []\n",
    "for i in range(2000, 2017):\n",
    "    g = extract_digraph_2m(m3, str(i))    \n",
    "    graphs2.append(g)  \n",
    "\n",
    "graphs3 = []\n",
    "for i in range(2000, 2017):\n",
    "    g = extract_digraph_2m(m5, str(i))    \n",
    "    graphs3.append(g)\n",
    "\n",
    "graphs4 = []\n",
    "for i in range(2000, 2017):\n",
    "    g = extract_digraph_2m(m7, str(i))    \n",
    "    graphs4.append(g)     \n",
    "\n",
    "graphs5 = []\n",
    "for i in range(2000, 2017):\n",
    "    g = extract_digraph_2m(m9, str(i))    \n",
    "    graphs5.append(g) \n",
    "    \n",
    "graphs6 = []\n",
    "for i in range(2000, 2017):\n",
    "    g = extract_digraph_2m(m11, str(i))    \n",
    "    graphs6.append(g) \n",
    "    \n",
    "graphs = []\n",
    "for i in range(17):  #remember of change this range\n",
    "    graphs.append(graphs1[i])\n",
    "    graphs.append(graphs2[i])\n",
    "    graphs.append(graphs3[i])\n",
    "    graphs.append(graphs4[i])\n",
    "    graphs.append(graphs5[i])\n",
    "    graphs.append(graphs6[i])    \n",
    "len(graphs)"
   ]
  },
  {
   "cell_type": "code",
   "execution_count": 4,
   "metadata": {
    "collapsed": false
   },
   "outputs": [
    {
     "name": "stdout",
     "output_type": "stream",
     "text": [
      "Name: \n",
      "Type: DiGraph\n",
      "Number of nodes: 0\n",
      "Number of edges: 0\n",
      "\n",
      "Name: \n",
      "Type: DiGraph\n",
      "Number of nodes: 0\n",
      "Number of edges: 0\n",
      "\n",
      "Name: \n",
      "Type: DiGraph\n",
      "Number of nodes: 0\n",
      "Number of edges: 0\n",
      "\n",
      "Name: \n",
      "Type: DiGraph\n",
      "Number of nodes: 17\n",
      "Number of edges: 21\n",
      "Average in degree:   1.2353\n",
      "Average out degree:   1.2353\n",
      "Name: \n",
      "Type: DiGraph\n",
      "Number of nodes: 41\n",
      "Number of edges: 100\n",
      "Average in degree:   2.4390\n",
      "Average out degree:   2.4390\n",
      "Name: \n",
      "Type: DiGraph\n",
      "Number of nodes: 64\n",
      "Number of edges: 204\n",
      "Average in degree:   3.1875\n",
      "Average out degree:   3.1875\n",
      "Name: \n",
      "Type: DiGraph\n",
      "Number of nodes: 74\n",
      "Number of edges: 343\n",
      "Average in degree:   4.6351\n",
      "Average out degree:   4.6351\n",
      "Name: \n",
      "Type: DiGraph\n",
      "Number of nodes: 121\n",
      "Number of edges: 509\n",
      "Average in degree:   4.2066\n",
      "Average out degree:   4.2066\n",
      "Name: \n",
      "Type: DiGraph\n",
      "Number of nodes: 114\n",
      "Number of edges: 546\n",
      "Average in degree:   4.7895\n",
      "Average out degree:   4.7895\n",
      "Name: \n",
      "Type: DiGraph\n",
      "Number of nodes: 145\n",
      "Number of edges: 545\n",
      "Average in degree:   3.7586\n",
      "Average out degree:   3.7586\n",
      "Name: \n",
      "Type: DiGraph\n",
      "Number of nodes: 67\n",
      "Number of edges: 216\n",
      "Average in degree:   3.2239\n",
      "Average out degree:   3.2239\n",
      "Name: \n",
      "Type: DiGraph\n",
      "Number of nodes: 67\n",
      "Number of edges: 190\n",
      "Average in degree:   2.8358\n",
      "Average out degree:   2.8358\n",
      "Name: \n",
      "Type: DiGraph\n",
      "Number of nodes: 71\n",
      "Number of edges: 248\n",
      "Average in degree:   3.4930\n",
      "Average out degree:   3.4930\n",
      "Name: \n",
      "Type: DiGraph\n",
      "Number of nodes: 187\n",
      "Number of edges: 643\n",
      "Average in degree:   3.4385\n",
      "Average out degree:   3.4385\n",
      "Name: \n",
      "Type: DiGraph\n",
      "Number of nodes: 145\n",
      "Number of edges: 746\n",
      "Average in degree:   5.1448\n",
      "Average out degree:   5.1448\n",
      "Name: \n",
      "Type: DiGraph\n",
      "Number of nodes: 124\n",
      "Number of edges: 546\n",
      "Average in degree:   4.4032\n",
      "Average out degree:   4.4032\n",
      "Name: \n",
      "Type: DiGraph\n",
      "Number of nodes: 129\n",
      "Number of edges: 573\n",
      "Average in degree:   4.4419\n",
      "Average out degree:   4.4419\n",
      "Name: \n",
      "Type: DiGraph\n",
      "Number of nodes: 129\n",
      "Number of edges: 481\n",
      "Average in degree:   3.7287\n",
      "Average out degree:   3.7287\n",
      "Name: \n",
      "Type: DiGraph\n",
      "Number of nodes: 159\n",
      "Number of edges: 366\n",
      "Average in degree:   2.3019\n",
      "Average out degree:   2.3019\n",
      "Name: \n",
      "Type: DiGraph\n",
      "Number of nodes: 304\n",
      "Number of edges: 744\n",
      "Average in degree:   2.4474\n",
      "Average out degree:   2.4474\n",
      "Name: \n",
      "Type: DiGraph\n",
      "Number of nodes: 225\n",
      "Number of edges: 814\n",
      "Average in degree:   3.6178\n",
      "Average out degree:   3.6178\n",
      "Name: \n",
      "Type: DiGraph\n",
      "Number of nodes: 182\n",
      "Number of edges: 671\n",
      "Average in degree:   3.6868\n",
      "Average out degree:   3.6868\n",
      "Name: \n",
      "Type: DiGraph\n",
      "Number of nodes: 144\n",
      "Number of edges: 507\n",
      "Average in degree:   3.5208\n",
      "Average out degree:   3.5208\n",
      "Name: \n",
      "Type: DiGraph\n",
      "Number of nodes: 136\n",
      "Number of edges: 456\n",
      "Average in degree:   3.3529\n",
      "Average out degree:   3.3529\n",
      "Name: \n",
      "Type: DiGraph\n",
      "Number of nodes: 257\n",
      "Number of edges: 799\n",
      "Average in degree:   3.1089\n",
      "Average out degree:   3.1089\n",
      "Name: \n",
      "Type: DiGraph\n",
      "Number of nodes: 305\n",
      "Number of edges: 922\n",
      "Average in degree:   3.0230\n",
      "Average out degree:   3.0230\n",
      "Name: \n",
      "Type: DiGraph\n",
      "Number of nodes: 178\n",
      "Number of edges: 461\n",
      "Average in degree:   2.5899\n",
      "Average out degree:   2.5899\n",
      "Name: \n",
      "Type: DiGraph\n",
      "Number of nodes: 185\n",
      "Number of edges: 494\n",
      "Average in degree:   2.6703\n",
      "Average out degree:   2.6703\n",
      "Name: \n",
      "Type: DiGraph\n",
      "Number of nodes: 169\n",
      "Number of edges: 463\n",
      "Average in degree:   2.7396\n",
      "Average out degree:   2.7396\n",
      "Name: \n",
      "Type: DiGraph\n",
      "Number of nodes: 131\n",
      "Number of edges: 261\n",
      "Average in degree:   1.9924\n",
      "Average out degree:   1.9924\n",
      "Name: \n",
      "Type: DiGraph\n",
      "Number of nodes: 160\n",
      "Number of edges: 346\n",
      "Average in degree:   2.1625\n",
      "Average out degree:   2.1625\n",
      "Name: \n",
      "Type: DiGraph\n",
      "Number of nodes: 174\n",
      "Number of edges: 400\n",
      "Average in degree:   2.2989\n",
      "Average out degree:   2.2989\n",
      "Name: \n",
      "Type: DiGraph\n",
      "Number of nodes: 128\n",
      "Number of edges: 261\n",
      "Average in degree:   2.0391\n",
      "Average out degree:   2.0391\n",
      "Name: \n",
      "Type: DiGraph\n",
      "Number of nodes: 162\n",
      "Number of edges: 292\n",
      "Average in degree:   1.8025\n",
      "Average out degree:   1.8025\n",
      "Name: \n",
      "Type: DiGraph\n",
      "Number of nodes: 123\n",
      "Number of edges: 248\n",
      "Average in degree:   2.0163\n",
      "Average out degree:   2.0163\n",
      "Name: \n",
      "Type: DiGraph\n",
      "Number of nodes: 128\n",
      "Number of edges: 246\n",
      "Average in degree:   1.9219\n",
      "Average out degree:   1.9219\n",
      "Name: \n",
      "Type: DiGraph\n",
      "Number of nodes: 102\n",
      "Number of edges: 197\n",
      "Average in degree:   1.9314\n",
      "Average out degree:   1.9314\n",
      "Name: \n",
      "Type: DiGraph\n",
      "Number of nodes: 112\n",
      "Number of edges: 312\n",
      "Average in degree:   2.7857\n",
      "Average out degree:   2.7857\n",
      "Name: \n",
      "Type: DiGraph\n",
      "Number of nodes: 98\n",
      "Number of edges: 264\n",
      "Average in degree:   2.6939\n",
      "Average out degree:   2.6939\n",
      "Name: \n",
      "Type: DiGraph\n",
      "Number of nodes: 88\n",
      "Number of edges: 248\n",
      "Average in degree:   2.8182\n",
      "Average out degree:   2.8182\n",
      "Name: \n",
      "Type: DiGraph\n",
      "Number of nodes: 98\n",
      "Number of edges: 286\n",
      "Average in degree:   2.9184\n",
      "Average out degree:   2.9184\n",
      "Name: \n",
      "Type: DiGraph\n",
      "Number of nodes: 78\n",
      "Number of edges: 255\n",
      "Average in degree:   3.2692\n",
      "Average out degree:   3.2692\n",
      "Name: \n",
      "Type: DiGraph\n",
      "Number of nodes: 84\n",
      "Number of edges: 282\n",
      "Average in degree:   3.3571\n",
      "Average out degree:   3.3571\n",
      "Name: \n",
      "Type: DiGraph\n",
      "Number of nodes: 84\n",
      "Number of edges: 246\n",
      "Average in degree:   2.9286\n",
      "Average out degree:   2.9286\n",
      "Name: \n",
      "Type: DiGraph\n",
      "Number of nodes: 84\n",
      "Number of edges: 213\n",
      "Average in degree:   2.5357\n",
      "Average out degree:   2.5357\n",
      "Name: \n",
      "Type: DiGraph\n",
      "Number of nodes: 90\n",
      "Number of edges: 239\n",
      "Average in degree:   2.6556\n",
      "Average out degree:   2.6556\n",
      "Name: \n",
      "Type: DiGraph\n",
      "Number of nodes: 94\n",
      "Number of edges: 317\n",
      "Average in degree:   3.3723\n",
      "Average out degree:   3.3723\n",
      "Name: \n",
      "Type: DiGraph\n",
      "Number of nodes: 70\n",
      "Number of edges: 242\n",
      "Average in degree:   3.4571\n",
      "Average out degree:   3.4571\n",
      "Name: \n",
      "Type: DiGraph\n",
      "Number of nodes: 93\n",
      "Number of edges: 351\n",
      "Average in degree:   3.7742\n",
      "Average out degree:   3.7742\n",
      "Name: \n",
      "Type: DiGraph\n",
      "Number of nodes: 90\n",
      "Number of edges: 478\n",
      "Average in degree:   5.3111\n",
      "Average out degree:   5.3111\n",
      "Name: \n",
      "Type: DiGraph\n",
      "Number of nodes: 115\n",
      "Number of edges: 480\n",
      "Average in degree:   4.1739\n",
      "Average out degree:   4.1739\n",
      "Name: \n",
      "Type: DiGraph\n",
      "Number of nodes: 152\n",
      "Number of edges: 649\n",
      "Average in degree:   4.2697\n",
      "Average out degree:   4.2697\n",
      "Name: \n",
      "Type: DiGraph\n",
      "Number of nodes: 182\n",
      "Number of edges: 829\n",
      "Average in degree:   4.5549\n",
      "Average out degree:   4.5549\n",
      "Name: \n",
      "Type: DiGraph\n",
      "Number of nodes: 160\n",
      "Number of edges: 858\n",
      "Average in degree:   5.3625\n",
      "Average out degree:   5.3625\n",
      "Name: \n",
      "Type: DiGraph\n",
      "Number of nodes: 184\n",
      "Number of edges: 1204\n",
      "Average in degree:   6.5435\n",
      "Average out degree:   6.5435\n",
      "Name: \n",
      "Type: DiGraph\n",
      "Number of nodes: 241\n",
      "Number of edges: 2122\n",
      "Average in degree:   8.8050\n",
      "Average out degree:   8.8050\n",
      "Name: \n",
      "Type: DiGraph\n",
      "Number of nodes: 363\n",
      "Number of edges: 4562\n",
      "Average in degree:  12.5675\n",
      "Average out degree:  12.5675\n",
      "Name: \n",
      "Type: DiGraph\n",
      "Number of nodes: 424\n",
      "Number of edges: 6416\n",
      "Average in degree:  15.1321\n",
      "Average out degree:  15.1321\n",
      "Name: \n",
      "Type: DiGraph\n",
      "Number of nodes: 472\n",
      "Number of edges: 5880\n",
      "Average in degree:  12.4576\n",
      "Average out degree:  12.4576\n",
      "Name: \n",
      "Type: DiGraph\n",
      "Number of nodes: 446\n",
      "Number of edges: 7471\n",
      "Average in degree:  16.7511\n",
      "Average out degree:  16.7511\n",
      "Name: \n",
      "Type: DiGraph\n",
      "Number of nodes: 508\n",
      "Number of edges: 6167\n",
      "Average in degree:  12.1398\n",
      "Average out degree:  12.1398\n",
      "Name: \n",
      "Type: DiGraph\n",
      "Number of nodes: 513\n",
      "Number of edges: 5349\n",
      "Average in degree:  10.4269\n",
      "Average out degree:  10.4269\n",
      "Name: \n",
      "Type: DiGraph\n",
      "Number of nodes: 552\n",
      "Number of edges: 6629\n",
      "Average in degree:  12.0091\n",
      "Average out degree:  12.0091\n",
      "Name: \n",
      "Type: DiGraph\n",
      "Number of nodes: 462\n",
      "Number of edges: 7280\n",
      "Average in degree:  15.7576\n",
      "Average out degree:  15.7576\n",
      "Name: \n",
      "Type: DiGraph\n",
      "Number of nodes: 472\n",
      "Number of edges: 6812\n",
      "Average in degree:  14.4322\n",
      "Average out degree:  14.4322\n",
      "Name: \n",
      "Type: DiGraph\n",
      "Number of nodes: 416\n",
      "Number of edges: 6369\n",
      "Average in degree:  15.3101\n",
      "Average out degree:  15.3101\n",
      "Name: \n",
      "Type: DiGraph\n",
      "Number of nodes: 450\n",
      "Number of edges: 7064\n",
      "Average in degree:  15.6978\n",
      "Average out degree:  15.6978\n",
      "Name: \n",
      "Type: DiGraph\n",
      "Number of nodes: 452\n",
      "Number of edges: 6377\n",
      "Average in degree:  14.1084\n",
      "Average out degree:  14.1084\n",
      "Name: \n",
      "Type: DiGraph\n",
      "Number of nodes: 440\n",
      "Number of edges: 5532\n",
      "Average in degree:  12.5727\n",
      "Average out degree:  12.5727\n",
      "Name: \n",
      "Type: DiGraph\n",
      "Number of nodes: 415\n",
      "Number of edges: 6074\n",
      "Average in degree:  14.6361\n",
      "Average out degree:  14.6361\n",
      "Name: \n",
      "Type: DiGraph\n",
      "Number of nodes: 395\n",
      "Number of edges: 4280\n",
      "Average in degree:  10.8354\n",
      "Average out degree:  10.8354\n",
      "Name: \n",
      "Type: DiGraph\n",
      "Number of nodes: 363\n",
      "Number of edges: 3976\n",
      "Average in degree:  10.9532\n",
      "Average out degree:  10.9532\n",
      "Name: \n",
      "Type: DiGraph\n",
      "Number of nodes: 364\n",
      "Number of edges: 3225\n",
      "Average in degree:   8.8599\n",
      "Average out degree:   8.8599\n",
      "Name: \n",
      "Type: DiGraph\n",
      "Number of nodes: 383\n",
      "Number of edges: 3404\n",
      "Average in degree:   8.8877\n",
      "Average out degree:   8.8877\n",
      "Name: \n",
      "Type: DiGraph\n",
      "Number of nodes: 348\n",
      "Number of edges: 3025\n",
      "Average in degree:   8.6925\n",
      "Average out degree:   8.6925\n",
      "Name: \n",
      "Type: DiGraph\n",
      "Number of nodes: 325\n",
      "Number of edges: 2754\n",
      "Average in degree:   8.4738\n",
      "Average out degree:   8.4738\n",
      "Name: \n",
      "Type: DiGraph\n",
      "Number of nodes: 341\n",
      "Number of edges: 2968\n",
      "Average in degree:   8.7038\n",
      "Average out degree:   8.7038\n",
      "Name: \n",
      "Type: DiGraph\n",
      "Number of nodes: 313\n",
      "Number of edges: 2263\n",
      "Average in degree:   7.2300\n",
      "Average out degree:   7.2300\n",
      "Name: \n",
      "Type: DiGraph\n",
      "Number of nodes: 285\n",
      "Number of edges: 1730\n",
      "Average in degree:   6.0702\n",
      "Average out degree:   6.0702\n",
      "Name: \n",
      "Type: DiGraph\n",
      "Number of nodes: 334\n",
      "Number of edges: 1853\n",
      "Average in degree:   5.5479\n",
      "Average out degree:   5.5479\n",
      "Name: \n",
      "Type: DiGraph\n",
      "Number of nodes: 299\n",
      "Number of edges: 1997\n",
      "Average in degree:   6.6789\n",
      "Average out degree:   6.6789\n",
      "Name: \n",
      "Type: DiGraph\n",
      "Number of nodes: 242\n",
      "Number of edges: 1862\n",
      "Average in degree:   7.6942\n",
      "Average out degree:   7.6942\n",
      "Name: \n",
      "Type: DiGraph\n",
      "Number of nodes: 235\n",
      "Number of edges: 997\n",
      "Average in degree:   4.2426\n",
      "Average out degree:   4.2426\n",
      "Name: \n",
      "Type: DiGraph\n",
      "Number of nodes: 178\n",
      "Number of edges: 751\n",
      "Average in degree:   4.2191\n",
      "Average out degree:   4.2191\n",
      "Name: \n",
      "Type: DiGraph\n",
      "Number of nodes: 142\n",
      "Number of edges: 554\n",
      "Average in degree:   3.9014\n",
      "Average out degree:   3.9014\n",
      "Name: \n",
      "Type: DiGraph\n",
      "Number of nodes: 146\n",
      "Number of edges: 443\n",
      "Average in degree:   3.0342\n",
      "Average out degree:   3.0342\n",
      "Name: \n",
      "Type: DiGraph\n",
      "Number of nodes: 170\n",
      "Number of edges: 555\n",
      "Average in degree:   3.2647\n",
      "Average out degree:   3.2647\n",
      "Name: \n",
      "Type: DiGraph\n",
      "Number of nodes: 133\n",
      "Number of edges: 513\n",
      "Average in degree:   3.8571\n",
      "Average out degree:   3.8571\n",
      "Name: \n",
      "Type: DiGraph\n",
      "Number of nodes: 162\n",
      "Number of edges: 619\n",
      "Average in degree:   3.8210\n",
      "Average out degree:   3.8210\n",
      "Name: \n",
      "Type: DiGraph\n",
      "Number of nodes: 148\n",
      "Number of edges: 548\n",
      "Average in degree:   3.7027\n",
      "Average out degree:   3.7027\n",
      "Name: \n",
      "Type: DiGraph\n",
      "Number of nodes: 149\n",
      "Number of edges: 698\n",
      "Average in degree:   4.6846\n",
      "Average out degree:   4.6846\n",
      "Name: \n",
      "Type: DiGraph\n",
      "Number of nodes: 129\n",
      "Number of edges: 411\n",
      "Average in degree:   3.1860\n",
      "Average out degree:   3.1860\n",
      "Name: \n",
      "Type: DiGraph\n",
      "Number of nodes: 162\n",
      "Number of edges: 523\n",
      "Average in degree:   3.2284\n",
      "Average out degree:   3.2284\n",
      "Name: \n",
      "Type: DiGraph\n",
      "Number of nodes: 166\n",
      "Number of edges: 539\n",
      "Average in degree:   3.2470\n",
      "Average out degree:   3.2470\n",
      "Name: \n",
      "Type: DiGraph\n",
      "Number of nodes: 159\n",
      "Number of edges: 450\n",
      "Average in degree:   2.8302\n",
      "Average out degree:   2.8302\n",
      "Name: \n",
      "Type: DiGraph\n",
      "Number of nodes: 134\n",
      "Number of edges: 404\n",
      "Average in degree:   3.0149\n",
      "Average out degree:   3.0149\n",
      "Name: \n",
      "Type: DiGraph\n",
      "Number of nodes: 126\n",
      "Number of edges: 332\n",
      "Average in degree:   2.6349\n",
      "Average out degree:   2.6349\n",
      "Name: \n",
      "Type: DiGraph\n",
      "Number of nodes: 104\n",
      "Number of edges: 251\n",
      "Average in degree:   2.4135\n",
      "Average out degree:   2.4135\n",
      "Name: \n",
      "Type: DiGraph\n",
      "Number of nodes: 162\n",
      "Number of edges: 322\n",
      "Average in degree:   1.9877\n",
      "Average out degree:   1.9877\n",
      "Name: \n",
      "Type: DiGraph\n",
      "Number of nodes: 161\n",
      "Number of edges: 347\n",
      "Average in degree:   2.1553\n",
      "Average out degree:   2.1553\n",
      "Name: \n",
      "Type: DiGraph\n",
      "Number of nodes: 134\n",
      "Number of edges: 254\n",
      "Average in degree:   1.8955\n",
      "Average out degree:   1.8955\n",
      "Name: \n",
      "Type: DiGraph\n",
      "Number of nodes: 110\n",
      "Number of edges: 231\n",
      "Average in degree:   2.1000\n",
      "Average out degree:   2.1000\n"
     ]
    }
   ],
   "source": [
    "for g in graphs:\n",
    "    print nx.info(g)"
   ]
  },
  {
   "cell_type": "code",
   "execution_count": 5,
   "metadata": {
    "collapsed": false
   },
   "outputs": [
    {
     "name": "stdout",
     "output_type": "stream",
     "text": [
      "[2, 14, 23, 31, 44, 23, 23, 11, 18, 6, 8, 23, 4, 6, 2, 1, 3, 3, 6, 1, 2, 5, 3, 1, 1, 2, 2, 1, 3, 29, 54, 51, 31, 4, 5, 10, 8, 7, 41, 7, 4, 19, 4, 1, 3, 1]\n",
      "[]\n"
     ]
    }
   ],
   "source": [
    "# deal with Anonymous user\n",
    "dg = []\n",
    "for g in graphs:\n",
    "    for node in g:\n",
    "        if node == 'Anonymous user (not verified)':\n",
    "            dg.append(g.degree(node))\n",
    "print dg\n",
    "# it is very likely that the anonymous users are different people. So if we remove them, it should not affect the whole network.\n",
    "for g in graphs:\n",
    "    try:\n",
    "        g.remove_node('Anonymous user (not verified)')\n",
    "    except:\n",
    "        pass\n",
    "dg = []\n",
    "for g in graphs:\n",
    "    for node in g:\n",
    "        if node == 'Anonymous user (not verified)':\n",
    "            dg.append(g.degree(node))\n",
    "print dg"
   ]
  },
  {
   "cell_type": "markdown",
   "metadata": {},
   "source": [
    "# Save graphs"
   ]
  },
  {
   "cell_type": "code",
   "execution_count": 11,
   "metadata": {
    "collapsed": true
   },
   "outputs": [],
   "source": [
    "nx.write_gml(graphs[70], 'g70.gml')"
   ]
  },
  {
   "cell_type": "markdown",
   "metadata": {},
   "source": [
    "# Network embeddedness and retention rate"
   ]
  },
  {
   "cell_type": "markdown",
   "metadata": {},
   "source": [
    "Retention rate\n",
    "\n",
    "% of people who ever posted at time T and continued to post at time T+1 "
   ]
  },
  {
   "cell_type": "code",
   "execution_count": 6,
   "metadata": {
    "collapsed": false
   },
   "outputs": [
    {
     "name": "stdout",
     "output_type": "stream",
     "text": [
      "The total number of graphs is 99\n",
      "The total number of rentation rates is 98\n",
      "[0.4375, 0.375, 0.47619047619047616, 0.5068493150684932, 0.35833333333333334, 0.5398230088495575, 0.3125, 0.5303030303030303, 0.5606060606060606, 0.5428571428571428, 0.3602150537634409, 0.5208333333333334, 0.5447154471544715, 0.46511627906976744, 0.328125, 0.379746835443038, 0.2631578947368421, 0.3688888888888889, 0.40331491712707185, 0.4195804195804196, 0.5259259259259259, 0.36328125, 0.29508196721311475, 0.4438202247191011, 0.42391304347826086, 0.3431952662721893, 0.48854961832061067, 0.45625, 0.3620689655172414, 0.40625, 0.30246913580246915, 0.45081967213114754, 0.3543307086614173, 0.43137254901960786, 0.3783783783783784, 0.3711340206185567, 0.40229885057471265, 0.35051546391752575, 0.38461538461538464, 0.40963855421686746, 0.43373493975903615, 0.40476190476190477, 0.4606741573033708, 0.4148936170212766, 0.45714285714285713, 0.3695652173913043, 0.42696629213483145, 0.42105263157894735, 0.40397350993377484, 0.32044198895027626, 0.425, 0.4644808743169399, 0.44583333333333336, 0.4005524861878453, 0.43498817966903075, 0.43312101910828027, 0.5056179775280899, 0.46548323471400394, 0.50390625, 0.483695652173913, 0.5401301518438177, 0.548728813559322, 0.5673076923076923, 0.5044444444444445, 0.5188470066518847, 0.5022727272727273, 0.5325301204819277, 0.5265822784810127, 0.5289256198347108, 0.5302197802197802, 0.4738219895287958, 0.49712643678160917, 0.5169230769230769, 0.4574780058651026, 0.4536741214057508, 0.4842105263157895, 0.4281437125748503, 0.4214046822742475, 0.4297520661157025, 0.39574468085106385, 0.4519774011299435, 0.49295774647887325, 0.4452054794520548, 0.4, 0.46616541353383456, 0.4382716049382716, 0.527027027027027, 0.4228187919463087, 0.46511627906976744, 0.38271604938271603, 0.43373493975903615, 0.39622641509433965, 0.40298507462686567, 0.36507936507936506, 0.4230769230769231, 0.3271604938271605, 0.36024844720496896, 0.30597014925373134]\n"
     ]
    }
   ],
   "source": [
    "# find unique users for each graph and store the results to a list\n",
    "users = []\n",
    "#for g in graphs[2:]:  # for breast cancer 3-month-span, start from the third graph b/c the first two graphs are empty.\n",
    "for g in graphs[3:]:  # for breast cancer 2-month-span, start from the fourth graph b/c the first three graphs are empty.  \n",
    "#for g in graphs[7:]:  # for breast cancer 1-month span, start from the 8th graph\n",
    "#for g in graphs[4:]:  #start from the third graph b/c the first two graphs are empty.\n",
    "#for g in graphs[13:]:  #start from the third graph b/c the first two graphs are empty.\n",
    "    s = set()\n",
    "    for node in g:\n",
    "        s.add(node)\n",
    "    users.append(s)\n",
    "print \"The total number of graphs is \"+str(len(users))\n",
    "\n",
    "retention = []\n",
    "for i in range(len(users)-1):\n",
    "    r = len(users[i]&users[i+1])/float(len(users[i]))\n",
    "    retention.append(r)\n",
    "print \"The total number of rentation rates is \" + str(len(retention))\n",
    "print retention"
   ]
  },
  {
   "cell_type": "code",
   "execution_count": 7,
   "metadata": {
    "collapsed": false
   },
   "outputs": [],
   "source": [
    "def reciprocity(G, nodes=None):\n",
    "    if nodes is None:\n",
    "        return overall_reciprocity(G)\n",
    "\n",
    "    # If `nodes` represents a single node in the graph, return only its\n",
    "    # reciprocity.\n",
    "    if nodes in G:\n",
    "        reciprocity = next(_reciprocity_iter(G,nodes))[1]\n",
    "        if reciprocity is None:\n",
    "            raise NetworkXError('Not defined for isolated nodes.')\n",
    "        else:\n",
    "            return reciprocity\n",
    "\n",
    "    # Otherwise, `nodes` represents an iterable of nodes, so return a\n",
    "    # dictionary mapping node to its reciprocity.\n",
    "    return dict(_reciprocity_iter(G,nodes))\n",
    "\n",
    "\n",
    "def _reciprocity_iter(G,nodes):\n",
    "    n = G.nbunch_iter(nodes)\n",
    "    for node in n:\n",
    "        pred = set(G.predecessors(node))\n",
    "        succ = set(G.successors(node))\n",
    "        overlap = pred & succ\n",
    "        n_total = len(pred) + len(succ)\n",
    "\n",
    "        # Reciprocity is not defined for isolated nodes.\n",
    "        # Return None.\n",
    "        if n_total == 0:\n",
    "            yield (node,None)\n",
    "        else:\n",
    "            reciprocity = 2.0*float(len(overlap))/float(n_total)\n",
    "            yield (node,reciprocity)\n",
    "        \n",
    "def overall_reciprocity(G):\n",
    "    n_all_edge = G.number_of_edges()\n",
    "    n_overlap_edge = (n_all_edge - G.to_undirected().number_of_edges()) *2\n",
    "\n",
    "    if n_all_edge == 0:\n",
    "        raise NetworkXError(\"Not defined for empty graphs\")\n",
    "\n",
    "    return float(n_overlap_edge)/float(n_all_edge)"
   ]
  },
  {
   "cell_type": "code",
   "execution_count": 16,
   "metadata": {
    "collapsed": false
   },
   "outputs": [
    {
     "data": {
      "text/plain": [
       "'\\nprint edge_size\\nprint node_size\\nprint density\\nprint trans\\nprint recp\\nprint degree\\n'"
      ]
     },
     "execution_count": 16,
     "metadata": {},
     "output_type": "execute_result"
    }
   ],
   "source": [
    "#predictors and possible confounders\n",
    "edge_size = []\n",
    "node_size = []\n",
    "density = []\n",
    "trans = []\n",
    "recp = []\n",
    "degree = []\n",
    "#shortest = []\n",
    "diameter = []\n",
    "#cc = []\n",
    "#for g in graphs[2:]:  # start from the 3rd graph\n",
    "for g in graphs[3:]:  # start from the 4th graph\n",
    "#for g in graphs[7:]:\n",
    "#for g in graphs[4:]:   \n",
    "#for g in graphs[13:]:   #start from 2002/03\n",
    "    e = g.size()\n",
    "    n = nx.number_of_nodes(g)\n",
    "    d = nx.density(g)\n",
    "    t = nx.transitivity(g)\n",
    "    r = reciprocity(g)\n",
    "    #short = nx.average_shortest_path_length(max(nx.strongly_connected_component_subgraphs(g), key=len))\n",
    "    dia = nx.diameter(max(nx.strongly_connected_component_subgraphs(g), key=len))\n",
    "    dg = np.mean(nx.degree(g).values())/2\n",
    "    #c = nx.average_clustering(g)  #'Clustering algorithms are not defined ', 'for directed graphs.'\n",
    "    edge_size.append(e)\n",
    "    node_size.append(n)\n",
    "    density.append(d)\n",
    "    trans.append(t)\n",
    "    recp.append(r)\n",
    "    #shortest.append(short)\n",
    "    diameter.append(dia)\n",
    "    degree.append(dg)\n",
    "    #cc.append(c)\n",
    "edge_size = edge_size[:len(retention)]  # exclude the last graph\n",
    "node_size = node_size[:len(retention)] \n",
    "density = density[:len(retention)]\n",
    "trans = trans[:len(retention)]\n",
    "recp = recp[:len(retention)]\n",
    "degree = degree[:len(retention)]\n",
    "#shortest_path = degree[:len(retention)]\n",
    "diameter = diameter[:len(retention)]\n",
    "\"\"\"\n",
    "print edge_size\n",
    "print node_size\n",
    "print density\n",
    "print trans\n",
    "print recp\n",
    "print degree\n",
    "\"\"\""
   ]
  },
  {
   "cell_type": "code",
   "execution_count": 16,
   "metadata": {
    "collapsed": false
   },
   "outputs": [
    {
     "name": "stdout",
     "output_type": "stream",
     "text": [
      "[0.08571428571428572, 0.06615384615384616, 0.05665024630541872, 0.06217948717948718, 0.06341463414634146, 0.07482993197278912, 0.06059506531204644, 0.03700516351118761, 0.05134575569358178, 0.05672926447574335, 0.04365465757870821, 0.026864728192161822, 0.028600612870275793, 0.06531531531531531, 0.04579124579124579, 0.04152823920265781, 0.04421768707482993, 0.046464646464646465, 0.059666975023126734, 0.03528481012658228, 0.018691181596375044, 0.03172533681008257, 0.04962707974756168, 0.031584158415841584, 0.04828828828828829, 0.03875968992248062, 0.03453947368421053, 0.04196738839882384, 0.03263157894736842, 0.02762268586541287, 0.016134316134316134, 0.01214310285517716, 0.011956521739130435, 0.01788617886178862, 0.024256963881114223, 0.024830426356589146, 0.02375102375102375, 0.028167367928938758, 0.027472527472527472, 0.02850877192982456, 0.030694205393000575, 0.01884498480243161, 0.013625077591558038, 0.009937888198757764, 0.01694430834558223, 0.016664292835778378, 0.01760978485116416, 0.017383746197305518, 0.019299245121777525, 0.02013617267854556, 0.021212121212121213, 0.017783857729138167, 0.0189328743545611, 0.019407894736842107, 0.01584249084249084, 0.017615830115830115, 0.016355140186915886, 0.01969904240766074, 0.022640791476407914, 0.016262626262626263, 0.016357812857469685, 0.020918178452425027, 0.021360759493670885, 0.017259056732740943, 0.021379102679915687, 0.021583901330736774, 0.02969858156028369, 0.031002331002331, 0.031302031302031304, 0.037570621468926556, 0.03840245775729647, 0.03808446455505279, 0.04748941318814277, 0.03481822836661547, 0.04283447911158118, 0.05021173623714459, 0.04804421768707483, 0.045426065162907266, 0.05188679245283019, 0.04453551912568306, 0.042091836734693876, 0.045306122448979594, 0.03289473684210526, 0.03571428571428571, 0.0426497277676951, 0.056862745098039215, 0.04057971014492753, 0.058673469387755105, 0.05990338164251208, 0.05914368650217707, 0.039337474120082816, 0.06129807692307692, 0.061659848042080655, 0.04356925418569254, 0.04773082942097027, 0.04110207768744354, 0.03336113427856547, 0.02858641489640703, 0.03566165635131152, 0.039373485635167876, 0.04759185227489054, 0.04996186117467582, 0.03995062282572102, 0.038404088050314464, 0.04929426860564585, 0.05808980755523877, 0.04302045728038508, 0.04623398055748949, 0.04639257901969766, 0.03610871440897325, 0.03052408584323478, 0.035334534407234705, 0.048147906895952754, 0.026756024316999926, 0.025825714653618336, 0.02463768115942029, 0.021661899744091526, 0.020790164387346318, 0.028410453128746103, 0.03578674577600464, 0.03720180528691167, 0.030545843045843044, 0.03230292368266734, 0.03471915081822203, 0.042880202928629076, 0.03979361554981254, 0.039605490972050454, 0.030447830101569713, 0.03847196800216934, 0.029119913748352832, 0.03398058252427184, 0.035245306503474745, 0.04077941577941578, 0.030425963488843813, 0.02863543266769073, 0.02994729907773386, 0.03527745790669447, 0.02839221710189452, 0.025387666786873424, 0.027193098871930988, 0.025223435948361468, 0.02686721991701245, 0.028755020080321284, 0.028605200945626477, 0.03146853146853147, 0.02904154668860551, 0.02880395879368834, 0.026412802144861965, 0.0270310633213859, 0.02161204983785629, 0.02780644769595046, 0.021878831437872573, 0.020915363923433784, 0.019198119367898656, 0.04336135726728774, 0.0377751572327044, 0.031681778929188255, 0.024759175224902476, 0.021852576647097194, 0.02283390678761339, 0.03540833809251856, 0.03336633663366337, 0.03677221654749745, 0.028219484882418815, 0.02608098833218943, 0.023870200475705063, 0.023178328263074026, 0.04111338100102145, 0.030515832482124618, 0.032968213058419245, 0.028293545534924844, 0.029531786941580755, 0.032362459546925564, 0.03805640502888209, 0.030396039603960395, 0.029804865009355787, 0.031635802469135804, 0.027761599689380703, 0.02310258548790659, 0.02325962325962326, 0.026774483378256962, 0.021746517159361198, 0.02653975363941769, 0.025991792065663474, 0.029426129426129426, 0.026597166533012563, 0.02654320987654321, 0.032395409107737874, 0.023809523809523808, 0.018969298245614035, 0.015229392727964973, 0.017777777777777778, 0.017499150526673463, 0.018072289156626505, 0.018476903870162296, 0.02298221614227086]\n",
      "[15, 26, 29, 40, 41, 49, 53, 84, 70, 72, 79, 113, 89, 37, 55, 43, 49, 55, 47, 80, 152, 118, 84, 101, 75, 87, 96, 87, 76, 83, 111, 171, 185, 165, 123, 129, 111, 93, 105, 96, 84, 141, 180, 231, 157, 119, 117, 118, 119, 118, 100, 86, 84, 96, 105, 112, 108, 86, 73, 100, 94, 74, 80, 77, 82, 79, 48, 66, 78, 60, 63, 52, 58, 63, 62, 58, 49, 57, 53, 61, 49, 50, 57, 57, 58, 51, 70, 49, 46, 53, 70, 65, 59, 73, 72, 82, 110, 124, 117, 108, 103, 115, 134, 160, 168, 184, 277, 279, 296, 305, 330, 337, 304, 370, 353, 345, 365, 381, 388, 343, 330, 352, 346, 323, 295, 332, 312, 361, 298, 317, 310, 311, 297, 290, 280, 276, 254, 280, 236, 275, 266, 241, 250, 235, 221, 221, 254, 219, 217, 217, 182, 218, 227, 248, 163, 160, 193, 159, 147, 139, 103, 101, 89, 95, 94, 109, 118, 89, 89, 97, 117, 97, 103, 109, 101, 87, 81, 102, 110, 111, 106, 109, 95, 86, 91, 87, 81, 74, 64, 96, 103, 100, 109, 83, 90, 86]\n"
     ]
    }
   ],
   "source": [
    "print density\n",
    "#print retention\n",
    "#print recp\n",
    "print node_size"
   ]
  },
  {
   "cell_type": "code",
   "execution_count": 17,
   "metadata": {
    "collapsed": false
   },
   "outputs": [
    {
     "data": {
      "text/plain": [
       "<matplotlib.text.Text at 0x35df8e48>"
      ]
     },
     "execution_count": 17,
     "metadata": {},
     "output_type": "execute_result"
    },
    {
     "data": {
      "image/png": "[encoded data removed]",
      "text/plain": [
       "<matplotlib.figure.Figure at 0x35a8f4a8>"
      ]
     },
     "metadata": {},
     "output_type": "display_data"
    }
   ],
   "source": [
    "plt.scatter(density, retention)\n",
    "plt.xlabel('Network density')\n",
    "plt.ylabel('Retention Rate')"
   ]
  },
  {
   "cell_type": "code",
   "execution_count": 18,
   "metadata": {
    "collapsed": false
   },
   "outputs": [
    {
     "data": {
      "text/plain": [
       "<matplotlib.text.Text at 0x35eae9b0>"
      ]
     },
     "execution_count": 18,
     "metadata": {},
     "output_type": "execute_result"
    },
    {
     "data": {
      "image/png": "[encoded data removed]",
      "text/plain": [
       "<matplotlib.figure.Figure at 0x35e82da0>"
      ]
     },
     "metadata": {},
     "output_type": "display_data"
    }
   ],
   "source": [
    "plt.scatter(recp, retention)\n",
    "plt.xlabel('Network reciprocity')\n",
    "plt.ylabel('Retention Rate')"
   ]
  },
  {
   "cell_type": "code",
   "execution_count": 31,
   "metadata": {
    "collapsed": false
   },
   "outputs": [
    {
     "data": {
      "text/plain": [
       "<matplotlib.collections.PathCollection at 0x37fa3630>"
      ]
     },
     "execution_count": 31,
     "metadata": {},
     "output_type": "execute_result"
    },
    {
     "data": {
      "image/png": "[encoded data removed]",
      "text/plain": [
       "<matplotlib.figure.Figure at 0x37d18438>"
      ]
     },
     "metadata": {},
     "output_type": "display_data"
    }
   ],
   "source": [
    "# recp2 = (recp-density)/(1-density)\n",
    "a = np.subtract(recp, density)\n",
    "b = np.subtract(1, density)\n",
    "recp2 = np.divide(a, b)\n",
    "plt.scatter(recp2, retention)"
   ]
  },
  {
   "cell_type": "code",
   "execution_count": 19,
   "metadata": {
    "collapsed": false
   },
   "outputs": [
    {
     "data": {
      "text/plain": [
       "<matplotlib.text.Text at 0x35ea2e80>"
      ]
     },
     "execution_count": 19,
     "metadata": {},
     "output_type": "execute_result"
    },
    {
     "data": {
      "image/png": "[encoded data removed]",
      "text/plain": [
       "<matplotlib.figure.Figure at 0x35ec55c0>"
      ]
     },
     "metadata": {},
     "output_type": "display_data"
    }
   ],
   "source": [
    "#possible confounders:\n",
    "plt.scatter(node_size, retention)\n",
    "plt.xlabel('Network size')\n",
    "plt.ylabel('Retention Rate')"
   ]
  },
  {
   "cell_type": "code",
   "execution_count": 20,
   "metadata": {
    "collapsed": false
   },
   "outputs": [
    {
     "data": {
      "text/plain": [
       "<matplotlib.text.Text at 0x35ea2d68>"
      ]
     },
     "execution_count": 20,
     "metadata": {},
     "output_type": "execute_result"
    },
    {
     "data": {
      "image/png": "[encoded data removed]",
      "text/plain": [
       "<matplotlib.figure.Figure at 0x362e8320>"
      ]
     },
     "metadata": {},
     "output_type": "display_data"
    }
   ],
   "source": [
    "plt.scatter(degree, retention)\n",
    "plt.xlabel('Network average degree')\n",
    "plt.ylabel('Retention Rate')"
   ]
  },
  {
   "cell_type": "code",
   "execution_count": 21,
   "metadata": {
    "collapsed": false
   },
   "outputs": [
    {
     "data": {
      "image/png": "[encoded data removed]",
      "text/plain": [
       "<matplotlib.figure.Figure at 0x3228a588>"
      ]
     },
     "metadata": {},
     "output_type": "display_data"
    }
   ],
   "source": [
    "nx.draw(graphs[80])"
   ]
  },
  {
   "cell_type": "markdown",
   "metadata": {},
   "source": [
    "Construct an undirected graph to get clustering coefficients"
   ]
  },
  {
   "cell_type": "code",
   "execution_count": 37,
   "metadata": {
    "collapsed": false
   },
   "outputs": [],
   "source": [
    "# construct an undirected graph\n",
    "undigraphs = []\n",
    "for g in graphs:\n",
    "    g=nx.Graph(g)\n",
    "    undigraphs.append(g)"
   ]
  },
  {
   "cell_type": "code",
   "execution_count": 38,
   "metadata": {
    "collapsed": false
   },
   "outputs": [
    {
     "name": "stdout",
     "output_type": "stream",
     "text": [
      "[2, 6, 11, 12, 15, 15, 21, 25, 25, 12, 12, 17, 9, 8, 5, 11, 7, 2, 4, 5, 3, 10, 15, 3, 1, 3, 3, 2, 1, 1, 2, 3, 6, 1, 2, 3, 2, 3, 1, 1, 1, 1, 2, 1, 1, 2, 9, 21, 31, 22, 27, 28, 28, 4, 5, 1, 9, 8, 2, 5, 7, 38, 5, 2, 4, 16, 7, 1, 3, 1, 3, 1]\n",
      "[]\n"
     ]
    }
   ],
   "source": [
    "# deal with Anonymous user\n",
    "dg = []\n",
    "for g in undigraphs:\n",
    "    for node in g:\n",
    "        if node == 'Anonymous user (not verified)':\n",
    "            dg.append(g.degree(node))\n",
    "print dg\n",
    "# it is very likely that the anonymous users are different people. So if we remove them, it should not affect the whole network.\n",
    "for g in undigraphs:\n",
    "    try:\n",
    "        g.remove_node('Anonymous user (not verified)')\n",
    "    except:\n",
    "        pass\n",
    "dg = []\n",
    "for g in undigraphs:\n",
    "    for node in g:\n",
    "        if node == 'Anonymous user (not verified)':\n",
    "            dg.append(g.degree(node))\n",
    "print dg"
   ]
  },
  {
   "cell_type": "code",
   "execution_count": 39,
   "metadata": {
    "collapsed": false
   },
   "outputs": [
    {
     "name": "stdout",
     "output_type": "stream",
     "text": [
      "Name: \n",
      "Type: Graph\n",
      "Number of nodes: 0\n",
      "Number of edges: 0\n",
      "\n",
      "Name: \n",
      "Type: Graph\n",
      "Number of nodes: 0\n",
      "Number of edges: 0\n",
      "\n",
      "Name: \n",
      "Type: Graph\n",
      "Number of nodes: 0\n",
      "Number of edges: 0\n",
      "\n",
      "Name: \n",
      "Type: Graph\n",
      "Number of nodes: 0\n",
      "Number of edges: 0\n",
      "\n",
      "Name: \n",
      "Type: Graph\n",
      "Number of nodes: 0\n",
      "Number of edges: 0\n",
      "\n",
      "Name: \n",
      "Type: Graph\n",
      "Number of nodes: 0\n",
      "Number of edges: 0\n",
      "\n",
      "Name: \n",
      "Type: Graph\n",
      "Number of nodes: 3\n",
      "Number of edges: 2\n",
      "Average degree:   1.3333\n",
      "Name: \n",
      "Type: Graph\n",
      "Number of nodes: 15\n",
      "Number of edges: 18\n",
      "Average degree:   2.4000\n",
      "Name: \n",
      "Type: Graph\n",
      "Number of nodes: 26\n",
      "Number of edges: 41\n",
      "Average degree:   3.1538\n",
      "Name: \n",
      "Type: Graph\n",
      "Number of nodes: 29\n",
      "Number of edges: 42\n",
      "Average degree:   2.8966\n",
      "Name: \n",
      "Type: Graph\n",
      "Number of nodes: 40\n",
      "Number of edges: 91\n",
      "Average degree:   4.5500\n",
      "Name: \n",
      "Type: Graph\n",
      "Number of nodes: 41\n",
      "Number of edges: 90\n",
      "Average degree:   4.3902\n",
      "Name: \n",
      "Type: Graph\n",
      "Number of nodes: 49\n",
      "Number of edges: 153\n",
      "Average degree:   6.2449\n",
      "Name: \n",
      "Type: Graph\n",
      "Number of nodes: 53\n",
      "Number of edges: 156\n",
      "Average degree:   5.8868\n",
      "Name: \n",
      "Type: Graph\n",
      "Number of nodes: 84\n",
      "Number of edges: 229\n",
      "Average degree:   5.4524\n",
      "Name: \n",
      "Type: Graph\n",
      "Number of nodes: 70\n",
      "Number of edges: 222\n",
      "Average degree:   6.3429\n",
      "Name: \n",
      "Type: Graph\n",
      "Number of nodes: 72\n",
      "Number of edges: 274\n",
      "Average degree:   7.6111\n",
      "Name: \n",
      "Type: Graph\n",
      "Number of nodes: 79\n",
      "Number of edges: 263\n",
      "Average degree:   6.6582\n",
      "Name: \n",
      "Type: Graph\n",
      "Number of nodes: 113\n",
      "Number of edges: 323\n",
      "Average degree:   5.7168\n",
      "Name: \n",
      "Type: Graph\n",
      "Number of nodes: 89\n",
      "Number of edges: 213\n",
      "Average degree:   4.7865\n",
      "Name: \n",
      "Type: Graph\n",
      "Number of nodes: 37\n",
      "Number of edges: 85\n",
      "Average degree:   4.5946\n",
      "Name: \n",
      "Type: Graph\n",
      "Number of nodes: 55\n",
      "Number of edges: 129\n",
      "Average degree:   4.6909\n",
      "Name: \n",
      "Type: Graph\n",
      "Number of nodes: 43\n",
      "Number of edges: 71\n",
      "Average degree:   3.3023\n",
      "Name: \n",
      "Type: Graph\n",
      "Number of nodes: 49\n",
      "Number of edges: 101\n",
      "Average degree:   4.1224\n",
      "Name: \n",
      "Type: Graph\n",
      "Number of nodes: 55\n",
      "Number of edges: 132\n",
      "Average degree:   4.8000\n",
      "Name: \n",
      "Type: Graph\n",
      "Number of nodes: 47\n",
      "Number of edges: 120\n",
      "Average degree:   5.1064\n",
      "Name: \n",
      "Type: Graph\n",
      "Number of nodes: 80\n",
      "Number of edges: 214\n",
      "Average degree:   5.3500\n",
      "Name: \n",
      "Type: Graph\n",
      "Number of nodes: 152\n",
      "Number of edges: 422\n",
      "Average degree:   5.5526\n",
      "Name: \n",
      "Type: Graph\n",
      "Number of nodes: 118\n",
      "Number of edges: 423\n",
      "Average degree:   7.1695\n",
      "Name: \n",
      "Type: Graph\n",
      "Number of nodes: 84\n",
      "Number of edges: 324\n",
      "Average degree:   7.7143\n",
      "Name: \n",
      "Type: Graph\n",
      "Number of nodes: 101\n",
      "Number of edges: 307\n",
      "Average degree:   6.0792\n",
      "Name: \n",
      "Type: Graph\n",
      "Number of nodes: 75\n",
      "Number of edges: 250\n",
      "Average degree:   6.6667\n",
      "Name: \n",
      "Type: Graph\n",
      "Number of nodes: 87\n",
      "Number of edges: 276\n",
      "Average degree:   6.3448\n",
      "Name: \n",
      "Type: Graph\n",
      "Number of nodes: 96\n",
      "Number of edges: 302\n",
      "Average degree:   6.2917\n",
      "Name: \n",
      "Type: Graph\n",
      "Number of nodes: 87\n",
      "Number of edges: 299\n",
      "Average degree:   6.8736\n",
      "Name: \n",
      "Type: Graph\n",
      "Number of nodes: 76\n",
      "Number of edges: 170\n",
      "Average degree:   4.4737\n",
      "Name: \n",
      "Type: Graph\n",
      "Number of nodes: 83\n",
      "Number of edges: 183\n",
      "Average degree:   4.4096\n",
      "Name: \n",
      "Type: Graph\n",
      "Number of nodes: 111\n",
      "Number of edges: 189\n",
      "Average degree:   3.4054\n",
      "Name: \n",
      "Type: Graph\n",
      "Number of nodes: 171\n",
      "Number of edges: 348\n",
      "Average degree:   4.0702\n",
      "Name: \n",
      "Type: Graph\n",
      "Number of nodes: 185\n",
      "Number of edges: 398\n",
      "Average degree:   4.3027\n",
      "Name: \n",
      "Type: Graph\n",
      "Number of nodes: 165\n",
      "Number of edges: 479\n",
      "Average degree:   5.8061\n",
      "Name: \n",
      "Type: Graph\n",
      "Number of nodes: 123\n",
      "Number of edges: 358\n",
      "Average degree:   5.8211\n",
      "Name: \n",
      "Type: Graph\n",
      "Number of nodes: 129\n",
      "Number of edges: 392\n",
      "Average degree:   6.0775\n",
      "Name: \n",
      "Type: Graph\n",
      "Number of nodes: 111\n",
      "Number of edges: 278\n",
      "Average degree:   5.0090\n",
      "Name: \n",
      "Type: Graph\n",
      "Number of nodes: 93\n",
      "Number of edges: 234\n",
      "Average degree:   5.0323\n",
      "Name: \n",
      "Type: Graph\n",
      "Number of nodes: 105\n",
      "Number of edges: 291\n",
      "Average degree:   5.5429\n",
      "Name: \n",
      "Type: Graph\n",
      "Number of nodes: 96\n",
      "Number of edges: 254\n",
      "Average degree:   5.2917\n",
      "Name: \n",
      "Type: Graph\n",
      "Number of nodes: 84\n",
      "Number of edges: 207\n",
      "Average degree:   4.9286\n",
      "Name: \n",
      "Type: Graph\n",
      "Number of nodes: 141\n",
      "Number of edges: 361\n",
      "Average degree:   5.1206\n",
      "Name: \n",
      "Type: Graph\n",
      "Number of nodes: 180\n",
      "Number of edges: 429\n",
      "Average degree:   4.7667\n",
      "Name: \n",
      "Type: Graph\n",
      "Number of nodes: 231\n",
      "Number of edges: 522\n",
      "Average degree:   4.5195\n",
      "Name: \n",
      "Type: Graph\n",
      "Number of nodes: 157\n",
      "Number of edges: 405\n",
      "Average degree:   5.1592\n",
      "Name: \n",
      "Type: Graph\n",
      "Number of nodes: 119\n",
      "Number of edges: 232\n",
      "Average degree:   3.8992\n",
      "Name: \n",
      "Type: Graph\n",
      "Number of nodes: 117\n",
      "Number of edges: 236\n",
      "Average degree:   4.0342\n",
      "Name: \n",
      "Type: Graph\n",
      "Number of nodes: 118\n",
      "Number of edges: 234\n",
      "Average degree:   3.9661\n",
      "Name: \n",
      "Type: Graph\n",
      "Number of nodes: 119\n",
      "Number of edges: 264\n",
      "Average degree:   4.4370\n",
      "Name: \n",
      "Type: Graph\n",
      "Number of nodes: 118\n",
      "Number of edges: 269\n",
      "Average degree:   4.5593\n",
      "Name: \n",
      "Type: Graph\n",
      "Number of nodes: 100\n",
      "Number of edges: 206\n",
      "Average degree:   4.1200\n",
      "Name: \n",
      "Type: Graph\n",
      "Number of nodes: 86\n",
      "Number of edges: 130\n",
      "Average degree:   3.0233\n",
      "Name: \n",
      "Type: Graph\n",
      "Number of nodes: 84\n",
      "Number of edges: 127\n",
      "Average degree:   3.0238\n",
      "Name: \n",
      "Type: Graph\n",
      "Number of nodes: 96\n",
      "Number of edges: 177\n",
      "Average degree:   3.6875\n",
      "Name: \n",
      "Type: Graph\n",
      "Number of nodes: 105\n",
      "Number of edges: 173\n",
      "Average degree:   3.2952\n",
      "Name: \n",
      "Type: Graph\n",
      "Number of nodes: 112\n",
      "Number of edges: 217\n",
      "Average degree:   3.8750\n",
      "Name: \n",
      "Type: Graph\n",
      "Number of nodes: 108\n",
      "Number of edges: 185\n",
      "Average degree:   3.4259\n",
      "Name: \n",
      "Type: Graph\n",
      "Number of nodes: 86\n",
      "Number of edges: 143\n",
      "Average degree:   3.3256\n",
      "Name: \n",
      "Type: Graph\n",
      "Number of nodes: 73\n",
      "Number of edges: 119\n",
      "Average degree:   3.2603\n",
      "Name: \n",
      "Type: Graph\n",
      "Number of nodes: 100\n",
      "Number of edges: 157\n",
      "Average degree:   3.1400\n",
      "Name: \n",
      "Type: Graph\n",
      "Number of nodes: 94\n",
      "Number of edges: 143\n",
      "Average degree:   3.0426\n",
      "Name: \n",
      "Type: Graph\n",
      "Number of nodes: 74\n",
      "Number of edges: 112\n",
      "Average degree:   3.0270\n",
      "Name: \n",
      "Type: Graph\n",
      "Number of nodes: 80\n",
      "Number of edges: 133\n",
      "Average degree:   3.3250\n",
      "Name: \n",
      "Type: Graph\n",
      "Number of nodes: 77\n",
      "Number of edges: 100\n",
      "Average degree:   2.5974\n",
      "Name: \n",
      "Type: Graph\n",
      "Number of nodes: 82\n",
      "Number of edges: 138\n",
      "Average degree:   3.3659\n",
      "Name: \n",
      "Type: Graph\n",
      "Number of nodes: 79\n",
      "Number of edges: 129\n",
      "Average degree:   3.2658\n",
      "Name: \n",
      "Type: Graph\n",
      "Number of nodes: 48\n",
      "Number of edges: 67\n",
      "Average degree:   2.7917\n",
      "Name: \n",
      "Type: Graph\n",
      "Number of nodes: 66\n",
      "Number of edges: 130\n",
      "Average degree:   3.9394\n",
      "Name: \n",
      "Type: Graph\n",
      "Number of nodes: 78\n",
      "Number of edges: 179\n",
      "Average degree:   4.5897\n",
      "Name: \n",
      "Type: Graph\n",
      "Number of nodes: 60\n",
      "Number of edges: 127\n",
      "Average degree:   4.2333\n",
      "Name: \n",
      "Type: Graph\n",
      "Number of nodes: 63\n",
      "Number of edges: 140\n",
      "Average degree:   4.4444\n",
      "Name: \n",
      "Type: Graph\n",
      "Number of nodes: 52\n",
      "Number of edges: 96\n",
      "Average degree:   3.6923\n",
      "Name: \n",
      "Type: Graph\n",
      "Number of nodes: 58\n",
      "Number of edges: 150\n",
      "Average degree:   5.1724\n",
      "Name: \n",
      "Type: Graph\n",
      "Number of nodes: 63\n",
      "Number of edges: 133\n",
      "Average degree:   4.2222\n",
      "Name: \n",
      "Type: Graph\n",
      "Number of nodes: 62\n",
      "Number of edges: 146\n",
      "Average degree:   4.7097\n",
      "Name: \n",
      "Type: Graph\n",
      "Number of nodes: 58\n",
      "Number of edges: 150\n",
      "Average degree:   5.1724\n",
      "Name: \n",
      "Type: Graph\n",
      "Number of nodes: 49\n",
      "Number of edges: 101\n",
      "Average degree:   4.1224\n",
      "Name: \n",
      "Type: Graph\n",
      "Number of nodes: 57\n",
      "Number of edges: 140\n",
      "Average degree:   4.9123\n",
      "Name: \n",
      "Type: Graph\n",
      "Number of nodes: 53\n",
      "Number of edges: 139\n",
      "Average degree:   5.2453\n",
      "Name: \n",
      "Type: Graph\n",
      "Number of nodes: 61\n",
      "Number of edges: 156\n",
      "Average degree:   5.1148\n",
      "Name: \n",
      "Type: Graph\n",
      "Number of nodes: 49\n",
      "Number of edges: 93\n",
      "Average degree:   3.7959\n",
      "Name: \n",
      "Type: Graph\n",
      "Number of nodes: 50\n",
      "Number of edges: 109\n",
      "Average degree:   4.3600\n",
      "Name: \n",
      "Type: Graph\n",
      "Number of nodes: 57\n",
      "Number of edges: 102\n",
      "Average degree:   3.5789\n",
      "Name: \n",
      "Type: Graph\n",
      "Number of nodes: 57\n",
      "Number of edges: 111\n",
      "Average degree:   3.8947\n",
      "Name: \n",
      "Type: Graph\n",
      "Number of nodes: 58\n",
      "Number of edges: 132\n",
      "Average degree:   4.5517\n",
      "Name: \n",
      "Type: Graph\n",
      "Number of nodes: 51\n",
      "Number of edges: 133\n",
      "Average degree:   5.2157\n",
      "Name: \n",
      "Type: Graph\n",
      "Number of nodes: 70\n",
      "Number of edges: 186\n",
      "Average degree:   5.3143\n",
      "Name: \n",
      "Type: Graph\n",
      "Number of nodes: 49\n",
      "Number of edges: 127\n",
      "Average degree:   5.1837\n",
      "Name: \n",
      "Type: Graph\n",
      "Number of nodes: 46\n",
      "Number of edges: 109\n",
      "Average degree:   4.7391\n",
      "Name: \n",
      "Type: Graph\n",
      "Number of nodes: 53\n",
      "Number of edges: 148\n",
      "Average degree:   5.5849\n",
      "Name: \n",
      "Type: Graph\n",
      "Number of nodes: 70\n",
      "Number of edges: 170\n",
      "Average degree:   4.8571\n",
      "Name: \n",
      "Type: Graph\n",
      "Number of nodes: 65\n",
      "Number of edges: 245\n",
      "Average degree:   7.5385\n",
      "Name: \n",
      "Type: Graph\n",
      "Number of nodes: 59\n",
      "Number of edges: 204\n",
      "Average degree:   6.9153\n",
      "Name: \n",
      "Type: Graph\n",
      "Number of nodes: 73\n",
      "Number of edges: 223\n",
      "Average degree:   6.1096\n",
      "Name: \n",
      "Type: Graph\n",
      "Number of nodes: 72\n",
      "Number of edges: 223\n",
      "Average degree:   6.1944\n",
      "Name: \n",
      "Type: Graph\n",
      "Number of nodes: 82\n",
      "Number of edges: 266\n",
      "Average degree:   6.4878\n",
      "Name: \n",
      "Type: Graph\n",
      "Number of nodes: 110\n",
      "Number of edges: 384\n",
      "Average degree:   6.9818\n",
      "Name: \n",
      "Type: Graph\n",
      "Number of nodes: 124\n",
      "Number of edges: 417\n",
      "Average degree:   6.7258\n",
      "Name: \n",
      "Type: Graph\n",
      "Number of nodes: 117\n",
      "Number of edges: 445\n",
      "Average degree:   7.6068\n",
      "Name: \n",
      "Type: Graph\n",
      "Number of nodes: 108\n",
      "Number of edges: 418\n",
      "Average degree:   7.7407\n",
      "Name: \n",
      "Type: Graph\n",
      "Number of nodes: 103\n",
      "Number of edges: 463\n",
      "Average degree:   8.9903\n",
      "Name: \n",
      "Type: Graph\n",
      "Number of nodes: 115\n",
      "Number of edges: 580\n",
      "Average degree:  10.0870\n",
      "Name: \n",
      "Type: Graph\n",
      "Number of nodes: 134\n",
      "Number of edges: 660\n",
      "Average degree:   9.8507\n",
      "Name: \n",
      "Type: Graph\n",
      "Number of nodes: 160\n",
      "Number of edges: 914\n",
      "Average degree:  11.4250\n",
      "Name: \n",
      "Type: Graph\n",
      "Number of nodes: 168\n",
      "Number of edges: 1183\n",
      "Average degree:  14.0833\n",
      "Name: \n",
      "Type: Graph\n",
      "Number of nodes: 184\n",
      "Number of edges: 1655\n",
      "Average degree:  17.9891\n",
      "Name: \n",
      "Type: Graph\n",
      "Number of nodes: 277\n",
      "Number of edges: 2826\n",
      "Average degree:  20.4043\n",
      "Name: \n",
      "Type: Graph\n",
      "Number of nodes: 279\n",
      "Number of edges: 3108\n",
      "Average degree:  22.2796\n",
      "Name: \n",
      "Type: Graph\n",
      "Number of nodes: 296\n",
      "Number of edges: 3540\n",
      "Average degree:  23.9189\n",
      "Name: \n",
      "Type: Graph\n",
      "Number of nodes: 305\n",
      "Number of edges: 2982\n",
      "Average degree:  19.5541\n",
      "Name: \n",
      "Type: Graph\n",
      "Number of nodes: 330\n",
      "Number of edges: 2956\n",
      "Average degree:  17.9152\n",
      "Name: \n",
      "Type: Graph\n",
      "Number of nodes: 337\n",
      "Number of edges: 3588\n",
      "Average degree:  21.2938\n",
      "Name: \n",
      "Type: Graph\n",
      "Number of nodes: 304\n",
      "Number of edges: 3994\n",
      "Average degree:  26.2763\n",
      "Name: \n",
      "Type: Graph\n",
      "Number of nodes: 370\n",
      "Number of edges: 3439\n",
      "Average degree:  18.5892\n",
      "Name: \n",
      "Type: Graph\n",
      "Number of nodes: 353\n",
      "Number of edges: 2982\n",
      "Average degree:  16.8952\n",
      "Name: \n",
      "Type: Graph\n",
      "Number of nodes: 345\n",
      "Number of edges: 2778\n",
      "Average degree:  16.1043\n",
      "Name: \n",
      "Type: Graph\n",
      "Number of nodes: 365\n",
      "Number of edges: 2768\n",
      "Average degree:  15.1671\n",
      "Name: \n",
      "Type: Graph\n",
      "Number of nodes: 381\n",
      "Number of edges: 2869\n",
      "Average degree:  15.0604\n",
      "Name: \n",
      "Type: Graph\n",
      "Number of nodes: 388\n",
      "Number of edges: 3953\n",
      "Average degree:  20.3763\n",
      "Name: \n",
      "Type: Graph\n",
      "Number of nodes: 343\n",
      "Number of edges: 3766\n",
      "Average degree:  21.9592\n",
      "Name: \n",
      "Type: Graph\n",
      "Number of nodes: 330\n",
      "Number of edges: 3630\n",
      "Average degree:  22.0000\n",
      "Name: \n",
      "Type: Graph\n",
      "Number of nodes: 352\n",
      "Number of edges: 3423\n",
      "Average degree:  19.4489\n",
      "Name: \n",
      "Type: Graph\n",
      "Number of nodes: 346\n",
      "Number of edges: 3529\n",
      "Average degree:  20.3988\n",
      "Name: \n",
      "Type: Graph\n",
      "Number of nodes: 323\n",
      "Number of edges: 3267\n",
      "Average degree:  20.2291\n",
      "Name: \n",
      "Type: Graph\n",
      "Number of nodes: 295\n",
      "Number of edges: 3391\n",
      "Average degree:  22.9898\n",
      "Name: \n",
      "Type: Graph\n",
      "Number of nodes: 332\n",
      "Number of edges: 3920\n",
      "Average degree:  23.6145\n",
      "Name: \n",
      "Type: Graph\n",
      "Number of nodes: 312\n",
      "Number of edges: 3445\n",
      "Average degree:  22.0833\n",
      "Name: \n",
      "Type: Graph\n",
      "Number of nodes: 361\n",
      "Number of edges: 3607\n",
      "Average degree:  19.9834\n",
      "Name: \n",
      "Type: Graph\n",
      "Number of nodes: 298\n",
      "Number of edges: 3121\n",
      "Average degree:  20.9463\n",
      "Name: \n",
      "Type: Graph\n",
      "Number of nodes: 317\n",
      "Number of edges: 2683\n",
      "Average degree:  16.9274\n",
      "Name: \n",
      "Type: Graph\n",
      "Number of nodes: 310\n",
      "Number of edges: 2944\n",
      "Average degree:  18.9935\n",
      "Name: \n",
      "Type: Graph\n",
      "Number of nodes: 311\n",
      "Number of edges: 3029\n",
      "Average degree:  19.4791\n",
      "Name: \n",
      "Type: Graph\n",
      "Number of nodes: 297\n",
      "Number of edges: 3268\n",
      "Average degree:  22.0067\n",
      "Name: \n",
      "Type: Graph\n",
      "Number of nodes: 290\n",
      "Number of edges: 2365\n",
      "Average degree:  16.3103\n",
      "Name: \n",
      "Type: Graph\n",
      "Number of nodes: 280\n",
      "Number of edges: 2076\n",
      "Average degree:  14.8286\n",
      "Name: \n",
      "Type: Graph\n",
      "Number of nodes: 276\n",
      "Number of edges: 2121\n",
      "Average degree:  15.3696\n",
      "Name: \n",
      "Type: Graph\n",
      "Number of nodes: 254\n",
      "Number of edges: 2065\n",
      "Average degree:  16.2598\n",
      "Name: \n",
      "Type: Graph\n",
      "Number of nodes: 280\n",
      "Number of edges: 2055\n",
      "Average degree:  14.6786\n",
      "Name: \n",
      "Type: Graph\n",
      "Number of nodes: 236\n",
      "Number of edges: 1323\n",
      "Average degree:  11.2119\n",
      "Name: \n",
      "Type: Graph\n",
      "Number of nodes: 275\n",
      "Number of edges: 1944\n",
      "Average degree:  14.1382\n",
      "Name: \n",
      "Type: Graph\n",
      "Number of nodes: 266\n",
      "Number of edges: 1693\n",
      "Average degree:  12.7293\n",
      "Name: \n",
      "Type: Graph\n",
      "Number of nodes: 241\n",
      "Number of edges: 1491\n",
      "Average degree:  12.3734\n",
      "Name: \n",
      "Type: Graph\n",
      "Number of nodes: 250\n",
      "Number of edges: 1678\n",
      "Average degree:  13.4240\n",
      "Name: \n",
      "Type: Graph\n",
      "Number of nodes: 235\n",
      "Number of edges: 1470\n",
      "Average degree:  12.5106\n",
      "Name: \n",
      "Type: Graph\n",
      "Number of nodes: 221\n",
      "Number of edges: 1386\n",
      "Average degree:  12.5430\n",
      "Name: \n",
      "Type: Graph\n",
      "Number of nodes: 221\n",
      "Number of edges: 1318\n",
      "Average degree:  11.9276\n",
      "Name: \n",
      "Type: Graph\n",
      "Number of nodes: 254\n",
      "Number of edges: 1714\n",
      "Average degree:  13.4961\n",
      "Name: \n",
      "Type: Graph\n",
      "Number of nodes: 219\n",
      "Number of edges: 1196\n",
      "Average degree:  10.9224\n",
      "Name: \n",
      "Type: Graph\n",
      "Number of nodes: 217\n",
      "Number of edges: 1183\n",
      "Average degree:  10.9032\n",
      "Name: \n",
      "Type: Graph\n",
      "Number of nodes: 217\n",
      "Number of edges: 966\n",
      "Average degree:   8.9032\n",
      "Name: \n",
      "Type: Graph\n",
      "Number of nodes: 182\n",
      "Number of edges: 860\n",
      "Average degree:   9.4505\n",
      "Name: \n",
      "Type: Graph\n",
      "Number of nodes: 218\n",
      "Number of edges: 974\n",
      "Average degree:   8.9358\n",
      "Name: \n",
      "Type: Graph\n",
      "Number of nodes: 227\n",
      "Number of edges: 992\n",
      "Average degree:   8.7401\n",
      "Name: \n",
      "Type: Graph\n",
      "Number of nodes: 248\n",
      "Number of edges: 1103\n",
      "Average degree:   8.8952\n",
      "Name: \n",
      "Type: Graph\n",
      "Number of nodes: 163\n",
      "Number of edges: 1072\n",
      "Average degree:  13.1534\n",
      "Name: \n",
      "Type: Graph\n",
      "Number of nodes: 160\n",
      "Number of edges: 899\n",
      "Average degree:  11.2375\n",
      "Name: \n",
      "Type: Graph\n",
      "Number of nodes: 193\n",
      "Number of edges: 1115\n",
      "Average degree:  11.5544\n",
      "Name: \n",
      "Type: Graph\n",
      "Number of nodes: 159\n",
      "Number of edges: 587\n",
      "Average degree:   7.3836\n",
      "Name: \n",
      "Type: Graph\n",
      "Number of nodes: 147\n",
      "Number of edges: 447\n",
      "Average degree:   6.0816\n",
      "Name: \n",
      "Type: Graph\n",
      "Number of nodes: 139\n",
      "Number of edges: 415\n",
      "Average degree:   5.9712\n",
      "Name: \n",
      "Type: Graph\n",
      "Number of nodes: 103\n",
      "Number of edges: 341\n",
      "Average degree:   6.6214\n",
      "Name: \n",
      "Type: Graph\n",
      "Number of nodes: 101\n",
      "Number of edges: 313\n",
      "Average degree:   6.1980\n",
      "Name: \n",
      "Type: Graph\n",
      "Number of nodes: 89\n",
      "Number of edges: 270\n",
      "Average degree:   6.0674\n",
      "Name: \n",
      "Type: Graph\n",
      "Number of nodes: 95\n",
      "Number of edges: 236\n",
      "Average degree:   4.9684\n",
      "Name: \n",
      "Type: Graph\n",
      "Number of nodes: 94\n",
      "Number of edges: 210\n",
      "Average degree:   4.4681\n",
      "Name: \n",
      "Type: Graph\n",
      "Number of nodes: 109\n",
      "Number of edges: 265\n",
      "Average degree:   4.8624\n",
      "Name: \n",
      "Type: Graph\n",
      "Number of nodes: 118\n",
      "Number of edges: 310\n",
      "Average degree:   5.2542\n",
      "Name: \n",
      "Type: Graph\n",
      "Number of nodes: 89\n",
      "Number of edges: 294\n",
      "Average degree:   6.6067\n",
      "Name: \n",
      "Type: Graph\n",
      "Number of nodes: 89\n",
      "Number of edges: 230\n",
      "Average degree:   5.1685\n",
      "Name: \n",
      "Type: Graph\n",
      "Number of nodes: 97\n",
      "Number of edges: 282\n",
      "Average degree:   5.8144\n",
      "Name: \n",
      "Type: Graph\n",
      "Number of nodes: 117\n",
      "Number of edges: 362\n",
      "Average degree:   6.1880\n",
      "Name: \n",
      "Type: Graph\n",
      "Number of nodes: 97\n",
      "Number of edges: 258\n",
      "Average degree:   5.3196\n",
      "Name: \n",
      "Type: Graph\n",
      "Number of nodes: 103\n",
      "Number of edges: 311\n",
      "Average degree:   6.0388\n",
      "Name: \n",
      "Type: Graph\n",
      "Number of nodes: 109\n",
      "Number of edges: 421\n",
      "Average degree:   7.7248\n",
      "Name: \n",
      "Type: Graph\n",
      "Number of nodes: 101\n",
      "Number of edges: 300\n",
      "Average degree:   5.9406\n",
      "Name: \n",
      "Type: Graph\n",
      "Number of nodes: 87\n",
      "Number of edges: 209\n",
      "Average degree:   4.8046\n",
      "Name: \n",
      "Type: Graph\n",
      "Number of nodes: 81\n",
      "Number of edges: 192\n",
      "Average degree:   4.7407\n",
      "Name: \n",
      "Type: Graph\n",
      "Number of nodes: 102\n",
      "Number of edges: 279\n",
      "Average degree:   5.4706\n",
      "Name: \n",
      "Type: Graph\n",
      "Number of nodes: 110\n",
      "Number of edges: 269\n",
      "Average degree:   4.8909\n",
      "Name: \n",
      "Type: Graph\n",
      "Number of nodes: 111\n",
      "Number of edges: 270\n",
      "Average degree:   4.8649\n",
      "Name: \n",
      "Type: Graph\n",
      "Number of nodes: 106\n",
      "Number of edges: 296\n",
      "Average degree:   5.5849\n",
      "Name: \n",
      "Type: Graph\n",
      "Number of nodes: 109\n",
      "Number of edges: 248\n",
      "Average degree:   4.5505\n",
      "Name: \n",
      "Type: Graph\n",
      "Number of nodes: 95\n",
      "Number of edges: 225\n",
      "Average degree:   4.7368\n",
      "Name: \n",
      "Type: Graph\n",
      "Number of nodes: 86\n",
      "Number of edges: 184\n",
      "Average degree:   4.2791\n",
      "Name: \n",
      "Type: Graph\n",
      "Number of nodes: 91\n",
      "Number of edges: 232\n",
      "Average degree:   5.0989\n",
      "Name: \n",
      "Type: Graph\n",
      "Number of nodes: 87\n",
      "Number of edges: 194\n",
      "Average degree:   4.4598\n",
      "Name: \n",
      "Type: Graph\n",
      "Number of nodes: 81\n",
      "Number of edges: 165\n",
      "Average degree:   4.0741\n",
      "Name: \n",
      "Type: Graph\n",
      "Number of nodes: 74\n",
      "Number of edges: 168\n",
      "Average degree:   4.5405\n",
      "Name: \n",
      "Type: Graph\n",
      "Number of nodes: 64\n",
      "Number of edges: 96\n",
      "Average degree:   3.0000\n",
      "Name: \n",
      "Type: Graph\n",
      "Number of nodes: 96\n",
      "Number of edges: 171\n",
      "Average degree:   3.5625\n",
      "Name: \n",
      "Type: Graph\n",
      "Number of nodes: 103\n",
      "Number of edges: 157\n",
      "Average degree:   3.0485\n",
      "Name: \n",
      "Type: Graph\n",
      "Number of nodes: 100\n",
      "Number of edges: 172\n",
      "Average degree:   3.4400\n",
      "Name: \n",
      "Type: Graph\n",
      "Number of nodes: 109\n",
      "Number of edges: 202\n",
      "Average degree:   3.7064\n",
      "Name: \n",
      "Type: Graph\n",
      "Number of nodes: 83\n",
      "Number of edges: 121\n",
      "Average degree:   2.9157\n",
      "Name: \n",
      "Type: Graph\n",
      "Number of nodes: 90\n",
      "Number of edges: 146\n",
      "Average degree:   3.2444\n",
      "Name: \n",
      "Type: Graph\n",
      "Number of nodes: 86\n",
      "Number of edges: 167\n",
      "Average degree:   3.8837\n",
      "Name: \n",
      "Type: Graph\n",
      "Number of nodes: 56\n",
      "Number of edges: 78\n",
      "Average degree:   2.7857\n"
     ]
    }
   ],
   "source": [
    "for g in undigraphs:\n",
    "    print nx.info(g)"
   ]
  },
  {
   "cell_type": "code",
   "execution_count": 40,
   "metadata": {
    "collapsed": false
   },
   "outputs": [],
   "source": [
    "cc = []\n",
    "shortest = []\n",
    "for g in undigraphs[7:]:\n",
    "#for g in undigraphs[13:]:\n",
    "    c = nx.average_clustering(g)\n",
    "    short = nx.average_shortest_path_length(max(nx.connected_component_subgraphs(g), key=len))\n",
    "    cc.append(c)\n",
    "    shortest.append(short)\n",
    "#cc = cc[:len(retention)]   # exclude the last graph\n",
    "#shortest = shortest[:len(retention)]\n",
    "#print cc "
   ]
  },
  {
   "cell_type": "code",
   "execution_count": 41,
   "metadata": {
    "collapsed": false
   },
   "outputs": [
    {
     "data": {
      "text/plain": [
       "197"
      ]
     },
     "execution_count": 41,
     "metadata": {},
     "output_type": "execute_result"
    }
   ],
   "source": [
    "len(cc)"
   ]
  },
  {
   "cell_type": "code",
   "execution_count": 57,
   "metadata": {
    "collapsed": false
   },
   "outputs": [
    {
     "data": {
      "text/plain": [
       "<matplotlib.collections.PathCollection at 0x2d415d68>"
      ]
     },
     "execution_count": 57,
     "metadata": {},
     "output_type": "execute_result"
    },
    {
     "data": {
      "image/png": "[encoded data removed]",
      "text/plain": [
       "<matplotlib.figure.Figure at 0x300502e8>"
      ]
     },
     "metadata": {},
     "output_type": "display_data"
    }
   ],
   "source": [
    "plt.scatter(cc, retention)"
   ]
  },
  {
   "cell_type": "code",
   "execution_count": 17,
   "metadata": {
    "collapsed": false
   },
   "outputs": [
    {
     "data": {
      "text/plain": [
       "<matplotlib.collections.PathCollection at 0x36d7fba8>"
      ]
     },
     "execution_count": 17,
     "metadata": {},
     "output_type": "execute_result"
    },
    {
     "data": {
      "image/png": "[encoded data removed]",
      "text/plain": [
       "<matplotlib.figure.Figure at 0x2be8c550>"
      ]
     },
     "metadata": {},
     "output_type": "display_data"
    }
   ],
   "source": [
    "plt.scatter(shortest, retention)"
   ]
  },
  {
   "cell_type": "markdown",
   "metadata": {},
   "source": [
    "# Look at # of initial posts, replies, and self-replies"
   ]
  },
  {
   "cell_type": "code",
   "execution_count": 4,
   "metadata": {
    "collapsed": false
   },
   "outputs": [
    {
     "name": "stdout",
     "output_type": "stream",
     "text": [
      "319407\n",
      "27221\n",
      "261060\n",
      "31126\n",
      "319407\n"
     ]
    }
   ],
   "source": [
    "# look at the whole 16-year period without time sclicing\n",
    "allpost = []  # total number of posts + replies\n",
    "initialpost = []\n",
    "reply = []\n",
    "self = []\n",
    "for key in data:\n",
    "    month = data[key]['post_time'].split()[0]\n",
    "    year = data[key]['post_time'].split(', ')[1]\n",
    "    allpost.append(year+month)\n",
    "    initialpost.append(year+month)\n",
    "    \n",
    "    i = 0\n",
    "    while i < 50:\n",
    "        try:\n",
    "            month = data[key]['reply'][i]['post_time'].split()[0]\n",
    "            year = data[key]['reply'][i]['post_time'].split(', ')[1]\n",
    "            allpost.append(year+month)\n",
    "            \n",
    "            if data[key]['reply'][i]['user'] == data[key]['user']:\n",
    "                self.append(year+month)\n",
    "            elif data[key]['reply'][i]['user'] != data[key]['user']:\n",
    "                reply.append(year+month)            \n",
    "        except:\n",
    "            pass\n",
    "        i += 1\n",
    "\n",
    "print len(allpost)\n",
    "print len(initialpost)\n",
    "print len(reply)\n",
    "print len(self)\n",
    "print len(initialpost) + len(reply) + len(self)"
   ]
  },
  {
   "cell_type": "code",
   "execution_count": 27,
   "metadata": {
    "collapsed": false
   },
   "outputs": [
    {
     "name": "stdout",
     "output_type": "stream",
     "text": [
      "319407\n",
      "319407\n",
      "319407\n",
      "[u'2002 q3', u'2002 q3', u'2002 q3', u'2002 q3', u'2002 q3']\n",
      "27221\n",
      "[u'2002 q3', u'2002 q3', u'2002 q3', u'2002 q3', u'2002 q3']\n",
      "261060\n",
      "[u'2002 q3', u'2002 q3', u'2002 q3', u'2002 q3', u'2002 q3']\n",
      "31126\n",
      "[u'2002 q3', u'2002 q3', u'2002 q3', u'2002 q3', u'2004 q2']\n"
     ]
    }
   ],
   "source": [
    "# split into quarter\n",
    "allpost = []  # total number of posts + replies\n",
    "initialpost = []\n",
    "reply = []\n",
    "self = []\n",
    "for key in data:\n",
    "    month = data[key]['post_time'].split()[0]\n",
    "    year = data[key]['post_time'].split(', ')[1]\n",
    "    allpost.append(year+month)\n",
    "    initialpost.append(year+month)\n",
    "    \n",
    "    i = 0\n",
    "    while i < 50:\n",
    "        try:\n",
    "            month = data[key]['reply'][i]['post_time'].split()[0]\n",
    "            year = data[key]['reply'][i]['post_time'].split(', ')[1]\n",
    "            allpost.append(year+month)\n",
    "            \n",
    "            if data[key]['reply'][i]['user'] == data[key]['user']:\n",
    "                self.append(year+month)\n",
    "            elif data[key]['reply'][i]['user'] != data[key]['user']:\n",
    "                reply.append(year+month)            \n",
    "        except:\n",
    "            pass\n",
    "        i += 1\n",
    "\n",
    "print len(allpost)\n",
    "print len(initialpost) + len(reply) + len(self)\n",
    "\n",
    "def split_into_quarter(post_type):\n",
    "    case = []\n",
    "    for i in post_type:\n",
    "        if i.split()[1] in set(['Jan', 'Feb', 'Mar']):\n",
    "            case.append(i.split()[0]+' '+'q1')\n",
    "        elif i.split()[1] in set(['Apr', 'May', 'Jun']):\n",
    "            case.append(i.split()[0]+' '+'q2')\n",
    "        elif i.split()[1] in set(['Jul', 'Aug', 'Sep']):\n",
    "            case.append(i.split()[0]+' '+'q3')\n",
    "        else:\n",
    "            case.append(i.split()[0]+' '+'q4')        \n",
    "    return case\n",
    "\n",
    "allpost = split_into_quarter(allpost)\n",
    "print \"The number of all posts is \" +str(len(allpost))\n",
    "print allpost[:5]\n",
    "\n",
    "initialpost = split_into_quarter(initialpost)\n",
    "print \"The number of initial posts is \" +str(len(initialpost))\n",
    "print initialpost[:5]\n",
    "\n",
    "reply = split_into_quarter(reply)\n",
    "print \"The number of replies is \" +str(len(reply))\n",
    "print reply[:5]\n",
    "\n",
    "self = split_into_quarter(self)\n",
    "print \"The number of self replies is \" +str(len(self))\n",
    "print self[:5]"
   ]
  },
  {
   "cell_type": "code",
   "execution_count": 10,
   "metadata": {
    "collapsed": false
   },
   "outputs": [
    {
     "name": "stdout",
     "output_type": "stream",
     "text": [
      "319407\n",
      "319407\n",
      "The number of all posts is 319407\n",
      "[u'2002 q4', u'2002 q4', u'2002 q4', u'2002 q4', u'2002 q4']\n",
      "The number of initial posts is 27221\n",
      "[u'2002 q4', u'2002 q4', u'2002 q4', u'2002 q4', u'2002 q4']\n",
      "The number of replies is 261060\n",
      "[u'2002 q4', u'2002 q4', u'2002 q4', u'2002 q4', u'2002 q4']\n",
      "The number of self replies is 31126\n",
      "[u'2002 q4', u'2002 q4', u'2002 q4', u'2002 q4', u'2004 q2']\n"
     ]
    }
   ],
   "source": [
    "# split into every 2 months\n",
    "allpost = []  # total number of posts + replies\n",
    "initialpost = []\n",
    "reply = []\n",
    "self = []\n",
    "for key in data:\n",
    "    month = data[key]['post_time'].split()[0]\n",
    "    year = data[key]['post_time'].split(', ')[1]\n",
    "    allpost.append(year+month)\n",
    "    initialpost.append(year+month)\n",
    "    \n",
    "    i = 0\n",
    "    while i < 50:\n",
    "        try:\n",
    "            month = data[key]['reply'][i]['post_time'].split()[0]\n",
    "            year = data[key]['reply'][i]['post_time'].split(', ')[1]\n",
    "            allpost.append(year+month)\n",
    "            \n",
    "            if data[key]['reply'][i]['user'] == data[key]['user']:\n",
    "                self.append(year+month)\n",
    "            elif data[key]['reply'][i]['user'] != data[key]['user']:\n",
    "                reply.append(year+month)            \n",
    "        except:\n",
    "            pass\n",
    "        i += 1\n",
    "\n",
    "print len(allpost)\n",
    "print len(initialpost) + len(reply) + len(self)\n",
    "\n",
    "def split_into_quarter(post_type):\n",
    "    case = []\n",
    "    for i in post_type:\n",
    "        if i.split()[1] in set(['Jan', 'Feb']):\n",
    "            case.append(i.split()[0]+' '+'q1')\n",
    "        elif i.split()[1] in set(['Mar', 'Apr']):\n",
    "            case.append(i.split()[0]+' '+'q2')\n",
    "        elif i.split()[1] in set(['May', 'Jun']):\n",
    "            case.append(i.split()[0]+' '+'q3')\n",
    "        elif i.split()[1] in set(['Jul', 'Aug']):\n",
    "            case.append(i.split()[0]+' '+'q4')\n",
    "        elif i.split()[1] in set(['Sep', 'Oct']):\n",
    "            case.append(i.split()[0]+' '+'q5')\n",
    "        else:\n",
    "            case.append(i.split()[0]+' '+'q6')        \n",
    "    return case\n",
    "\n",
    "allpost = split_into_quarter(allpost)\n",
    "print \"The number of all posts is \" +str(len(allpost))\n",
    "print allpost[:5]\n",
    "\n",
    "initialpost = split_into_quarter(initialpost)\n",
    "print \"The number of initial posts is \" +str(len(initialpost))\n",
    "print initialpost[:5]\n",
    "\n",
    "reply = split_into_quarter(reply)\n",
    "print \"The number of replies is \" +str(len(reply))\n",
    "print reply[:5]\n",
    "\n",
    "self = split_into_quarter(self)\n",
    "print \"The number of self replies is \" +str(len(self))\n",
    "print self[:5]"
   ]
  },
  {
   "cell_type": "code",
   "execution_count": 21,
   "metadata": {
    "collapsed": false
   },
   "outputs": [
    {
     "name": "stdout",
     "output_type": "stream",
     "text": [
      "319407\n",
      "319407\n",
      "The number of all posts is 319407\n",
      "[u'2002 q8', u'2002 q8', u'2002 q8', u'2002 q8', u'2002 q8']\n",
      "The number of initial posts is 27221\n",
      "[u'2002 q8', u'2002 q8', u'2002 q8', u'2002 q8', u'2002 q8']\n",
      "The number of replies is 261060\n",
      "[u'2002 q8', u'2002 q8', u'2002 q8', u'2002 q8', u'2002 q8']\n",
      "The number of self replies is 31126\n",
      "[u'2002 q8', u'2002 q8', u'2002 q8', u'2002 q8', u'2004 q4']\n"
     ]
    }
   ],
   "source": [
    "# split every month\n",
    "allpost = []  # total number of posts + replies\n",
    "initialpost = []\n",
    "reply = []\n",
    "self = []\n",
    "for key in data:\n",
    "    month = data[key]['post_time'].split()[0]\n",
    "    year = data[key]['post_time'].split(', ')[1]\n",
    "    allpost.append(year+month)\n",
    "    initialpost.append(year+month)\n",
    "    \n",
    "    i = 0\n",
    "    while i < 50:\n",
    "        try:\n",
    "            month = data[key]['reply'][i]['post_time'].split()[0]\n",
    "            year = data[key]['reply'][i]['post_time'].split(', ')[1]\n",
    "            allpost.append(year+month)\n",
    "            \n",
    "            if data[key]['reply'][i]['user'] == data[key]['user']:\n",
    "                self.append(year+month)\n",
    "            elif data[key]['reply'][i]['user'] != data[key]['user']:\n",
    "                reply.append(year+month)            \n",
    "        except:\n",
    "            pass\n",
    "        i += 1\n",
    "\n",
    "print len(allpost)\n",
    "print len(initialpost) + len(reply) + len(self)\n",
    "\n",
    "def split_into_quarter(post_type):\n",
    "    case = []\n",
    "    for i in post_type:\n",
    "        if i.split()[1] in set(['Jan']):\n",
    "            case.append(i.split()[0]+' '+'q1')\n",
    "        elif i.split()[1] in set(['Feb']):\n",
    "            case.append(i.split()[0]+' '+'q2')\n",
    "        elif i.split()[1] in set(['Mar']):\n",
    "            case.append(i.split()[0]+' '+'q3')\n",
    "        elif i.split()[1] in set(['Apr']):\n",
    "            case.append(i.split()[0]+' '+'q4')\n",
    "        elif i.split()[1] in set(['May']):\n",
    "            case.append(i.split()[0]+' '+'q5')\n",
    "        elif i.split()[1] in set(['Jun']):\n",
    "            case.append(i.split()[0]+' '+'q6')\n",
    "        elif i.split()[1] in set(['Jul']):\n",
    "            case.append(i.split()[0]+' '+'q7')\n",
    "        elif i.split()[1] in set(['Aug']):\n",
    "            case.append(i.split()[0]+' '+'q8')\n",
    "        elif i.split()[1] in set(['Sep']):\n",
    "            case.append(i.split()[0]+' '+'q9')\n",
    "        elif i.split()[1] in set(['Oct']):\n",
    "            case.append(i.split()[0]+' '+'q10')\n",
    "        elif i.split()[1] in set(['Nov']):\n",
    "            case.append(i.split()[0]+' '+'q11')\n",
    "        else:\n",
    "            case.append(i.split()[0]+' '+'q12')        \n",
    "    return case\n",
    "\n",
    "allpost = split_into_quarter(allpost)\n",
    "print \"The number of all posts is \" +str(len(allpost))\n",
    "print allpost[:5]\n",
    "\n",
    "initialpost = split_into_quarter(initialpost)\n",
    "print \"The number of initial posts is \" +str(len(initialpost))\n",
    "print initialpost[:5]\n",
    "\n",
    "reply = split_into_quarter(reply)\n",
    "print \"The number of replies is \" +str(len(reply))\n",
    "print reply[:5]\n",
    "\n",
    "self = split_into_quarter(self)\n",
    "print \"The number of self replies is \" +str(len(self))\n",
    "print self[:5]"
   ]
  },
  {
   "cell_type": "code",
   "execution_count": 22,
   "metadata": {
    "collapsed": false
   },
   "outputs": [
    {
     "ename": "NameError",
     "evalue": "name 'post_time' is not defined",
     "output_type": "error",
     "traceback": [
      "\u001b[1;31m---------------------------------------------------------------------------\u001b[0m",
      "\u001b[1;31mNameError\u001b[0m                                 Traceback (most recent call last)",
      "\u001b[1;32m<ipython-input-22-b22faef974c4>\u001b[0m in \u001b[0;36m<module>\u001b[1;34m()\u001b[0m\n\u001b[0;32m      4\u001b[0m \u001b[0mquarterreply\u001b[0m \u001b[1;33m=\u001b[0m \u001b[1;33m[\u001b[0m\u001b[1;33m]\u001b[0m\u001b[1;33m\u001b[0m\u001b[0m\n\u001b[0;32m      5\u001b[0m \u001b[0mquarterself\u001b[0m \u001b[1;33m=\u001b[0m \u001b[1;33m[\u001b[0m\u001b[1;33m]\u001b[0m\u001b[1;33m\u001b[0m\u001b[0m\n\u001b[1;32m----> 6\u001b[1;33m \u001b[1;32mfor\u001b[0m \u001b[0mtime\u001b[0m \u001b[1;32min\u001b[0m \u001b[0mpost_time\u001b[0m\u001b[1;33m:\u001b[0m\u001b[1;33m\u001b[0m\u001b[0m\n\u001b[0m\u001b[0;32m      7\u001b[0m     \u001b[1;32mif\u001b[0m \u001b[0mtime\u001b[0m\u001b[1;33m.\u001b[0m\u001b[0msplit\u001b[0m\u001b[1;33m(\u001b[0m\u001b[1;33m)\u001b[0m\u001b[1;33m[\u001b[0m\u001b[1;36m1\u001b[0m\u001b[1;33m]\u001b[0m \u001b[1;32min\u001b[0m \u001b[0mset\u001b[0m\u001b[1;33m(\u001b[0m\u001b[1;33m[\u001b[0m\u001b[1;34m'Jan'\u001b[0m\u001b[1;33m,\u001b[0m \u001b[1;34m'Feb'\u001b[0m\u001b[1;33m,\u001b[0m \u001b[1;34m'Mar'\u001b[0m\u001b[1;33m]\u001b[0m\u001b[1;33m)\u001b[0m\u001b[1;33m:\u001b[0m\u001b[1;33m\u001b[0m\u001b[0m\n\u001b[0;32m      8\u001b[0m         \u001b[0mquarterall\u001b[0m\u001b[1;33m.\u001b[0m\u001b[0mappend\u001b[0m\u001b[1;33m(\u001b[0m\u001b[0mtime\u001b[0m\u001b[1;33m.\u001b[0m\u001b[0msplit\u001b[0m\u001b[1;33m(\u001b[0m\u001b[1;33m)\u001b[0m\u001b[1;33m[\u001b[0m\u001b[1;36m0\u001b[0m\u001b[1;33m]\u001b[0m\u001b[1;33m+\u001b[0m\u001b[1;34m' '\u001b[0m\u001b[1;33m+\u001b[0m\u001b[1;34m'q1'\u001b[0m\u001b[1;33m)\u001b[0m\u001b[1;33m\u001b[0m\u001b[0m\n",
      "\u001b[1;31mNameError\u001b[0m: name 'post_time' is not defined"
     ]
    }
   ],
   "source": [
    "\"\"\"\"\"\n",
    "allpost = split_into_quarter(allpost)\n",
    "    \n",
    "quarterall = []\n",
    "quarterreply = []\n",
    "quarterself = []\n",
    "for time in post_time:\n",
    "    if time.split()[1] in set(['Jan', 'Feb', 'Mar']):\n",
    "        quarterall.append(time.split()[0]+' '+'q1')\n",
    "    elif time.split()[1] in set(['Apr', 'May', 'Jun']):\n",
    "        quarterall.append(time.split()[0]+' '+'q2')\n",
    "    elif time.split()[1] in set(['Jul', 'Aug', 'Sep']):\n",
    "        quarterall.append(time.split()[0]+' '+'q3')\n",
    "    else:\n",
    "        quarterall.append(time.split()[0]+' '+'q4')\n",
    "\n",
    "print len(quarterall)\n",
    "print quarterall[:10]\n",
    "\n",
    "#look at only initial posts\n",
    "quarter0 = []\n",
    "for time in initialpost:\n",
    "    if time.split()[1] in set(['Jan', 'Feb', 'Mar']):\n",
    "        quarter0.append(time.split()[0]+' '+'q1')\n",
    "    elif time.split()[1] in set(['Apr', 'May', 'Jun']):\n",
    "        quarter0.append(time.split()[0]+' '+'q2')\n",
    "    elif time.split()[1] in set(['Jul', 'Aug', 'Sep']):\n",
    "        quarter0.append(time.split()[0]+' '+'q3')\n",
    "    else:\n",
    "        quarter0.append(time.split()[0]+' '+'q4')\n",
    "\n",
    "print len(quarter0)\n",
    "print quarter0[:10]"
   ]
  },
  {
   "cell_type": "code",
   "execution_count": 11,
   "metadata": {
    "collapsed": false
   },
   "outputs": [
    {
     "name": "stdout",
     "output_type": "stream",
     "text": [
      "[(u'2000 q4', 42), (u'2000 q5', 213), (u'2000 q6', 515), (u'2001 q1', 791), (u'2001 q2', 1170), (u'2001 q3', 1027), (u'2001 q4', 1004), (u'2001 q5', 413), (u'2001 q6', 318), (u'2002 q1', 473), (u'2002 q2', 1069), (u'2002 q3', 1440), (u'2002 q4', 1108), (u'2002 q5', 1027), (u'2002 q6', 966), (u'2003 q1', 745), (u'2003 q2', 1111), (u'2003 q3', 1285), (u'2003 q4', 1082), (u'2003 q5', 836), (u'2003 q6', 751), (u'2004 q1', 1270), (u'2004 q2', 1439), (u'2004 q3', 699), (u'2004 q4', 820), (u'2004 q5', 819), (u'2004 q6', 424), (u'2005 q1', 572), (u'2005 q2', 596), (u'2005 q3', 394), (u'2005 q4', 481), (u'2005 q5', 387), (u'2005 q6', 396), (u'2006 q1', 330), (u'2006 q2', 557), (u'2006 q3', 520), (u'2006 q4', 519), (u'2006 q5', 535), (u'2006 q6', 465), (u'2007 q1', 471), (u'2007 q2', 410), (u'2007 q3', 325), (u'2007 q4', 383), (u'2007 q5', 532), (u'2007 q6', 425), (u'2008 q1', 821), (u'2008 q2', 959), (u'2008 q3', 969), (u'2008 q4', 1286), (u'2008 q5', 1741), (u'2008 q6', 1981), (u'2009 q1', 2990), (u'2009 q2', 5328), (u'2009 q3', 13615), (u'2009 q4', 18549), (u'2009 q5', 13507), (u'2009 q6', 15417), (u'2010 q1', 11454), (u'2010 q2', 9107), (u'2010 q3', 12568), (u'2010 q4', 15073), (u'2010 q5', 13312), (u'2010 q6', 12766), (u'2011 q1', 15430), (u'2011 q2', 12618), (u'2011 q3', 10741), (u'2011 q4', 12274), (u'2011 q5', 7888), (u'2011 q6', 7670), (u'2012 q1', 6278), (u'2012 q2', 6108), (u'2012 q3', 5411), (u'2012 q4', 5590), (u'2012 q5', 5935), (u'2012 q6', 4591), (u'2013 q1', 3491), (u'2013 q2', 4188), (u'2013 q3', 4722), (u'2013 q4', 3870), (u'2013 q5', 1933), (u'2013 q6', 1433), (u'2014 q1', 1166), (u'2014 q2', 873), (u'2014 q3', 1193), (u'2014 q4', 1127), (u'2014 q5', 1492), (u'2014 q6', 1280), (u'2015 q1', 1310), (u'2015 q2', 771), (u'2015 q3', 994), (u'2015 q4', 1171), (u'2015 q5', 901), (u'2015 q6', 784), (u'2016 q1', 753), (u'2016 q2', 485), (u'2016 q3', 565), (u'2016 q4', 654), (u'2016 q5', 474), (u'2016 q6', 401), (u'2017 q1', 244)]\n",
      "100\n",
      "[(u'2000 q4', 1), (u'2000 q5', 22), (u'2000 q6', 46), (u'2001 q1', 89), (u'2001 q2', 124), (u'2001 q3', 122), (u'2001 q4', 85), (u'2001 q5', 25), (u'2001 q6', 19), (u'2002 q1', 32), (u'2002 q2', 114), (u'2002 q3', 169), (u'2002 q4', 113), (u'2002 q5', 93), (u'2002 q6', 89), (u'2003 q1', 54), (u'2003 q2', 88), (u'2003 q3', 96), (u'2003 q4', 85), (u'2003 q5', 57), (u'2003 q6', 57), (u'2004 q1', 118), (u'2004 q2', 148), (u'2004 q3', 60), (u'2004 q4', 88), (u'2004 q5', 84), (u'2004 q6', 37), (u'2005 q1', 69), (u'2005 q2', 47), (u'2005 q3', 36), (u'2005 q4', 51), (u'2005 q5', 42), (u'2005 q6', 33), (u'2006 q1', 31), (u'2006 q2', 58), (u'2006 q3', 61), (u'2006 q4', 64), (u'2006 q5', 70), (u'2006 q6', 49), (u'2007 q1', 43), (u'2007 q2', 36), (u'2007 q3', 26), (u'2007 q4', 29), (u'2007 q5', 32), (u'2007 q6', 40), (u'2008 q1', 101), (u'2008 q2', 128), (u'2008 q3', 118), (u'2008 q4', 176), (u'2008 q5', 231), (u'2008 q6', 258), (u'2009 q1', 405), (u'2009 q2', 623), (u'2009 q3', 1467), (u'2009 q4', 1817), (u'2009 q5', 1444), (u'2009 q6', 1627), (u'2010 q1', 1052), (u'2010 q2', 915), (u'2010 q3', 1224), (u'2010 q4', 1329), (u'2010 q5', 1107), (u'2010 q6', 1001), (u'2011 q1', 1153), (u'2011 q2', 987), (u'2011 q3', 939), (u'2011 q4', 838), (u'2011 q5', 644), (u'2011 q6', 578), (u'2012 q1', 573), (u'2012 q2', 512), (u'2012 q3', 556), (u'2012 q4', 554), (u'2012 q5', 673), (u'2012 q6', 491), (u'2013 q1', 368), (u'2013 q2', 568), (u'2013 q3', 516), (u'2013 q4', 320), (u'2013 q5', 218), (u'2013 q6', 158), (u'2014 q1', 150), (u'2014 q2', 124), (u'2014 q3', 210), (u'2014 q4', 154), (u'2014 q5', 261), (u'2014 q6', 173), (u'2015 q1', 159), (u'2015 q2', 99), (u'2015 q3', 164), (u'2015 q4', 216), (u'2015 q5', 137), (u'2015 q6', 137), (u'2016 q1', 152), (u'2016 q2', 67), (u'2016 q3', 65), (u'2016 q4', 93), (u'2016 q5', 70), (u'2016 q6', 55), (u'2017 q1', 39)]\n",
      "100\n",
      "[(u'2000 q4', 10), (u'2000 q5', 52), (u'2000 q6', 104), (u'2001 q1', 105), (u'2001 q2', 217), (u'2001 q3', 173), (u'2001 q4', 204), (u'2001 q5', 100), (u'2001 q6', 82), (u'2002 q1', 92), (u'2002 q2', 184), (u'2002 q3', 262), (u'2002 q4', 227), (u'2002 q5', 206), (u'2002 q6', 255), (u'2003 q1', 185), (u'2003 q2', 193), (u'2003 q3', 205), (u'2003 q4', 178), (u'2003 q5', 131), (u'2003 q6', 133), (u'2004 q1', 194), (u'2004 q2', 236), (u'2004 q3', 114), (u'2004 q4', 144), (u'2004 q5', 147), (u'2004 q6', 84), (u'2005 q1', 105), (u'2005 q2', 108), (u'2005 q3', 79), (u'2005 q4', 97), (u'2005 q5', 74), (u'2005 q6', 91), (u'2006 q1', 70), (u'2006 q2', 77), (u'2006 q3', 83), (u'2006 q4', 83), (u'2006 q5', 92), (u'2006 q6', 69), (u'2007 q1', 79), (u'2007 q2', 69), (u'2007 q3', 51), (u'2007 q4', 64), (u'2007 q5', 82), (u'2007 q6', 71), (u'2008 q1', 110), (u'2008 q2', 124), (u'2008 q3', 141), (u'2008 q4', 174), (u'2008 q5', 199), (u'2008 q6', 176), (u'2009 q1', 233), (u'2009 q2', 415), (u'2009 q3', 793), (u'2009 q4', 1142), (u'2009 q5', 1095), (u'2009 q6', 1091), (u'2010 q1', 854), (u'2010 q2', 706), (u'2010 q3', 890), (u'2010 q4', 976), (u'2010 q5', 967), (u'2010 q6', 928), (u'2011 q1', 896), (u'2011 q2', 851), (u'2011 q3', 757), (u'2011 q4', 798), (u'2011 q5', 604), (u'2011 q6', 587), (u'2012 q1', 485), (u'2012 q2', 410), (u'2012 q3', 396), (u'2012 q4', 426), (u'2012 q5', 450), (u'2012 q6', 458), (u'2013 q1', 285), (u'2013 q2', 321), (u'2013 q3', 351), (u'2013 q4', 248), (u'2013 q5', 206), (u'2013 q6', 170), (u'2014 q1', 136), (u'2014 q2', 102), (u'2014 q3', 132), (u'2014 q4', 111), (u'2014 q5', 148), (u'2014 q6', 136), (u'2015 q1', 140), (u'2015 q2', 76), (u'2015 q3', 104), (u'2015 q4', 126), (u'2015 q5', 99), (u'2015 q6', 113), (u'2016 q1', 88), (u'2016 q2', 63), (u'2016 q3', 79), (u'2016 q4', 65), (u'2016 q5', 56), (u'2016 q6', 48), (u'2017 q1', 25)]\n",
      "100\n"
     ]
    }
   ],
   "source": [
    "print sorted(Counter(allpost).items())\n",
    "print len(Counter(allpost))\n",
    "print sorted(Counter(self).items())\n",
    "print len(Counter(self))\n",
    "print sorted(Counter(initialpost).items())\n",
    "print len(Counter(initialpost))"
   ]
  },
  {
   "cell_type": "code",
   "execution_count": 12,
   "metadata": {
    "collapsed": false
   },
   "outputs": [
    {
     "name": "stdout",
     "output_type": "stream",
     "text": [
      "100\n",
      "100\n"
     ]
    }
   ],
   "source": [
    "import collections\n",
    "\n",
    "def count_post(post_type):    \n",
    "    count = Counter(post_type)\n",
    "    post_count = collections.OrderedDict(sorted(count.items()))\n",
    "    post_count = post_count.values()\n",
    "    return post_count\n",
    "\n",
    "# all posts\n",
    "countall = count_post(allpost)\n",
    "\n",
    "# all initial posts\n",
    "count0 = count_post(initialpost)\n",
    "print len(count0)\n",
    "print len(countall)\n",
    "countreply = count_post(reply)\n",
    "\n",
    "countself = count_post(self)"
   ]
  },
  {
   "cell_type": "code",
   "execution_count": 26,
   "metadata": {
    "collapsed": false
   },
   "outputs": [
    {
     "data": {
      "text/plain": [
       "<matplotlib.collections.PathCollection at 0x37b64b70>"
      ]
     },
     "execution_count": 26,
     "metadata": {},
     "output_type": "execute_result"
    },
    {
     "data": {
      "image/png": "[encoded data removed]",
      "text/plain": [
       "<matplotlib.figure.Figure at 0x376c5668>"
      ]
     },
     "metadata": {},
     "output_type": "display_data"
    }
   ],
   "source": [
    "# number of all posts\n",
    "#plt.scatter(countall[:-2], retention)  \n",
    "#plt.scatter(countall[:-2], retention) # for breast cancer, every 2 months\n",
    "plt.scatter(countall[1:-3], retention) # for breast cancer, every month\n",
    "#plt.scatter(countall[8:96], retention) # for colorectal cancer, every 2 months\n",
    "#plt.scatter(countall[1:64], retention)  # for colorectal cancer\n",
    "\n",
    "# potential confounder: # of initial posts; more means higher density, and more means higher chance of self replies.\n",
    "#plt.scatter(count0[1:64], retention)\n",
    "#plt.scatter(countself[2:], retention)\n",
    "#plt.scatter(countreply[2:], retention)"
   ]
  },
  {
   "cell_type": "code",
   "execution_count": 65,
   "metadata": {
    "collapsed": false
   },
   "outputs": [
    {
     "ename": "SyntaxError",
     "evalue": "EOF while scanning triple-quoted string literal (<ipython-input-65-f2bce6d06d32>, line 3)",
     "output_type": "error",
     "traceback": [
      "\u001b[1;36m  File \u001b[1;32m\"<ipython-input-65-f2bce6d06d32>\"\u001b[1;36m, line \u001b[1;32m3\u001b[0m\n\u001b[1;33m    plt.scatter(post_reply_ratio[4:], retention)\u001b[0m\n\u001b[1;37m                                                \n^\u001b[0m\n\u001b[1;31mSyntaxError\u001b[0m\u001b[1;31m:\u001b[0m EOF while scanning triple-quoted string literal\n"
     ]
    }
   ],
   "source": [
    "\"\"\"\"\"\n",
    "post_reply_ratio = [float(x)/y for x, y in zip(count0, countreply)]\n",
    "plt.scatter(post_reply_ratio[4:], retention)"
   ]
  },
  {
   "cell_type": "code",
   "execution_count": 18,
   "metadata": {
    "collapsed": false
   },
   "outputs": [
    {
     "name": "stdout",
     "output_type": "stream",
     "text": [
      "65\n",
      "[0, 0, 0, 0, 0, 0, 0, 0, 0, 0, 0, 0, 0, 0, 0, 0, 0, 0, 0, 0, 0, 0, 0, 0, 0, 0, 0, 0, 0, 0, 0, 0, 0, 0, 1, 1, 1, 1, 1, 1, 1, 1, 1, 1, 1, 1, 0, 0, 0, 0, 0, 0, 0, 0, 0, 0, 0, 0, 0, 0, 0, 0, 0, 0, 0]\n",
      "65\n",
      "[0, 0, 0, 0, 0, 0, 0, 0, 0, 0, 0, 0, 0, 0, 0, 0, 0, 0, 0, 0, 0, 0, 0, 0, 0, 0, 0, 0, 0, 0, 0, 0, 0, 0, 1, 1, 1, 1, 1, 1, 1, 1, 1, 1, 1, 1, 1, 1, 1, 1, 1, 1, 1, 1, 1, 1, 1, 1, 1, 1, 1, 1, 1, 1, 1]\n"
     ]
    }
   ],
   "source": [
    "# in case of seasonailty, create a dummy variable for years 2009-2011 (short effects). These people are influenced by the ad campagign, but assume only for a certain time period\n",
    "dummy_s = [0] * 34            #every 3 months\n",
    "dummy_s.extend([1]*12)\n",
    "dummy_s.extend([0]*19)\n",
    "print len(dummy_s)\n",
    "print dummy_s\n",
    "# in case of seasonailty, create a dummy variable for years after 2009 (long effects). These people are influenced by the ad campagign. \n",
    "dummy_l = [0] * 34 \n",
    "dummy_l.extend([1]*31)\n",
    "print len(dummy_l)\n",
    "print dummy_l"
   ]
  },
  {
   "cell_type": "code",
   "execution_count": 30,
   "metadata": {
    "collapsed": false
   },
   "outputs": [
    {
     "name": "stdout",
     "output_type": "stream",
     "text": [
      "98\n",
      "[0, 0, 0, 0, 0, 0, 0, 0, 0, 0, 0, 0, 0, 0, 0, 0, 0, 0, 0, 0, 0, 0, 0, 0, 0, 0, 0, 0, 0, 0, 0, 0, 0, 0, 0, 0, 0, 0, 0, 0, 0, 0, 0, 0, 0, 0, 0, 0, 0, 0, 0, 1, 1, 1, 1, 1, 1, 1, 1, 1, 1, 1, 1, 1, 1, 1, 1, 1, 1, 0, 0, 0, 0, 0, 0, 0, 0, 0, 0, 0, 0, 0, 0, 0, 0, 0, 0, 0, 0, 0, 0, 0, 0, 0, 0, 0, 0, 0]\n",
      "98\n",
      "[0, 0, 0, 0, 0, 0, 0, 0, 0, 0, 0, 0, 0, 0, 0, 0, 0, 0, 0, 0, 0, 0, 0, 0, 0, 0, 0, 0, 0, 0, 0, 0, 0, 0, 0, 0, 0, 0, 0, 0, 0, 0, 0, 0, 0, 0, 0, 0, 0, 0, 0, 1, 1, 1, 1, 1, 1, 1, 1, 1, 1, 1, 1, 1, 1, 1, 1, 1, 1, 1, 1, 1, 1, 1, 1, 1, 1, 1, 1, 1, 1, 1, 1, 1, 1, 1, 1, 1, 1, 1, 1, 1, 1, 1, 1, 1, 1, 1]\n"
     ]
    }
   ],
   "source": [
    "# in case of seasonailty, create a dummy variable for years 2009-2011 (short effects). These people are influenced by the ad campagign, but assume only for a certain time period\n",
    "dummy_s = [0] * 51           #07/2000 - 12/08, 09-11, 12-16 every 2 months\n",
    "dummy_s.extend([1]*18)\n",
    "dummy_s.extend([0]*29)\n",
    "print len(dummy_s)\n",
    "print dummy_s\n",
    "# in case of seasonailty, create a dummy variable for years after 2009 (long effects). These people are influenced by the ad campagign. \n",
    "dummy_l = [0] * 51 \n",
    "dummy_l.extend([1]*47)\n",
    "print len(dummy_l)\n",
    "print dummy_l"
   ]
  },
  {
   "cell_type": "code",
   "execution_count": 27,
   "metadata": {
    "collapsed": false
   },
   "outputs": [
    {
     "name": "stdout",
     "output_type": "stream",
     "text": [
      "196\n",
      "[0, 0, 0, 0, 0, 0, 0, 0, 0, 0, 0, 0, 0, 0, 0, 0, 0, 0, 0, 0, 0, 0, 0, 0, 0, 0, 0, 0, 0, 0, 0, 0, 0, 0, 0, 0, 0, 0, 0, 0, 0, 0, 0, 0, 0, 0, 0, 0, 0, 0, 0, 0, 0, 0, 0, 0, 0, 0, 0, 0, 0, 0, 0, 0, 0, 0, 0, 0, 0, 0, 0, 0, 0, 0, 0, 0, 0, 0, 0, 0, 0, 0, 0, 0, 0, 0, 0, 0, 0, 0, 0, 0, 0, 0, 0, 0, 0, 0, 0, 0, 0, 1, 1, 1, 1, 1, 1, 1, 1, 1, 1, 1, 1, 1, 1, 1, 1, 1, 1, 1, 1, 1, 1, 1, 1, 1, 1, 1, 1, 1, 1, 1, 1, 1, 1, 1, 1, 0, 0, 0, 0, 0, 0, 0, 0, 0, 0, 0, 0, 0, 0, 0, 0, 0, 0, 0, 0, 0, 0, 0, 0, 0, 0, 0, 0, 0, 0, 0, 0, 0, 0, 0, 0, 0, 0, 0, 0, 0, 0, 0, 0, 0, 0, 0, 0, 0, 0, 0, 0, 0, 0, 0, 0, 0, 0, 0]\n",
      "196\n",
      "[0, 0, 0, 0, 0, 0, 0, 0, 0, 0, 0, 0, 0, 0, 0, 0, 0, 0, 0, 0, 0, 0, 0, 0, 0, 0, 0, 0, 0, 0, 0, 0, 0, 0, 0, 0, 0, 0, 0, 0, 0, 0, 0, 0, 0, 0, 0, 0, 0, 0, 0, 0, 0, 0, 0, 0, 0, 0, 0, 0, 0, 0, 0, 0, 0, 0, 0, 0, 0, 0, 0, 0, 0, 0, 0, 0, 0, 0, 0, 0, 0, 0, 0, 0, 0, 0, 0, 0, 0, 0, 0, 0, 0, 0, 0, 0, 0, 0, 0, 0, 0, 1, 1, 1, 1, 1, 1, 1, 1, 1, 1, 1, 1, 1, 1, 1, 1, 1, 1, 1, 1, 1, 1, 1, 1, 1, 1, 1, 1, 1, 1, 1, 1, 1, 1, 1, 1, 1, 1, 1, 1, 1, 1, 1, 1, 1, 1, 1, 1, 1, 1, 1, 1, 1, 1, 1, 1, 1, 1, 1, 1, 1, 1, 1, 1, 1, 1, 1, 1, 1, 1, 1, 1, 1, 1, 1, 1, 1, 1, 1, 1, 1, 1, 1, 1, 1, 1, 1, 1, 1, 1, 1, 1, 1, 1, 1]\n"
     ]
    }
   ],
   "source": [
    "# in case of seasonailty, create a dummy variable for years 2009-2011 (short effects). These people are influenced by the ad campagign, but assume only for a certain time period\n",
    "dummy_s = [0] * 101           #08/2000 - 12/08, 09-11, 12-16 every month\n",
    "dummy_s.extend([1]*36)\n",
    "dummy_s.extend([0]*59)\n",
    "print len(dummy_s)\n",
    "print dummy_s\n",
    "# in case of seasonailty, create a dummy variable for years after 2009 (long effects). These people are influenced by the ad campagign. \n",
    "dummy_l = [0] * 101 \n",
    "dummy_l.extend([1]*95)\n",
    "print len(dummy_l)\n",
    "print dummy_l"
   ]
  },
  {
   "cell_type": "code",
   "execution_count": 66,
   "metadata": {
    "collapsed": false
   },
   "outputs": [
    {
     "name": "stdout",
     "output_type": "stream",
     "text": [
      "88\n",
      "[0, 0, 0, 0, 0, 0, 0, 0, 0, 0, 0, 0, 0, 0, 0, 0, 0, 0, 0, 0, 0, 0, 0, 0, 0, 0, 0, 0, 0, 0, 0, 0, 0, 0, 0, 0, 0, 0, 0, 0, 0, 1, 1, 1, 1, 1, 1, 1, 1, 1, 1, 1, 1, 1, 1, 1, 1, 1, 1, 0, 0, 0, 0, 0, 0, 0, 0, 0, 0, 0, 0, 0, 0, 0, 0, 0, 0, 0, 0, 0, 0, 0, 0, 0, 0, 0, 0, 0]\n",
      "88\n",
      "[0, 0, 0, 0, 0, 0, 0, 0, 0, 0, 0, 0, 0, 0, 0, 0, 0, 0, 0, 0, 0, 0, 0, 0, 0, 0, 0, 0, 0, 0, 0, 0, 0, 0, 0, 0, 0, 0, 0, 0, 0, 1, 1, 1, 1, 1, 1, 1, 1, 1, 1, 1, 1, 1, 1, 1, 1, 1, 1, 1, 1, 1, 1, 1, 1, 1, 1, 1, 1, 1, 1, 1, 1, 1, 1, 1, 1, 1, 1, 1, 1, 1, 1, 1, 1, 1, 1, 1]\n"
     ]
    }
   ],
   "source": [
    "# in case of seasonailty, create a dummy variable for years 2009-2011 (short effects). These people are influenced by the ad campagign, but assume only for a certain time period\n",
    "dummy_s = [0] * 41          #2002/02 - 08/12, 09-11, 12-16 every 2 months\n",
    "dummy_s.extend([1]*18)\n",
    "dummy_s.extend([0]*29)\n",
    "print len(dummy_s)\n",
    "print dummy_s\n",
    "# in case of seasonailty, create a dummy variable for years after 2009 (long effects). These people are influenced by the ad campagign. \n",
    "dummy_l = [0] * 41 \n",
    "dummy_l.extend([1]*47)\n",
    "print len(dummy_l)\n",
    "print dummy_l"
   ]
  },
  {
   "cell_type": "code",
   "execution_count": 32,
   "metadata": {
    "collapsed": false
   },
   "outputs": [],
   "source": [
    "# save all variables to a csv file\n",
    "rows = zip(retention,edge_size,node_size,density,recp,recp2,degree,countall[1:-3],dummy_s,dummy_l)   \n",
    "with open('variables_breast_1m.csv', 'wb') as f:\n",
    "#with open('variables_colore.csv', 'wb') as f:\n",
    "    wr = csv.writer(f) \n",
    "    header = ['retention','edge size','node size','density','recp','recp2','degree','all post','short time effect','long time effect']\n",
    "    wr.writerow(header)\n",
    "    for row in rows:\n",
    "        wr.writerow(row)"
   ]
  },
  {
   "cell_type": "code",
   "execution_count": 67,
   "metadata": {
    "collapsed": true
   },
   "outputs": [],
   "source": [
    "# save all variables to a csv file\n",
    "rows = zip(retention,edge_size,node_size,density,trans,recp,recp2,cc,degree,countall[:-2],strong_tie, strong_tie2,dummy_s, dummy_l)   \n",
    "#with open('variables_breast_2m.csv', 'wb') as f:\n",
    "with open('variables_colore_2m.csv', 'wb') as f:\n",
    "    wr = csv.writer(f) \n",
    "    header = ['retention','edge size','node size','density','trans','recp', 'recp2', 'clustering', 'degree','all post', 'strong tie',\n",
    "              'strong tie2','short time effect','long time effect']\n",
    "    wr.writerow(header)\n",
    "    for row in rows:\n",
    "        wr.writerow(row)"
   ]
  },
  {
   "cell_type": "code",
   "execution_count": 13,
   "metadata": {
    "collapsed": true
   },
   "outputs": [],
   "source": [
    "# save all variables to a csv file\n",
    "rows = zip(countall[:-2], count0[:-2], countreply[:-2], countself[:-2])   \n",
    "with open('variables_breast_post_num_2m.csv', 'wb') as f:\n",
    "    wr = csv.writer(f) \n",
    "    header = ['allpostnum','startpostnum','replynum','selfnum']\n",
    "    wr.writerow(header)\n",
    "    for row in rows:\n",
    "        wr.writerow(row)"
   ]
  },
  {
   "cell_type": "code",
   "execution_count": 17,
   "metadata": {
    "collapsed": true
   },
   "outputs": [],
   "source": [
    "# save all variables to a csv file\n",
    "rows = zip(diameter)   \n",
    "with open('shortest_path_breast.csv', 'wb') as f:\n",
    "    wr = csv.writer(f) \n",
    "    header = ['diameter',]\n",
    "    wr.writerow(header)\n",
    "    for row in rows:\n",
    "        wr.writerow(row)"
   ]
  },
  {
   "cell_type": "markdown",
   "metadata": {},
   "source": [
    "# Is the relationship bw density and retention by random?"
   ]
  },
  {
   "cell_type": "code",
   "execution_count": 39,
   "metadata": {
    "collapsed": false
   },
   "outputs": [
    {
     "name": "stdout",
     "output_type": "stream",
     "text": [
      "1 -0.242835137141 2.4971913688\n",
      "2 1.84693459075 5.297070255\n",
      "3 2.90022348505 9.06197805674\n",
      "4 3.30164148815 11.1611181798\n",
      "5 7.87052338111 11.9217796578\n",
      "6 3.59411578232 11.7220303755\n",
      "7 4.01684078625 9.9455391155\n",
      "8 1.56959906092 7.57805357097\n",
      "9 0.419284655192 6.37225107545\n",
      "10 3.25494614776 7.64530979781\n",
      "11 2.98465390046 8.61711609305\n",
      "12 3.77493315023 13.3372263567\n",
      "13 5.2231649951 11.252661648\n",
      "14 3.77095472509 10.5190954837\n",
      "15 4.25776060088 10.4263971059\n",
      "16 3.43407339978 7.02087828264\n",
      "17 3.62247475412 7.38392454964\n",
      "18 1.9279355527 10.3675815734\n",
      "19 3.97738193193 10.7238485578\n",
      "20 2.47240999004 9.60630520549\n",
      "21 1.87722465541 8.76142646944\n",
      "22 5.36110092646 9.25657349455\n",
      "23 5.25729610578 8.52046339368\n",
      "24 2.28805893328 6.51684280214\n",
      "25 3.09299270089 7.10966370767\n",
      "26 3.74790603921 8.03665955101\n",
      "27 3.80864222211 4.89053556303\n",
      "28 -0.746510064234 4.91941221739\n",
      "29 2.87376886227 5.79504910281\n",
      "30 0.0454029552321 4.3102864996\n",
      "31 2.45727753071 4.15949659667\n",
      "32 1.35054188741 3.94585600247\n",
      "33 1.69600617263 3.85609729711\n",
      "34 1.5248694543 4.35086410472\n",
      "35 2.5430156266 9.22901631721\n",
      "36 3.1321856241 9.33057957228\n",
      "37 2.04353595074 8.85558802713\n",
      "38 5.42683567872 8.69235357293\n",
      "39 5.01938939519 9.06824728311\n",
      "40 2.35219751058 8.96524508358\n",
      "41 3.68200857952 8.66403591732\n",
      "42 0.56417315577 6.98396386959\n",
      "43 2.24075007506 6.68969323063\n",
      "44 3.25712907219 8.86041229706\n",
      "45 4.55001690737 8.75368811086\n",
      "46 5.55512872175 10.9220229402\n",
      "47 3.91700558643 12.2009768515\n",
      "48 5.04520878031 11.7395544415\n",
      "49 3.31461346143 12.4320603931\n",
      "50 6.64943652033 13.8822195454\n",
      "51 7.49118056769 15.494074441\n",
      "52 8.44935556164 17.8196443159\n",
      "53 11.7794130004 21.1987188221\n",
      "54 17.8714688383 25.9638455886\n",
      "55 19.2862442253 27.5584219589\n",
      "56 15.9993989169 26.0356983824\n",
      "57 17.0745129709 26.573624899\n",
      "58 11.9156447949 24.6138957515\n",
      "59 8.69140702934 23.0347996715\n",
      "60 12.4818808335 25.2957022983\n",
      "61 14.6716804397 27.2192993589\n",
      "62 15.1831848113 26.0533646748\n",
      "63 14.3632280053 26.4850522495\n",
      "64 17.0536538053 27.3657431296\n",
      "65 13.7377366668 26.4091491881\n",
      "66 13.9684810523 25.5020682267\n",
      "67 15.5548907157 26.5748774197\n",
      "68 12.1344431971 23.205157337\n",
      "69 12.0285556452 23.5967096314\n",
      "70 10.4667676827 22.4223384896\n",
      "71 9.50779242517 22.5218448219\n",
      "72 9.40540706499 21.514911309\n",
      "73 10.5624987393 21.5154325889\n",
      "74 9.82803171861 21.9006295956\n",
      "75 9.1679516499 18.6484610114\n",
      "76 6.10653987095 18.4611173536\n",
      "77 9.49705116779 17.1694589398\n",
      "78 8.79920278259 19.6024062756\n",
      "79 7.16562336753 19.6238263316\n",
      "80 6.26269764932 15.1046533622\n",
      "81 4.66536262445 14.0774252046\n",
      "82 5.06563476212 13.1950431001\n",
      "83 5.09994127314 9.91213235556\n",
      "84 3.17823413448 10.4541087725\n",
      "85 4.20903908242 11.6056721845\n",
      "86 7.35541416359 13.0295907364\n",
      "87 6.05457261762 12.5827882757\n",
      "88 3.35873892919 13.7111721641\n",
      "89 4.42601536079 9.71165754955\n",
      "90 1.74590940477 10.1134500957\n",
      "91 3.36547897113 10.0900240534\n",
      "92 2.63901747925 9.85573234249\n",
      "93 4.63292376618 9.03839577059\n",
      "94 3.66076284477 8.00629929783\n",
      "95 1.72479945854 6.09264673617\n",
      "96 1.67355357082 7.16956884951\n",
      "97 2.43429606244 6.83797031031\n",
      "98 2.20317494873 6.06926090525\n"
     ]
    }
   ],
   "source": [
    "#check networks for every two months\n",
    "\n",
    "#import scipy.stats as stats\n",
    "\n",
    "zscores_recp = []\n",
    "#zscores_density = []\n",
    "for i in range(3, 101):\n",
    "    indegree_sequence = list(graphs[i].in_degree().values())\n",
    "    outdegree_sequence = list(graphs[i].out_degree().values())\n",
    "\n",
    "    #model_stat_density = []\n",
    "    model_stat_recp = []\n",
    "    for j in range(1000):\n",
    "        null_graph = nx.directed_configuration_model(indegree_sequence, outdegree_sequence)\n",
    "        null_graph = nx.DiGraph(null_graph) # removes parallel edges\n",
    "        null_graph.remove_edges_from(null_graph.selfloop_edges()) # removes self-loops\n",
    "\n",
    "        # Calculate the model's density and reciprocity and add it to the list\n",
    "        #model_stat_density.append(nx.density(null_graph))\n",
    "        model_stat_recp.append(reciprocity(null_graph))\n",
    "    \n",
    "    real_stat_recp = reciprocity(graphs[i])\n",
    "    #real_stat_density = nx.density(graphs[i])\n",
    "    \n",
    "    zs_recp = stats.zscore([real_stat_recp] + model_stat_recp)\n",
    "    #zs_density = stats.zscore([real_stat_density] + model_stat_density)\n",
    "    #print i-2, zs_recp[0], zs_density[0]\n",
    "    zscores_recp.append(zs_recp[0])\n",
    "    #zscores_density.append(zs_density[0])"
   ]
  },
  {
   "cell_type": "code",
   "execution_count": 40,
   "metadata": {
    "collapsed": false
   },
   "outputs": [
    {
     "name": "stdout",
     "output_type": "stream",
     "text": [
      "98\n",
      "98\n"
     ]
    }
   ],
   "source": [
    "print len(zscores_recp)\n",
    "print len(zscores_density)\n",
    "# save all variables to a csv file\n",
    "rows = zip(zscores_recp, zscores_density)   \n",
    "with open('variables_breast_zscores_2m.csv', 'wb') as f:\n",
    "    wr = csv.writer(f) \n",
    "    header = ['zscore_recp','zscore_density']\n",
    "    wr.writerow(header)\n",
    "    for row in rows:\n",
    "        wr.writerow(row)"
   ]
  },
  {
   "cell_type": "code",
   "execution_count": 23,
   "metadata": {
    "collapsed": false
   },
   "outputs": [
    {
     "data": {
      "text/plain": [
       "2.0022423484508467"
      ]
     },
     "execution_count": 23,
     "metadata": {},
     "output_type": "execute_result"
    }
   ],
   "source": [
    "# check if reciprocity is random\n",
    "import scipy.stats as stats\n",
    "\n",
    "indegree_sequence = list(graphs[20].in_degree().values())\n",
    "outdegree_sequence = list(graphs[20].out_degree().values())\n",
    "\n",
    "model_stat = []\n",
    "for j in range(1000):\n",
    "    null_graph = nx.directed_configuration_model(indegree_sequence, outdegree_sequence)\n",
    "    null_graph = nx.DiGraph(null_graph) # removes parallel edges\n",
    "    null_graph.remove_edges_from(null_graph.selfloop_edges()) # removes self-loops\n",
    "\n",
    "    # Calculate the model's assortativity and add it to the list\n",
    "    #model_stat.append(nx.transitivity(null_graph))\n",
    "    model_stat.append(reciprocity(null_graph))\n",
    "\n",
    "#real_stat = nx.transitivity(graphs[2])\n",
    "real_stat = reciprocity(graphs[20])\n",
    "\n",
    "zscores = stats.zscore([real_stat] + model_stat)\n",
    "zscores[0]"
   ]
  },
  {
   "cell_type": "code",
   "execution_count": 24,
   "metadata": {
    "collapsed": false
   },
   "outputs": [
    {
     "data": {
      "image/png": "[encoded data removed]",
      "text/plain": [
       "<matplotlib.figure.Figure at 0x3a690668>"
      ]
     },
     "metadata": {},
     "output_type": "display_data"
    }
   ],
   "source": [
    "%matplotlib inline\n",
    "import matplotlib.pyplot as plt\n",
    "\n",
    "# Use the histogram function to plot the distribution of assortativity coefficients\n",
    "plt.hist(model_stat, bins=50)\n",
    "\n",
    "# axvline produces a vertical line at the designated x position on the graph\n",
    "plt.axvline(real_stat, lw=2, color=\"red\") #lw = 2 makes the line thicker\n",
    "plt.show()"
   ]
  },
  {
   "cell_type": "code",
   "execution_count": 49,
   "metadata": {
    "collapsed": false
   },
   "outputs": [
    {
     "data": {
      "image/png": "[encoded data removed]",
      "text/plain": [
       "<matplotlib.figure.Figure at 0x41fcc2e8>"
      ]
     },
     "metadata": {},
     "output_type": "display_data"
    }
   ],
   "source": [
    "# Use the histogram function to plot the distribution of zscore for reciprocity\n",
    "plt.hist(zscores_recp, bins=60)\n",
    "\n",
    "# axvline produces a horizontal line at the designated x position on the graph\n",
    "plt.axvline(1.645, lw=2, color=\"red\") #1.645 is the one-tailed z statistic at 0.05 level\n",
    "plt.show()"
   ]
  },
  {
   "cell_type": "code",
   "execution_count": 50,
   "metadata": {
    "collapsed": false
   },
   "outputs": [
    {
     "data": {
      "image/png": "[encoded data removed]",
      "text/plain": [
       "<matplotlib.figure.Figure at 0x42001710>"
      ]
     },
     "metadata": {},
     "output_type": "display_data"
    }
   ],
   "source": [
    "plt.hist(zscores_density, bins=60)\n",
    "\n",
    "# axvline produces a horizontal line at the designated x position on the graph\n",
    "plt.axvline(1.645, lw=2, color=\"red\") #lw = 1.645 makes the line thicker, one-tail z statistic at 0.05 level\n",
    "plt.show()"
   ]
  },
  {
   "cell_type": "code",
   "execution_count": null,
   "metadata": {
    "collapsed": true
   },
   "outputs": [],
   "source": [
    "# check density, compared it with random networks\n",
    "prob = []\n",
    "for i in range(65):\n",
    "    prob.append(random.uniform(0, 1))\n",
    "# print prob\n",
    "\n",
    "rnd_graphs = []\n",
    "for n, p in zip(node_size, prob):\n",
    "    random = nx.erdos_renyi_graph(n=n, p=p, seed=100, directed=True)\n",
    "    rnd_graphs.append(random)\n",
    "print len(rnd_graphs)"
   ]
  },
  {
   "cell_type": "code",
   "execution_count": 51,
   "metadata": {
    "collapsed": false
   },
   "outputs": [
    {
     "name": "stdout",
     "output_type": "stream",
     "text": [
      "1 0.0772058823529 [0.0625, 0.0661764705882353, 0.0625, 0.06985294117647059, 0.0625, 0.0661764705882353, 0.0661764705882353, 0.06985294117647059, 0.0625, 0.0625]\n",
      "2 0.0609756097561 [0.05060975609756098, 0.04939024390243903, 0.04939024390243903, 0.05060975609756098, 0.05060975609756098, 0.05365853658536585, 0.05121951219512195, 0.05, 0.04939024390243903, 0.05060975609756098]\n",
      "3 0.0505952380952 [0.04092261904761905, 0.03993055555555555, 0.040674603174603176, 0.041666666666666664, 0.040426587301587304, 0.04141865079365079, 0.04092261904761905, 0.03968253968253968, 0.040674603174603176, 0.04141865079365079]\n",
      "4 0.0634950018512 [0.05220288781932617, 0.052943354313217325, 0.05220288781932617, 0.05275823768974454, 0.052017771195853386, 0.051277304701962234, 0.05275823768974454, 0.05109218807848945, 0.052017771195853386, 0.04887078859681599]\n",
      "5 0.0350550964187 [0.02871900826446281, 0.03002754820936639, 0.02865013774104683, 0.02975206611570248, 0.02913223140495868, 0.029545454545454545, 0.028581267217630855, 0.02913223140495868, 0.02982093663911846, 0.02933884297520661]\n",
      "6 0.0423847228691 [0.03609687936655799, 0.035553485483620556, 0.03563111318118305, 0.03648501785437044, 0.03570874087874554, 0.03656264555193293, 0.03664027324949542, 0.03656264555193293, 0.036252134761682965, 0.036329762459245456]\n",
      "7 0.026101532567 [0.02274904214559387, 0.023563218390804597, 0.02327586206896552, 0.023515325670498084, 0.022701149425287358, 0.022796934865900384, 0.023132183908045976, 0.023084291187739463, 0.022844827586206897, 0.023323754789272032]\n"
     ]
    }
   ],
   "source": [
    "zscores_recp = []\n",
    "#zscores_density = []\n",
    "for i in range(3, 10):\n",
    "    indegree_sequence = list(graphs[i].in_degree().values())\n",
    "    outdegree_sequence = list(graphs[i].out_degree().values())\n",
    "\n",
    "    model_stat_density = []\n",
    "    #model_stat_recp = []\n",
    "    for j in range(10):\n",
    "        null_graph = nx.directed_configuration_model(indegree_sequence, outdegree_sequence)\n",
    "        null_graph = nx.DiGraph(null_graph) # removes parallel edges\n",
    "        null_graph.remove_edges_from(null_graph.selfloop_edges()) # removes self-loops\n",
    "\n",
    "        # Calculate the model's density and reciprocity and add it to the list\n",
    "        model_stat_density.append(nx.density(null_graph))\n",
    "        #model_stat_recp.append(reciprocity(null_graph))\n",
    "    \n",
    "    #real_stat_recp = reciprocity(graphs[i])\n",
    "    real_stat_density = nx.density(graphs[i])\n",
    "    print i-2, real_stat_density, model_stat_density\n",
    "    \n",
    "    #zs_recp = stats.zscore([real_stat_recp] + model_stat_recp)\n",
    "    #zs_density = stats.zscore([real_stat_density] + model_stat_density)\n",
    "    #print i-2, zs_recp[0], zs_density[0]\n",
    "    #zscores_recp.append(zs_recp[0])\n",
    "    #zscores_density.append(zs_density[0])"
   ]
  },
  {
   "cell_type": "code",
   "execution_count": null,
   "metadata": {
    "collapsed": true
   },
   "outputs": [],
   "source": []
  },
  {
   "cell_type": "code",
   "execution_count": 11,
   "metadata": {
    "collapsed": false
   },
   "outputs": [
    {
     "name": "stdout",
     "output_type": "stream",
     "text": [
      "65\n"
     ]
    }
   ],
   "source": [
    "\"\"\"\"\"\n",
    "prob = []\n",
    "for i in range(65):\n",
    "    prob.append(random.uniform(0, 1))\n",
    "# print prob\n",
    "\n",
    "rnd_graphs = []\n",
    "for n, p in zip(node_size, prob):\n",
    "    random = nx.erdos_renyi_graph(n=n, p=p, seed=100, directed=True)\n",
    "    rnd_graphs.append(random)\n",
    "print len(rnd_graphs)"
   ]
  },
  {
   "cell_type": "code",
   "execution_count": 47,
   "metadata": {
    "collapsed": false
   },
   "outputs": [
    {
     "name": "stdout",
     "output_type": "stream",
     "text": [
      "65\n"
     ]
    }
   ],
   "source": [
    "indegree_seq = []\n",
    "outdegree_seq = []\n",
    "for i in range(65):\n",
    "    indegree_seq.append(list(graphs[i+2].in_degree().values())) \n",
    "    outdegree_seq.append(list(graphs[i+2].out_degree().values()))\n",
    "\n",
    "rnd_graphs = []\n",
    "for i in range(65):\n",
    "    null_graph = nx.directed_configuration_model(indegree_seq[i], outdegree_seq[i])\n",
    "    null_graph = nx.DiGraph(null_graph) # removes parallel edges\n",
    "    null_graph.remove_edges_from(null_graph.selfloop_edges()) # removes self-loops\n",
    "    rnd_graphs.append(reciprocity(null_graph))\n",
    "print len(rnd_graphs)"
   ]
  },
  {
   "cell_type": "code",
   "execution_count": 49,
   "metadata": {
    "collapsed": false
   },
   "outputs": [
    {
     "name": "stdout",
     "output_type": "stream",
     "text": [
      "[0.08, 0.10695187165775401, 0.13808463251670378, 0.09935897435897435, 0.09375, 0.059574468085106386, 0.09523809523809523, 0.07551020408163266, 0.0838150289017341, 0.08267090620031796, 0.01812688821752266, 0.02414113277623027, 0.061381074168797956, 0.03803486529318542, 0.015012510425354461, 0.02219482120838471, 0.038461538461538464, 0.05811138014527845, 0.0, 0.024213075060532687, 0.02072538860103627, 0.011267605633802818, 0.04081632653061224, 0.07038123167155426, 0.050793650793650794, 0.1, 0.04057971014492753, 0.01556420233463035, 0.05351170568561873, 0.10619469026548672, 0.10454545454545454, 0.08284023668639054, 0.0590318772136954, 0.09251968503937008, 0.11800860479409957, 0.17115472387037883, 0.16308040770101925, 0.16689432509623742, 0.11976549413735343, 0.09664642196989702, 0.16130988477865374, 0.15243243243243243, 0.14916173570019725, 0.16039481801357186, 0.16506101477199744, 0.13695090439276486, 0.10685483870967742, 0.093841642228739, 0.12425478506432382, 0.12021857923497267, 0.0922491678554446, 0.07718120805369127, 0.07114228456913828, 0.08496732026143791, 0.11235955056179775, 0.06853582554517133, 0.10493827160493827, 0.07387140902872777, 0.09026798307475317, 0.050933786078098474, 0.03969465648854962, 0.045454545454545456, 0.07228915662650602, 0.03361344537815126, 0.034912718204488775]\n"
     ]
    }
   ],
   "source": [
    "print rnd_graphs"
   ]
  },
  {
   "cell_type": "code",
   "execution_count": 52,
   "metadata": {
    "collapsed": false
   },
   "outputs": [
    {
     "data": {
      "text/plain": [
       "<matplotlib.collections.PathCollection at 0x38355208>"
      ]
     },
     "execution_count": 52,
     "metadata": {},
     "output_type": "execute_result"
    },
    {
     "data": {
      "image/png": "[encoded data removed]",
      "text/plain": [
       "<matplotlib.figure.Figure at 0x384eebe0>"
      ]
     },
     "metadata": {},
     "output_type": "display_data"
    }
   ],
   "source": [
    "plt.scatter(rnd_graphs, retention)  # we should randomize p. "
   ]
  },
  {
   "cell_type": "code",
   "execution_count": 24,
   "metadata": {
    "collapsed": false
   },
   "outputs": [
    {
     "data": {
      "text/plain": [
       "0.12839517332194378"
      ]
     },
     "execution_count": 24,
     "metadata": {},
     "output_type": "execute_result"
    }
   ],
   "source": [
    "import scipy.stats as stats\n",
    "\n",
    "indegree_sequence = list(graphs[20].in_degree().values())\n",
    "outdegree_sequence = list(graphs[20].out_degree().values())\n",
    "\n",
    "model_stat = []\n",
    "for j in range(1000):\n",
    "    null_graph = nx.directed_configuration_model(indegree_sequence, outdegree_sequence)\n",
    "    null_graph = nx.DiGraph(null_graph) # removes parallel edges\n",
    "    null_graph.remove_edges_from(null_graph.selfloop_edges()) # removes self-loops\n",
    "\n",
    "    # Calculate the model's assortativity and add it to the list\n",
    "    #model_stat.append(nx.transitivity(null_graph))\n",
    "    model_stat.append(reciprocity(null_graph))\n",
    "\n",
    "#real_stat = nx.transitivity(graphs[2])\n",
    "real_stat = reciprocity(graphs[20])\n",
    "\n",
    "zscores = stats.zscore([real_stat] + model_stat)\n",
    "zscores[0]"
   ]
  },
  {
   "cell_type": "code",
   "execution_count": 25,
   "metadata": {
    "collapsed": false
   },
   "outputs": [
    {
     "data": {
      "image/png": "[encoded data removed]",
      "text/plain": [
       "<matplotlib.figure.Figure at 0x31404978>"
      ]
     },
     "metadata": {},
     "output_type": "display_data"
    }
   ],
   "source": [
    "%matplotlib inline\n",
    "import matplotlib.pyplot as plt\n",
    "\n",
    "# Use the histogram function to plot the distribution of assortativity coefficients\n",
    "plt.hist(model_stat, bins=50)\n",
    "\n",
    "# axvline produces a vertical line at the designated x position on the graph\n",
    "plt.axvline(real_stat, lw=2, color=\"red\") #lw = 2 makes the line thicker\n",
    "plt.show()"
   ]
  },
  {
   "cell_type": "code",
   "execution_count": 29,
   "metadata": {
    "collapsed": false
   },
   "outputs": [
    {
     "ename": "KeyboardInterrupt",
     "evalue": "",
     "output_type": "error",
     "traceback": [
      "\u001b[1;31m---------------------------------------------------------------------------\u001b[0m",
      "\u001b[1;31mKeyboardInterrupt\u001b[0m                         Traceback (most recent call last)",
      "\u001b[1;32m<ipython-input-29-cfa47b9ffe22>\u001b[0m in \u001b[0;36m<module>\u001b[1;34m()\u001b[0m\n\u001b[0;32m     14\u001b[0m         \u001b[1;31m# Calculate the model's assortativity and add it to the list\u001b[0m\u001b[1;33m\u001b[0m\u001b[1;33m\u001b[0m\u001b[0m\n\u001b[0;32m     15\u001b[0m         \u001b[1;31m#model_stat.append(nx.transitivity(null_graph))\u001b[0m\u001b[1;33m\u001b[0m\u001b[1;33m\u001b[0m\u001b[0m\n\u001b[1;32m---> 16\u001b[1;33m         \u001b[0mmodel_stat\u001b[0m\u001b[1;33m.\u001b[0m\u001b[0mappend\u001b[0m\u001b[1;33m(\u001b[0m\u001b[0mreciprocity\u001b[0m\u001b[1;33m(\u001b[0m\u001b[0mnull_graph\u001b[0m\u001b[1;33m)\u001b[0m\u001b[1;33m)\u001b[0m\u001b[1;33m\u001b[0m\u001b[0m\n\u001b[0m\u001b[0;32m     17\u001b[0m \u001b[1;33m\u001b[0m\u001b[0m\n\u001b[0;32m     18\u001b[0m     \u001b[1;31m#real_stat = nx.transitivity(graphs[2])\u001b[0m\u001b[1;33m\u001b[0m\u001b[1;33m\u001b[0m\u001b[0m\n",
      "\u001b[1;32m<ipython-input-8-6842d4b1fe86>\u001b[0m in \u001b[0;36mreciprocity\u001b[1;34m(G, nodes)\u001b[0m\n\u001b[0;32m      1\u001b[0m \u001b[1;32mdef\u001b[0m \u001b[0mreciprocity\u001b[0m\u001b[1;33m(\u001b[0m\u001b[0mG\u001b[0m\u001b[1;33m,\u001b[0m \u001b[0mnodes\u001b[0m\u001b[1;33m=\u001b[0m\u001b[0mNone\u001b[0m\u001b[1;33m)\u001b[0m\u001b[1;33m:\u001b[0m\u001b[1;33m\u001b[0m\u001b[0m\n\u001b[0;32m      2\u001b[0m     \u001b[1;32mif\u001b[0m \u001b[0mnodes\u001b[0m \u001b[1;32mis\u001b[0m \u001b[0mNone\u001b[0m\u001b[1;33m:\u001b[0m\u001b[1;33m\u001b[0m\u001b[0m\n\u001b[1;32m----> 3\u001b[1;33m         \u001b[1;32mreturn\u001b[0m \u001b[0moverall_reciprocity\u001b[0m\u001b[1;33m(\u001b[0m\u001b[0mG\u001b[0m\u001b[1;33m)\u001b[0m\u001b[1;33m\u001b[0m\u001b[0m\n\u001b[0m\u001b[0;32m      4\u001b[0m \u001b[1;33m\u001b[0m\u001b[0m\n\u001b[0;32m      5\u001b[0m     \u001b[1;31m# If `nodes` represents a single node in the graph, return only its\u001b[0m\u001b[1;33m\u001b[0m\u001b[1;33m\u001b[0m\u001b[0m\n",
      "\u001b[1;32m<ipython-input-8-6842d4b1fe86>\u001b[0m in \u001b[0;36moverall_reciprocity\u001b[1;34m(G)\u001b[0m\n\u001b[0;32m     35\u001b[0m \u001b[1;32mdef\u001b[0m \u001b[0moverall_reciprocity\u001b[0m\u001b[1;33m(\u001b[0m\u001b[0mG\u001b[0m\u001b[1;33m)\u001b[0m\u001b[1;33m:\u001b[0m\u001b[1;33m\u001b[0m\u001b[0m\n\u001b[0;32m     36\u001b[0m     \u001b[0mn_all_edge\u001b[0m \u001b[1;33m=\u001b[0m \u001b[0mG\u001b[0m\u001b[1;33m.\u001b[0m\u001b[0mnumber_of_edges\u001b[0m\u001b[1;33m(\u001b[0m\u001b[1;33m)\u001b[0m\u001b[1;33m\u001b[0m\u001b[0m\n\u001b[1;32m---> 37\u001b[1;33m     \u001b[0mn_overlap_edge\u001b[0m \u001b[1;33m=\u001b[0m \u001b[1;33m(\u001b[0m\u001b[0mn_all_edge\u001b[0m \u001b[1;33m-\u001b[0m \u001b[0mG\u001b[0m\u001b[1;33m.\u001b[0m\u001b[0mto_undirected\u001b[0m\u001b[1;33m(\u001b[0m\u001b[1;33m)\u001b[0m\u001b[1;33m.\u001b[0m\u001b[0mnumber_of_edges\u001b[0m\u001b[1;33m(\u001b[0m\u001b[1;33m)\u001b[0m\u001b[1;33m)\u001b[0m \u001b[1;33m*\u001b[0m\u001b[1;36m2\u001b[0m\u001b[1;33m\u001b[0m\u001b[0m\n\u001b[0m\u001b[0;32m     38\u001b[0m \u001b[1;33m\u001b[0m\u001b[0m\n\u001b[0;32m     39\u001b[0m     \u001b[1;32mif\u001b[0m \u001b[0mn_all_edge\u001b[0m \u001b[1;33m==\u001b[0m \u001b[1;36m0\u001b[0m\u001b[1;33m:\u001b[0m\u001b[1;33m\u001b[0m\u001b[0m\n",
      "\u001b[1;32mC:\\Anaconda2\\envs\\gl-env\\lib\\site-packages\\networkx\\classes\\digraph.pyc\u001b[0m in \u001b[0;36mto_undirected\u001b[1;34m(self, reciprocal)\u001b[0m\n\u001b[0;32m   1239\u001b[0m         \u001b[1;32melse\u001b[0m\u001b[1;33m:\u001b[0m\u001b[1;33m\u001b[0m\u001b[0m\n\u001b[0;32m   1240\u001b[0m             H.add_edges_from( (u,v,deepcopy(d))\n\u001b[1;32m-> 1241\u001b[1;33m                               \u001b[1;32mfor\u001b[0m \u001b[0mu\u001b[0m\u001b[1;33m,\u001b[0m\u001b[0mnbrs\u001b[0m \u001b[1;32min\u001b[0m \u001b[0mself\u001b[0m\u001b[1;33m.\u001b[0m\u001b[0madjacency_iter\u001b[0m\u001b[1;33m(\u001b[0m\u001b[1;33m)\u001b[0m\u001b[1;33m\u001b[0m\u001b[0m\n\u001b[0m\u001b[0;32m   1242\u001b[0m                               for v,d in nbrs.items() )\n\u001b[0;32m   1243\u001b[0m         \u001b[0mH\u001b[0m\u001b[1;33m.\u001b[0m\u001b[0mgraph\u001b[0m\u001b[1;33m=\u001b[0m\u001b[0mdeepcopy\u001b[0m\u001b[1;33m(\u001b[0m\u001b[0mself\u001b[0m\u001b[1;33m.\u001b[0m\u001b[0mgraph\u001b[0m\u001b[1;33m)\u001b[0m\u001b[1;33m\u001b[0m\u001b[0m\n",
      "\u001b[1;32mC:\\Anaconda2\\envs\\gl-env\\lib\\site-packages\\networkx\\classes\\graph.pyc\u001b[0m in \u001b[0;36madd_edges_from\u001b[1;34m(self, ebunch, attr_dict, **attr)\u001b[0m\n\u001b[0;32m    854\u001b[0m                     \"The attr_dict argument must be a dictionary.\")\n\u001b[0;32m    855\u001b[0m         \u001b[1;31m# process ebunch\u001b[0m\u001b[1;33m\u001b[0m\u001b[1;33m\u001b[0m\u001b[0m\n\u001b[1;32m--> 856\u001b[1;33m         \u001b[1;32mfor\u001b[0m \u001b[0me\u001b[0m \u001b[1;32min\u001b[0m \u001b[0mebunch\u001b[0m\u001b[1;33m:\u001b[0m\u001b[1;33m\u001b[0m\u001b[0m\n\u001b[0m\u001b[0;32m    857\u001b[0m             \u001b[0mne\u001b[0m \u001b[1;33m=\u001b[0m \u001b[0mlen\u001b[0m\u001b[1;33m(\u001b[0m\u001b[0me\u001b[0m\u001b[1;33m)\u001b[0m\u001b[1;33m\u001b[0m\u001b[0m\n\u001b[0;32m    858\u001b[0m             \u001b[1;32mif\u001b[0m \u001b[0mne\u001b[0m \u001b[1;33m==\u001b[0m \u001b[1;36m3\u001b[0m\u001b[1;33m:\u001b[0m\u001b[1;33m\u001b[0m\u001b[0m\n",
      "\u001b[1;32mC:\\Anaconda2\\envs\\gl-env\\lib\\site-packages\\networkx\\classes\\digraph.pyc\u001b[0m in \u001b[0;36m<genexpr>\u001b[1;34m((u, nbrs))\u001b[0m\n\u001b[0;32m   1240\u001b[0m             H.add_edges_from( (u,v,deepcopy(d))\n\u001b[0;32m   1241\u001b[0m                               \u001b[1;32mfor\u001b[0m \u001b[0mu\u001b[0m\u001b[1;33m,\u001b[0m\u001b[0mnbrs\u001b[0m \u001b[1;32min\u001b[0m \u001b[0mself\u001b[0m\u001b[1;33m.\u001b[0m\u001b[0madjacency_iter\u001b[0m\u001b[1;33m(\u001b[0m\u001b[1;33m)\u001b[0m\u001b[1;33m\u001b[0m\u001b[0m\n\u001b[1;32m-> 1242\u001b[1;33m                               for v,d in nbrs.items() )\n\u001b[0m\u001b[0;32m   1243\u001b[0m         \u001b[0mH\u001b[0m\u001b[1;33m.\u001b[0m\u001b[0mgraph\u001b[0m\u001b[1;33m=\u001b[0m\u001b[0mdeepcopy\u001b[0m\u001b[1;33m(\u001b[0m\u001b[0mself\u001b[0m\u001b[1;33m.\u001b[0m\u001b[0mgraph\u001b[0m\u001b[1;33m)\u001b[0m\u001b[1;33m\u001b[0m\u001b[0m\n\u001b[0;32m   1244\u001b[0m         \u001b[0mH\u001b[0m\u001b[1;33m.\u001b[0m\u001b[0mnode\u001b[0m\u001b[1;33m=\u001b[0m\u001b[0mdeepcopy\u001b[0m\u001b[1;33m(\u001b[0m\u001b[0mself\u001b[0m\u001b[1;33m.\u001b[0m\u001b[0mnode\u001b[0m\u001b[1;33m)\u001b[0m\u001b[1;33m\u001b[0m\u001b[0m\n",
      "\u001b[1;32mC:\\Anaconda2\\envs\\gl-env\\lib\\copy.pyc\u001b[0m in \u001b[0;36mdeepcopy\u001b[1;34m(x, memo, _nil)\u001b[0m\n\u001b[0;32m    161\u001b[0m     \u001b[0mcopier\u001b[0m \u001b[1;33m=\u001b[0m \u001b[0m_deepcopy_dispatch\u001b[0m\u001b[1;33m.\u001b[0m\u001b[0mget\u001b[0m\u001b[1;33m(\u001b[0m\u001b[0mcls\u001b[0m\u001b[1;33m)\u001b[0m\u001b[1;33m\u001b[0m\u001b[0m\n\u001b[0;32m    162\u001b[0m     \u001b[1;32mif\u001b[0m \u001b[0mcopier\u001b[0m\u001b[1;33m:\u001b[0m\u001b[1;33m\u001b[0m\u001b[0m\n\u001b[1;32m--> 163\u001b[1;33m         \u001b[0my\u001b[0m \u001b[1;33m=\u001b[0m \u001b[0mcopier\u001b[0m\u001b[1;33m(\u001b[0m\u001b[0mx\u001b[0m\u001b[1;33m,\u001b[0m \u001b[0mmemo\u001b[0m\u001b[1;33m)\u001b[0m\u001b[1;33m\u001b[0m\u001b[0m\n\u001b[0m\u001b[0;32m    164\u001b[0m     \u001b[1;32melse\u001b[0m\u001b[1;33m:\u001b[0m\u001b[1;33m\u001b[0m\u001b[0m\n\u001b[0;32m    165\u001b[0m         \u001b[1;32mtry\u001b[0m\u001b[1;33m:\u001b[0m\u001b[1;33m\u001b[0m\u001b[0m\n",
      "\u001b[1;32mC:\\Anaconda2\\envs\\gl-env\\lib\\copy.pyc\u001b[0m in \u001b[0;36m_deepcopy_dict\u001b[1;34m(x, memo)\u001b[0m\n\u001b[0;32m    253\u001b[0m \u001b[1;32mdef\u001b[0m \u001b[0m_deepcopy_dict\u001b[0m\u001b[1;33m(\u001b[0m\u001b[0mx\u001b[0m\u001b[1;33m,\u001b[0m \u001b[0mmemo\u001b[0m\u001b[1;33m)\u001b[0m\u001b[1;33m:\u001b[0m\u001b[1;33m\u001b[0m\u001b[0m\n\u001b[0;32m    254\u001b[0m     \u001b[0my\u001b[0m \u001b[1;33m=\u001b[0m \u001b[1;33m{\u001b[0m\u001b[1;33m}\u001b[0m\u001b[1;33m\u001b[0m\u001b[0m\n\u001b[1;32m--> 255\u001b[1;33m     \u001b[0mmemo\u001b[0m\u001b[1;33m[\u001b[0m\u001b[0mid\u001b[0m\u001b[1;33m(\u001b[0m\u001b[0mx\u001b[0m\u001b[1;33m)\u001b[0m\u001b[1;33m]\u001b[0m \u001b[1;33m=\u001b[0m \u001b[0my\u001b[0m\u001b[1;33m\u001b[0m\u001b[0m\n\u001b[0m\u001b[0;32m    256\u001b[0m     \u001b[1;32mfor\u001b[0m \u001b[0mkey\u001b[0m\u001b[1;33m,\u001b[0m \u001b[0mvalue\u001b[0m \u001b[1;32min\u001b[0m \u001b[0mx\u001b[0m\u001b[1;33m.\u001b[0m\u001b[0miteritems\u001b[0m\u001b[1;33m(\u001b[0m\u001b[1;33m)\u001b[0m\u001b[1;33m:\u001b[0m\u001b[1;33m\u001b[0m\u001b[0m\n\u001b[0;32m    257\u001b[0m         \u001b[0my\u001b[0m\u001b[1;33m[\u001b[0m\u001b[0mdeepcopy\u001b[0m\u001b[1;33m(\u001b[0m\u001b[0mkey\u001b[0m\u001b[1;33m,\u001b[0m \u001b[0mmemo\u001b[0m\u001b[1;33m)\u001b[0m\u001b[1;33m]\u001b[0m \u001b[1;33m=\u001b[0m \u001b[0mdeepcopy\u001b[0m\u001b[1;33m(\u001b[0m\u001b[0mvalue\u001b[0m\u001b[1;33m,\u001b[0m \u001b[0mmemo\u001b[0m\u001b[1;33m)\u001b[0m\u001b[1;33m\u001b[0m\u001b[0m\n",
      "\u001b[1;31mKeyboardInterrupt\u001b[0m: "
     ]
    }
   ],
   "source": [
    "import scipy.stats as stats\n",
    "\n",
    "zscores = []\n",
    "for i in range(2, 67):\n",
    "    indegree_sequence = list(graphs[i].in_degree().values())\n",
    "    outdegree_sequence = list(graphs[i].out_degree().values())\n",
    "\n",
    "    model_stat = []\n",
    "    for j in range(1000):\n",
    "        null_graph = nx.directed_configuration_model(indegree_sequence, outdegree_sequence)\n",
    "        null_graph = nx.DiGraph(null_graph) # removes parallel edges\n",
    "        null_graph.remove_edges_from(null_graph.selfloop_edges()) # removes self-loops\n",
    "\n",
    "        # Calculate the model's assortativity and add it to the list\n",
    "        #model_stat.append(nx.transitivity(null_graph))\n",
    "        model_stat.append(reciprocity(null_graph))\n",
    "\n",
    "    #real_stat = nx.transitivity(graphs[2])\n",
    "    real_stat = reciprocity(graphs[i])\n",
    "    \n",
    "    zs = stats.zscore([real_stat] + model_stat)\n",
    "    zscores.append(zs[0])"
   ]
  },
  {
   "cell_type": "code",
   "execution_count": 30,
   "metadata": {
    "collapsed": false
   },
   "outputs": [
    {
     "name": "stdout",
     "output_type": "stream",
     "text": [
      "37\n"
     ]
    },
    {
     "data": {
      "text/plain": [
       "[1.4136552088643886,\n",
       " 3.7526787673749666,\n",
       " 6.4599772431948113,\n",
       " 6.6513884676100288,\n",
       " 4.10829371822763,\n",
       " 1.7076733390139305,\n",
       " 4.5038116747087908,\n",
       " 5.3945984994665723,\n",
       " 6.6058413445235251,\n",
       " 4.2956825915142494,\n",
       " 4.3457909358400366,\n",
       " 3.5000565112661381,\n",
       " 4.4266686727656435,\n",
       " 2.5542176431868575,\n",
       " 6.6295482889238162,\n",
       " 4.7660037925699674,\n",
       " 4.3384120474271999,\n",
       " 2.4560583763704278,\n",
       " 0.11770493772946962,\n",
       " 2.4149756550186332,\n",
       " 2.3574654057307733,\n",
       " 2.8242062968259622,\n",
       " 2.7036537605145998,\n",
       " 4.1487679410442242,\n",
       " 2.5224367899525526,\n",
       " 7.3356381386190401,\n",
       " 4.886195527109221,\n",
       " 2.4437943083842635,\n",
       " 3.4446432980587547,\n",
       " 6.3053350374585122,\n",
       " 5.9532196780975797,\n",
       " 4.9193267611118738,\n",
       " 5.007059586147494,\n",
       " 9.1060092000722239,\n",
       " 10.341133588384306,\n",
       " 18.963856508691237,\n",
       " 20.906767687360148]"
      ]
     },
     "execution_count": 30,
     "metadata": {},
     "output_type": "execute_result"
    }
   ],
   "source": [
    "print len(zscores)\n",
    "zscores"
   ]
  },
  {
   "cell_type": "code",
   "execution_count": 32,
   "metadata": {
    "collapsed": false
   },
   "outputs": [
    {
     "data": {
      "text/plain": [
       "<matplotlib.collections.PathCollection at 0x323f7978>"
      ]
     },
     "execution_count": 32,
     "metadata": {},
     "output_type": "execute_result"
    },
    {
     "data": {
      "image/png": "[encoded data removed]",
      "text/plain": [
       "<matplotlib.figure.Figure at 0x313c9a20>"
      ]
     },
     "metadata": {},
     "output_type": "display_data"
    }
   ],
   "source": [
    "plt.scatter(zscores, retention[:37])"
   ]
  },
  {
   "cell_type": "code",
   "execution_count": 72,
   "metadata": {
    "collapsed": false
   },
   "outputs": [
    {
     "name": "stdout",
     "output_type": "stream",
     "text": [
      "4.04880914455\n"
     ]
    }
   ],
   "source": [
    "import scipy.stats as stats\n",
    "zscores = stats.zscore([real_stat] + model_stat)\n",
    "\n",
    "# Just print out the first score which corresponds to the real network\n",
    "print(zscores[0])"
   ]
  },
  {
   "cell_type": "code",
   "execution_count": 73,
   "metadata": {
    "collapsed": false
   },
   "outputs": [
    {
     "data": {
      "image/png": "[encoded data removed]",
      "text/plain": [
       "<matplotlib.figure.Figure at 0x3668db38>"
      ]
     },
     "metadata": {},
     "output_type": "display_data"
    }
   ],
   "source": [
    "%matplotlib inline\n",
    "import matplotlib.pyplot as plt\n",
    "\n",
    "# Use the histogram function to plot the distribution of assortativity coefficients\n",
    "plt.hist(model_stat, bins=50)\n",
    "\n",
    "# axvline produces a vertical line at the designated x position on the graph\n",
    "plt.axvline(real_stat, lw=2, color=\"red\") #lw = 2 makes the line thicker\n",
    "plt.show()"
   ]
  },
  {
   "cell_type": "code",
   "execution_count": 12,
   "metadata": {
    "collapsed": false
   },
   "outputs": [
    {
     "name": "stdout",
     "output_type": "stream",
     "text": [
      "Name: gnp_random_graph(35,0.165169413271)\n",
      "Type: DiGraph\n",
      "Number of nodes: 35\n",
      "Number of edges: 187\n",
      "Average in degree:   5.3429\n",
      "Average out degree:   5.3429\n",
      "Name: gnp_random_graph(77,0.985316183531)\n",
      "Type: DiGraph\n",
      "Number of nodes: 77\n",
      "Number of edges: 5752\n",
      "Average in degree:  74.7013\n",
      "Average out degree:  74.7013\n",
      "Name: gnp_random_graph(123,0.623244389241)\n",
      "Type: DiGraph\n",
      "Number of nodes: 123\n",
      "Number of edges: 9365\n",
      "Average in degree:  76.1382\n",
      "Average out degree:  76.1382\n",
      "Name: gnp_random_graph(146,0.0148458846439)\n",
      "Type: DiGraph\n",
      "Number of nodes: 146\n",
      "Number of edges: 302\n",
      "Average in degree:   2.0685\n",
      "Average out degree:   2.0685\n",
      "Name: gnp_random_graph(149,0.00908238368338)\n",
      "Type: DiGraph\n",
      "Number of nodes: 149\n",
      "Number of edges: 176\n",
      "Average in degree:   1.1812\n",
      "Average out degree:   1.1812\n",
      "Name: gnp_random_graph(88,0.0107695833271)\n",
      "Type: DiGraph\n",
      "Number of nodes: 88\n",
      "Number of edges: 69\n",
      "Average in degree:   0.7841\n",
      "Average out degree:   0.7841\n",
      "Name: gnp_random_graph(113,0.531002063675)\n",
      "Type: DiGraph\n",
      "Number of nodes: 113\n",
      "Number of edges: 6729\n",
      "Average in degree:  59.5487\n",
      "Average out degree:  59.5487\n",
      "Name: gnp_random_graph(232,0.779537016161)\n",
      "Type: DiGraph\n",
      "Number of nodes: 232\n",
      "Number of edges: 41785\n",
      "Average in degree: 180.1078\n",
      "Average out degree: 180.1078\n",
      "Name: gnp_random_graph(150,0.219278032327)\n",
      "Type: DiGraph\n",
      "Number of nodes: 150\n",
      "Number of edges: 4830\n",
      "Average in degree:  32.2000\n",
      "Average out degree:  32.2000\n",
      "Name: gnp_random_graph(169,0.7700293776)\n",
      "Type: DiGraph\n",
      "Number of nodes: 169\n",
      "Number of edges: 21882\n",
      "Average in degree: 129.4793\n",
      "Average out degree: 129.4793\n",
      "Name: gnp_random_graph(281,0.891490502701)\n",
      "Type: DiGraph\n",
      "Number of nodes: 281\n",
      "Number of edges: 70154\n",
      "Average in degree: 249.6584\n",
      "Average out degree: 249.6584\n",
      "Name: gnp_random_graph(343,0.80561330935)\n",
      "Type: DiGraph\n",
      "Number of nodes: 343\n",
      "Number of edges: 94521\n",
      "Average in degree: 275.5714\n",
      "Average out degree: 275.5714\n",
      "Name: gnp_random_graph(214,0.916418025693)\n",
      "Type: DiGraph\n",
      "Number of nodes: 214\n",
      "Number of edges: 41803\n",
      "Average in degree: 195.3411\n",
      "Average out degree: 195.3411\n",
      "Name: gnp_random_graph(183,0.950790209827)\n",
      "Type: DiGraph\n",
      "Number of nodes: 183\n",
      "Number of edges: 31681\n",
      "Average in degree: 173.1202\n",
      "Average out degree: 173.1202\n",
      "Name: gnp_random_graph(402,0.292167043306)\n",
      "Type: DiGraph\n",
      "Number of nodes: 402\n",
      "Number of edges: 47055\n",
      "Average in degree: 117.0522\n",
      "Average out degree: 117.0522\n",
      "Name: gnp_random_graph(253,0.0471690595384)\n",
      "Type: DiGraph\n",
      "Number of nodes: 253\n",
      "Number of edges: 2993\n",
      "Average in degree:  11.8300\n",
      "Average out degree:  11.8300\n",
      "Name: gnp_random_graph(234,0.640677653063)\n",
      "Type: DiGraph\n",
      "Number of nodes: 234\n",
      "Number of edges: 34885\n",
      "Average in degree: 149.0812\n",
      "Average out degree: 149.0812\n",
      "Name: gnp_random_graph(185,0.836947278738)\n",
      "Type: DiGraph\n",
      "Number of nodes: 185\n",
      "Number of edges: 28458\n",
      "Average in degree: 153.8270\n",
      "Average out degree: 153.8270\n",
      "Name: gnp_random_graph(212,0.161769673476)\n",
      "Type: DiGraph\n",
      "Number of nodes: 212\n",
      "Number of edges: 7210\n",
      "Average in degree:  34.0094\n",
      "Average out degree:  34.0094\n",
      "Name: gnp_random_graph(186,0.403375862301)\n",
      "Type: DiGraph\n",
      "Number of nodes: 186\n",
      "Number of edges: 13881\n",
      "Average in degree:  74.6290\n",
      "Average out degree:  74.6290\n",
      "Name: gnp_random_graph(198,0.785096091471)\n",
      "Type: DiGraph\n",
      "Number of nodes: 198\n",
      "Number of edges: 30633\n",
      "Average in degree: 154.7121\n",
      "Average out degree: 154.7121\n",
      "Name: gnp_random_graph(165,0.735523639589)\n",
      "Type: DiGraph\n",
      "Number of nodes: 165\n",
      "Number of edges: 19926\n",
      "Average in degree: 120.7636\n",
      "Average out degree: 120.7636\n",
      "Name: gnp_random_graph(136,0.232732011268)\n",
      "Type: DiGraph\n",
      "Number of nodes: 136\n",
      "Number of edges: 4240\n",
      "Average in degree:  31.1765\n",
      "Average out degree:  31.1765\n",
      "Name: gnp_random_graph(139,0.951490067362)\n",
      "Type: DiGraph\n",
      "Number of nodes: 139\n",
      "Number of edges: 18258\n",
      "Average in degree: 131.3525\n",
      "Average out degree: 131.3525\n",
      "Name: gnp_random_graph(122,0.142140055895)\n",
      "Type: DiGraph\n",
      "Number of nodes: 122\n",
      "Number of edges: 2088\n",
      "Average in degree:  17.1148\n",
      "Average out degree:  17.1148\n",
      "Name: gnp_random_graph(108,0.122505442896)\n",
      "Type: DiGraph\n",
      "Number of nodes: 108\n",
      "Number of edges: 1444\n",
      "Average in degree:  13.3704\n",
      "Average out degree:  13.3704\n",
      "Name: gnp_random_graph(116,0.530673222999)\n",
      "Type: DiGraph\n",
      "Number of nodes: 116\n",
      "Number of edges: 7075\n",
      "Average in degree:  60.9914\n",
      "Average out degree:  60.9914\n",
      "Name: gnp_random_graph(105,0.445023442692)\n",
      "Type: DiGraph\n",
      "Number of nodes: 105\n",
      "Number of edges: 4827\n",
      "Average in degree:  45.9714\n",
      "Average out degree:  45.9714\n",
      "Name: gnp_random_graph(106,0.314539709455)\n",
      "Type: DiGraph\n",
      "Number of nodes: 106\n",
      "Number of edges: 3516\n",
      "Average in degree:  33.1698\n",
      "Average out degree:  33.1698\n",
      "Name: gnp_random_graph(104,0.10311029855)\n",
      "Type: DiGraph\n",
      "Number of nodes: 104\n",
      "Number of edges: 1115\n",
      "Average in degree:  10.7212\n",
      "Average out degree:  10.7212\n",
      "Name: gnp_random_graph(129,0.855758652397)\n",
      "Type: DiGraph\n",
      "Number of nodes: 129\n",
      "Number of edges: 14071\n",
      "Average in degree: 109.0775\n",
      "Average out degree: 109.0775\n",
      "Name: gnp_random_graph(137,0.454153938021)\n",
      "Type: DiGraph\n",
      "Number of nodes: 137\n",
      "Number of edges: 8446\n",
      "Average in degree:  61.6496\n",
      "Average out degree:  61.6496\n",
      "Name: gnp_random_graph(220,0.839422227831)\n",
      "Type: DiGraph\n",
      "Number of nodes: 220\n",
      "Number of edges: 40447\n",
      "Average in degree: 183.8500\n",
      "Average out degree: 183.8500\n",
      "Name: gnp_random_graph(222,0.317876475186)\n",
      "Type: DiGraph\n",
      "Number of nodes: 222\n",
      "Number of edges: 15647\n",
      "Average in degree:  70.4820\n",
      "Average out degree:  70.4820\n",
      "Name: gnp_random_graph(264,0.636149453822)\n",
      "Type: DiGraph\n",
      "Number of nodes: 264\n",
      "Number of edges: 44116\n",
      "Average in degree: 167.1061\n",
      "Average out degree: 167.1061\n",
      "Name: gnp_random_graph(428,0.653969004164)\n",
      "Type: DiGraph\n",
      "Number of nodes: 428\n",
      "Number of edges: 119476\n",
      "Average in degree: 279.1495\n",
      "Average out degree: 279.1495\n",
      "Name: gnp_random_graph(562,0.962078758331)\n",
      "Type: DiGraph\n",
      "Number of nodes: 562\n",
      "Number of edges: 303406\n",
      "Average in degree: 539.8683\n",
      "Average out degree: 539.8683\n",
      "Name: gnp_random_graph(585,0.987316496873)\n",
      "Type: DiGraph\n",
      "Number of nodes: 585\n",
      "Number of edges: 337381\n",
      "Average in degree: 576.7197\n",
      "Average out degree: 576.7197\n",
      "Name: gnp_random_graph(637,0.178352151842)\n",
      "Type: DiGraph\n",
      "Number of nodes: 637\n",
      "Number of edges: 71972\n",
      "Average in degree: 112.9859\n",
      "Average out degree: 112.9859\n",
      "Name: gnp_random_graph(691,0.667111688982)\n",
      "Type: DiGraph\n",
      "Number of nodes: 691\n",
      "Number of edges: 318359\n",
      "Average in degree: 460.7221\n",
      "Average out degree: 460.7221\n",
      "Name: gnp_random_graph(585,0.417777266166)\n",
      "Type: DiGraph\n",
      "Number of nodes: 585\n",
      "Number of edges: 142399\n",
      "Average in degree: 243.4171\n",
      "Average out degree: 243.4171\n",
      "Name: gnp_random_graph(529,0.467936724449)\n",
      "Type: DiGraph\n",
      "Number of nodes: 529\n",
      "Number of edges: 130297\n",
      "Average in degree: 246.3081\n",
      "Average out degree: 246.3081\n",
      "Name: gnp_random_graph(597,0.118937281295)\n",
      "Type: DiGraph\n",
      "Number of nodes: 597\n",
      "Number of edges: 41977\n",
      "Average in degree:  70.3132\n",
      "Average out degree:  70.3132\n",
      "Name: gnp_random_graph(531,0.121672722505)\n",
      "Type: DiGraph\n",
      "Number of nodes: 531\n",
      "Number of edges: 33927\n",
      "Average in degree:  63.8927\n",
      "Average out degree:  63.8927\n",
      "Name: gnp_random_graph(507,0.426158601728)\n",
      "Type: DiGraph\n",
      "Number of nodes: 507\n",
      "Number of edges: 109053\n",
      "Average in degree: 215.0947\n",
      "Average out degree: 215.0947\n",
      "Name: gnp_random_graph(456,0.167902356447)\n",
      "Type: DiGraph\n",
      "Number of nodes: 456\n",
      "Number of edges: 34574\n",
      "Average in degree:  75.8202\n",
      "Average out degree:  75.8202\n",
      "Name: gnp_random_graph(459,0.0391710387016)\n",
      "Type: DiGraph\n",
      "Number of nodes: 459\n",
      "Number of edges: 8150\n",
      "Average in degree:  17.7560\n",
      "Average out degree:  17.7560\n",
      "Name: gnp_random_graph(455,0.433831878742)\n",
      "Type: DiGraph\n",
      "Number of nodes: 455\n",
      "Number of edges: 89359\n",
      "Average in degree: 196.3934\n",
      "Average out degree: 196.3934\n",
      "Name: gnp_random_graph(395,0.126857602905)\n",
      "Type: DiGraph\n",
      "Number of nodes: 395\n",
      "Number of edges: 19555\n",
      "Average in degree:  49.5063\n",
      "Average out degree:  49.5063\n",
      "Name: gnp_random_graph(424,0.209328157606)\n",
      "Type: DiGraph\n",
      "Number of nodes: 424\n",
      "Number of edges: 37494\n",
      "Average in degree:  88.4292\n",
      "Average out degree:  88.4292\n",
      "Name: gnp_random_graph(374,0.987197756946)\n",
      "Type: DiGraph\n",
      "Number of nodes: 374\n",
      "Number of edges: 137759\n",
      "Average in degree: 368.3396\n",
      "Average out degree: 368.3396\n",
      "Name: gnp_random_graph(398,0.396182453738)\n",
      "Type: DiGraph\n",
      "Number of nodes: 398\n",
      "Number of edges: 62555\n",
      "Average in degree: 157.1734\n",
      "Average out degree: 157.1734\n",
      "Name: gnp_random_graph(315,0.289834106002)\n",
      "Type: DiGraph\n",
      "Number of nodes: 315\n",
      "Number of edges: 28638\n",
      "Average in degree:  90.9143\n",
      "Average out degree:  90.9143\n",
      "Name: gnp_random_graph(242,0.565159410477)\n",
      "Type: DiGraph\n",
      "Number of nodes: 242\n",
      "Number of edges: 33010\n",
      "Average in degree: 136.4050\n",
      "Average out degree: 136.4050\n",
      "Name: gnp_random_graph(182,0.40954716009)\n",
      "Type: DiGraph\n",
      "Number of nodes: 182\n",
      "Number of edges: 13477\n",
      "Average in degree:  74.0495\n",
      "Average out degree:  74.0495\n",
      "Name: gnp_random_graph(214,0.993640498733)\n",
      "Type: DiGraph\n",
      "Number of nodes: 214\n",
      "Number of edges: 45289\n",
      "Average in degree: 211.6308\n",
      "Average out degree: 211.6308\n",
      "Name: gnp_random_graph(177,0.142519333644)\n",
      "Type: DiGraph\n",
      "Number of nodes: 177\n",
      "Number of edges: 4404\n",
      "Average in degree:  24.8814\n",
      "Average out degree:  24.8814\n",
      "Name: gnp_random_graph(206,0.0637980269861)\n",
      "Type: DiGraph\n",
      "Number of nodes: 206\n",
      "Number of edges: 2720\n",
      "Average in degree:  13.2039\n",
      "Average out degree:  13.2039\n",
      "Name: gnp_random_graph(185,0.397050864076)\n",
      "Type: DiGraph\n",
      "Number of nodes: 185\n",
      "Number of edges: 13512\n",
      "Average in degree:  73.0378\n",
      "Average out degree:  73.0378\n",
      "Name: gnp_random_graph(192,0.95502293256)\n",
      "Type: DiGraph\n",
      "Number of nodes: 192\n",
      "Number of edges: 35054\n",
      "Average in degree: 182.5729\n",
      "Average out degree: 182.5729\n",
      "Name: gnp_random_graph(218,0.0800276893483)\n",
      "Type: DiGraph\n",
      "Number of nodes: 218\n",
      "Number of edges: 3781\n",
      "Average in degree:  17.3440\n",
      "Average out degree:  17.3440\n",
      "Name: gnp_random_graph(177,0.213919648627)\n",
      "Type: DiGraph\n",
      "Number of nodes: 177\n",
      "Number of edges: 6581\n",
      "Average in degree:  37.1808\n",
      "Average out degree:  37.1808\n",
      "Name: gnp_random_graph(157,0.165591758764)\n",
      "Type: DiGraph\n",
      "Number of nodes: 157\n",
      "Number of edges: 3975\n",
      "Average in degree:  25.3185\n",
      "Average out degree:  25.3185\n",
      "Name: gnp_random_graph(187,0.615336206164)\n",
      "Type: DiGraph\n",
      "Number of nodes: 187\n",
      "Number of edges: 21393\n",
      "Average in degree: 114.4011\n",
      "Average out degree: 114.4011\n",
      "Name: gnp_random_graph(196,0.581021863333)\n",
      "Type: DiGraph\n",
      "Number of nodes: 196\n",
      "Number of edges: 22248\n",
      "Average in degree: 113.5102\n",
      "Average out degree: 113.5102\n"
     ]
    }
   ],
   "source": [
    "for g in rnd_graphs:\n",
    "    print nx.info(g)"
   ]
  },
  {
   "cell_type": "code",
   "execution_count": 13,
   "metadata": {
    "collapsed": false
   },
   "outputs": [],
   "source": [
    "edge_size2 = []\n",
    "density2 = []\n",
    "#trans2 = []\n",
    "degree2 = []\n",
    "recp2 = []\n",
    "#cc2 = []\n",
    "for g in rnd_graphs: \n",
    "    e = g.size()\n",
    "    d = nx.density(g)\n",
    "    #t = nx.transitivity(g)\n",
    "    r = reciprocity(g)\n",
    "    #c = nx.average_clustering(g)\n",
    "    dg = np.mean(nx.degree(g).values())\n",
    "    \n",
    "    edge_size2.append(e)\n",
    "    density2.append(d)\n",
    "    #cc2.append(c)\n",
    "    recp2.append(r)\n",
    "    #trans2.append(t)\n",
    "    degree2.append(dg)"
   ]
  },
  {
   "cell_type": "code",
   "execution_count": 14,
   "metadata": {
    "collapsed": false
   },
   "outputs": [
    {
     "data": {
      "text/plain": [
       "<matplotlib.collections.PathCollection at 0x8687a588>"
      ]
     },
     "execution_count": 14,
     "metadata": {},
     "output_type": "execute_result"
    },
    {
     "data": {
      "image/png": "[encoded data removed]",
      "text/plain": [
       "<matplotlib.figure.Figure at 0x30adaf28>"
      ]
     },
     "metadata": {},
     "output_type": "display_data"
    }
   ],
   "source": [
    "plt.scatter(density2, retention)"
   ]
  },
  {
   "cell_type": "code",
   "execution_count": 30,
   "metadata": {
    "collapsed": false
   },
   "outputs": [
    {
     "data": {
      "text/plain": [
       "<matplotlib.collections.PathCollection at 0x64c87860>"
      ]
     },
     "execution_count": 30,
     "metadata": {},
     "output_type": "execute_result"
    },
    {
     "data": {
      "image/png": "[encoded data removed]",
      "text/plain": [
       "<matplotlib.figure.Figure at 0x64f900f0>"
      ]
     },
     "metadata": {},
     "output_type": "display_data"
    }
   ],
   "source": [
    "plt.scatter(cc2, retention)"
   ]
  },
  {
   "cell_type": "code",
   "execution_count": 34,
   "metadata": {
    "collapsed": false
   },
   "outputs": [
    {
     "data": {
      "text/plain": [
       "<matplotlib.collections.PathCollection at 0x6001c080>"
      ]
     },
     "execution_count": 34,
     "metadata": {},
     "output_type": "execute_result"
    },
    {
     "data": {
      "image/png": "[encoded data removed]",
      "text/plain": [
       "<matplotlib.figure.Figure at 0x31232b00>"
      ]
     },
     "metadata": {},
     "output_type": "display_data"
    }
   ],
   "source": [
    "plt.scatter(trans2, retention)"
   ]
  },
  {
   "cell_type": "code",
   "execution_count": 28,
   "metadata": {
    "collapsed": false
   },
   "outputs": [
    {
     "data": {
      "text/plain": [
       "<matplotlib.collections.PathCollection at 0x314446d8>"
      ]
     },
     "execution_count": 28,
     "metadata": {},
     "output_type": "execute_result"
    },
    {
     "data": {
      "image/png": "[encoded data removed]",
      "text/plain": [
       "<matplotlib.figure.Figure at 0x64868320>"
      ]
     },
     "metadata": {},
     "output_type": "display_data"
    }
   ],
   "source": [
    "plt.scatter(degree2, retention)"
   ]
  },
  {
   "cell_type": "code",
   "execution_count": 15,
   "metadata": {
    "collapsed": false
   },
   "outputs": [
    {
     "data": {
      "text/plain": [
       "<matplotlib.collections.PathCollection at 0x859d4518>"
      ]
     },
     "execution_count": 15,
     "metadata": {},
     "output_type": "execute_result"
    },
    {
     "data": {
      "image/png": "[encoded data removed]",
      "text/plain": [
       "<matplotlib.figure.Figure at 0x874714a8>"
      ]
     },
     "metadata": {},
     "output_type": "display_data"
    }
   ],
   "source": [
    "plt.scatter(recp2, retention)"
   ]
  },
  {
   "cell_type": "code",
   "execution_count": 31,
   "metadata": {
    "collapsed": false
   },
   "outputs": [
    {
     "name": "stdout",
     "output_type": "stream",
     "text": [
      "[0.08020408163265307, 0.5567772752179885, 0.17947230623278956, 0.18801462907698369, 0.9647027783362199, 0.10461810916356366, 0.19773310223951399, 0.6475977479011932, 0.10622669831576809, 0.04029304029304028, 0.4118731310733478, 0.9896398039114331, 0.3913829202368269, 0.5879626825571372, 0.4242308324436207, 0.7124572734426109, 0.9747118854526101, 0.9737819475926911, 0.44053964289668596, 0.25195430102114563, 0.7824288391130813, 0.6278473658822348, 0.6310295505806679, 0.6576688648093136, 0.7419065381715344, 0.7153931203771536, 0.12423629417330699, 0.2596993873859747, 0.09433987438397741, 0.5313568387286433, 0.3401723995230466, 0.7301511423817649, 0.22301054435859807, 0.17857304736671598, 0.3940011223448827, 0.1578861179900872, 0.8719081442279014, 0.7817182648488791, 0.40316546963231936, 0.29113960828818874, 0.6159811181436973, 0.8479752481419184, 0.5561895095781926, 0.8891763068511679, 0.2159330763120006, 0.4391814546592606, 0.25015621976995533, 0.700414091387623, 0.13390793725053873, 0.5664014815244677, 0.13828788617841486, 0.7655821970771421, 0.7729118263965948, 0.7324070528775618, 0.8014486109587373, 0.8008444656606344, 0.5413328033812894, 0.19014235820671294, 0.779620742294435, 0.8123905912157187, 0.5037344014047545, 0.9230134529688184, 0.8238613220125189, 0.5477529590132273, 0.7895020688199913]\n"
     ]
    }
   ],
   "source": [
    "print cc2"
   ]
  },
  {
   "cell_type": "code",
   "execution_count": 32,
   "metadata": {
    "collapsed": false
   },
   "outputs": [
    {
     "name": "stdout",
     "output_type": "stream",
     "text": [
      "[0.06050420168067227, 0.5587833219412167, 0.17659602825536452, 0.18233349078885214, 0.9647197533103573, 0.09482758620689655, 0.1934260429835651, 0.6474846992088371, 0.10085011185682327, 0.02282333051563821, 0.4117691916624301, 0.9896339488176222, 0.39160194813742266, 0.5885426049360476, 0.42403940397761813, 0.712529016876843, 0.9747257987601335, 0.9737955346650999, 0.44075829383886256, 0.2519035164196455, 0.7824950007691125, 0.6275683665927568, 0.6327886710239652, 0.6575956626003545, 0.7412274759517681, 0.7156455520941503, 0.12353823088455772, 0.2571428571428571, 0.09290206648697215, 0.5287528005974608, 0.34241763565891475, 0.7301416917131817, 0.22224989622249897, 0.1794871794871795, 0.3944002765295541, 0.1578060364639191, 0.8719432127428778, 0.7817468680482379, 0.40325128600061216, 0.2909121416137083, 0.6160227139679194, 0.8479549750816291, 0.5562993940620328, 0.8891802579682336, 0.21635443709022303, 0.4391941391941392, 0.24978356213907202, 0.7002468896742025, 0.1334832615819572, 0.5667068111869397, 0.1381342202979169, 0.7656418110704657, 0.7728642199979779, 0.7326909228078599, 0.801347823447271, 0.8008424378043965, 0.5412172573189522, 0.19000710395453468, 0.7795534665099882, 0.81239092495637, 0.502642370946603, 0.9229583975346687, 0.8236975338886167, 0.5474670806739118, 0.789010989010989]\n"
     ]
    }
   ],
   "source": [
    "print density2"
   ]
  },
  {
   "cell_type": "code",
   "execution_count": 16,
   "metadata": {
    "collapsed": false
   },
   "outputs": [
    {
     "data": {
      "text/plain": [
       "<matplotlib.collections.PathCollection at 0x89df0dd8>"
      ]
     },
     "execution_count": 16,
     "metadata": {},
     "output_type": "execute_result"
    },
    {
     "data": {
      "image/png": "[encoded data removed]",
      "text/plain": [
       "<matplotlib.figure.Figure at 0x8594d278>"
      ]
     },
     "metadata": {},
     "output_type": "display_data"
    }
   ],
   "source": [
    "plt.scatter(recp2, recp)"
   ]
  },
  {
   "cell_type": "code",
   "execution_count": 17,
   "metadata": {
    "collapsed": false
   },
   "outputs": [
    {
     "name": "stdout",
     "output_type": "stream",
     "text": [
      "[0.11764705882352941, 0.9833101529902643, 0.6302189001601709, 0.026490066225165563, 0.0, 0.0, 0.524297815425769, 0.7810458298432452, 0.21573498964803312, 0.7742436705968376, 0.8922655871368703, 0.8045619491964748, 0.9162021864459489, 0.9514219879422998, 0.2948464562745723, 0.044102906782492485, 0.6399312025225742, 0.8370932602431653, 0.1639389736477115, 0.4104891578416541, 0.7866679724480136, 0.7357221720365352, 0.23915094339622642, 0.9523496549457772, 0.1446360153256705, 0.11634349030470914, 0.5331448763250883, 0.44002486016159104, 0.3174061433447099, 0.12376681614349776, 0.8495487172198138, 0.4563106796116505, 0.8381833016045689, 0.3177605930849364, 0.6335116511016411, 0.6523485888379256, 0.9623606652472265, 0.9874948500360127, 0.1785416550880898, 0.6672907001215609, 0.41712371575643087, 0.4663039056923797, 0.11868404126069038, 0.12202670439472986, 0.4253161306887477, 0.16868166830566322, 0.038282208588957055, 0.4334426302890587, 0.12416261825620047, 0.20894009708219982, 0.9874345777771325, 0.39507633282711213, 0.2901738948250576, 0.5652226598000606, 0.40884469837500925, 0.9935304378546667, 0.13805631244323344, 0.06397058823529411, 0.3910597986974541, 0.9553831231813773, 0.09045226130653267, 0.20969457529250873, 0.1630188679245283, 0.6142196045435423, 0.5837828119381517]\n",
      "[0.06896551724137931, 0.2119815668202765, 0.24196597353497165, 0.17062937062937064, 0.15834767641996558, 0.10638297872340426, 0.15456674473067916, 0.11211573236889692, 0.1407035175879397, 0.13513513513513514, 0.05106382978723404, 0.050590219224283306, 0.10562571756601608, 0.06770098730606489, 0.048024786986831915, 0.06984866123399301, 0.08412483039348712, 0.06100217864923747, 0.014388489208633094, 0.04044943820224719, 0.024691358024691357, 0.0481283422459893, 0.062111801242236024, 0.12254901960784313, 0.0821917808219178, 0.22872340425531915, 0.1330049261083744, 0.08275862068965517, 0.11931818181818182, 0.22727272727272727, 0.19428571428571428, 0.15692821368948248, 0.12665985699693566, 0.18627450980392157, 0.20462724935732649, 0.3194367241059848, 0.29157542929583957, 0.27232189152753294, 0.1772699939867709, 0.15866150694286366, 0.258952053408861, 0.25145283862315604, 0.2541538461538462, 0.2504490633820888, 0.2680655737704918, 0.2271907681211684, 0.1836734693877551, 0.15517633674630263, 0.20319148936170212, 0.19749045280960176, 0.15993537964458804, 0.17153153153153153, 0.14273504273504273, 0.17263544536271808, 0.17687074829931973, 0.09986130374479889, 0.2082777036048064, 0.1835075493612079, 0.1493975903614458, 0.10882352941176471, 0.08544726301735647, 0.12786885245901639, 0.12043010752688173, 0.03980099502487562, 0.04555808656036447]\n",
      "[35, 77, 123, 146, 149, 88, 113, 232, 150, 169, 281, 343, 214, 183, 402, 253, 234, 185, 212, 186, 198, 165, 136, 139, 122, 108, 116, 105, 106, 104, 129, 137, 220, 222, 264, 428, 562, 585, 637, 691, 585, 529, 597, 531, 507, 456, 459, 455, 395, 424, 374, 398, 315, 242, 182, 214, 177, 206, 185, 192, 218, 177, 157, 187, 196]\n"
     ]
    }
   ],
   "source": [
    "print recp2\n",
    "print recp\n",
    "print node_size"
   ]
  },
  {
   "cell_type": "markdown",
   "metadata": {
    "collapsed": true
   },
   "source": [
    "# Text mining"
   ]
  },
  {
   "cell_type": "code",
   "execution_count": 659,
   "metadata": {
    "collapsed": false
   },
   "outputs": [
    {
     "name": "stdout",
     "output_type": "stream",
     "text": [
      "27215\n"
     ]
    }
   ],
   "source": [
    "#print len(data)   # number of initial posts"
   ]
  },
  {
   "cell_type": "markdown",
   "metadata": {},
   "source": [
    "Extract all posting texts by year"
   ]
  },
  {
   "cell_type": "code",
   "execution_count": 57,
   "metadata": {
    "collapsed": false
   },
   "outputs": [
    {
     "name": "stdout",
     "output_type": "stream",
     "text": [
      "Traceback (most recent call last):\n",
      "  File \"C:\\Anaconda2\\envs\\gl-env\\lib\\site-packages\\IPython\\core\\ultratb.py\", line 1118, in get_records\n",
      "    return _fixed_getinnerframes(etb, number_of_lines_of_context, tb_offset)\n",
      "  File \"C:\\Anaconda2\\envs\\gl-env\\lib\\site-packages\\IPython\\core\\ultratb.py\", line 300, in wrapped\n",
      "    return f(*args, **kwargs)\n",
      "  File \"C:\\Anaconda2\\envs\\gl-env\\lib\\site-packages\\IPython\\core\\ultratb.py\", line 345, in _fixed_getinnerframes\n",
      "    records = fix_frame_records_filenames(inspect.getinnerframes(etb, context))\n",
      "  File \"C:\\Anaconda2\\envs\\gl-env\\lib\\inspect.py\", line 1049, in getinnerframes\n",
      "    framelist.append((tb.tb_frame,) + getframeinfo(tb, context))\n",
      "  File \"C:\\Anaconda2\\envs\\gl-env\\lib\\inspect.py\", line 1009, in getframeinfo\n",
      "    filename = getsourcefile(frame) or getfile(frame)\n",
      "  File \"C:\\Anaconda2\\envs\\gl-env\\lib\\inspect.py\", line 454, in getsourcefile\n",
      "    if hasattr(getmodule(object, filename), '__loader__'):\n",
      "  File \"C:\\Anaconda2\\envs\\gl-env\\lib\\inspect.py\", line 491, in getmodule\n",
      "    if ismodule(module) and hasattr(module, '__file__'):\n",
      "KeyboardInterrupt\n"
     ]
    },
    {
     "name": "stderr",
     "output_type": "stream",
     "text": [
      "ERROR: Internal Python error in the inspect module.\n",
      "Below is the traceback from this internal error.\n",
      "\n",
      "\n",
      "Unfortunately, your original traceback can not be constructed.\n",
      "\n"
     ]
    },
    {
     "ename": "IndexError",
     "evalue": "string index out of range",
     "output_type": "error",
     "traceback": [
      "\u001b[1;31m---------------------------------------------------------------------------\u001b[0m",
      "\u001b[1;31mIndexError\u001b[0m                                Traceback (most recent call last)",
      "\u001b[1;32mC:\\Anaconda2\\envs\\gl-env\\lib\\site-packages\\IPython\\core\\interactiveshell.pyc\u001b[0m in \u001b[0;36mrun_code\u001b[1;34m(self, code_obj, result)\u001b[0m\n\u001b[0;32m   2900\u001b[0m             \u001b[1;32mif\u001b[0m \u001b[0mresult\u001b[0m \u001b[1;32mis\u001b[0m \u001b[1;32mnot\u001b[0m \u001b[0mNone\u001b[0m\u001b[1;33m:\u001b[0m\u001b[1;33m\u001b[0m\u001b[0m\n\u001b[0;32m   2901\u001b[0m                 \u001b[0mresult\u001b[0m\u001b[1;33m.\u001b[0m\u001b[0merror_in_exec\u001b[0m \u001b[1;33m=\u001b[0m \u001b[0msys\u001b[0m\u001b[1;33m.\u001b[0m\u001b[0mexc_info\u001b[0m\u001b[1;33m(\u001b[0m\u001b[1;33m)\u001b[0m\u001b[1;33m[\u001b[0m\u001b[1;36m1\u001b[0m\u001b[1;33m]\u001b[0m\u001b[1;33m\u001b[0m\u001b[0m\n\u001b[1;32m-> 2902\u001b[1;33m             \u001b[0mself\u001b[0m\u001b[1;33m.\u001b[0m\u001b[0mshowtraceback\u001b[0m\u001b[1;33m(\u001b[0m\u001b[1;33m)\u001b[0m\u001b[1;33m\u001b[0m\u001b[0m\n\u001b[0m\u001b[0;32m   2903\u001b[0m         \u001b[1;32melse\u001b[0m\u001b[1;33m:\u001b[0m\u001b[1;33m\u001b[0m\u001b[0m\n\u001b[0;32m   2904\u001b[0m             \u001b[0moutflag\u001b[0m \u001b[1;33m=\u001b[0m \u001b[1;36m0\u001b[0m\u001b[1;33m\u001b[0m\u001b[0m\n",
      "\u001b[1;32mC:\\Anaconda2\\envs\\gl-env\\lib\\site-packages\\IPython\\core\\interactiveshell.pyc\u001b[0m in \u001b[0;36mshowtraceback\u001b[1;34m(self, exc_tuple, filename, tb_offset, exception_only)\u001b[0m\n\u001b[0;32m   1828\u001b[0m                     \u001b[1;32mexcept\u001b[0m \u001b[0mException\u001b[0m\u001b[1;33m:\u001b[0m\u001b[1;33m\u001b[0m\u001b[0m\n\u001b[0;32m   1829\u001b[0m                         stb = self.InteractiveTB.structured_traceback(etype,\n\u001b[1;32m-> 1830\u001b[1;33m                                             value, tb, tb_offset=tb_offset)\n\u001b[0m\u001b[0;32m   1831\u001b[0m \u001b[1;33m\u001b[0m\u001b[0m\n\u001b[0;32m   1832\u001b[0m                     \u001b[0mself\u001b[0m\u001b[1;33m.\u001b[0m\u001b[0m_showtraceback\u001b[0m\u001b[1;33m(\u001b[0m\u001b[0metype\u001b[0m\u001b[1;33m,\u001b[0m \u001b[0mvalue\u001b[0m\u001b[1;33m,\u001b[0m \u001b[0mstb\u001b[0m\u001b[1;33m)\u001b[0m\u001b[1;33m\u001b[0m\u001b[0m\n",
      "\u001b[1;32mC:\\Anaconda2\\envs\\gl-env\\lib\\site-packages\\IPython\\core\\ultratb.pyc\u001b[0m in \u001b[0;36mstructured_traceback\u001b[1;34m(self, etype, value, tb, tb_offset, number_of_lines_of_context)\u001b[0m\n\u001b[0;32m   1390\u001b[0m         \u001b[0mself\u001b[0m\u001b[1;33m.\u001b[0m\u001b[0mtb\u001b[0m \u001b[1;33m=\u001b[0m \u001b[0mtb\u001b[0m\u001b[1;33m\u001b[0m\u001b[0m\n\u001b[0;32m   1391\u001b[0m         return FormattedTB.structured_traceback(\n\u001b[1;32m-> 1392\u001b[1;33m             self, etype, value, tb, tb_offset, number_of_lines_of_context)\n\u001b[0m\u001b[0;32m   1393\u001b[0m \u001b[1;33m\u001b[0m\u001b[0m\n\u001b[0;32m   1394\u001b[0m \u001b[1;33m\u001b[0m\u001b[0m\n",
      "\u001b[1;32mC:\\Anaconda2\\envs\\gl-env\\lib\\site-packages\\IPython\\core\\ultratb.pyc\u001b[0m in \u001b[0;36mstructured_traceback\u001b[1;34m(self, etype, value, tb, tb_offset, number_of_lines_of_context)\u001b[0m\n\u001b[0;32m   1298\u001b[0m             \u001b[1;31m# Verbose modes need a full traceback\u001b[0m\u001b[1;33m\u001b[0m\u001b[1;33m\u001b[0m\u001b[0m\n\u001b[0;32m   1299\u001b[0m             return VerboseTB.structured_traceback(\n\u001b[1;32m-> 1300\u001b[1;33m                 \u001b[0mself\u001b[0m\u001b[1;33m,\u001b[0m \u001b[0metype\u001b[0m\u001b[1;33m,\u001b[0m \u001b[0mvalue\u001b[0m\u001b[1;33m,\u001b[0m \u001b[0mtb\u001b[0m\u001b[1;33m,\u001b[0m \u001b[0mtb_offset\u001b[0m\u001b[1;33m,\u001b[0m \u001b[0mnumber_of_lines_of_context\u001b[0m\u001b[1;33m\u001b[0m\u001b[0m\n\u001b[0m\u001b[0;32m   1301\u001b[0m             )\n\u001b[0;32m   1302\u001b[0m         \u001b[1;32melse\u001b[0m\u001b[1;33m:\u001b[0m\u001b[1;33m\u001b[0m\u001b[0m\n",
      "\u001b[1;32mC:\\Anaconda2\\envs\\gl-env\\lib\\site-packages\\IPython\\core\\ultratb.pyc\u001b[0m in \u001b[0;36mstructured_traceback\u001b[1;34m(self, etype, evalue, etb, tb_offset, number_of_lines_of_context)\u001b[0m\n\u001b[0;32m   1182\u001b[0m                 \u001b[0mstructured_traceback_parts\u001b[0m \u001b[1;33m+=\u001b[0m \u001b[0mformatted_exception\u001b[0m\u001b[1;33m\u001b[0m\u001b[0m\n\u001b[0;32m   1183\u001b[0m         \u001b[1;32melse\u001b[0m\u001b[1;33m:\u001b[0m\u001b[1;33m\u001b[0m\u001b[0m\n\u001b[1;32m-> 1184\u001b[1;33m             \u001b[0mstructured_traceback_parts\u001b[0m \u001b[1;33m+=\u001b[0m \u001b[0mformatted_exception\u001b[0m\u001b[1;33m[\u001b[0m\u001b[1;36m0\u001b[0m\u001b[1;33m]\u001b[0m\u001b[1;33m\u001b[0m\u001b[0m\n\u001b[0m\u001b[0;32m   1185\u001b[0m \u001b[1;33m\u001b[0m\u001b[0m\n\u001b[0;32m   1186\u001b[0m         \u001b[1;32mreturn\u001b[0m \u001b[0mstructured_traceback_parts\u001b[0m\u001b[1;33m\u001b[0m\u001b[0m\n",
      "\u001b[1;31mIndexError\u001b[0m: string index out of range"
     ]
    }
   ],
   "source": [
    "alltext = {}\n",
    "for key in data:\n",
    "    year = data[key]['post_time'].split(', ')[1].split()[0]\n",
    "    if year not in alltext:\n",
    "        alltext[year] = data[key]['text']\n",
    "    else:\n",
    "        alltext[year] = alltext[year] + '*****' + data[key]['text']   # use ****** to separate each post text\n",
    "        \n",
    "    i = 0\n",
    "    while i < 50:\n",
    "        try:  # handle exception: when i is out of list range\n",
    "            year = data[key]['reply'][i]['post_time'].split(', ')[1]\n",
    "            if data[key]['user'] == data[key]['reply'][i]['user']: \n",
    "                if year not in alltext:\n",
    "                    alltext[year] = data[key]['reply'][i]['text']\n",
    "                else:\n",
    "                    alltext[year] = alltext[year] + '*****' + (data[key]['reply'][i]['text'])\n",
    "            else:    \n",
    "                if year not in alltext:\n",
    "                    alltext[year] = alldata[key]['reply'][i]['text']\n",
    "                else:\n",
    "                    alltext[year] = alltext[year] + '*****' + (data[key]['reply'][i]['text'])\n",
    "        except:\n",
    "            pass\n",
    "        i += 1\n",
    "        \n",
    "print len(alltext)"
   ]
  },
  {
   "cell_type": "code",
   "execution_count": 35,
   "metadata": {
    "collapsed": false
   },
   "outputs": [],
   "source": [
    "#alltext['2000']"
   ]
  },
  {
   "cell_type": "markdown",
   "metadata": {},
   "source": [
    "Separate texts by time and post types"
   ]
  },
  {
   "cell_type": "code",
   "execution_count": 21,
   "metadata": {
    "collapsed": false
   },
   "outputs": [
    {
     "name": "stdout",
     "output_type": "stream",
     "text": [
      "193\n",
      "193\n",
      "179\n"
     ]
    }
   ],
   "source": [
    "post_text = {}\n",
    "reply_text = {}\n",
    "self_reply = {}\n",
    "for key in data:\n",
    "    #look at the initial post\n",
    "    month = data[key]['post_time'].split()[0]\n",
    "    year = data[key]['post_time'].split(', ')[1]  # '2000 ', '2001 ' note the blanck after the number\n",
    "    if year+month not in post_text:\n",
    "        post_text[year+month] = data[key]['text']\n",
    "    else:\n",
    "        post_text[year+month] = post_text[year+month] + '*****' + data[key]['text']\n",
    "    \n",
    "    # look at the replies     \n",
    "    i = 0\n",
    "    while i < 50:\n",
    "        try:\n",
    "            month = data[key]['reply'][i]['post_time'].split()[0]\n",
    "            year = data[key]['reply'][i]['post_time'].split(', ')[1]\n",
    "            if data[key]['user'] == data[key]['reply'][i]['user']:  #identify self reply\n",
    "                if year+month not in self_reply:\n",
    "                    self_reply[year+month] = data[key]['reply'][i]['text']\n",
    "                else:\n",
    "                    self_reply[year+month] = self_reply[year+month] + '*****' + (data[key]['reply'][i]['text'])\n",
    "            elif data[key]['user'] != data[key]['reply'][i]['user']:    \n",
    "                if year+month not in reply_text:\n",
    "                    reply_text[year+month] = data[key]['reply'][i]['text']\n",
    "                else:\n",
    "                    reply_text[year+month] = reply_text[year+month] + '*****' + (data[key]['reply'][i]['text'])\n",
    "        except:\n",
    "            pass\n",
    "        i += 1\n",
    "        \n",
    "print len(post_text)\n",
    "print len(reply_text)\n",
    "print len(self_reply)"
   ]
  },
  {
   "cell_type": "code",
   "execution_count": 22,
   "metadata": {
    "collapsed": false
   },
   "outputs": [
    {
     "name": "stdout",
     "output_type": "stream",
     "text": [
      "67\n",
      "66\n",
      "62\n"
     ]
    }
   ],
   "source": [
    "post_text3 = {}\n",
    "reply_text3 = {}\n",
    "self_reply3 = {}\n",
    "for time in post_text:\n",
    "    if time.split()[1] in set(['Jan', 'Feb', 'Mar']):\n",
    "        if time.split()[0]+' '+'q1' not in post_text3:\n",
    "            post_text3[time.split()[0]+' '+'q1'] = post_text[time]\n",
    "        else:\n",
    "            post_text3[time.split()[0]+' '+'q1'] = post_text3[time.split()[0]+' '+'q1'] + '*****' + post_text[time]\n",
    "    elif time.split()[1] in set(['Apr', 'May', 'Jun']):\n",
    "        if time.split()[0]+' '+'q2' not in post_text3:        \n",
    "            post_text3[time.split()[0]+' '+'q2'] = post_text[time]\n",
    "        else:\n",
    "            post_text3[time.split()[0]+' '+'q2'] = post_text3[time.split()[0]+' '+'q2'] + '*****' + post_text[time]\n",
    "    elif time.split()[1] in set(['Jul', 'Aug', 'Sep']):\n",
    "        if time.split()[0]+' '+'q3' not in post_text3:\n",
    "            post_text3[time.split()[0]+' '+'q3'] = post_text[time]\n",
    "        else:\n",
    "            post_text3[time.split()[0]+' '+'q3'] = post_text3[time.split()[0]+' '+'q3'] + '*****' + post_text[time]\n",
    "    else:\n",
    "        if time.split()[0]+' '+'q4' not in post_text3:\n",
    "            post_text3[time.split()[0]+' '+'q4'] = post_text[time]\n",
    "        else:\n",
    "            post_text3[time.split()[0]+' '+'q4'] = post_text3[time.split()[0]+' '+'q4'] + '*****' + post_text[time]\n",
    "\n",
    "for time in reply_text:\n",
    "    if time.split()[1] in set(['Jan', 'Feb', 'Mar']):\n",
    "        if time.split()[0]+' '+'q1' not in reply_text3:\n",
    "            reply_text3[time.split()[0]+' '+'q1'] = reply_text[time]\n",
    "        else:\n",
    "            reply_text3[time.split()[0]+' '+'q1'] = reply_text3[time.split()[0]+' '+'q1'] + '*****' + reply_text[time]\n",
    "    elif time.split()[1] in set(['Apr', 'May', 'Jun']):\n",
    "        if time.split()[0]+' '+'q2' not in reply_text3:        \n",
    "            reply_text3[time.split()[0]+' '+'q2'] = reply_text[time]\n",
    "        else:\n",
    "            reply_text3[time.split()[0]+' '+'q2'] = reply_text3[time.split()[0]+' '+'q2'] + '*****' + reply_text[time]\n",
    "    elif time.split()[1] in set(['Jul', 'Aug', 'Sep']):\n",
    "        if time.split()[0]+' '+'q3' not in reply_text3:\n",
    "            reply_text3[time.split()[0]+' '+'q3'] = reply_text[time]\n",
    "        else:\n",
    "            reply_text3[time.split()[0]+' '+'q3'] = reply_text3[time.split()[0]+' '+'q3'] + '*****' + reply_text[time]\n",
    "    else:\n",
    "        if time.split()[0]+' '+'q4' not in reply_text3:\n",
    "            reply_text3[time.split()[0]+' '+'q4'] = reply_text[time]\n",
    "        else:\n",
    "            reply_text3[time.split()[0]+' '+'q4'] = reply_text3[time.split()[0]+' '+'q4'] + '*****' + reply_text[time]\n",
    "\n",
    "for time in self_reply:\n",
    "    if time.split()[1] in set(['Jan', 'Feb', 'Mar']):\n",
    "        if time.split()[0]+' '+'q1' not in self_reply3:\n",
    "            self_reply3[time.split()[0]+' '+'q1'] = self_reply[time]\n",
    "        else:\n",
    "            self_reply3[time.split()[0]+' '+'q1'] = self_reply3[time.split()[0]+' '+'q1'] + '*****' + self_reply[time]\n",
    "    elif time.split()[1] in set(['Apr', 'May', 'Jun']):\n",
    "        if time.split()[0]+' '+'q2' not in self_reply3:        \n",
    "            self_reply3[time.split()[0]+' '+'q2'] = self_reply[time]\n",
    "        else:\n",
    "            self_reply3[time.split()[0]+' '+'q2'] = self_reply3[time.split()[0]+' '+'q2'] + '*****' + self_reply[time]\n",
    "    elif time.split()[1] in set(['Jul', 'Aug', 'Sep']):\n",
    "        if time.split()[0]+' '+'q3' not in self_reply3:\n",
    "            self_reply3[time.split()[0]+' '+'q3'] = self_reply[time]\n",
    "        else:\n",
    "            self_reply3[time.split()[0]+' '+'q3'] = self_reply3[time.split()[0]+' '+'q3'] + '*****' + self_reply[time]\n",
    "    else:\n",
    "        if time.split()[0]+' '+'q4' not in self_reply3:\n",
    "            self_reply3[time.split()[0]+' '+'q4'] = self_reply[time]\n",
    "        else:\n",
    "            self_reply3[time.split()[0]+' '+'q4'] = self_reply3[time.split()[0]+' '+'q4'] + '*****' + self_reply[time]        \n",
    "        \n",
    "        \n",
    "print len(post_text3)\n",
    "print len(reply_text3)\n",
    "print len(self_reply3)"
   ]
  },
  {
   "cell_type": "code",
   "execution_count": 36,
   "metadata": {
    "collapsed": false
   },
   "outputs": [
    {
     "ename": "SyntaxError",
     "evalue": "EOF while scanning triple-quoted string literal (<ipython-input-36-399fdba25e5a>, line 5)",
     "output_type": "error",
     "traceback": [
      "\u001b[1;36m  File \u001b[1;32m\"<ipython-input-36-399fdba25e5a>\"\u001b[1;36m, line \u001b[1;32m5\u001b[0m\n\u001b[1;33m    print texts[0]\u001b[0m\n\u001b[1;37m                  \n^\u001b[0m\n\u001b[1;31mSyntaxError\u001b[0m\u001b[1;31m:\u001b[0m EOF while scanning triple-quoted string literal\n"
     ]
    }
   ],
   "source": [
    "\"\"\"\"\n",
    "texts = []\n",
    "for key in post_text:\n",
    "    texts.append(post_text)\n",
    "print texts[0]"
   ]
  },
  {
   "cell_type": "markdown",
   "metadata": {},
   "source": [
    "Whole texts, including all postings and replies"
   ]
  },
  {
   "cell_type": "code",
   "execution_count": 574,
   "metadata": {
    "collapsed": false
   },
   "outputs": [
    {
     "name": "stdout",
     "output_type": "stream",
     "text": [
      "67\n"
     ]
    }
   ],
   "source": [
    "\"\"\"\"\n",
    "text3 = {}\n",
    "for time in alltext:\n",
    "    if time.split()[1] in set(['Jan', 'Feb', 'Mar']):\n",
    "        if time.split()[0]+' '+'q1' not in text3:\n",
    "            text3[time.split()[0]+' '+'q1'] = alltext[time]\n",
    "        else:\n",
    "            text3[time.split()[0]+' '+'q1'] = text3[time.split()[0]+' '+'q1'] + '*****' + alltext[time]\n",
    "    elif time.split()[1] in set(['Apr', 'May', 'Jun']):\n",
    "        if time.split()[0]+' '+'q2' not in text3:        \n",
    "            text3[time.split()[0]+' '+'q2'] = alltext[time]\n",
    "        else:\n",
    "            text3[time.split()[0]+' '+'q2'] = text3[time.split()[0]+' '+'q2'] + '*****' + alltext[time]\n",
    "    elif time.split()[1] in set(['Jul', 'Aug', 'Sep']):\n",
    "        if time.split()[0]+' '+'q3' not in text3:\n",
    "            text3[time.split()[0]+' '+'q3'] = alltext[time]\n",
    "        else:\n",
    "            text3[time.split()[0]+' '+'q3'] = text3[time.split()[0]+' '+'q3'] + '*****' + alltext[time]\n",
    "    else:\n",
    "        if time.split()[0]+' '+'q4' not in text3:\n",
    "            text3[time.split()[0]+' '+'q4'] = alltext[time]\n",
    "        else:\n",
    "            text3[time.split()[0]+' '+'q4'] = text3[time.split()[0]+' '+'q4'] + '*****' + alltext[time]\n",
    "\n",
    "print len(text3)"
   ]
  },
  {
   "cell_type": "markdown",
   "metadata": {},
   "source": [
    "Separate texts"
   ]
  },
  {
   "cell_type": "code",
   "execution_count": 37,
   "metadata": {
    "collapsed": false
   },
   "outputs": [],
   "source": [
    "#post_text3['2000 q4']"
   ]
  },
  {
   "cell_type": "code",
   "execution_count": 38,
   "metadata": {
    "collapsed": false
   },
   "outputs": [],
   "source": [
    "#reply_text3['2000 q4']"
   ]
  },
  {
   "cell_type": "code",
   "execution_count": 39,
   "metadata": {
    "collapsed": false
   },
   "outputs": [],
   "source": [
    "#self_reply3['2000 q4']"
   ]
  },
  {
   "cell_type": "code",
   "execution_count": 276,
   "metadata": {
    "collapsed": false
   },
   "outputs": [],
   "source": [
    "\"\"\"\"\n",
    "for key in post_text3:    \n",
    "    texts = post_text3[key].split('*****')  # a list of text    \n",
    "    with open('breast/text'+key+'.csv', 'w') as f:\n",
    "        wr = csv.writer(f) \n",
    "        for text in texts:\n",
    "            wr.writerow(text)        "
   ]
  },
  {
   "cell_type": "markdown",
   "metadata": {},
   "source": [
    "Randomly sample posts and save them to file"
   ]
  },
  {
   "cell_type": "code",
   "execution_count": 453,
   "metadata": {
    "collapsed": false
   },
   "outputs": [],
   "source": [
    "\"\"\"\"\n",
    "import random\n",
    "random.seed(100)\n",
    "f = open('breast/sample_post.txt', 'w')\n",
    "for key in post_text3:     \n",
    "    texts = post_text3[key].split('*****')  # a list of text     \n",
    "    rnd_nums = random.sample(range(len(texts)), int(len(texts)*0.03))\n",
    "    for i in rnd_nums:\n",
    "        f.write(\"%s\\n\" % str(texts[i]))"
   ]
  },
  {
   "cell_type": "code",
   "execution_count": 40,
   "metadata": {
    "collapsed": false
   },
   "outputs": [
    {
     "ename": "SyntaxError",
     "evalue": "EOF while scanning triple-quoted string literal (<ipython-input-40-b9538d9eda26>, line 14)",
     "output_type": "error",
     "traceback": [
      "\u001b[1;36m  File \u001b[1;32m\"<ipython-input-40-b9538d9eda26>\"\u001b[1;36m, line \u001b[1;32m14\u001b[0m\n\u001b[1;33m    print len(train_post)\u001b[0m\n\u001b[1;37m                         \n^\u001b[0m\n\u001b[1;31mSyntaxError\u001b[0m\u001b[1;31m:\u001b[0m EOF while scanning triple-quoted string literal\n"
     ]
    }
   ],
   "source": [
    "# sample initial posts\n",
    "import random\n",
    "random.seed(100)\n",
    "train_post = set()\n",
    "count = 0\n",
    "for key in post_text3:     \n",
    "    texts = post_text3[key].split('*****')  # a list of text     \n",
    "    rnd_nums = random.sample(range(len(texts)), int(len(texts)*0.03))\n",
    "    for i in rnd_nums:\n",
    "        count += 1\n",
    "        print count, texts[i] \n",
    "        train_post.add(texts[i])\n",
    "print len(train_post)"
   ]
  },
  {
   "cell_type": "code",
   "execution_count": 41,
   "metadata": {
    "collapsed": false
   },
   "outputs": [
    {
     "ename": "SyntaxError",
     "evalue": "EOF while scanning triple-quoted string literal (<ipython-input-41-fabcefa71cfd>, line 14)",
     "output_type": "error",
     "traceback": [
      "\u001b[1;36m  File \u001b[1;32m\"<ipython-input-41-fabcefa71cfd>\"\u001b[1;36m, line \u001b[1;32m14\u001b[0m\n\u001b[1;33m    print len(train_self_reply)\u001b[0m\n\u001b[1;37m                               \n^\u001b[0m\n\u001b[1;31mSyntaxError\u001b[0m\u001b[1;31m:\u001b[0m EOF while scanning triple-quoted string literal\n"
     ]
    }
   ],
   "source": [
    "# sample self-replies\n",
    "import random\n",
    "random.seed(100)\n",
    "train_self_reply = set()\n",
    "count = 0\n",
    "for key in self_reply3:     \n",
    "    texts = self_reply3[key].split('*****')  # a list of text     \n",
    "    rnd_nums = random.sample(range(len(texts)), int(len(texts)*0.01))\n",
    "    for i in rnd_nums:\n",
    "        count += 1\n",
    "        print count, texts[i] \n",
    "        train_self_reply.add(texts[i])\n",
    "print len(train_self_reply)"
   ]
  },
  {
   "cell_type": "code",
   "execution_count": 42,
   "metadata": {
    "collapsed": false
   },
   "outputs": [
    {
     "ename": "SyntaxError",
     "evalue": "EOF while scanning triple-quoted string literal (<ipython-input-42-262818076599>, line 14)",
     "output_type": "error",
     "traceback": [
      "\u001b[1;36m  File \u001b[1;32m\"<ipython-input-42-262818076599>\"\u001b[1;36m, line \u001b[1;32m14\u001b[0m\n\u001b[1;33m    print len(train_reply)\u001b[0m\n\u001b[1;37m                          \n^\u001b[0m\n\u001b[1;31mSyntaxError\u001b[0m\u001b[1;31m:\u001b[0m EOF while scanning triple-quoted string literal\n"
     ]
    }
   ],
   "source": [
    "# sample replies\n",
    "import random\n",
    "random.seed(100)\n",
    "train_reply = set()\n",
    "count = 0\n",
    "for key in reply_text3:     \n",
    "    texts = reply_text3[key].split('*****')  # a list of text     \n",
    "    rnd_nums = random.sample(range(len(texts)), int(len(texts)*0.003))\n",
    "    for i in rnd_nums:\n",
    "        count += 1\n",
    "        print count, texts[i] \n",
    "        train_reply.add(texts[i])\n",
    "print len(train_reply)"
   ]
  },
  {
   "cell_type": "code",
   "execution_count": 521,
   "metadata": {
    "collapsed": false
   },
   "outputs": [
    {
     "name": "stdout",
     "output_type": "stream",
     "text": [
      "21\n",
      "707\n"
     ]
    },
    {
     "data": {
      "text/plain": [
       "[102, 321, 544, 498, 517, 306, 565, 376, 56, 322]"
      ]
     },
     "execution_count": 521,
     "metadata": {},
     "output_type": "execute_result"
    }
   ],
   "source": [
    "print int(len(post_text3['2012 q4'].split('*****'))*0.03)\n",
    "print len(post_text3['2012 q4'].split('*****'))\n",
    "\n",
    "random.seed(100)\n",
    "random.sample(range(707), 10)"
   ]
  },
  {
   "cell_type": "code",
   "execution_count": 470,
   "metadata": {
    "collapsed": false
   },
   "outputs": [
    {
     "name": "stdout",
     "output_type": "stream",
     "text": [
      "not\n"
     ]
    }
   ],
   "source": [
    "s = 'Actually, knowing that the scheduling mess is resolved, I am in a great mood!'\n",
    "if s in train_self_reply:\n",
    "    print 'not'"
   ]
  },
  {
   "cell_type": "code",
   "execution_count": 429,
   "metadata": {
    "collapsed": true
   },
   "outputs": [],
   "source": [
    "for key in post_text3: \n",
    "    f = open('breast/post'+key+'.txt', 'w')\n",
    "    texts = post_text3[key].split('*****')  # a list of text     \n",
    "    for text in texts:\n",
    "        f.write(\"%s\\n\" % text) \n",
    "        \n",
    "for key in self_reply3: \n",
    "    f = open('breast/self_reply'+key+'.txt', 'w')\n",
    "    texts = self_reply3[key].split('*****')  # a list of text     \n",
    "    for text in texts:\n",
    "        f.write(\"%s\\n\" % text)"
   ]
  },
  {
   "cell_type": "markdown",
   "metadata": {},
   "source": [
    "# Preprocess data"
   ]
  },
  {
   "cell_type": "markdown",
   "metadata": {},
   "source": [
    "Get a list of lists of words"
   ]
  },
  {
   "cell_type": "code",
   "execution_count": 23,
   "metadata": {
    "collapsed": false
   },
   "outputs": [],
   "source": [
    "stopword_list = []\n",
    "f = open('stopwords.txt','r')\n",
    "for line in f.readlines():\n",
    "    if line != '\\n':\n",
    "        stopword_list.append(line[:-1])\n",
    "#print stopword_list\n",
    "stopwords = set(stopword_list)\n",
    "#stopwords"
   ]
  },
  {
   "cell_type": "raw",
   "metadata": {},
   "source": [
    "Get cleaned self-reply texts"
   ]
  },
  {
   "cell_type": "code",
   "execution_count": 25,
   "metadata": {
    "collapsed": false
   },
   "outputs": [],
   "source": [
    "cleaned_self = {}\n",
    "for key in self_reply3:\n",
    "    texts = self_reply3[key].split('*****')  # a list of posts\n",
    "    cleaned_texts = []\n",
    "    for text in texts:  # text is a string (post as the unit)\n",
    "        cleaned_text = []\n",
    "        # lowercase, remove stopwords, including punctuationtokenize \n",
    "        text = ''.join(c for c in text if c not in (',', '!', '?', '.', ':', '(', ')',';') and c.isdigit() == False) #deal with characters in a string like: happy, Hello! 65\n",
    "        #text = text.replace(word, 'swords')\n",
    "        text = text.replace('-', ' ')\n",
    "        text = text.replace('<p>', '')\n",
    "        text = text.replace('</p>', '')        \n",
    "        text = text.replace('<div>', '')\n",
    "        text = text.replace('</div>', '')\n",
    "        text = text.replace('<br>', '')\n",
    "        text = text.replace('<br/>', '')\n",
    "        text = text.replace('\\\\n', '')\n",
    "        text = text.lower().split()\n",
    "        for w in text:\n",
    "            if w not in stopwords:\n",
    "                cleaned_text.append(w)  # get a list of cleaned words (post as a unit)                         \n",
    "        cleaned_texts.append(cleaned_text)   \n",
    "    cleaned_self[key] = cleaned_texts"
   ]
  },
  {
   "cell_type": "code",
   "execution_count": 28,
   "metadata": {
    "collapsed": false
   },
   "outputs": [
    {
     "name": "stdout",
     "output_type": "stream",
     "text": [
      "62\n"
     ]
    },
    {
     "data": {
      "text/plain": [
       "[[u'good',\n",
       "  u'nurse',\n",
       "  u'cea',\n",
       "  u'stayed',\n",
       "  u'alwaysthanks',\n",
       "  u'good',\n",
       "  u'thoughts*hugs*gail'],\n",
       " [u'hope',\n",
       "  u'feel',\n",
       "  u'reasonably',\n",
       "  u'fine',\n",
       "  u'l',\n",
       "  u'understand',\n",
       "  u'infussion',\n",
       "  u'l',\n",
       "  u'buy',\n",
       "  u'magazines',\n",
       "  u'news',\n",
       "  u'papers',\n",
       "  u'simply',\n",
       "  u'l',\n",
       "  u\"can't\"]]"
      ]
     },
     "execution_count": 28,
     "metadata": {},
     "output_type": "execute_result"
    }
   ],
   "source": [
    "print len(cleaned_self)\n",
    "cleaned_self['2010 q4'][:2]"
   ]
  },
  {
   "cell_type": "code",
   "execution_count": 30,
   "metadata": {
    "collapsed": false
   },
   "outputs": [
    {
     "name": "stdout",
     "output_type": "stream",
     "text": [
      "62\n",
      "[0, 0, 0, 1, 1, 0, 0, 0, 0, 0, 0, 0, 0, 0, 0, 0, 0, 0, 0, 0, 1, 1, 0, 0, 0, 0, 0, 0, 0, 0, 0, 0, 0, 1, 1, 1, 1, 0, 0, 0, 0, 1, 0, 0, 0, 0, 1, 0, 1, 1, 0, 1, 0, 1, 1, 1, 1, 1, 0, 0, 1, 0, 0, 0, 0, 1, 0, 0, 0, 0, 1, 0, 0, 0, 0, 0, 0, 0, 0, 0, 0, 0, 0, 0, 0, 0, 0, 0, 0, 0, 0, 0, 0, 0, 0, 1, 0, 0, 0, 0, 1, 0, 0, 1, 1, 0, 0, 1, 1, 0, 0, 1, 1, 0, 0, 0, 0, 0, 0, 0, 0, 0, 0, 0, 0, 0, 0, 0, 0, 1, 1, 1, 0, 1, 1, 0, 0, 1, 1, 0, 0, 0, 0, 0, 0, 1, 0, 0, 0, 0, 0, 0, 0, 0, 1, 0, 0, 0, 0, 0, 0, 0, 0, 0, 0, 0, 0, 0, 1, 0, 0, 0, 0, 0, 0, 0, 0, 0, 0, 0, 0, 0, 1, 1, 1, 0, 0, 1, 0, 1, 1, 0, 1, 0, 1, 0, 0, 1, 0, 0, 0, 0, 1, 0, 1, 0, 0, 0, 0, 0, 0, 0, 0, 0, 0, 0, 0, 0, 0, 0, 0, 1, 0, 1, 1, 1, 1, 1, 1, 1, 0, 1, 1, 0, 1, 1, 1, 1, 1, 0, 0, 0, 0, 0, 0, 0, 0, 1, 0, 0, 0, 0, 0, 0, 0, 0, 0, 0, 0, 0, 0, 1, 1, 0, 0, 0, 0, 0, 0, 0, 0, 0, 0, 0, 0, 0, 0, 0, 0, 0, 0, 0, 0, 0, 0, 1, 0, 0, 0, 0, 0, 0, 0, 0, 0, 0, 0, 0, 1, 0, 0, 0, 0, 0, 0, 0, 1, 1, 1, 1, 1, 0, 1, 1, 1, 1, 1, 1, 1, 1, 0, 1, 1, 0, 1, 0, 1, 1, 1, 0, 0, 0, 1, 1, 1, 1, 0, 0, 0, 0, 0, 0, 0, 0, 0, 1, 0, 0, 0, 0, 1, 0, 1, 1, 0, 1, 1, 1, 0, 1, 0, 0, 0, 1, 1, 1, 0, 0, 0, 0, 0, 0, 0, 0, 0, 0, 0, 0, 0, 0, 0, 0, 0, 0, 1, 0, 1, 0, 0, 1, 1, 1, 0, 1, 1, 1, 1, 1, 1, 1, 1, 1, 1, 0, 0, 1, 0, 0, 0, 0, 0, 0, 0, 0, 0, 0, 0, 0, 0, 1, 0, 0, 0, 0, 0, 1, 0, 1, 1, 0, 1, 1, 1, 0, 0, 0, 0, 0, 1, 0, 0, 0, 0, 0, 0, 0, 0, 0, 0, 1, 1, 1, 0, 0, 0, 1, 1, 0, 1, 0, 1, 1, 1, 1, 0, 0, 1, 0, 0, 0, 0, 0, 0, 0, 1, 1, 1, 1, 0, 0, 0, 0, 0, 0, 0, 0, 0, 0, 0, 0, 0, 0, 0, 0, 0, 0, 0, 0, 1, 1, 0, 0, 1, 1, 1, 0, 0, 1, 0, 1, 1, 1, 0, 0, 0, 1, 1, 1, 1, 0, 0, 0, 0, 0, 1, 1, 1, 0, 0, 0, 0, 0, 1, 0, 1, 0, 1, 1, 1, 1, 0, 1, 0, 0, 0, 0, 0, 1, 0, 0, 1, 0, 1, 0, 0, 0, 0, 0, 0, 0, 0, 0, 0, 0, 1, 1, 0, 0, 1, 1, 1, 1, 1, 1, 1, 1, 1, 1, 1, 1, 1, 1, 1, 1, 0, 1, 0, 1, 0, 0, 0, 0, 0, 0, 0, 0, 0, 0, 0, 1, 1, 0, 0, 0, 0, 1, 1, 0, 0, 1, 1, 0, 0, 0, 0, 1, 0, 0, 0, 0, 0, 1, 0, 0, 1, 1, 0, 1, 1, 0, 1, 1, 0, 1, 1, 1, 1, 1, 1, 1, 0, 0, 1, 0, 1, 0, 0, 0, 0, 0, 0, 0, 0, 0, 0, 0, 1, 1, 0, 0, 1, 1, 0, 0, 0, 0, 0, 1, 0, 0, 0, 0, 0, 0, 0, 1, 0, 0, 0, 1, 0, 0, 1, 0, 1, 0, 0, 0, 0, 0, 1, 1, 0, 0, 1, 0, 1, 0, 1, 0, 0, 0, 0, 0, 1, 1, 1, 0, 1, 0, 0, 0, 0, 1, 0, 1, 1, 0, 1, 1, 1, 0, 1, 0, 0, 0, 1, 0, 0, 0, 1, 1, 1, 0, 0, 0, 0, 0, 1, 0, 0, 0, 1, 1, 1, 0, 1, 1, 0, 1, 0, 0, 1, 0, 0, 0, 0, 0, 0, 0, 1, 0, 1, 1, 0, 0, 0, 1, 1, 0, 0, 0, 1, 1, 0, 0, 0, 0, 1, 1, 1, 0, 1, 1, 0, 1, 0, 0, 0, 0, 1, 0, 0, 0, 0, 0, 0, 1, 0, 0, 0, 0, 1, 1, 0, 0, 0, 1, 0, 1, 1, 1, 0, 0, 1, 0, 0, 1, 0, 0, 0, 1, 0, 0, 1, 1, 0, 1, 1, 1, 0, 0, 1, 0, 0, 1, 1, 0, 0, 1, 0, 1, 0, 0, 0, 0, 0, 0, 0, 0, 0, 0, 0, 0, 0, 0, 0, 0, 0, 0, 0, 0, 0, 0, 1, 0, 0, 0, 1, 0, 0, 1, 1, 0, 1, 1, 1, 0, 0, 0, 0, 0, 0, 1, 0, 1, 1, 1, 1, 0, 0, 1, 0, 0, 1, 0, 1, 0, 1, 1, 1, 1, 0, 0, 0, 1, 1, 1, 1, 0, 0, 0, 0, 0, 0, 0, 0, 0, 0, 0, 0, 0, 0, 1, 0, 0, 0, 0, 0, 0, 0, 0, 0, 0, 0, 0, 0, 1, 0, 1, 0, 1, 0, 1, 0, 1, 0, 0, 0, 0, 1, 0, 0, 0, 0, 0, 1, 0, 0, 0, 0, 0, 0, 0, 0, 0, 1, 1, 0, 0, 0, 0, 0, 0, 0, 0, 0, 1, 0, 1, 0, 0, 0, 0, 1, 0, 1, 0, 1, 0, 1, 0, 0, 0, 0, 1, 0, 0, 1, 0, 0, 0, 0, 0, 0, 0, 0, 0, 0, 0, 0, 0, 0, 0, 0, 1, 0, 1, 1, 0, 0, 0, 0, 1, 0, 0, 0, 0, 0, 0, 0, 0, 0, 0, 0, 0, 0, 0, 0, 0, 0, 0, 0, 0, 0, 0, 0, 1, 0, 0, 0, 0, 0, 0, 0, 0, 0, 0, 0, 0, 0, 0, 1, 1, 0, 1, 0, 1, 1, 0, 0, 0, 0, 0, 0, 0, 1, 0, 0, 0, 1, 0, 1, 1, 0, 1, 0, 0, 1, 0, 0, 0, 1, 0, 0, 0, 1, 1, 1, 1, 0, 0, 0, 0, 1, 1, 1, 1, 1, 1, 1, 1, 1, 1, 1, 1, 1, 1, 1, 0, 1, 1, 0, 1, 1, 0, 1, 0, 0, 1, 1, 0, 1, 1, 0, 1, 0, 1, 1, 1, 1, 1, 0, 0, 1, 0, 0, 0, 1, 0, 1, 1, 1, 0, 1, 0, 0, 0, 0, 0, 1, 1, 1, 0, 0, 0, 0, 1, 0, 1, 0, 0, 0, 0, 0, 0, 1, 0, 0, 1, 1, 0, 1, 1, 1, 0, 1, 0, 0, 0, 1, 1, 0, 0, 0, 0, 0, 0, 1, 1, 1, 1, 0, 0, 0, 0, 0, 0, 1, 0, 0, 0, 0, 0, 0, 0, 0, 1, 0, 1, 1, 1, 1, 1, 0, 1, 1, 1, 1, 0, 0, 1, 1, 0, 0, 0, 0, 1, 1, 0, 0, 1, 1, 0, 0, 0, 0, 1, 0, 0, 0, 0, 0, 0, 0, 0, 0, 0, 0, 0, 0, 1, 0, 0, 1, 1, 0, 1, 0, 0, 1, 0, 0, 1, 0, 0, 1, 1, 1, 1, 0, 1, 1, 1, 1, 0, 1, 1, 0, 1, 1, 0, 0, 1, 0, 1, 0, 0, 0, 0, 0, 0, 0, 0, 0, 0, 0, 0, 0, 0, 0, 0, 0, 1, 0, 0, 0, 0, 0, 0, 0, 1, 0, 0, 1, 0, 0, 0, 0, 0, 0, 0, 0, 1, 0, 0, 0, 0, 0, 0, 0, 0, 1, 0, 0, 0, 0, 0, 1, 0, 0, 0, 1, 0, 0, 0, 0, 0, 0, 0, 0, 0, 0, 0, 1, 0, 1, 0, 0, 0, 1, 1, 1, 1, 1, 0, 0, 0, 0, 0, 0, 0, 0, 1, 1, 1, 0, 1, 1, 0, 0, 0, 1, 1, 1, 1, 0, 0, 0, 1, 1, 0, 0, 0, 0, 0, 1, 1, 0, 1, 0, 1, 0, 0, 0, 0, 0, 0, 0, 0, 0, 0, 0, 0, 0, 0, 1, 0, 0, 1, 0, 0, 0, 1, 0, 0, 0, 0, 0, 0, 0, 1, 0, 1, 0, 0, 1, 1, 0, 1, 0, 0, 1, 1, 1, 0, 0, 0, 1, 0, 0, 0, 1, 1, 0, 0, 0, 1, 0, 0, 0, 1, 0, 0, 0, 1, 0, 1, 0, 0, 1, 1, 0, 1, 0, 0, 0, 0, 0, 0, 0, 0, 1, 0, 1, 1, 0, 0, 0, 1, 1, 0, 1, 1, 1, 0, 1, 1, 1, 0, 0, 0, 0, 0, 1, 1, 1, 0, 0, 1, 1, 1, 0, 0, 0, 0, 0, 0, 0, 0, 1, 0, 0, 0, 0, 0, 0, 0, 0, 0, 0, 0, 0, 0, 0, 0, 0, 0, 0, 0, 0, 0, 1, 0, 0, 0, 0, 0, 0, 0, 0, 0, 0, 0, 0, 0, 0, 0, 1, 1, 0, 0, 0, 0, 0, 0, 0, 1, 1, 1, 0, 1, 0, 0, 0, 0, 1, 0, 0, 0, 0, 0, 0, 0, 0, 1, 1, 1, 1, 0, 0, 1, 0, 0, 1, 0, 0, 1, 1, 1, 1, 0, 0, 0, 1, 1, 1, 0, 0, 1, 0, 1, 0, 0, 0, 0, 0, 0, 1, 0, 0, 0, 0, 0, 0, 0, 1, 0, 0, 0, 0, 1, 1, 0, 0, 0, 0, 0, 0, 1, 0, 0, 0, 0, 0, 0, 0, 1, 0, 1, 0, 1, 0, 0, 1, 0, 0, 0, 1, 0, 0, 1, 1, 0, 0, 0, 0, 0, 0, 0, 0, 0, 0, 0, 0, 0, 0, 0, 1, 0, 0, 0, 0, 0, 0, 0, 0, 0, 0, 0, 1, 1, 0, 0, 0, 0, 0, 1, 1, 1, 1, 0, 0, 1, 1, 1, 1, 1, 0, 1, 0, 1, 1, 1, 0, 0, 0, 0, 0, 1, 0, 0, 0, 0, 0, 0, 1, 0, 0, 0, 0, 0, 1, 0, 0, 1, 0, 0, 0, 0, 0, 0, 1, 0, 1, 1, 1, 0, 0, 0, 0, 0, 0, 0, 1, 0, 0, 0, 0, 0, 0, 0, 0, 0, 0, 0, 0, 1, 1, 1, 0, 0, 1, 0, 0, 1, 0, 1, 0, 0, 1, 0, 0, 1, 0, 1, 1, 0, 0, 1, 1, 0, 0, 1, 0, 0, 0, 0, 0, 0, 0, 1, 1, 0, 0, 0, 0, 0, 0, 0, 1, 0, 0, 0, 0, 1, 1, 1, 1, 0, 1, 1, 1, 1, 1, 0, 1, 0, 0, 0, 0, 1, 0, 1, 0, 0, 1, 0, 0, 0, 0, 1, 0, 1, 1, 0, 1, 0, 0, 0, 0, 0, 1, 0, 1, 0, 0, 0, 0, 0, 0, 1, 1, 1, 0, 1, 1, 0, 0, 0, 0, 0, 0, 0, 0, 0, 0, 0, 0, 0, 0, 0, 0, 0, 0, 1, 0]\n"
     ]
    },
    {
     "data": {
      "text/plain": [
       "0.0051524478378424336"
      ]
     },
     "execution_count": 30,
     "metadata": {},
     "output_type": "execute_result"
    }
   ],
   "source": [
    "thank = set(['thank', 'thanks', 'appreciate', 'appreciated', 'thankful', 'grateful'])\n",
    "label = {}\n",
    "for key in cleaned_self:\n",
    "    lablist = []\n",
    "    for wordlist in cleaned_self[key]:\n",
    "        lab = ''\n",
    "        if set.intersection(set(wordlist), thank) == set():\n",
    "            lab = 0\n",
    "        else:\n",
    "            lab = 1\n",
    "        lablist.append(lab)\n",
    "    label[key] = lablist\n",
    "print len(label)\n",
    "print label['2010 q4']\n",
    "#np.mean(label['2010 q4'])/len()"
   ]
  },
  {
   "cell_type": "code",
   "execution_count": 63,
   "metadata": {
    "collapsed": false
   },
   "outputs": [
    {
     "name": "stdout",
     "output_type": "stream",
     "text": [
      "0.460674157303\n"
     ]
    }
   ],
   "source": [
    "label['2016 q3']\n",
    "print np.mean(label['2016 q3'])"
   ]
  },
  {
   "cell_type": "code",
   "execution_count": 61,
   "metadata": {
    "collapsed": false
   },
   "outputs": [
    {
     "name": "stdout",
     "output_type": "stream",
     "text": [
      "123\n",
      "62\n"
     ]
    }
   ],
   "source": [
    "# count number of appreciation replies\n",
    "label_count = {}\n",
    "for key in label:  # the label[key] is a list of 1 and 0\n",
    "    s = sum(label[key])        \n",
    "    label_count[key] = s\n",
    "print label_count['2016 q3']\n",
    "print len(label_count)     # from 2000 q3 to 2017 q1, but we only focus on 2000 q3 to 2006 q3"
   ]
  },
  {
   "cell_type": "code",
   "execution_count": 60,
   "metadata": {
    "collapsed": false
   },
   "outputs": [
    {
     "name": "stdout",
     "output_type": "stream",
     "text": [
      "62\n",
      "[0, 3, 2, 1, 9, 14, 34, 50, 108, 114, 64, 75, 118, 130, 111, 78, 141, 126, 262, 192, 167, 137, 160, 94, 92, 86, 138, 349, 468, 521, 602, 643, 597, 488, 465, 606, 841, 563, 408, 408, 294, 405, 389, 355, 400, 276, 197, 210, 148, 145, 101, 175, 153, 139, 79, 102, 87, 113, 123, 83, 123, 17]\n",
      "OrderedDict([(u'2001 q1', 0), (u'2002 q1', 3), (u'2002 q2', 2), (u'2002 q3', 1), (u'2003 q1', 9), (u'2003 q2', 14), (u'2003 q3', 34), (u'2003 q4', 50), (u'2004 q1', 108), (u'2004 q2', 114), (u'2004 q3', 64), (u'2004 q4', 75), (u'2005 q1', 118), (u'2005 q2', 130), (u'2005 q3', 111), (u'2005 q4', 78), (u'2006 q1', 141), (u'2006 q2', 126), (u'2006 q3', 262), (u'2006 q4', 192), (u'2007 q1', 167), (u'2007 q2', 137), (u'2007 q3', 160), (u'2007 q4', 94), (u'2008 q1', 92), (u'2008 q2', 86), (u'2008 q3', 138), (u'2008 q4', 349), (u'2009 q1', 468), (u'2009 q2', 521), (u'2009 q3', 602), (u'2009 q4', 643), (u'2010 q1', 597), (u'2010 q2', 488), (u'2010 q3', 465), (u'2010 q4', 606), (u'2011 q1', 841), (u'2011 q2', 563), (u'2011 q3', 408), (u'2011 q4', 408), (u'2012 q1', 294), (u'2012 q2', 405), (u'2012 q3', 389), (u'2012 q4', 355), (u'2013 q1', 400), (u'2013 q2', 276), (u'2013 q3', 197), (u'2013 q4', 210), (u'2014 q1', 148), (u'2014 q2', 145), (u'2014 q3', 101), (u'2014 q4', 175), (u'2015 q1', 153), (u'2015 q2', 139), (u'2015 q3', 79), (u'2015 q4', 102), (u'2016 q1', 87), (u'2016 q2', 113), (u'2016 q3', 123), (u'2016 q4', 83), (u'2017 q1', 123), (u'2017 q2', 17)])\n",
      "[2, 9, 10, 1, 7, 8, 28, 4, 13, 47, 56, 60, 85, 272, 258, 324, 331, 435, 423, 409, 321, 420, 511, 534, 541, 507, 404, 446, 388, 304, 325, 363, 374, 566, 751, 894, 1170, 1095, 869, 949, 1102, 1080, 779, 679, 611, 520, 520, 596, 512, 622, 509, 379, 321, 273, 224, 223, 238, 217, 215, 140, 136, 144, 142, 104, 106, 111, 19]\n"
     ]
    }
   ],
   "source": [
    "import collections\n",
    "label_count = collections.OrderedDict(sorted(label_count.items()))\n",
    "num = [x for x in label_count.values()]\n",
    "appre = []\n",
    "for i in range(62):   #65 for breast cancer\n",
    "    r = float(num[i])/count0[i]\n",
    "    appre.append(r)\n",
    "print len(appre)\n",
    "#print appre\n",
    "print num\n",
    "print label_count\n",
    "print count0"
   ]
  },
  {
   "cell_type": "code",
   "execution_count": 291,
   "metadata": {
    "collapsed": false
   },
   "outputs": [
    {
     "data": {
      "text/plain": [
       "<matplotlib.collections.PathCollection at 0x7d4cbb00>"
      ]
     },
     "execution_count": 291,
     "metadata": {},
     "output_type": "execute_result"
    },
    {
     "data": {
      "image/png": "[encoded data removed]",
      "text/plain": [
       "<matplotlib.figure.Figure at 0x7c971eb8>"
      ]
     },
     "metadata": {},
     "output_type": "display_data"
    }
   ],
   "source": [
    "plt.scatter(num[:-2], retention)"
   ]
  },
  {
   "cell_type": "code",
   "execution_count": 38,
   "metadata": {
    "collapsed": false
   },
   "outputs": [
    {
     "ename": "ValueError",
     "evalue": "x and y must be the same size",
     "output_type": "error",
     "traceback": [
      "\u001b[1;31m---------------------------------------------------------------------------\u001b[0m",
      "\u001b[1;31mValueError\u001b[0m                                Traceback (most recent call last)",
      "\u001b[1;32m<ipython-input-38-525d63ceafa8>\u001b[0m in \u001b[0;36m<module>\u001b[1;34m()\u001b[0m\n\u001b[1;32m----> 1\u001b[1;33m \u001b[0mplt\u001b[0m\u001b[1;33m.\u001b[0m\u001b[0mscatter\u001b[0m\u001b[1;33m(\u001b[0m\u001b[0mappre\u001b[0m\u001b[1;33m,\u001b[0m \u001b[0mretention\u001b[0m\u001b[1;33m)\u001b[0m\u001b[1;33m\u001b[0m\u001b[0m\n\u001b[0m",
      "\u001b[1;32mC:\\Anaconda2\\envs\\gl-env\\lib\\site-packages\\matplotlib\\pyplot.pyc\u001b[0m in \u001b[0;36mscatter\u001b[1;34m(x, y, s, c, marker, cmap, norm, vmin, vmax, alpha, linewidths, verts, edgecolors, hold, data, **kwargs)\u001b[0m\n\u001b[0;32m   3249\u001b[0m                          \u001b[0mvmin\u001b[0m\u001b[1;33m=\u001b[0m\u001b[0mvmin\u001b[0m\u001b[1;33m,\u001b[0m \u001b[0mvmax\u001b[0m\u001b[1;33m=\u001b[0m\u001b[0mvmax\u001b[0m\u001b[1;33m,\u001b[0m \u001b[0malpha\u001b[0m\u001b[1;33m=\u001b[0m\u001b[0malpha\u001b[0m\u001b[1;33m,\u001b[0m\u001b[1;33m\u001b[0m\u001b[0m\n\u001b[0;32m   3250\u001b[0m                          \u001b[0mlinewidths\u001b[0m\u001b[1;33m=\u001b[0m\u001b[0mlinewidths\u001b[0m\u001b[1;33m,\u001b[0m \u001b[0mverts\u001b[0m\u001b[1;33m=\u001b[0m\u001b[0mverts\u001b[0m\u001b[1;33m,\u001b[0m\u001b[1;33m\u001b[0m\u001b[0m\n\u001b[1;32m-> 3251\u001b[1;33m                          edgecolors=edgecolors, data=data, **kwargs)\n\u001b[0m\u001b[0;32m   3252\u001b[0m     \u001b[1;32mfinally\u001b[0m\u001b[1;33m:\u001b[0m\u001b[1;33m\u001b[0m\u001b[0m\n\u001b[0;32m   3253\u001b[0m         \u001b[0max\u001b[0m\u001b[1;33m.\u001b[0m\u001b[0mhold\u001b[0m\u001b[1;33m(\u001b[0m\u001b[0mwashold\u001b[0m\u001b[1;33m)\u001b[0m\u001b[1;33m\u001b[0m\u001b[0m\n",
      "\u001b[1;32mC:\\Anaconda2\\envs\\gl-env\\lib\\site-packages\\matplotlib\\__init__.pyc\u001b[0m in \u001b[0;36minner\u001b[1;34m(ax, *args, **kwargs)\u001b[0m\n\u001b[0;32m   1809\u001b[0m                     warnings.warn(msg % (label_namer, func.__name__),\n\u001b[0;32m   1810\u001b[0m                                   RuntimeWarning, stacklevel=2)\n\u001b[1;32m-> 1811\u001b[1;33m             \u001b[1;32mreturn\u001b[0m \u001b[0mfunc\u001b[0m\u001b[1;33m(\u001b[0m\u001b[0max\u001b[0m\u001b[1;33m,\u001b[0m \u001b[1;33m*\u001b[0m\u001b[0margs\u001b[0m\u001b[1;33m,\u001b[0m \u001b[1;33m**\u001b[0m\u001b[0mkwargs\u001b[0m\u001b[1;33m)\u001b[0m\u001b[1;33m\u001b[0m\u001b[0m\n\u001b[0m\u001b[0;32m   1812\u001b[0m         \u001b[0mpre_doc\u001b[0m \u001b[1;33m=\u001b[0m \u001b[0minner\u001b[0m\u001b[1;33m.\u001b[0m\u001b[0m__doc__\u001b[0m\u001b[1;33m\u001b[0m\u001b[0m\n\u001b[0;32m   1813\u001b[0m         \u001b[1;32mif\u001b[0m \u001b[0mpre_doc\u001b[0m \u001b[1;32mis\u001b[0m \u001b[0mNone\u001b[0m\u001b[1;33m:\u001b[0m\u001b[1;33m\u001b[0m\u001b[0m\n",
      "\u001b[1;32mC:\\Anaconda2\\envs\\gl-env\\lib\\site-packages\\matplotlib\\axes\\_axes.pyc\u001b[0m in \u001b[0;36mscatter\u001b[1;34m(self, x, y, s, c, marker, cmap, norm, vmin, vmax, alpha, linewidths, verts, edgecolors, **kwargs)\u001b[0m\n\u001b[0;32m   3838\u001b[0m         \u001b[0my\u001b[0m \u001b[1;33m=\u001b[0m \u001b[0mnp\u001b[0m\u001b[1;33m.\u001b[0m\u001b[0mma\u001b[0m\u001b[1;33m.\u001b[0m\u001b[0mravel\u001b[0m\u001b[1;33m(\u001b[0m\u001b[0my\u001b[0m\u001b[1;33m)\u001b[0m\u001b[1;33m\u001b[0m\u001b[0m\n\u001b[0;32m   3839\u001b[0m         \u001b[1;32mif\u001b[0m \u001b[0mx\u001b[0m\u001b[1;33m.\u001b[0m\u001b[0msize\u001b[0m \u001b[1;33m!=\u001b[0m \u001b[0my\u001b[0m\u001b[1;33m.\u001b[0m\u001b[0msize\u001b[0m\u001b[1;33m:\u001b[0m\u001b[1;33m\u001b[0m\u001b[0m\n\u001b[1;32m-> 3840\u001b[1;33m             \u001b[1;32mraise\u001b[0m \u001b[0mValueError\u001b[0m\u001b[1;33m(\u001b[0m\u001b[1;34m\"x and y must be the same size\"\u001b[0m\u001b[1;33m)\u001b[0m\u001b[1;33m\u001b[0m\u001b[0m\n\u001b[0m\u001b[0;32m   3841\u001b[0m \u001b[1;33m\u001b[0m\u001b[0m\n\u001b[0;32m   3842\u001b[0m         \u001b[0ms\u001b[0m \u001b[1;33m=\u001b[0m \u001b[0mnp\u001b[0m\u001b[1;33m.\u001b[0m\u001b[0mma\u001b[0m\u001b[1;33m.\u001b[0m\u001b[0mravel\u001b[0m\u001b[1;33m(\u001b[0m\u001b[0ms\u001b[0m\u001b[1;33m)\u001b[0m  \u001b[1;31m# This doesn't have to match x, y in size.\u001b[0m\u001b[1;33m\u001b[0m\u001b[0m\n",
      "\u001b[1;31mValueError\u001b[0m: x and y must be the same size"
     ]
    },
    {
     "data": {
      "image/png": "[encoded data removed]",
      "text/plain": [
       "<matplotlib.figure.Figure at 0x321c8a90>"
      ]
     },
     "metadata": {},
     "output_type": "display_data"
    }
   ],
   "source": [
    "plt.scatter(appre, retention)"
   ]
  },
  {
   "cell_type": "code",
   "execution_count": 292,
   "metadata": {
    "collapsed": true
   },
   "outputs": [],
   "source": [
    "rows = zip(retention,edge_size,node_size,density,trans,recp,degree,cc,countall[2:],count0[2:],reply[2:],self[2:], appre, dummy_s,dummy_l)   \n",
    "with open('variables.csv', 'w') as f:\n",
    "    wr = csv.writer(f) \n",
    "    header = ['retention','edge size','node size','density','trans','recp','degree','clustering','all post','initial post','reply','self reply','appre', 'short time effect','long time effect']\n",
    "    wr.writerow(header)\n",
    "    for row in rows:\n",
    "        wr.writerow(row)"
   ]
  },
  {
   "cell_type": "code",
   "execution_count": 362,
   "metadata": {
    "collapsed": false
   },
   "outputs": [
    {
     "name": "stdout",
     "output_type": "stream",
     "text": [
      "[60, 40, 28, 14, 13, 11, 8, 7, 7, 6, 6, 6]\n",
      "***************\n",
      "Senior Consultant\n",
      "Consultant\n",
      "Manager\n",
      "Administrative Assistant\n",
      "Senior Manager\n",
      "Audit Senior\n",
      "Executive Assistant\n",
      "Business Analyst\n",
      "Audit Senior Assistant\n",
      "Business Analyst\n",
      "Audit Senior Assistant\n",
      "Tax Consultant\n",
      "Senior Accountant\n",
      "Consultant, Strategy & Operations\n",
      "Tax Consultant\n",
      "Senior Accountant\n",
      "Consultant, Strategy & Operations\n",
      "Tax Consultant\n",
      "Senior Accountant\n",
      "Consultant, Strategy & Operations\n",
      "*************\n",
      "Tax Consultant\n",
      "Senior Accountant\n",
      "Consultant, Strategy & Operations\n",
      "Tax Consultant\n",
      "Senior Accountant\n",
      "Consultant, Strategy & Operations\n",
      "Tax Consultant\n",
      "Senior Accountant\n",
      "Consultant, Strategy & Operations\n",
      "Tax Consultant\n",
      "Senior Accountant\n",
      "Consultant, Strategy & Operations\n",
      "Tax Consultant\n",
      "Senior Accountant\n",
      "Consultant, Strategy & Operations\n",
      "Tax Consultant\n",
      "Senior Accountant\n",
      "Consultant, Strategy & Operations\n",
      "Tax Consultant\n",
      "Senior Accountant\n",
      "Consultant, Strategy & Operations\n",
      "Tax Consultant\n",
      "Senior Accountant\n",
      "Consultant, Strategy & Operations\n",
      "Tax Consultant\n",
      "Senior Accountant\n",
      "Consultant, Strategy & Operations\n",
      "Tax Consultant\n",
      "Senior Accountant\n",
      "Consultant, Strategy & Operations\n",
      "Tax Consultant\n",
      "Senior Accountant\n",
      "Consultant, Strategy & Operations\n",
      "Tax Consultant\n",
      "Senior Accountant\n",
      "Consultant, Strategy & Operations\n",
      "************\n",
      "Counter({'Senior Consultant': 60, 'Consultant': 40, 'Manager': 28, 'Administrative Assistant': 14, 'Senior Manager': 13, 'Audit Senior': 11, 'Executive Assistant': 8, 'Business Analyst': 7, 'Audit Senior Assistant': 7, 'Tax Consultant': 6, 'Senior Accountant': 6, 'Consultant, Strategy & Operations': 6, 'Audit Senior Manager': 5, 'Senior Auditor': 5, 'Project Manager': 5, 'Contracts Manager': 5, 'Paraprofessional': 5, 'Business Technology Analyst': 5, 'Sr Consultant': 5, 'Tax Intern': 4, 'Senior Coordinator': 4, 'Strategy And Operations Consultant': 4, 'Risk Consultant': 4, 'Audit Intern': 4, 'Tax K-1 Support Analyst': 4, 'Tax Consultant II': 4, '': 3, 'Auditor': 3, 'Senior Manager, Marketing & Communications': 3, 'Senior Tax Consultant': 3, 'Tax Consultant- Tax Management Consulting': 3, 'Event Coordinator': 3, 'Resource/Demand Manager For Consulting Technology': 3, 'Sr. Consultant': 3, 'Federal Security Specialist': 3, 'Senior Graphic Designer': 3, 'Java Developer': 3, 'Call Center': 3, 'QA Analyst': 3, 'Human Capital Consultant': 3, 'Team Lead/Datawarehouse Specialist': 3, 'Consulting Manager': 3, 'Business Risk Consultant': 3, 'Center Associate': 3, 'Human Resource Analyst': 3, 'Analyst': 3, 'Technology Consultant': 3, 'Tax Senior': 3, 'Tax Manager': 3, 'Senior Consultant, Federal Strategy & Operations': 3, 'Pursuit Manager - Central Region': 3, 'Lead Marketing Specialist': 3, 'Senior Specialist': 3, 'Sr. Manager/Specialist Leader': 3, 'Tax Consultant II, Financial Services Industry': 2, 'SENIOR CONSULTANT, STRATEGY AND OPERATIONS': 2, 'AMS Project Associate 5': 2, 'Technology Support Analyst/Mobile Device Expert': 2, 'Associate 5': 2, 'Full-Time Analyst': 2, 'Senior Consultant/Technology Lead/Architect': 2, 'Tax Management Consulting (TMC) - Tax Consultant': 2, 'Data Entry Clerk': 2, 'UX Design Lead': 2, 'Executive Assistant And Administrative Assistant': 2, 'Manager, Strategy & Operations': 2, 'Specialist Consultant': 2, 'Project Associate': 2, 'IHR Tax Consultant I': 2, 'Lead Federal Pursuit Specialist': 2, 'Project Controller Delivery Manager': 2, 'Business Valuation Manager': 2, 'Consultant/Project Controller': 2, 'Data Applications And Operations Team Manager': 2, 'SAP SD And LE Solution Architect And Team Lead': 2, 'Internal Auditor': 2, 'Consultant/Sr. Business Analyst': 2, 'Associate 7 (Manager)': 2, 'Project Controller': 2, 'Billing Coordinator /Analyst (Full-Time)': 2, 'Tax Consultant, Global Employer Services': 2, 'Technical Support Specialist': 2, 'IT CONSULTANT / DEVELOPER': 2, 'Contract Attorney': 2, 'Mail Room Supervisor': 2, 'Information Technology Specialist': 2, 'Independence Compliance Analyst': 2, 'Employee Benefits Consultant': 2, 'Employee Benefits Coordinator': 2, 'Accounting Manager': 2, 'Collateral Analyst, Securitization Team': 2, 'SM, Human Capital': 2, 'ERS Consultant': 2, 'Technical Lead': 2, 'Audit In-Charge': 2, 'Business & Quality Analyst': 2, 'Federal Analyst, Strategy & Operations': 2, 'Experienced Manager': 2, 'Senior Consultant Project Control': 2, 'Education Consultant (SAP)': 2, 'Associate, Advisory Services': 2, 'Service Desk Analyst': 2, 'Front End Developer': 2, 'Product Management Analyst': 2, 'Sr. Tax Consultant': 2, 'Business Intelligence/Ops Reporting Analyst': 2, 'Specialist Master': 2, 'Communications Lead': 2, 'Project Implementation Support Specialist': 2, 'Associate Technology Support Analyst': 2, 'Technology Support Analyst, Intern': 2, 'Audit-In-Charge- External Audit Services': 2, 'Junior Analyst/Program Support': 2, 'Director, Sales': 2, 'Functional Consultant': 2, 'Sr. Manager': 2, 'Senior Staff': 2, 'Associate': 2, 'Payroll Specialist - Multi State Western Region': 2, 'Executive Administrative Assistant': 2, 'Business Technology Consultant': 2, 'Pantry - Office Coordinator': 2, 'Technical Support Services': 2, 'Purchasing Agent': 2, 'Marketing Analyst': 2, 'Benefits Extended Research Specialist': 2, 'Audit Staff': 2, 'Manager, Strategy & Operations (S&O)': 2, 'Office Services Associate': 2, 'Senior Tax Staff': 2, 'I Senior Consultant': 2, 'Specialist Senior': 2, 'Manager, Architecture And Technology Strategy': 2, 'Hoteling/Conferencing Lead': 2, 'Senior Graphics Designer': 2, 'Project Controller Consultant': 2, 'Hotel/Hospitality/ Special Events Coordinator': 2, 'Technical Analyst': 2, 'EDiscovery Lawyer, Legal Project Solutions': 2, 'Consultant, Former Business Analyst': 2, 'Technology Risk Consultant': 1, 'Specialist Level 4': 1, 'Records Specialist - Records Management': 1, 'Sr.Net Developer': 1, 'Audit Senior - Commercial Industry': 1, 'Junior Auditor': 1, 'Tax Consultant II, Private Client Advisors (PCA)': 1, 'Assistant Manager, Audit & Assurance': 1, 'Software Development Manager': 1, 'Learning Delivery Specialist': 1, 'Tax Senior Manager': 1, 'Talent Manager/Resource Manager': 1, 'Business And Systems Integration Analyst': 1, 'Office Services Generalist': 1, 'Tax': 1, 'Sr. Technology Integration Consultant': 1, 'Test Analyst': 1, 'Consultant / Project Associate 5': 1, 'Centre Associate': 1, 'Help Desk Analyst, Sub-Contractor': 1, 'Real Estate Consulting Intern': 1, 'Tax Consultant II / New Jersey BTS': 1, 'Senior Communications Associate': 1, 'SAP Projects & Architecture Implementation': 1, 'Time And Expense Coordinator': 1, 'Oracle ERP': 1, 'Marketing Specialist': 1, 'Tax Preparer, T/B Auditor, Bookkeeper': 1, 'Technology Consultant (Promoted In 2009)': 1, 'Human Capital Senior Consultant': 1, 'Customer Service Assistant/Mail Room': 1, 'Enterprise Risk Services (IT Auditing)': 1, 'Product Manager': 1, 'Senior Subcontracts Administrator': 1, 'Consultant - Securitization': 1, 'WAU Administrator': 1, 'Associate / Consultant': 1, 'Accounting Intern': 1, 'Research Assistant - External Consultant': 1, 'Data Management Analyst, Federal Contracts': 1, 'Sr. Managing Consultant / Enterprise Architect': 1, 'Manager, Learning & Commmunications': 1, 'Staff Auditor': 1, 'Oracle Consulting': 1, 'I.T Technician Intern': 1, 'Real Estate Consulting - Senior Associate': 1, 'External Auditor': 1, 'Systems Software Specialist III': 1, 'Consultant - Oracle Package Technologies': 1, 'IT Support': 1, 'SAP (MM) Tier 3 Support For Navy ERP': 1, 'Contract Document Review Specialist': 1, 'Manager, Enterprise Risk Services': 1, 'Executive Assistant To Partner (Global)': 1, 'Tax Accountant - Lead Tax Services': 1, 'Project Consultant, Healthcare Consulting Division': 1, 'Java Lead Architect': 1, 'Network Engineer': 1, 'Temporary Associate': 1, 'Administrative & Mktg Assistant': 1, 'Office Assistant- Business Services': 1, 'Receptionist': 1, 'Senior Consultant - Project Control': 1, 'Senior Analyst, Securitization Transactions': 1, 'Processor II': 1, 'Tax Senior Analyst': 1, 'Security And Privacy Specialist': 1, 'Engagement Director': 1, 'PROJECT COORDINATOR': 1, 'Staff Auditor, Commercial': 1, 'Federal Business Risk Consultant': 1, 'Software Developer': 1, 'Senior Consultant, Strategy And Operations': 1, 'Sr Specialist': 1, 'Human Resources Generalist': 1, 'Jr. Consultant': 1, 'West Tax Talent Specialist': 1, 'Senior Quality Assurance - Lead/Manager': 1, 'Learning And Development Specialist': 1, 'US Army Contractor': 1, 'Audit Assistant, Financial Services Industry': 1, 'ERS Consultant, S&P Group': 1, 'MANAGER': 1, 'Administrative Assistant - Multistate Tax': 1, 'Administrative Assistant - LTS': 1, 'Quality Assurance Analyst': 1, 'SAP Consultant': 1, 'Business Valuation Associate': 1, 'Junior Tax Staff, Financial Services Group': 1, 'Senior Campus Consulting Recruiting Coordinator': 1, 'Manager, Strategy Consulting': 1, 'Tax Analyst': 1, 'Sr. Recruiter Contractor': 1, 'Manager, International Corporate Tax': 1, 'Quality Assurance Tester': 1, 'Financial Consultant': 1, 'Developer': 1, 'SENIOR MANAGER, DELOITTE AUDIT LEARNING LEADER': 1, 'Sr Information Assurance Consultant': 1, 'Corporate Butler': 1, 'BizTalk Developer': 1, 'Strategy And Operations Business Analyst': 1, 'Senior Consultant, Federal Human Capital': 1, 'Consultant/Project Manager': 1, 'Contracts': 1, 'Year 2000 Executive Assistant': 1, 'Sr. Records Management Administrator': 1, 'Tax Assignment Coordinator': 1, 'Senior SAP SD Consultant': 1, 'Tax Administrator': 1, 'Senior Consultant- SAP BW/BI': 1, 'Senior Manager, SAP Practice': 1, 'Accounting Firm - Administrative Assistant': 1, 'External Audit Senior': 1, 'Enterprise Risk Services Sr. Consultant': 1, 'Specialist Master/Experienced Manager': 1, 'Associate IV Software Developer': 1, 'Business Analyst - Strategy And Operations': 1, 'Senior - Real Estate, Mining And Resources': 1, 'Net Developer': 1, 'QA Tester': 1, 'Advisory Senior Consultant': 1, 'Audit & Enterprise Risk Services (AERS) Consultant': 1, 'BO/BI Sr. Application Developer/Report Developer': 1, 'AERS Sr. Manager / Manager': 1, 'LEAD PROPOSAL MANAGER, DHS': 1, 'Learning Delivery Specialist (Contractor)': 1, 'QA Manager': 1, 'National Lease Coordinator': 1, 'Portfolio Manager And Head Of Commercialization': 1, 'Senior Consultant, Information Management': 1, 'Senior Tax Accountant': 1, 'WEB DEVELOPER CWIS CHILD WELFARE ABUSE': 1, 'SAP Basis Consultant': 1, 'HOTELING COORDINATOR': 1, 'Analyst (Intern)': 1, 'Data Analyst': 1, 'Radiology Implementation Lead': 1, 'Application Engineer/Functional Lead': 1, 'SAP Basis Administrator': 1, 'Government Operations Project Associate': 1, 'Specialist Master (Manager)': 1, 'Securitization Transactions Consultant': 1, 'Audit Secretary': 1, 'Quality Analyst/Contractor': 1, 'Senior Audit Assistant': 1, 'Property Tax Consultant': 1, 'Senior Consultant, Business Advisory Services': 1, 'Controller / Project Manager': 1, 'Audit & Assurance Assistant': 1, 'Senior Recruiting Coordinator': 1, 'Senior, Audit And Enterprise Risk Service': 1, 'Computer Program Tester - AOC (Admin. Of Courts)': 1, 'Business Risk Consultant - Federal Solutions Group': 1, 'AUDITOR': 1, 'Administrative Of Courts': 1, 'Project Associate IV': 1, 'DC Manager': 1, 'Assistant To Accounting Professionals': 1, 'Senior Associate - Valuation': 1, 'Admin Asst To The Director Of The IAS Department': 1, 'Leaves & Disabilities Analyst': 1, 'Winter Intern': 1, ' and testing of closed caption television (CCTV) surveillance cameras into selected airports across the country': 1, 'IT Manager / Sr. Engineer': 1, 'BW FI Consultant Financial Information Quality': 1, 'Senior Consultant - Operational Capital Markets': 1, 'Sr. Consultant-FARS Practice': 1, 'Audit Assistant': 1, 'Purchasing Coordinator': 1, 'Consultant, Systems Integration': 1, 'Document Preparer': 1, 'Sr. Business Analyst': 1, 'Associate Advisory': 1, 'Associate, Infrastructure Group': 1, 'Internal Accounting': 1, 'Senior Manager - Enterprise Risk Services': 1, 'SIT QA Analyst (Sub-Team Lead MD-HBX)': 1, 'Senior Consultant/Manager': 1, 'Staff Audit Intern': 1, 'Business Services Specialist': 1, 'Actuarial Consultant': 1, 'Personnel Security Specialist': 1, 'Production Control Analyst': 1, 'Professional': 1, 'Senior Manager ELearning': 1, 'IT Security And Compliance Senior Level Consultant': 1, 'Data Analyst Intern': 1, 'Human Capital/Strategy And Operations Analyst': 1, 'FAS - Data Analytics': 1, 'Tax Consultant I': 1, 'Federal Subcontracts Manager - Emerging Markets': 1, 'Lead Talent Acquisition Specialist': 1, 'Manager SAP Package Technology': 1, 'Enterprise Risk Services Consultant': 1, 'Senior Administrative Assistant': 1, 'Subject Matter Expert Vehicle Management': 1, 'J2EESoftware Developer': 1, 'PURSUIT MANAGER': 1, 'Front Desk Receptionist': 1, 'CRM Functional Consultant': 1, 'Discovery Manager': 1, 'SAP Technical Consultant': 1, 'Manager And Senior Manager': 1, 'Technology Manager': 1, 'Tax Consultant Senior': 1, 'Manager, Organization & Talent': 1, 'Talent Specialist': 1, 'Test Engineer': 1, 'Office Services Assistant / Mail Clerk': 1, 'Computer System Analyst': 1, 'Enterprise Risk Services Intern': 1, 'Advisory Intern': 1, 'Cog Nos Developer': 1, 'Lead Developer': 1, 'Business Risk And Technology Risk Consultant': 1, 'HR Benefits Analyst': 1, 'Help Desk Level II': 1, 'Oracle DBA': 1, 'Administrative Professional': 1, 'Manager - Organization Transformation': 1, 'Senior Consultant - Strategy & Operations': 1, 'Manager In IM Practice': 1, 'Manager, Management Consulting': 1, 'BSA - Deloitte Applications Studio': 1, 'Java/J2EE Developer': 1, 'Sr. PM': 1, 'Tax Consultant - Excise/Sale And Use Tax': 1, 'Customer Service Rep': 1, 'Multistate Tax Intern': 1, 'SENIOR CONSULTANT/ MANAGER': 1, 'Senior Specialist In Information Management': 1, 'Deloitte Consultant': 1, 'BusinessTax Service - Senior': 1, 'Software Developer Intern': 1, 'Team Lead, Case Study Competition': 1, 'Manager/Senior Manager': 1, 'Securitization- Senior Consultant': 1, 'Executive Assistant To Regional Managing Partner': 1, 'Customer Service For A Federal Contract': 1, 'Programmer/ Analyst': 1, 'Recruiting Leader': 1, 'Senior Employee Events Specialist': 1, 'Finance Manager': 1, 'Auditor Senior': 1, 'Sr.WebSphere Administrator': 1, 'Senior, Assurance & Advisory Service': 1, 'Application Developer (Associate Level 4)': 1, 'Auditor In Charge': 1, 'Securitization Analyst': 1, 'Strategy And Operations Analyst': 1, 'Executive Assistant To Director Of Tax': 1, 'Manager, Project Controller Group': 1, 'Information Systems (IS) Consultant': 1, 'Operations Analyst': 1, 'Senior Consultant/Tester': 1, 'Executive Assistant To Principals': 1, 'Technology Senior': 1, 'Information Technology Intern': 1, 'Manager Of Forensic Investigations': 1, 'HC Consultant': 1, 'Field Operations/ Office Services': 1, 'Senior In Charge, Audit': 1, 'Facility Security Officer': 1, 'Senior HR Consultant-Human Capital': 1, 'O Sr.Consultant': 1, 'Global Multimedia Sr. Associate': 1, 'Administrative Assistant III': 1, 'Senior Auditor, Audit And Enterprise Risk Services': 1, 'OP Reprographic': 1, 'Technical Architect Lead/ Development Lead': 1, 'Audit': 1, 'Senior Associate': 1, 'Accounting Audit Intern': 1, 'Management Consultant - Strategy Group': 1, 'HR/Talent Senior Manager': 1, 'Talent Services Representative': 1, 'Enterprise Risk Consultant - Federal Government': 1, 'Analyst II - Real Estate And Energy': 1, 'Intern': 1, 'Linux/System Administrator': 1, 'Senior Accountant/Senior Financial Analyst': 1})\n"
     ]
    }
   ],
   "source": [
    "with open('Big4OnlineReviewsfromIndeed2.csv', 'rb') as f:\n",
    "    reader = csv.reader(f)\n",
    "    rows = []\n",
    "    for row in reader:\n",
    "        rows.append(row)\n",
    "jobtitle = []\n",
    "for row in rows[19:826]:  #19-826\n",
    "    #print row[0], row[5]\n",
    "    jobtitle.append(row[5])\n",
    "freq = Counter(jobtitle)\n",
    "freq\n",
    "y = [x for x in freq.values()]\n",
    "y = sorted(y, reverse=True)\n",
    "print y[:12]\n",
    "print '***************'\n",
    "\"\"\"\n",
    "#top10 = set(y[:10])\n",
    "\"\"\"\n",
    "for i in y[:12]:\n",
    "    for key in freq:\n",
    "        if freq[key] == i:\n",
    "            print key\n",
    "            \n",
    "print \"*************\"\n",
    "for i in y[:12]:\n",
    "    for key in freq:\n",
    "        if freq[key] == 6:\n",
    "            print key\n",
    "print '************'\n",
    "print freq"
   ]
  },
  {
   "cell_type": "code",
   "execution_count": 346,
   "metadata": {
    "collapsed": false
   },
   "outputs": [
    {
     "name": "stdout",
     "output_type": "stream",
     "text": [
      "[85, 72, 51, 50, 47, 37, 36, 35, 26, 24, 21]\n",
      "Senior Consultant\n",
      "Manager\n",
      "Senior Associate\n",
      "Executive Assistant\n",
      "Consultant\n",
      "Audit Associate\n",
      "Administrative Assistant\n",
      "Senior Manager\n",
      "\n",
      "Experienced Associate\n",
      "Associate\n",
      "********************\n",
      "Senior Consultant\n",
      "Manager\n",
      "Senior Associate\n",
      "Executive Assistant\n",
      "Consultant\n",
      "Audit Associate\n",
      "Administrative Assistant\n",
      "Senior Manager\n",
      "\n",
      "Experienced Associate\n",
      "Associate\n"
     ]
    }
   ],
   "source": [
    "with open('Big4OnlineReviewsfromIndeed.csv', 'rb') as f:\n",
    "    reader = csv.reader(f)\n",
    "    rows = []\n",
    "    for row in reader:\n",
    "        rows.append(row)\n",
    "jobtitle = []\n",
    "for row in rows[1:]:\n",
    "    #print row[5]\n",
    "    jobtitle.append(row[5])\n",
    "#print jobtitle[:10]\n",
    "#print len(jobtitle)\n",
    "freq = Counter(jobtitle)\n",
    "freq\n",
    "y = [x for x in freq.values()]\n",
    "y = sorted(y, reverse=True)\n",
    "print y[:11]\n",
    "\"\"\"\n",
    "#top10 = set(y[:10])\n",
    "\"\"\"\n",
    "for i in y[:11]:\n",
    "    for key in freq:\n",
    "        if freq[key] == i:\n",
    "            print key"
   ]
  },
  {
   "cell_type": "code",
   "execution_count": null,
   "metadata": {
    "collapsed": true
   },
   "outputs": [],
   "source": []
  },
  {
   "cell_type": "code",
   "execution_count": null,
   "metadata": {
    "collapsed": true
   },
   "outputs": [],
   "source": []
  },
  {
   "cell_type": "markdown",
   "metadata": {},
   "source": [
    "Get cleaned whole data"
   ]
  },
  {
   "cell_type": "code",
   "execution_count": 693,
   "metadata": {
    "collapsed": false
   },
   "outputs": [],
   "source": [
    "cleaned_whole_text = {}\n",
    "for key in alltext:\n",
    "    texts = alltext[key].split('*****')  # a list of posts\n",
    "    cleaned_texts = []\n",
    "    for text in texts:  # text is a string (post as the unit)\n",
    "        cleaned_text = []\n",
    "        # lowercase, remove stopwords, including punctuationtokenize \n",
    "        text = ''.join(c for c in text if c not in (',', '!', '?', '.', ':', '(', ')',';') and c.isdigit() == False) #deal with characters in a string like: happy, Hello! 65\n",
    "        text = text.replace('-', ' ')\n",
    "        text = text.lower().split()\n",
    "        for w in text:\n",
    "            if w not in stopwords:\n",
    "                cleaned_text.append(w)  # get a list of cleaned words (post as a unit)                         \n",
    "        cleaned_texts.append(cleaned_text)   \n",
    "    cleaned_whole_text[key] = cleaned_texts"
   ]
  },
  {
   "cell_type": "code",
   "execution_count": 694,
   "metadata": {
    "collapsed": false
   },
   "outputs": [
    {
     "data": {
      "text/plain": [
       "[u'hi',\n",
       " u'everyone<br/>\\\\ni',\n",
       " u'read',\n",
       " u'couple',\n",
       " u'messages',\n",
       " u'jump',\n",
       " u'share</p>\\\\n<p>i',\n",
       " u'good',\n",
       " u'shape',\n",
       " u'bilateral',\n",
       " u'masectomy',\n",
       " u'dec',\n",
       " u'<br/>\\\\nhowever',\n",
       " u'fire',\n",
       " u'surgeon',\n",
       " u'refused',\n",
       " u'honor',\n",
       " u'oncologists',\n",
       " u'request',\n",
       " u'implant',\n",
       " u'port',\n",
       " u'me</p>\\\\n<p>she',\n",
       " u'ofther',\n",
       " u'dumb',\n",
       " u'stuff',\n",
       " u'like',\n",
       " u'hold',\n",
       " u'totally',\n",
       " u'unsanitary',\n",
       " u'paper',\n",
       " u'gown',\n",
       " u'bleeding',\n",
       " u'drain',\n",
       " u'site<br/>\\\\nwhile',\n",
       " u'pulled',\n",
       " u'staples',\n",
       " u'pull',\n",
       " u'nurse',\n",
       " u'stood',\n",
       " u'cut',\n",
       " u'tape',\n",
       " u'strips</p>\\\\n<p>the',\n",
       " u'tape',\n",
       " u'even',\n",
       " u'e',\n",
       " u'ones',\n",
       " u'allergic',\n",
       " u'to</p>\\\\n<p>it',\n",
       " u'learn',\n",
       " u'stand',\n",
       " u'treatment',\n",
       " u'world</p>\\\\n<p>my',\n",
       " u'spirits',\n",
       " u'good',\n",
       " u'due',\n",
       " u'tremendous',\n",
       " u'support',\n",
       " u'family',\n",
       " u'true',\n",
       " u'friends</p>\\\\n<p>i',\n",
       " u'enjoy',\n",
       " u'sharing',\n",
       " u'travel',\n",
       " u'road<br/>\\\\nac',\n",
       " u'chemo',\n",
       " u'start',\n",
       " u'surgeon',\n",
       " u'port',\n",
       " u'implant',\n",
       " u'then<br/>\\\\ncher']"
      ]
     },
     "execution_count": 694,
     "metadata": {},
     "output_type": "execute_result"
    }
   ],
   "source": [
    "cleaned_whole_text['2000'][0]"
   ]
  },
  {
   "cell_type": "code",
   "execution_count": null,
   "metadata": {
    "collapsed": true
   },
   "outputs": [],
   "source": []
  },
  {
   "cell_type": "code",
   "execution_count": 514,
   "metadata": {
    "collapsed": false
   },
   "outputs": [],
   "source": [
    "# get cleaned test data\n",
    "cleaned_post_text = {}\n",
    "for key in post_text3:\n",
    "    texts = post_text3[key].split('*****')  # a list of posts\n",
    "    cleaned_texts = []\n",
    "    for text in texts:  # text is a string (post as the unit)\n",
    "        cleaned_text = []\n",
    "        # lowercase, remove stopwords, including punctuationtokenize \n",
    "        if text not in train_post:\n",
    "            text = ''.join(c for c in text if c not in (',', '!', '?', '.', ':', '(', ')',';') and c.isdigit() == False) #deal with characters in a string like: happy, Hello! 65\n",
    "            text = text.replace('-', ' ')\n",
    "            text = text.lower().split()\n",
    "        else:\n",
    "            continue\n",
    "        for w in text:\n",
    "            if w not in stopwords:\n",
    "                cleaned_text.append(w)  # get a list of cleaned words (post as a unit)                         \n",
    "        cleaned_texts.append(cleaned_text)   \n",
    "    cleaned_post_text[key] = cleaned_texts"
   ]
  },
  {
   "cell_type": "code",
   "execution_count": 525,
   "metadata": {
    "collapsed": false
   },
   "outputs": [
    {
     "name": "stdout",
     "output_type": "stream",
     "text": [
      "882\n",
      "892\n"
     ]
    }
   ],
   "source": [
    "print len(cleaned_post_text['2011 q4']) + int(len(post_text3['2011 q4'].split('*****'))*0.03) \n",
    "print len(post_text3['2011 q4'].split('*****'))"
   ]
  },
  {
   "cell_type": "code",
   "execution_count": 516,
   "metadata": {
    "collapsed": false
   },
   "outputs": [
    {
     "name": "stdout",
     "output_type": "stream",
     "text": [
      "Are the steroids agreeing with you?  I am taking Dexamethason and I just was curious if anyone has been useing it, and how they react to it&gt;\n",
      "[u'hi', u'everyone<br/>\\\\n', u'wish', u'merry', u'christmas', u'prayer', u'healthy', u'god', u'bless', u'debbie']\n"
     ]
    }
   ],
   "source": [
    "\"\"\"\"\n",
    "#print len(cleaned_post_text['2012 q4'])\n",
    "\n",
    "cleaned_text = []\n",
    "text = post_text3['2012 q4'].split('*****')[1]\n",
    "print text\n",
    "text = ''.join(c for c in text if c not in (',', '!', '?', '.', ':', '(', ')',';') and c.isdigit() == False) #deal with characters in a string like: happy, Hello! 65\n",
    "text = text.replace('-', ' ')\n",
    "text = text.lower().split()\n",
    "for w in text:\n",
    "    if w not in stopwords:\n",
    "        cleaned_text.append(w)\n",
    "#print cleaned_text\n",
    "print cleaned_post_text['2001 q4'][1]\n"
   ]
  },
  {
   "cell_type": "markdown",
   "metadata": {},
   "source": [
    "# Construct a dictionary of all the words - bag-of-words"
   ]
  },
  {
   "cell_type": "code",
   "execution_count": 405,
   "metadata": {
    "collapsed": false
   },
   "outputs": [
    {
     "name": "stdout",
     "output_type": "stream",
     "text": [
      "64706\n",
      "1869\n",
      "58\n"
     ]
    }
   ],
   "source": [
    "# Let's call the dictionary word_space\n",
    "from collections import defaultdict\n",
    "word_space=defaultdict(int)\n",
    "for key in cleaned_post_text:\n",
    "    for text in cleaned_post_text[key]:\n",
    "        for word in text:\n",
    "            if word not in word_space:\n",
    "                word_space[word]=len(word_space) \n",
    "\n",
    "print len(word_space)\n",
    "print word_space['best']\n",
    "print word_space['breast']"
   ]
  },
  {
   "cell_type": "code",
   "execution_count": 406,
   "metadata": {
    "collapsed": false
   },
   "outputs": [
    {
     "name": "stdout",
     "output_type": "stream",
     "text": [
      "67\n"
     ]
    }
   ],
   "source": [
    "# build a sparse vector\n",
    "def get_sparse_vec(doc, space):\n",
    "    # create empty vector\n",
    "    sparse_vec = np.zeros(len(word_space))\n",
    "    for word in doc:\n",
    "        try:\n",
    "            sparse_vec[space[word]]=1\n",
    "        except:\n",
    "            continue\n",
    "    return sparse_vec\n",
    "\n",
    "texts_vecs = {}\n",
    "for key in cleaned_post_text:\n",
    "    text_vecs = [get_sparse_vec(text, word_space) for text in cleaned_post_text[key]]\n",
    "    texts_vecs[key] = text_vecs\n",
    "print len(texts_vecs)   # texts_vecs are the feature for SVM models"
   ]
  },
  {
   "cell_type": "code",
   "execution_count": 414,
   "metadata": {
    "collapsed": false
   },
   "outputs": [
    {
     "name": "stdout",
     "output_type": "stream",
     "text": [
      "126\n",
      "126\n"
     ]
    }
   ],
   "source": [
    "\"\"\"\"\n",
    "count = 0\n",
    "for vec in texts_vecs['2000 q4']:\n",
    "    for i in vec:\n",
    "        if i == 1:\n",
    "            count += 1\n",
    "            break\n",
    "print count\n",
    "print len(texts_vecs['2000 q4'])"
   ]
  },
  {
   "cell_type": "code",
   "execution_count": null,
   "metadata": {
    "collapsed": true
   },
   "outputs": [],
   "source": []
  },
  {
   "cell_type": "code",
   "execution_count": null,
   "metadata": {
    "collapsed": true
   },
   "outputs": [],
   "source": []
  },
  {
   "cell_type": "code",
   "execution_count": 387,
   "metadata": {
    "collapsed": false
   },
   "outputs": [
    {
     "ename": "SyntaxError",
     "evalue": "EOF while scanning triple-quoted string literal (<ipython-input-387-6a0588f36b9a>, line 13)",
     "output_type": "error",
     "traceback": [
      "\u001b[1;36m  File \u001b[1;32m\"<ipython-input-387-6a0588f36b9a>\"\u001b[1;36m, line \u001b[1;32m13\u001b[0m\n\u001b[1;33m    #print words\u001b[0m\n\u001b[1;37m                \n^\u001b[0m\n\u001b[1;31mSyntaxError\u001b[0m\u001b[1;31m:\u001b[0m EOF while scanning triple-quoted string literal\n"
     ]
    }
   ],
   "source": [
    "\"\"\"\n",
    "# remove punctuation\n",
    "string = 'Supporters:<br/>\\nGlobal Support - We Want to Hear Your Story!<br/>\\nThe International Discussion Forum, a free multilingual exchange of opinions and experience without borders.  This groundbreaking project will provide support, on a global scale, for anyone who has suffered from breast cancer.  Contributed stories can be shared on The Power of Love - Everybody can help somebody.<br/>\\nPlease respond to http://www.amberheart.org/I/forum.htm  if you would like to participate. If you are multilingual there is an opportunity to help translate characteristic stories received by The Amberheart Breast Cancer Foundation for other to enjoy.<br/>\\nJuan Bello<br/>\\nPublic Relations Volunteer, Project Coordinator<br/>\\nAmberheart Breast Cancer Foundation'\n",
    "out = \"\".join(c for c in string if c not in set(['to', 'the', 'a', 'an', '']) and c.isdigit() == False)\n",
    "print out\n",
    "out = out.lower().split(' ')\n",
    "#print out\n",
    "words = []\n",
    "stop = set(['to', 'the', 'a', 'an', ''])\n",
    "for w in out:\n",
    "    if w not in stop:\n",
    "        words.append(w)\n",
    "#print words"
   ]
  },
  {
   "cell_type": "code",
   "execution_count": null,
   "metadata": {
    "collapsed": true
   },
   "outputs": [],
   "source": []
  },
  {
   "cell_type": "code",
   "execution_count": null,
   "metadata": {
    "collapsed": true
   },
   "outputs": [],
   "source": []
  },
  {
   "cell_type": "markdown",
   "metadata": {},
   "source": [
    "# Build SVM model"
   ]
  },
  {
   "cell_type": "code",
   "execution_count": null,
   "metadata": {
    "collapsed": true
   },
   "outputs": [],
   "source": [
    "from sklearn import cross_validation\n",
    "from sklearn.svm import SVC, LinearSVC\n",
    "from sklearn.metrics import classification_report, confusion_matrix, accuracy_score\n",
    "from sklearn import metrics\n",
    "from sklearn.multiclass import OneVsRestClassifier\n",
    "\n",
    "clf = OneVsRestClassifier(SVC(C=1, kernel = 'linear', gamma=1, verbose= False, probability=False))\n",
    "clf.fit(tweets_vecs, labels_vecs)\n",
    "print \"\\nDone fitting classifier on training data...\\n\"\n",
    "#------------------------------------------------------------------------------------------\n",
    "print \"=\"*50, \"\\n\"\n",
    "print \"Results with 10-fold cross validation:\\n\"\n",
    "print \"=\"*50, \"\\n\"\n",
    "#------------------------------------------------------------------------------------------\n",
    "predicted = cross_validation.cross_val_predict(clf, tweets_vecs, labels_vecs, cv=10)\n",
    "print \"*\"*20\n",
    "print \"\\t accuracy_score\\t\", metrics.accuracy_score(labels_vecs, predicted)\n",
    "print \"*\"*20\n",
    "print \"precision_score\\t\", metrics.precision_score(labels_vecs, predicted)\n",
    "print \"recall_score\\t\", metrics.recall_score(labels_vecs, predicted)\n",
    "print \"\\nclassification_report:\\n\\n\", metrics.classification_report(labels_vecs, predicted)\n",
    "print \"\\nconfusion_matrix:\\n\\n\", metrics.confusion_matrix(labels_vecs, predicted)"
   ]
  },
  {
   "cell_type": "markdown",
   "metadata": {
    "collapsed": true
   },
   "source": [
    "# Word cloud"
   ]
  },
  {
   "cell_type": "code",
   "execution_count": 695,
   "metadata": {
    "collapsed": false
   },
   "outputs": [
    {
     "name": "stdout",
     "output_type": "stream",
     "text": [
      "[(u'thanks', 194), (u'cancer', 144), (u'time', 136), (u'like', 133), (u'good', 131), (u'thank', 127), (u'hi', 119), (u'chemo', 102), (u'love', 86), (u'feel', 85)]\n",
      "[(u'chemo', 25), (u'thanks', 23), (u'good', 23), (u'&amp', 19), (u'tiger', 17), (u'hi', 17), (u'love', 16), (u'cancer', 16), (u'days', 15), (u'like', 15)]\n",
      "[(u'cancer', 560), (u'breast', 403), (u'chemo', 400), (u'like', 395), (u'time', 393), (u'good', 293), (u'hi', 285), (u'thanks', 267), (u'feel', 249), (u'radiation', 245)]\n",
      "[(u'cancer', 224), (u'chemo', 164), (u'breast', 156), (u'like', 146), (u'time', 121), (u'love', 104), (u'help', 98), (u'feel', 92), (u'surgery', 89), (u'radiation', 88)]\n",
      "[(u'cancer', 121), (u'breast', 81), (u'like', 74), (u'chemo', 69), (u'hi', 52), (u'time', 49), (u'good', 44), (u'feel', 33), (u'&amp', 32), (u'help', 32)]\n",
      "[(u'cancer', 554), (u'chemo', 398), (u'breast', 327), (u'like', 315), (u'&gt', 295), (u'time', 287), (u'treatment', 276), (u'&amp', 265), (u'good', 248), (u'feel', 245)]\n",
      "[(u'thanks', 313), (u'good', 146), (u'hi', 145), (u'like', 143), (u'cancer', 141), (u'chemo', 114), (u'thank', 105), (u'time', 104), (u'god', 91), (u'love', 79)]\n",
      "[(u'thanks', 78), (u'time', 46), (u'good', 44), (u'like', 43), (u'cancer', 41), (u'feel', 31), (u'chemo', 30), (u'hi', 29), (u'love', 27), (u'thank', 26)]\n",
      "[(u'based', 9), (u'oncologists', 8), (u'cancer', 6), (u'chemotherapy', 6), (u'drug', 5), (u'prescribed', 5), (u'breast', 4), (u'profit', 4), (u'community', 4), (u'infusion', 4)]\n"
     ]
    }
   ],
   "source": [
    "from wordcloud import WordCloud\n",
    "\n",
    "for key in cleaned_whole_text:\n",
    "    wordlist = []\n",
    "    for words in cleaned_whole_text[key]:\n",
    "        for word in words:\n",
    "            wordlist.append(word)\n",
    "    wf = Counter(wordlist)\n",
    "    print wf.most_common(10)\n",
    "    wc = WordCloud(max_font_size=40).generate_from_frequencies((k, wf[k]) for k in wf.keys())\n",
    "    #plt.imshow(wc)\n",
    "    #plt.title(\"Postings:\"+key)"
   ]
  },
  {
   "cell_type": "code",
   "execution_count": 619,
   "metadata": {
    "collapsed": false
   },
   "outputs": [],
   "source": [
    "def extract_yr_posts(year):\n",
    "    text_list = []\n",
    "    words = []\n",
    "    for key in cleaned_whole_text:\n",
    "        if year in key:\n",
    "            text_list.extend(cleaned_whole_text[key])\n",
    "    for l in text_list:\n",
    "        for w in l:\n",
    "            words.append(w)\n",
    "    return words\n",
    "\n",
    "#extract_yr_posts('2000')\n",
    "text_yr = []\n",
    "years = range(2000, 2018)\n",
    "for y in years:\n",
    "    text_yr.append(extract_yr_posts(str(y))) "
   ]
  },
  {
   "cell_type": "code",
   "execution_count": 620,
   "metadata": {
    "collapsed": false
   },
   "outputs": [
    {
     "name": "stdout",
     "output_type": "stream",
     "text": [
      "[(u'cancer', 291), (u'chemo', 253), (u'hi', 207), (u'like', 196), (u'good', 193), (u'time', 150), (u'breast', 147), (u\"i'm\", 141), (u'help', 136), (u'tiger', 132)]\n",
      "[(u'cancer', 1286), (u'good', 1121), (u'chemo', 1093), (u'hi', 1091), (u'time', 912), (u'like', 903), (u'&amp', 876), (u\"i'm\", 715), (u'breast', 712), (u'love', 710)]\n",
      "[(u'good', 1544), (u'cancer', 1496), (u'hi', 1458), (u'time', 1298), (u'chemo', 1244), (u\"i'm\", 1215), (u'like', 1171), (u'god', 1071), (u\"don't\", 985), (u'breast', 906)]\n",
      "[(u'cancer', 1824), (u'chemo', 1732), (u'good', 1373), (u'like', 1341), (u'time', 1334), (u'breast', 1192), (u\"i'm\", 1189), (u\"don't\", 1074), (u'god', 861), (u'hi', 836)]\n",
      "[(u'cancer', 2028), (u'chemo', 1457), (u'like', 1164), (u'breast', 1115), (u\"i'm\", 1083), (u'good', 1077), (u'time', 1065), (u\"don't\", 906), (u'hi', 887), (u'feel', 805)]\n",
      "[(u'cancer', 1095), (u'chemo', 696), (u'breast', 643), (u'time', 636), (u'like', 600), (u'good', 584), (u\"i'm\", 530), (u'feel', 471), (u'pain', 457), (u\"don't\", 430)]\n",
      "[(u'cancer', 779), (u'breast', 470), (u\"i'm\", 454), (u'chemo', 454), (u'time', 440), (u'like', 438), (u'good', 431), (u\"don't\", 414), (u'treatment', 338), (u'pain', 326)]\n",
      "[(u'cancer', 758), (u'time', 492), (u'like', 438), (u'chemo', 419), (u\"i'm\", 394), (u'breast', 386), (u\"don't\", 376), (u'good', 368), (u'treatment', 277), (u'feel', 255)]\n",
      "[(u'cancer', 2177), (u'chemo', 1597), (u'like', 1474), (u'time', 1397), (u\"i'm\", 1331), (u\"don't\", 1281), (u'good', 1205), (u'breast', 1160), (u'feel', 1057), (u'help', 782)]\n",
      "[(u'good', 8711), (u'chemo', 8248), (u'like', 7882), (u\"i'm\", 7343), (u'cancer', 7298), (u'time', 6993), (u\"don't\", 6490), (u'feel', 4724), (u'hope', 4673), (u'day', 4537)]\n",
      "[(u'chemo', 9988), (u'good', 9199), (u\"i'm\", 8412), (u'like', 8229), (u'cancer', 7902), (u'time', 7594), (u\"don't\", 6041), (u'day', 5683), (u'feel', 5130), (u'hugs', 5122)]\n",
      "[(u'good', 6624), (u'chemo', 6086), (u'cancer', 5605), (u'like', 5582), (u\"i'm\", 5480), (u'time', 5180), (u'hugs', 5149), (u\"don't\", 4272), (u'day', 4259), (u'hope', 3794)]\n",
      "[(u'cancer', 3690), (u'good', 3273), (u'time', 3030), (u'chemo', 3003), (u'hugs', 2901), (u\"i'm\", 2750), (u'like', 2738), (u\"don't\", 2341), (u'hope', 2307), (u'breast', 2203)]\n",
      "[(u'\\\\xa', 3205), (u'cancer', 2009), (u'good', 1604), (u'\\\\xai', 1354), (u'like', 1291), (u'time', 1290), (u'chemo', 1283), (u'breast', 1213), (u'hugs', 1177), (u'hope', 1000)]\n",
      "[(u'\\\\xa', 1431), (u'cancer', 925), (u'chemo', 682), (u'time', 577), (u'like', 557), (u'good', 531), (u'\\\\xai', 521), (u'breast', 462), (u'day', 401), (u'hope', 388)]\n",
      "[(u'\\\\xa', 1196), (u'cancer', 810), (u'chemo', 704), (u\"i'm\", 566), (u'breast', 562), (u'like', 495), (u'time', 488), (u'\\\\xai', 470), (u'good', 462), (u'pain', 369)]\n",
      "[(u'\\\\xa', 605), (u'chemo', 547), (u'cancer', 527), (u'\\\\xai', 499), (u'breast', 387), (u'like', 350), (u'time', 317), (u\"i'm\", 316), (u'radiation', 287), (u'good', 273)]\n",
      "[(u'\\\\xa', 59), (u'cancer', 38), (u'chemo', 33), (u'\\\\xai', 31), (u'time', 25), (u'breast', 23), (u'radiation', 21), (u\"i'm\", 19), (u'surgery', 18), (u'good', 17)]\n"
     ]
    }
   ],
   "source": [
    "from wordcloud import WordCloud\n",
    "\n",
    "for t in text_yr:\n",
    "    wf = Counter(t)\n",
    "    print wf.most_common(10)\n",
    "    wc = WordCloud(max_font_size=40).generate_from_frequencies((k, wf[k]) for k in wf.keys())"
   ]
  },
  {
   "cell_type": "markdown",
   "metadata": {},
   "source": [
    "# Language similarity"
   ]
  },
  {
   "cell_type": "code",
   "execution_count": null,
   "metadata": {
    "collapsed": true
   },
   "outputs": [],
   "source": []
  },
  {
   "cell_type": "markdown",
   "metadata": {},
   "source": [
    "# Duration at the individual level"
   ]
  },
  {
   "cell_type": "markdown",
   "metadata": {},
   "source": [
    "A highly danymic community - people come and go very frequently"
   ]
  },
  {
   "cell_type": "code",
   "execution_count": 33,
   "metadata": {
    "collapsed": false
   },
   "outputs": [
    {
     "name": "stdout",
     "output_type": "stream",
     "text": [
      "Name: \n",
      "Type: DiGraph\n",
      "Number of nodes: 8393\n",
      "Number of edges: 100196\n",
      "Average in degree:  11.9380\n",
      "Average out degree:  11.9380\n"
     ]
    }
   ],
   "source": [
    "graph_reply = nx.DiGraph()\n",
    "for key in data:\n",
    "    i = 0\n",
    "    while i < 50:\n",
    "        try:\n",
    "            if data[key]['user'] != data[key]['reply'][i]['user']:  #forbid self-loop\n",
    "                graph_reply.add_edge(data[key]['reply'][i]['user'], data[key]['user'],post_time=data[key]['post_time'],reply_time=data[key]['reply'][i]['post_time'])\n",
    "        except:\n",
    "            pass\n",
    "        i += 1\n",
    "print nx.info(graph_reply)"
   ]
  },
  {
   "cell_type": "code",
   "execution_count": 34,
   "metadata": {
    "collapsed": false
   },
   "outputs": [
    {
     "name": "stdout",
     "output_type": "stream",
     "text": [
      "Name: \n",
      "Type: DiGraph\n",
      "Number of nodes: 8495\n",
      "Number of edges: 105246\n",
      "Average in degree:  12.3892\n",
      "Average out degree:  12.3892\n"
     ]
    }
   ],
   "source": [
    "graph_ask = nx.DiGraph()\n",
    "for key in data:\n",
    "    i = 0\n",
    "    while i < 50:\n",
    "        try: \n",
    "            if data[key]['user'] != data[key]['reply'][i]['user']:  #forbid self-loop                       \n",
    "                graph_ask.add_edge(data[key]['user'], data[key]['reply'][i]['user'],post_time=data[key]['post_time'],reply_time=data[key]['reply'][i]['post_time'])\n",
    "        except:\n",
    "            #pass\n",
    "            graph_ask.add_edge(data[key]['user'], 'None', post_time=data[key]['post_time'])            \n",
    "        i += 1\n",
    "print nx.info(graph_ask)"
   ]
  },
  {
   "cell_type": "code",
   "execution_count": 35,
   "metadata": {
    "collapsed": true
   },
   "outputs": [],
   "source": [
    "# get the lastest posting date of a user\n",
    "def get_latest_replydate(graph, user):\n",
    "    dates = []  \n",
    "    for key in graph_reply[user]:\n",
    "        date = graph_reply[user][key]['reply_time']\n",
    "        dates.append(date.split(', ')[1]+date.split(' ')[0]+' '+date.split(' ')[1].split(',')[0])  \n",
    "    #print dates\n",
    "\n",
    "    dates1 = []    \n",
    "    for date in dates:\n",
    "        if 'Jan' in str(date):\n",
    "            date = str(date).replace('Jan', '01')\n",
    "        elif 'Feb' in str(date):\n",
    "            date = str(date).replace('Feb', '02')\n",
    "        elif 'Mar' in str(date):\n",
    "            date = str(date).replace('Mar', '03')\n",
    "        elif 'Apr' in str(date):\n",
    "            date = str(date).replace('Apr', '04')\n",
    "        elif 'May' in str(date):\n",
    "            date = str(date).replace('May', '05')\n",
    "        elif 'Jun' in str(date):\n",
    "            date = str(date).replace('Jun', '06')\n",
    "        elif 'Jul' in str(date):\n",
    "            date = str(date).replace('Jul', '07')\n",
    "        elif 'Aug' in str(date):\n",
    "            date = str(date).replace('Aug', '08')\n",
    "        elif 'Sep' in str(date):\n",
    "            date = str(date).replace('Sep', '09')\n",
    "        elif 'Oct' in str(date):\n",
    "            date = str(date).replace('Oct', '10')\n",
    "        elif 'Nov' in str(date):\n",
    "            date = str(date).replace('Nov', '11')\n",
    "        else:\n",
    "            date = str(date).replace('Dec', '12')\n",
    "        dates1.append(date) \n",
    "    #print dates1 \n",
    "    return max(dates1)\n",
    "\n",
    "def get_latest_askdate(graph, user):\n",
    "    dates = []\n",
    "    for key in graph_ask[user]:\n",
    "        date = graph_ask[user][key]['post_time']\n",
    "        dates.append(date.split(', ')[1]+date.split(' ')[0]+' '+date.split(' ')[1].split(',')[0])   \n",
    "    #print dates\n",
    "\n",
    "    dates1 = []    \n",
    "    for date in dates:\n",
    "        if 'Jan' in str(date):\n",
    "            date = str(date).replace('Jan', '01')\n",
    "        elif 'Feb' in str(date):\n",
    "            date = str(date).replace('Feb', '02')\n",
    "        elif 'Mar' in str(date):\n",
    "            date = str(date).replace('Mar', '03')\n",
    "        elif 'Apr' in str(date):\n",
    "            date = str(date).replace('Apr', '04')\n",
    "        elif 'May' in str(date):\n",
    "            date = str(date).replace('May', '05')\n",
    "        elif 'Jun' in str(date):\n",
    "            date = str(date).replace('Jun', '06')\n",
    "        elif 'Jul' in str(date):\n",
    "            date = str(date).replace('Jul', '07')\n",
    "        elif 'Aug' in str(date):\n",
    "            date = str(date).replace('Aug', '08')\n",
    "        elif 'Sep' in str(date):\n",
    "            date = str(date).replace('Sep', '09')\n",
    "        elif 'Oct' in str(date):\n",
    "            date = str(date).replace('Oct', '10')\n",
    "        elif 'Nov' in str(date):\n",
    "            date = str(date).replace('Nov', '11')\n",
    "        else:\n",
    "            date = str(date).replace('Dec', '12')\n",
    "        dates1.append(date)   \n",
    "    #print dates1 \n",
    "    return max(dates1) # get maximum\n",
    "\n",
    "# get the earlist posting date of a user\n",
    "def get_early_replydate(graph, user):\n",
    "    dates = []  \n",
    "    for key in graph_reply[user]:\n",
    "        date = graph_reply[user][key]['reply_time']\n",
    "        dates.append(date.split(', ')[1]+date.split(' ')[0]+' '+date.split(' ')[1].split(',')[0])   \n",
    "    #print dates\n",
    "\n",
    "    dates1 = []    \n",
    "    for date in dates:\n",
    "        if 'Jan' in str(date):\n",
    "            date = str(date).replace('Jan', '01')\n",
    "        elif 'Feb' in str(date):\n",
    "            date = str(date).replace('Feb', '02')\n",
    "        elif 'Mar' in str(date):\n",
    "            date = str(date).replace('Mar', '03')\n",
    "        elif 'Apr' in str(date):\n",
    "            date = str(date).replace('Apr', '04')\n",
    "        elif 'May' in str(date):\n",
    "            date = str(date).replace('May', '05')\n",
    "        elif 'Jun' in str(date):\n",
    "            date = str(date).replace('Jun', '06')\n",
    "        elif 'Jul' in str(date):\n",
    "            date = str(date).replace('Jul', '07')\n",
    "        elif 'Aug' in str(date):\n",
    "            date = str(date).replace('Aug', '08')\n",
    "        elif 'Sep' in str(date):\n",
    "            date = str(date).replace('Sep', '09')\n",
    "        elif 'Oct' in str(date):\n",
    "            date = str(date).replace('Oct', '10')\n",
    "        elif 'Nov' in str(date):\n",
    "            date = str(date).replace('Nov', '11')\n",
    "        else:\n",
    "            date = str(date).replace('Dec', '12')\n",
    "        dates1.append(date)  \n",
    "    #print dates1 \n",
    "    return min(dates1)\n",
    "\n",
    "def get_early_askdate(graph, user):\n",
    "    dates = []\n",
    "    for key in graph_ask[user]:\n",
    "        date = graph_ask[user][key]['post_time']\n",
    "        dates.append(date.split(', ')[1]+date.split(' ')[0]+' '+date.split(' ')[1].split(',')[0])   \n",
    "    #print dates\n",
    "\n",
    "    dates1 = []    \n",
    "    for date in dates:\n",
    "        if 'Jan' in str(date):\n",
    "            date = str(date).replace('Jan', '01')\n",
    "        elif 'Feb' in str(date):\n",
    "            date = str(date).replace('Feb', '02')\n",
    "        elif 'Mar' in str(date):\n",
    "            date = str(date).replace('Mar', '03')\n",
    "        elif 'Apr' in str(date):\n",
    "            date = str(date).replace('Apr', '04')\n",
    "        elif 'May' in str(date):\n",
    "            date = str(date).replace('May', '05')\n",
    "        elif 'Jun' in str(date):\n",
    "            date = str(date).replace('Jun', '06')\n",
    "        elif 'Jul' in str(date):\n",
    "            date = str(date).replace('Jul', '07')\n",
    "        elif 'Aug' in str(date):\n",
    "            date = str(date).replace('Aug', '08')\n",
    "        elif 'Sep' in str(date):\n",
    "            date = str(date).replace('Sep', '09')\n",
    "        elif 'Oct' in str(date):\n",
    "            date = str(date).replace('Oct', '10')\n",
    "        elif 'Nov' in str(date):\n",
    "            date = str(date).replace('Nov', '11')\n",
    "        else:\n",
    "            date = str(date).replace('Dec', '12')\n",
    "        dates1.append(date)    \n",
    "    #print dates1 \n",
    "    return min(dates1)"
   ]
  },
  {
   "cell_type": "code",
   "execution_count": 36,
   "metadata": {
    "collapsed": false
   },
   "outputs": [
    {
     "name": "stdout",
     "output_type": "stream",
     "text": [
      "5050\n",
      "6165\n",
      "5050\n",
      "6165\n"
     ]
    }
   ],
   "source": [
    "askdates = {}\n",
    "for node in graph_ask:\n",
    "    if graph_ask[node] != {}:\n",
    "        date = get_latest_askdate(graph_ask, node)\n",
    "        askdates[node] = date\n",
    "print len(askdates)\n",
    "\n",
    "replydates = {}\n",
    "for node in graph_reply:\n",
    "    if graph_reply[node] != {}:\n",
    "        date = get_latest_replydate(graph_reply, node)\n",
    "        replydates[node] = date\n",
    "print len(replydates)\n",
    "\n",
    "askdates0 = {}\n",
    "for node in graph_ask:\n",
    "    if graph_ask[node] != {}:\n",
    "        date = get_early_askdate(graph_ask, node)\n",
    "        askdates0[node] = date\n",
    "print len(askdates0)\n",
    "\n",
    "replydates0 = {}\n",
    "for node in graph_reply:\n",
    "    if graph_reply[node] != {}:\n",
    "        date = get_early_replydate(graph_reply, node)\n",
    "        replydates0[node] = date\n",
    "print len(replydates0)"
   ]
  },
  {
   "cell_type": "code",
   "execution_count": 37,
   "metadata": {
    "collapsed": false
   },
   "outputs": [
    {
     "name": "stdout",
     "output_type": "stream",
     "text": [
      "2721\n",
      "5050\n",
      "8494\n",
      "2721\n",
      "5050\n",
      "8494\n"
     ]
    }
   ],
   "source": [
    "last = {}\n",
    "for k in replydates:\n",
    "    if k in askdates:\n",
    "        date = max([askdates[k], replydates[k]])\n",
    "        last[k] = date\n",
    "print len(last) \n",
    "\n",
    "for v in askdates:\n",
    "    if v not in last:\n",
    "        last[v] = askdates[v]        \n",
    "print len(last)       \n",
    "\n",
    "for j in replydates:\n",
    "    if j not in last:\n",
    "        last[j] = replydates[j]        \n",
    "print len(last) \n",
    "\n",
    "first = {}\n",
    "for k in replydates0:\n",
    "    if k in askdates0:\n",
    "        date = min([askdates0[k], replydates0[k]])\n",
    "        first[k] = date\n",
    "print len(first) \n",
    "\n",
    "for v in askdates0:\n",
    "    if v not in first:\n",
    "        first[v] = askdates0[v]        \n",
    "print len(first)       \n",
    "\n",
    "for j in replydates0:\n",
    "    if j not in first:\n",
    "        first[j] = replydates0[j]        \n",
    "print len(first)"
   ]
  },
  {
   "cell_type": "code",
   "execution_count": 38,
   "metadata": {
    "collapsed": false
   },
   "outputs": [
    {
     "name": "stdout",
     "output_type": "stream",
     "text": [
      "8466\n"
     ]
    }
   ],
   "source": [
    "duration = {}\n",
    "for k in first:\n",
    "    if last[k].split(' ')[0] != 2017 and int(first[k].split(' ')[0]) != 2017:\n",
    "        dur = (int(last[k].split(' ')[0])-int(first[k].split(' ')[0]))*365+(int(last[k].split(' ')[1])-int(first[k].split(' ')[1]))*30+(int(last[k].split(' ')[2])-int(first[k].split(' ')[2])) \n",
    "        duration[k] = dur\n",
    "print len(duration)"
   ]
  },
  {
   "cell_type": "code",
   "execution_count": 39,
   "metadata": {
    "collapsed": false
   },
   "outputs": [
    {
     "name": "stdout",
     "output_type": "stream",
     "text": [
      "8465\n"
     ]
    }
   ],
   "source": [
    "# drop anonymous user\n",
    "for key in duration:\n",
    "    if key == 'Anonymous user (not verified)':\n",
    "        del duration[key]\n",
    "        break\n",
    "print len(duration)"
   ]
  },
  {
   "cell_type": "code",
   "execution_count": 40,
   "metadata": {
    "collapsed": false
   },
   "outputs": [
    {
     "data": {
      "text/plain": [
       "Counter({0: 5312,\n",
       "         1: 200,\n",
       "         2: 98,\n",
       "         3: 76,\n",
       "         4: 54,\n",
       "         5: 55,\n",
       "         6: 64,\n",
       "         7: 53,\n",
       "         8: 39,\n",
       "         9: 29,\n",
       "         10: 38,\n",
       "         11: 28,\n",
       "         12: 31,\n",
       "         13: 32,\n",
       "         14: 25,\n",
       "         15: 25,\n",
       "         16: 27,\n",
       "         17: 15,\n",
       "         18: 20,\n",
       "         19: 18,\n",
       "         20: 21,\n",
       "         21: 14,\n",
       "         22: 21,\n",
       "         23: 12,\n",
       "         24: 12,\n",
       "         25: 15,\n",
       "         26: 15,\n",
       "         27: 21,\n",
       "         28: 15,\n",
       "         29: 23,\n",
       "         30: 9,\n",
       "         31: 15,\n",
       "         32: 11,\n",
       "         2081: 1,\n",
       "         34: 11,\n",
       "         35: 12,\n",
       "         36: 7,\n",
       "         37: 11,\n",
       "         38: 16,\n",
       "         39: 14,\n",
       "         40: 14,\n",
       "         41: 15,\n",
       "         42: 13,\n",
       "         43: 8,\n",
       "         44: 6,\n",
       "         45: 6,\n",
       "         46: 11,\n",
       "         47: 7,\n",
       "         48: 7,\n",
       "         49: 14,\n",
       "         50: 6,\n",
       "         51: 4,\n",
       "         52: 8,\n",
       "         53: 6,\n",
       "         54: 10,\n",
       "         55: 8,\n",
       "         56: 6,\n",
       "         57: 6,\n",
       "         58: 7,\n",
       "         59: 7,\n",
       "         60: 8,\n",
       "         61: 11,\n",
       "         62: 7,\n",
       "         63: 7,\n",
       "         64: 6,\n",
       "         65: 8,\n",
       "         66: 3,\n",
       "         67: 8,\n",
       "         68: 2,\n",
       "         69: 8,\n",
       "         70: 4,\n",
       "         71: 5,\n",
       "         72: 8,\n",
       "         73: 3,\n",
       "         74: 5,\n",
       "         75: 5,\n",
       "         76: 3,\n",
       "         77: 5,\n",
       "         78: 8,\n",
       "         79: 7,\n",
       "         80: 8,\n",
       "         81: 12,\n",
       "         82: 7,\n",
       "         83: 3,\n",
       "         84: 3,\n",
       "         85: 4,\n",
       "         86: 8,\n",
       "         87: 5,\n",
       "         88: 5,\n",
       "         89: 8,\n",
       "         90: 4,\n",
       "         91: 9,\n",
       "         92: 4,\n",
       "         93: 5,\n",
       "         94: 9,\n",
       "         95: 5,\n",
       "         96: 5,\n",
       "         97: 4,\n",
       "         98: 7,\n",
       "         99: 2,\n",
       "         100: 7,\n",
       "         101: 2,\n",
       "         102: 3,\n",
       "         103: 2,\n",
       "         104: 6,\n",
       "         105: 6,\n",
       "         106: 4,\n",
       "         107: 6,\n",
       "         108: 2,\n",
       "         109: 5,\n",
       "         110: 6,\n",
       "         111: 6,\n",
       "         112: 8,\n",
       "         113: 4,\n",
       "         114: 4,\n",
       "         115: 6,\n",
       "         116: 2,\n",
       "         117: 9,\n",
       "         118: 5,\n",
       "         119: 4,\n",
       "         120: 7,\n",
       "         122: 5,\n",
       "         123: 3,\n",
       "         124: 3,\n",
       "         125: 2,\n",
       "         126: 3,\n",
       "         127: 2,\n",
       "         128: 1,\n",
       "         129: 6,\n",
       "         130: 2,\n",
       "         131: 7,\n",
       "         132: 5,\n",
       "         133: 3,\n",
       "         134: 2,\n",
       "         135: 4,\n",
       "         136: 1,\n",
       "         137: 6,\n",
       "         138: 5,\n",
       "         139: 6,\n",
       "         140: 3,\n",
       "         141: 2,\n",
       "         142: 6,\n",
       "         143: 9,\n",
       "         144: 3,\n",
       "         145: 4,\n",
       "         146: 3,\n",
       "         147: 2,\n",
       "         148: 5,\n",
       "         149: 1,\n",
       "         150: 3,\n",
       "         151: 2,\n",
       "         152: 3,\n",
       "         153: 2,\n",
       "         154: 4,\n",
       "         155: 2,\n",
       "         156: 1,\n",
       "         2074: 2,\n",
       "         158: 2,\n",
       "         159: 1,\n",
       "         160: 3,\n",
       "         161: 7,\n",
       "         162: 2,\n",
       "         163: 2,\n",
       "         164: 3,\n",
       "         165: 6,\n",
       "         166: 4,\n",
       "         167: 4,\n",
       "         168: 5,\n",
       "         169: 5,\n",
       "         170: 3,\n",
       "         171: 2,\n",
       "         172: 2,\n",
       "         173: 3,\n",
       "         174: 2,\n",
       "         175: 2,\n",
       "         176: 2,\n",
       "         177: 5,\n",
       "         178: 4,\n",
       "         179: 2,\n",
       "         180: 2,\n",
       "         181: 2,\n",
       "         182: 2,\n",
       "         183: 3,\n",
       "         184: 3,\n",
       "         185: 6,\n",
       "         186: 3,\n",
       "         187: 2,\n",
       "         188: 3,\n",
       "         189: 2,\n",
       "         190: 5,\n",
       "         191: 5,\n",
       "         192: 4,\n",
       "         193: 3,\n",
       "         194: 1,\n",
       "         195: 3,\n",
       "         196: 5,\n",
       "         197: 1,\n",
       "         198: 4,\n",
       "         199: 3,\n",
       "         200: 2,\n",
       "         201: 6,\n",
       "         202: 3,\n",
       "         203: 3,\n",
       "         204: 1,\n",
       "         205: 1,\n",
       "         206: 7,\n",
       "         207: 1,\n",
       "         208: 1,\n",
       "         209: 3,\n",
       "         210: 5,\n",
       "         211: 4,\n",
       "         212: 4,\n",
       "         213: 8,\n",
       "         214: 1,\n",
       "         215: 2,\n",
       "         217: 1,\n",
       "         218: 3,\n",
       "         219: 1,\n",
       "         220: 4,\n",
       "         221: 2,\n",
       "         222: 3,\n",
       "         223: 2,\n",
       "         224: 2,\n",
       "         225: 1,\n",
       "         226: 3,\n",
       "         227: 3,\n",
       "         228: 2,\n",
       "         230: 1,\n",
       "         231: 3,\n",
       "         232: 1,\n",
       "         233: 4,\n",
       "         234: 1,\n",
       "         235: 1,\n",
       "         236: 1,\n",
       "         237: 2,\n",
       "         238: 2,\n",
       "         239: 1,\n",
       "         240: 2,\n",
       "         241: 3,\n",
       "         242: 3,\n",
       "         243: 2,\n",
       "         244: 4,\n",
       "         245: 3,\n",
       "         246: 3,\n",
       "         248: 1,\n",
       "         249: 1,\n",
       "         250: 2,\n",
       "         251: 4,\n",
       "         2300: 1,\n",
       "         2303: 1,\n",
       "         256: 1,\n",
       "         257: 3,\n",
       "         258: 3,\n",
       "         259: 1,\n",
       "         260: 4,\n",
       "         261: 2,\n",
       "         262: 2,\n",
       "         263: 2,\n",
       "         264: 4,\n",
       "         265: 6,\n",
       "         266: 2,\n",
       "         267: 1,\n",
       "         269: 3,\n",
       "         272: 2,\n",
       "         273: 2,\n",
       "         274: 7,\n",
       "         275: 1,\n",
       "         276: 3,\n",
       "         2094: 1,\n",
       "         278: 2,\n",
       "         279: 4,\n",
       "         280: 2,\n",
       "         281: 2,\n",
       "         282: 1,\n",
       "         283: 2,\n",
       "         284: 2,\n",
       "         730: 1,\n",
       "         286: 1,\n",
       "         287: 1,\n",
       "         288: 3,\n",
       "         289: 3,\n",
       "         290: 1,\n",
       "         291: 1,\n",
       "         292: 1,\n",
       "         293: 4,\n",
       "         294: 2,\n",
       "         295: 2,\n",
       "         296: 3,\n",
       "         297: 2,\n",
       "         299: 2,\n",
       "         300: 2,\n",
       "         302: 1,\n",
       "         303: 1,\n",
       "         304: 1,\n",
       "         305: 1,\n",
       "         2354: 1,\n",
       "         307: 3,\n",
       "         308: 4,\n",
       "         309: 2,\n",
       "         310: 3,\n",
       "         311: 2,\n",
       "         313: 1,\n",
       "         314: 4,\n",
       "         315: 1,\n",
       "         316: 3,\n",
       "         317: 1,\n",
       "         318: 1,\n",
       "         319: 1,\n",
       "         320: 4,\n",
       "         321: 1,\n",
       "         322: 1,\n",
       "         323: 2,\n",
       "         324: 1,\n",
       "         325: 2,\n",
       "         327: 2,\n",
       "         328: 2,\n",
       "         329: 2,\n",
       "         330: 4,\n",
       "         331: 1,\n",
       "         333: 3,\n",
       "         334: 1,\n",
       "         335: 2,\n",
       "         2384: 1,\n",
       "         337: 3,\n",
       "         338: 2,\n",
       "         339: 1,\n",
       "         340: 2,\n",
       "         341: 3,\n",
       "         342: 2,\n",
       "         343: 2,\n",
       "         2392: 1,\n",
       "         345: 1,\n",
       "         346: 2,\n",
       "         348: 1,\n",
       "         349: 1,\n",
       "         350: 3,\n",
       "         351: 4,\n",
       "         352: 1,\n",
       "         353: 1,\n",
       "         354: 1,\n",
       "         2107: 2,\n",
       "         356: 1,\n",
       "         357: 1,\n",
       "         358: 1,\n",
       "         359: 1,\n",
       "         360: 1,\n",
       "         361: 2,\n",
       "         363: 1,\n",
       "         364: 1,\n",
       "         365: 1,\n",
       "         366: 1,\n",
       "         367: 1,\n",
       "         369: 1,\n",
       "         370: 1,\n",
       "         371: 1,\n",
       "         372: 1,\n",
       "         375: 1,\n",
       "         376: 1,\n",
       "         379: 2,\n",
       "         381: 1,\n",
       "         382: 1,\n",
       "         383: 1,\n",
       "         384: 1,\n",
       "         386: 1,\n",
       "         1513: 1,\n",
       "         389: 2,\n",
       "         390: 3,\n",
       "         391: 3,\n",
       "         392: 1,\n",
       "         393: 2,\n",
       "         395: 3,\n",
       "         396: 1,\n",
       "         397: 1,\n",
       "         398: 2,\n",
       "         2448: 1,\n",
       "         402: 2,\n",
       "         403: 1,\n",
       "         2452: 1,\n",
       "         405: 2,\n",
       "         407: 1,\n",
       "         408: 1,\n",
       "         409: 3,\n",
       "         410: 4,\n",
       "         411: 4,\n",
       "         413: 2,\n",
       "         414: 1,\n",
       "         415: 2,\n",
       "         416: 2,\n",
       "         417: 2,\n",
       "         419: 1,\n",
       "         421: 3,\n",
       "         422: 3,\n",
       "         425: 1,\n",
       "         426: 1,\n",
       "         2119: 1,\n",
       "         428: 2,\n",
       "         430: 3,\n",
       "         431: 2,\n",
       "         432: 1,\n",
       "         434: 3,\n",
       "         437: 1,\n",
       "         438: 2,\n",
       "         439: 1,\n",
       "         440: 4,\n",
       "         441: 1,\n",
       "         443: 1,\n",
       "         444: 2,\n",
       "         445: 3,\n",
       "         447: 2,\n",
       "         449: 3,\n",
       "         450: 1,\n",
       "         451: 1,\n",
       "         452: 2,\n",
       "         453: 2,\n",
       "         454: 2,\n",
       "         456: 1,\n",
       "         457: 1,\n",
       "         459: 1,\n",
       "         460: 2,\n",
       "         461: 1,\n",
       "         462: 1,\n",
       "         463: 1,\n",
       "         465: 1,\n",
       "         466: 1,\n",
       "         467: 4,\n",
       "         468: 1,\n",
       "         469: 3,\n",
       "         470: 1,\n",
       "         471: 1,\n",
       "         2520: 2,\n",
       "         473: 2,\n",
       "         2127: 1,\n",
       "         476: 2,\n",
       "         478: 1,\n",
       "         344: 2,\n",
       "         482: 1,\n",
       "         483: 1,\n",
       "         2533: 1,\n",
       "         488: 3,\n",
       "         489: 1,\n",
       "         490: 1,\n",
       "         2539: 1,\n",
       "         494: 1,\n",
       "         495: 2,\n",
       "         497: 1,\n",
       "         498: 1,\n",
       "         2548: 1,\n",
       "         502: 3,\n",
       "         503: 1,\n",
       "         2552: 1,\n",
       "         505: 1,\n",
       "         507: 4,\n",
       "         2474: 1,\n",
       "         2559: 1,\n",
       "         512: 1,\n",
       "         1449: 1,\n",
       "         514: 1,\n",
       "         515: 3,\n",
       "         519: 2,\n",
       "         521: 1,\n",
       "         522: 1,\n",
       "         523: 2,\n",
       "         525: 1,\n",
       "         528: 1,\n",
       "         529: 1,\n",
       "         530: 2,\n",
       "         532: 1,\n",
       "         533: 1,\n",
       "         534: 3,\n",
       "         535: 3,\n",
       "         536: 1,\n",
       "         537: 1,\n",
       "         539: 1,\n",
       "         427: 2,\n",
       "         542: 2,\n",
       "         2591: 1,\n",
       "         545: 1,\n",
       "         547: 5,\n",
       "         548: 2,\n",
       "         549: 1,\n",
       "         550: 1,\n",
       "         2405: 1,\n",
       "         552: 1,\n",
       "         554: 1,\n",
       "         556: 2,\n",
       "         557: 1,\n",
       "         558: 1,\n",
       "         559: 2,\n",
       "         560: 1,\n",
       "         561: 1,\n",
       "         562: 2,\n",
       "         563: 1,\n",
       "         564: 1,\n",
       "         2142: 1,\n",
       "         566: 1,\n",
       "         568: 2,\n",
       "         571: 1,\n",
       "         572: 2,\n",
       "         573: 1,\n",
       "         1792: 1,\n",
       "         575: 1,\n",
       "         2625: 1,\n",
       "         578: 1,\n",
       "         580: 1,\n",
       "         2455: 1,\n",
       "         582: 1,\n",
       "         583: 1,\n",
       "         584: 2,\n",
       "         585: 1,\n",
       "         587: 1,\n",
       "         588: 1,\n",
       "         590: 2,\n",
       "         592: 1,\n",
       "         594: 1,\n",
       "         596: 1,\n",
       "         600: 2,\n",
       "         601: 1,\n",
       "         603: 1,\n",
       "         606: 1,\n",
       "         608: 1,\n",
       "         784: 1,\n",
       "         610: 1,\n",
       "         617: 2,\n",
       "         618: 1,\n",
       "         621: 2,\n",
       "         622: 3,\n",
       "         623: 1,\n",
       "         624: 1,\n",
       "         625: 1,\n",
       "         631: 1,\n",
       "         633: 1,\n",
       "         634: 3,\n",
       "         635: 3,\n",
       "         636: 1,\n",
       "         638: 2,\n",
       "         640: 2,\n",
       "         643: 1,\n",
       "         644: 2,\n",
       "         2693: 1,\n",
       "         646: 2,\n",
       "         647: 1,\n",
       "         2696: 1,\n",
       "         649: 1,\n",
       "         2699: 1,\n",
       "         652: 1,\n",
       "         655: 4,\n",
       "         656: 1,\n",
       "         659: 1,\n",
       "         661: 1,\n",
       "         665: 1,\n",
       "         672: 1,\n",
       "         673: 1,\n",
       "         674: 1,\n",
       "         675: 1,\n",
       "         678: 1,\n",
       "         679: 1,\n",
       "         681: 1,\n",
       "         682: 1,\n",
       "         683: 1,\n",
       "         685: 1,\n",
       "         686: 1,\n",
       "         2736: 1,\n",
       "         689: 1,\n",
       "         2738: 1,\n",
       "         2739: 1,\n",
       "         2741: 1,\n",
       "         694: 1,\n",
       "         696: 1,\n",
       "         2164: 1,\n",
       "         699: 3,\n",
       "         700: 1,\n",
       "         701: 1,\n",
       "         702: 1,\n",
       "         3433: 1,\n",
       "         704: 1,\n",
       "         705: 3,\n",
       "         706: 1,\n",
       "         707: 1,\n",
       "         709: 1,\n",
       "         711: 1,\n",
       "         712: 2,\n",
       "         714: 1,\n",
       "         716: 1,\n",
       "         717: 2,\n",
       "         2766: 1,\n",
       "         721: 1,\n",
       "         723: 1,\n",
       "         724: 1,\n",
       "         726: 1,\n",
       "         727: 1,\n",
       "         728: 1,\n",
       "         729: 2,\n",
       "         2778: 1,\n",
       "         734: 3,\n",
       "         735: 1,\n",
       "         736: 1,\n",
       "         738: 1,\n",
       "         745: 2,\n",
       "         750: 1,\n",
       "         751: 1,\n",
       "         752: 1,\n",
       "         753: 1,\n",
       "         2803: 1,\n",
       "         2174: 1,\n",
       "         758: 1,\n",
       "         762: 1,\n",
       "         2175: 1,\n",
       "         765: 2,\n",
       "         767: 1,\n",
       "         773: 1,\n",
       "         4871: 1,\n",
       "         776: 1,\n",
       "         777: 1,\n",
       "         778: 2,\n",
       "         780: 1,\n",
       "         2832: 1,\n",
       "         785: 1,\n",
       "         786: 2,\n",
       "         787: 2,\n",
       "         789: 1,\n",
       "         790: 1,\n",
       "         792: 1,\n",
       "         794: 2,\n",
       "         795: 2,\n",
       "         798: 1,\n",
       "         799: 2,\n",
       "         800: 1,\n",
       "         801: 2,\n",
       "         2523: 1,\n",
       "         804: 1,\n",
       "         805: 1,\n",
       "         806: 2,\n",
       "         807: 1,\n",
       "         815: 1,\n",
       "         2184: 1,\n",
       "         818: 1,\n",
       "         819: 1,\n",
       "         820: 2,\n",
       "         823: 1,\n",
       "         825: 1,\n",
       "         827: 2,\n",
       "         836: 1,\n",
       "         841: 1,\n",
       "         842: 2,\n",
       "         843: 1,\n",
       "         844: 1,\n",
       "         847: 1,\n",
       "         852: 1,\n",
       "         853: 1,\n",
       "         855: 1,\n",
       "         2191: 1,\n",
       "         860: 1,\n",
       "         862: 1,\n",
       "         485: 1,\n",
       "         864: 1,\n",
       "         2193: 1,\n",
       "         872: 3,\n",
       "         1120: 1,\n",
       "         876: 1,\n",
       "         879: 2,\n",
       "         887: 1,\n",
       "         888: 1,\n",
       "         2196: 1,\n",
       "         891: 2,\n",
       "         2538: 1,\n",
       "         894: 2,\n",
       "         897: 2,\n",
       "         898: 1,\n",
       "         899: 2,\n",
       "         2198: 1,\n",
       "         908: 1,\n",
       "         2076: 1,\n",
       "         911: 1,\n",
       "         914: 1,\n",
       "         915: 1,\n",
       "         924: 2,\n",
       "         925: 2,\n",
       "         928: 1,\n",
       "         932: 1,\n",
       "         688: 1,\n",
       "         937: 1,\n",
       "         939: 1,\n",
       "         941: 1,\n",
       "         157: 3,\n",
       "         944: 1,\n",
       "         947: 3,\n",
       "         500: 2,\n",
       "         3003: 1,\n",
       "         3005: 1,\n",
       "         958: 1,\n",
       "         959: 1,\n",
       "         960: 1,\n",
       "         971: 1,\n",
       "         504: 3,\n",
       "         979: 1,\n",
       "         980: 1,\n",
       "         984: 1,\n",
       "         3033: 1,\n",
       "         989: 3,\n",
       "         991: 1,\n",
       "         992: 1,\n",
       "         995: 1,\n",
       "         33: 21,\n",
       "         3046: 1,\n",
       "         3048: 1,\n",
       "         1002: 1,\n",
       "         3052: 1,\n",
       "         1009: 1,\n",
       "         1010: 2,\n",
       "         1011: 2,\n",
       "         1013: 1,\n",
       "         1014: 1,\n",
       "         1015: 1,\n",
       "         1017: 1,\n",
       "         1019: 1,\n",
       "         1021: 1,\n",
       "         1022: 1,\n",
       "         1023: 1,\n",
       "         2148: 1,\n",
       "         1026: 1,\n",
       "         2219: 1,\n",
       "         1029: 1,\n",
       "         1032: 1,\n",
       "         1033: 1,\n",
       "         1034: 1,\n",
       "         1036: 2,\n",
       "         1037: 1,\n",
       "         1042: 1,\n",
       "         1043: 1,\n",
       "         1045: 1,\n",
       "         1048: 1,\n",
       "         1049: 1,\n",
       "         2223: 1,\n",
       "         1053: 1,\n",
       "         1056: 1,\n",
       "         1057: 1,\n",
       "         859: 1,\n",
       "         1061: 3,\n",
       "         1062: 1,\n",
       "         1063: 3,\n",
       "         1070: 1,\n",
       "         1071: 1,\n",
       "         1077: 1,\n",
       "         1079: 2,\n",
       "         1082: 2,\n",
       "         1083: 1,\n",
       "         1084: 1,\n",
       "         1086: 1,\n",
       "         1089: 1,\n",
       "         1094: 1,\n",
       "         1096: 1,\n",
       "         1099: 1,\n",
       "         1101: 1,\n",
       "         1103: 1,\n",
       "         1106: 1,\n",
       "         1107: 1,\n",
       "         1110: 1,\n",
       "         1111: 1,\n",
       "         1117: 1,\n",
       "         1119: 1,\n",
       "         2189: 1,\n",
       "         2235: 1,\n",
       "         1125: 1,\n",
       "         1126: 1,\n",
       "         2578: 1,\n",
       "         1134: 1,\n",
       "         1144: 1,\n",
       "         1145: 1,\n",
       "         1148: 1,\n",
       "         1150: 1,\n",
       "         1152: 2,\n",
       "         1156: 1,\n",
       "         1158: 1,\n",
       "         3209: 1,\n",
       "         1163: 1,\n",
       "         1165: 1,\n",
       "         1166: 1,\n",
       "         1167: 1,\n",
       "         1168: 1,\n",
       "         1169: 1,\n",
       "         1172: 1,\n",
       "         1179: 1,\n",
       "         1180: 2,\n",
       "         2085: 1,\n",
       "         1182: 1,\n",
       "         1188: 1,\n",
       "         1191: 1,\n",
       "         2190: 1,\n",
       "         1201: 1,\n",
       "         1204: 1,\n",
       "         1208: 1,\n",
       "         1209: 2,\n",
       "         1217: 1,\n",
       "         2463: 1,\n",
       "         1226: 1,\n",
       "         1230: 1,\n",
       "         1231: 2,\n",
       "         1232: 1,\n",
       "         1234: 1,\n",
       "         1235: 1,\n",
       "         1238: 1,\n",
       "         889: 1,\n",
       "         3288: 1,\n",
       "         1242: 1,\n",
       "         1255: 2,\n",
       "         1257: 1,\n",
       "         551: 3,\n",
       "         1264: 3,\n",
       "         1279: 1,\n",
       "         1282: 1,\n",
       "         1283: 1,\n",
       "         1285: 1,\n",
       "         1288: 1,\n",
       "         1292: 1,\n",
       "         1240: 1,\n",
       "         1298: 1,\n",
       "         1299: 1,\n",
       "         1301: 1,\n",
       "         1302: 1,\n",
       "         1308: 1,\n",
       "         1311: 1,\n",
       "         1312: 1,\n",
       "         1314: 1,\n",
       "         1319: 1,\n",
       "         1322: 1,\n",
       "         1324: 1,\n",
       "         3378: 1,\n",
       "         1331: 1,\n",
       "         1334: 1,\n",
       "         1336: 1,\n",
       "         1339: 1,\n",
       "         1348: 1,\n",
       "         1354: 1,\n",
       "         1355: 1,\n",
       "         1356: 1,\n",
       "         1358: 2,\n",
       "         1362: 1,\n",
       "         1363: 1,\n",
       "         1370: 2,\n",
       "         1373: 1,\n",
       "         1379: 2,\n",
       "         2160: 1,\n",
       "         1386: 1,\n",
       "         1391: 1,\n",
       "         2280: 1,\n",
       "         1399: 2,\n",
       "         1402: 1,\n",
       "         1404: 1,\n",
       "         1405: 1,\n",
       "         3454: 1,\n",
       "         1409: 1,\n",
       "         1410: 1,\n",
       "         1259: 1,\n",
       "         2161: 1,\n",
       "         2434: 1,\n",
       "         1426: 2,\n",
       "         2286: 1,\n",
       "         1430: 1,\n",
       "         1432: 1,\n",
       "         1438: 1,\n",
       "         1444: 1,\n",
       "         3494: 1,\n",
       "         1447: 1,\n",
       "         1448: 1,\n",
       "         2972: 1,\n",
       "         1454: 1,\n",
       "         1459: 1,\n",
       "         1460: 1,\n",
       "         1461: 1,\n",
       "         1462: 1,\n",
       "         2292: 1,\n",
       "         1467: 1,\n",
       "         1474: 1,\n",
       "         1483: 1,\n",
       "         1490: 1,\n",
       "         1494: 1,\n",
       "         1496: 2,\n",
       "         1500: 1,\n",
       "         2298: 1,\n",
       "         1502: 1,\n",
       "         1616: 2,\n",
       "         1506: 1,\n",
       "         1507: 1,\n",
       "         1508: 2,\n",
       "         1510: 1,\n",
       "         1512: 1,\n",
       "         252: 2,\n",
       "         1516: 1,\n",
       "         1517: 1,\n",
       "         1518: 1,\n",
       "         1519: 2,\n",
       "         1520: 1,\n",
       "         1525: 1,\n",
       "         1526: 1,\n",
       "         1527: 1,\n",
       "         255: 1,\n",
       "         1538: 3,\n",
       "         1540: 1,\n",
       "         1541: 2,\n",
       "         1542: 1,\n",
       "         1544: 1,\n",
       "         1547: 1,\n",
       "         1553: 1,\n",
       "         1554: 1,\n",
       "         1577: 1,\n",
       "         1587: 1,\n",
       "         1590: 1,\n",
       "         1593: 2,\n",
       "         1595: 1,\n",
       "         1597: 1,\n",
       "         1598: 1,\n",
       "         1600: 1,\n",
       "         1604: 1,\n",
       "         609: 2,\n",
       "         1611: 1,\n",
       "         1614: 1,\n",
       "         2116: 1,\n",
       "         1617: 3,\n",
       "         1624: 1,\n",
       "         1625: 1,\n",
       "         1634: 1,\n",
       "         1638: 1,\n",
       "         1297: 2,\n",
       "         1652: 1,\n",
       "         4714: 1,\n",
       "         277: 1,\n",
       "         1664: 1,\n",
       "         1665: 1,\n",
       "         1672: 1,\n",
       "         1987: 1,\n",
       "         693: 3,\n",
       "         1687: 1,\n",
       "         1699: 1,\n",
       "         285: 1,\n",
       "         3760: 1,\n",
       "         3768: 1,\n",
       "         1721: 1,\n",
       "         1728: 1,\n",
       "         2337: 1,\n",
       "         1736: 1,\n",
       "         1742: 1,\n",
       "         1744: 1,\n",
       "         1745: 1,\n",
       "         1753: 1,\n",
       "         1754: 1,\n",
       "         1759: 1,\n",
       "         1760: 1,\n",
       "         1770: 1,\n",
       "         1771: 1,\n",
       "         3826: 1,\n",
       "         2345: 1,\n",
       "         1791: 1,\n",
       "         3840: 1,\n",
       "         1795: 1,\n",
       "         1796: 1,\n",
       "         1797: 1,\n",
       "         1799: 2,\n",
       "         1821: 1,\n",
       "         1828: 1,\n",
       "         1833: 1,\n",
       "         306: 1,\n",
       "         1838: 1,\n",
       "         1841: 1,\n",
       "         2356: 1,\n",
       "         2399: 1,\n",
       "         1855: 1,\n",
       "         651: 1,\n",
       "         1862: 1,\n",
       "         2017: 1,\n",
       "         3384: 1,\n",
       "         3929: 1,\n",
       "         998: 4,\n",
       "         1897: 1,\n",
       "         1899: 1,\n",
       "         1914: 1,\n",
       "         4415: 1,\n",
       "         3965: 1,\n",
       "         1922: 1,\n",
       "         1927: 2,\n",
       "         1930: 1,\n",
       "         1931: 1,\n",
       "         1938: 1,\n",
       "         1941: 1,\n",
       "         1945: 1,\n",
       "         1965: 2,\n",
       "         1968: 2,\n",
       "         1970: 1,\n",
       "         1973: 2,\n",
       "         1979: 1,\n",
       "         2379: 1,\n",
       "         3063: 1,\n",
       "         2006: 1,\n",
       "         336: 1,\n",
       "         2018: 1,\n",
       "         2020: 1,\n",
       "         2021: 1,\n",
       "         2385: 1,\n",
       "         4078: 1,\n",
       "         2387: 1,\n",
       "         2036: 1})"
      ]
     },
     "execution_count": 40,
     "metadata": {},
     "output_type": "execute_result"
    }
   ],
   "source": [
    "y = []\n",
    "for i in duration.values():\n",
    "    y.append(i)\n",
    "Counter(y)"
   ]
  },
  {
   "cell_type": "code",
   "execution_count": 41,
   "metadata": {
    "collapsed": false
   },
   "outputs": [
    {
     "data": {
      "text/plain": [
       "<matplotlib.text.Text at 0x3a3a4dd8>"
      ]
     },
     "execution_count": 41,
     "metadata": {},
     "output_type": "execute_result"
    },
    {
     "data": {
      "image/png": "[encoded data removed]",
      "text/plain": [
       "<matplotlib.figure.Figure at 0x36a32e10>"
      ]
     },
     "metadata": {},
     "output_type": "display_data"
    }
   ],
   "source": [
    "ax = plt.subplot(1,1,1)\n",
    "#bins = np.logspace(0,4,num=40)\n",
    "ax.hist(y, bins = 40, normed=True)\n",
    "plt.xlabel('Duration', size=15)\n",
    "plt.ylabel('Proportion of people', size=15)\n",
    "#ax.set_yscale('log')\n",
    "#ax.set_xscale('log')"
   ]
  },
  {
   "cell_type": "code",
   "execution_count": 42,
   "metadata": {
    "collapsed": false
   },
   "outputs": [
    {
     "name": "stdout",
     "output_type": "stream",
     "text": [
      "5312\n",
      "3153\n",
      "3153\n"
     ]
    }
   ],
   "source": [
    "print y.count(0)\n",
    "print len(y)-y.count(0)\n",
    "duration1 = {}\n",
    "for key in duration:\n",
    "    if duration[key] != 0:\n",
    "        duration1[key] = duration[key]\n",
    "print len(duration1)         "
   ]
  },
  {
   "cell_type": "code",
   "execution_count": 43,
   "metadata": {
    "collapsed": false
   },
   "outputs": [
    {
     "data": {
      "image/png": "[encoded data removed]",
      "text/plain": [
       "<matplotlib.figure.Figure at 0x360934e0>"
      ]
     },
     "metadata": {},
     "output_type": "display_data"
    }
   ],
   "source": [
    "y1 = []\n",
    "for i in duration1.values():\n",
    "    y1.append(i)\n",
    "ax = plt.subplot(1,1,1)\n",
    "bins = np.logspace(0,4,num=40)\n",
    "ax.hist(y1, bins = bins, normed=True)\n",
    "plt.xlabel('Duration', size=15)\n",
    "plt.ylabel('Proportion of people', size=15)\n",
    "ax.set_xscale('log')\n",
    "ax.set_yscale('log')"
   ]
  },
  {
   "cell_type": "code",
   "execution_count": null,
   "metadata": {
    "collapsed": true
   },
   "outputs": [],
   "source": [
    "#0 day, 1 month, 3 months, one year, over 10 years\n"
   ]
  },
  {
   "cell_type": "code",
   "execution_count": 44,
   "metadata": {
    "collapsed": false
   },
   "outputs": [
    {
     "data": {
      "text/plain": [
       "Counter({'0': 5312,\n",
       "         '1 to 3 months': 475,\n",
       "         '1 to 3 years': 508,\n",
       "         '3 months to 1 year': 734,\n",
       "         '3 to 10 years': 321,\n",
       "         'no more than 1 month': 1105,\n",
       "         'over 10 years': 10})"
      ]
     },
     "execution_count": 44,
     "metadata": {},
     "output_type": "execute_result"
    }
   ],
   "source": [
    "duration2 = {}\n",
    "for key in duration:\n",
    "    if duration[key] == 0:\n",
    "        duration2[key] = '0'\n",
    "    elif duration[key] > 0 and duration[key] <= 30:\n",
    "        duration2[key] = 'no more than 1 month'\n",
    "    elif duration[key] > 30 and duration[key] <= 90:\n",
    "        duration2[key] = '1 to 3 months'\n",
    "    elif duration[key] > 90 and duration[key] <= 365:\n",
    "        duration2[key] = '3 months to 1 year'\n",
    "    elif duration[key] > 365 and duration[key] <= 1095:\n",
    "        duration2[key] = '1 to 3 years'   \n",
    "    elif duration[key] > 1095 and duration[key] <= 3650:\n",
    "        duration2[key] = '3 to 10 years'\n",
    "    else:\n",
    "        duration2[key] = 'over 10 years'\n",
    "duration2\n",
    "y2 = []\n",
    "for i in duration2.values():\n",
    "    y2.append(i)\n",
    "Counter(y2)"
   ]
  },
  {
   "cell_type": "code",
   "execution_count": 45,
   "metadata": {
    "collapsed": false
   },
   "outputs": [
    {
     "name": "stdout",
     "output_type": "stream",
     "text": [
      "8465\n"
     ]
    },
    {
     "data": {
      "text/plain": [
       "'\"\"\\nplt.hist(duration3)\\n'"
      ]
     },
     "execution_count": 45,
     "metadata": {},
     "output_type": "execute_result"
    },
    {
     "data": {
      "image/png": "[encoded data removed]",
      "text/plain": [
       "<matplotlib.figure.Figure at 0x419dcb38>"
      ]
     },
     "metadata": {},
     "output_type": "display_data"
    }
   ],
   "source": [
    "duration3 = []\n",
    "dura = ''\n",
    "for i in y2:\n",
    "    if i == '0':\n",
    "        dura = 0\n",
    "    elif i == 'no more than 1 month':\n",
    "        dura = 1\n",
    "    elif i == '1 to 3 months':\n",
    "        dura = 2\n",
    "    elif i == '3 months to 1 year':\n",
    "        dura = 3\n",
    "    elif i == '1 to 3 years':\n",
    "        dura = 4\n",
    "    else:\n",
    "        dura = 5\n",
    "    duration3.append(dura)\n",
    "print len(duration3) \n",
    "\n",
    "his = np.histogram(duration3,bins=range(7))\n",
    "fig, ax = plt.subplots()\n",
    "offset = .4\n",
    "plt.bar(his[1][1:],his[0])\n",
    "ax.set_xticks( his[1][1:] + offset)\n",
    "ax.set_xticklabels(('1 day', '<= 1 mo', '1-3 mos', '3mos to 1 yr', '1 to 3 yrs', 'over 3 yrs'), size=8)\n",
    "plt.title(\"Frequency of Duration\", size=15)\n",
    "plt.xlabel(\"Duration\")\n",
    "plt.ylabel(\"Frequency\")\n",
    "\n",
    "\"\"\"\"\"\n",
    "plt.hist(duration3)\n",
    "\"\"\"\"\""
   ]
  },
  {
   "cell_type": "markdown",
   "metadata": {},
   "source": [
    "# Comparison with random networks"
   ]
  },
  {
   "cell_type": "code",
   "execution_count": 145,
   "metadata": {
    "collapsed": false
   },
   "outputs": [
    {
     "data": {
      "text/plain": [
       "65"
      ]
     },
     "execution_count": 145,
     "metadata": {},
     "output_type": "execute_result"
    }
   ],
   "source": [
    "len(node_size) #the first two graphs in graphs_list are empty"
   ]
  },
  {
   "cell_type": "raw",
   "metadata": {},
   "source": [
    "Random network"
   ]
  },
  {
   "cell_type": "code",
   "execution_count": 146,
   "metadata": {
    "collapsed": false
   },
   "outputs": [
    {
     "name": "stdout",
     "output_type": "stream",
     "text": [
      "65\n"
     ]
    }
   ],
   "source": [
    "rnd_graphs = []\n",
    "for n, e in zip(node_size, edge_size):\n",
    "    random = nx.erdos_renyi_graph(n=n, p=float(2*e)/(n*(n-1)))\n",
    "    rnd_graphs.append(random)\n",
    "print len(rnd_graphs)"
   ]
  },
  {
   "cell_type": "code",
   "execution_count": 147,
   "metadata": {
    "collapsed": false
   },
   "outputs": [
    {
     "name": "stdout",
     "output_type": "stream",
     "text": [
      "Name: gnp_random_graph(35,0.0974789915966)\n",
      "Type: Graph\n",
      "Number of nodes: 35\n",
      "Number of edges: 55\n",
      "Average degree:   3.1429\n",
      "Name: gnp_random_graph(77,0.0741626794258)\n",
      "Type: Graph\n",
      "Number of nodes: 77\n",
      "Number of edges: 214\n",
      "Average degree:   5.5584\n",
      "Name: gnp_random_graph(123,0.0705051312808)\n",
      "Type: Graph\n",
      "Number of nodes: 123\n",
      "Number of edges: 526\n",
      "Average degree:   8.5528\n",
      "Name: gnp_random_graph(146,0.067548417572)\n",
      "Type: Graph\n",
      "Number of nodes: 146\n",
      "Number of edges: 702\n",
      "Average degree:   9.6164\n",
      "Name: gnp_random_graph(149,0.0526936332305)\n",
      "Type: Graph\n",
      "Number of nodes: 149\n",
      "Number of edges: 602\n",
      "Average degree:   8.0805\n",
      "Name: gnp_random_graph(88,0.0736677115987)\n",
      "Type: Graph\n",
      "Number of nodes: 88\n",
      "Number of edges: 289\n",
      "Average degree:   6.5682\n",
      "Name: gnp_random_graph(113,0.0674778761062)\n",
      "Type: Graph\n",
      "Number of nodes: 113\n",
      "Number of edges: 436\n",
      "Average degree:   7.7168\n",
      "Name: gnp_random_graph(232,0.0412748171369)\n",
      "Type: Graph\n",
      "Number of nodes: 232\n",
      "Number of edges: 1058\n",
      "Average degree:   9.1207\n",
      "Name: gnp_random_graph(150,0.0712304250559)\n",
      "Type: Graph\n",
      "Number of nodes: 150\n",
      "Number of edges: 775\n",
      "Average degree:  10.3333\n",
      "Name: gnp_random_graph(169,0.0521273598197)\n",
      "Type: Graph\n",
      "Number of nodes: 169\n",
      "Number of edges: 753\n",
      "Average degree:   8.9112\n",
      "Name: gnp_random_graph(281,0.0179206914082)\n",
      "Type: Graph\n",
      "Number of nodes: 281\n",
      "Number of edges: 687\n",
      "Average degree:   4.8897\n",
      "Name: gnp_random_graph(343,0.0202206195762)\n",
      "Type: Graph\n",
      "Number of nodes: 343\n",
      "Number of edges: 1201\n",
      "Average degree:   7.0029\n",
      "Name: gnp_random_graph(214,0.0382168399807)\n",
      "Type: Graph\n",
      "Number of nodes: 214\n",
      "Number of edges: 862\n",
      "Average degree:   8.0561\n",
      "Name: gnp_random_graph(183,0.0425749114274)\n",
      "Type: Graph\n",
      "Number of nodes: 183\n",
      "Number of edges: 703\n",
      "Average degree:   7.6831\n",
      "Name: gnp_random_graph(402,0.0160171710028)\n",
      "Type: Graph\n",
      "Number of nodes: 402\n",
      "Number of edges: 1279\n",
      "Average degree:   6.3632\n",
      "Name: gnp_random_graph(253,0.0269464834682)\n",
      "Type: Graph\n",
      "Number of nodes: 253\n",
      "Number of edges: 886\n",
      "Average degree:   7.0040\n",
      "Name: gnp_random_graph(234,0.0270349583654)\n",
      "Type: Graph\n",
      "Number of nodes: 234\n",
      "Number of edges: 788\n",
      "Average degree:   6.7350\n",
      "Name: gnp_random_graph(185,0.0269682726204)\n",
      "Type: Graph\n",
      "Number of nodes: 185\n",
      "Number of edges: 460\n",
      "Average degree:   4.9730\n",
      "Name: gnp_random_graph(212,0.0248591612269)\n",
      "Type: Graph\n",
      "Number of nodes: 212\n",
      "Number of edges: 542\n",
      "Average degree:   5.1132\n",
      "Name: gnp_random_graph(186,0.0258645742517)\n",
      "Type: Graph\n",
      "Number of nodes: 186\n",
      "Number of edges: 430\n",
      "Average degree:   4.6237\n",
      "Name: gnp_random_graph(198,0.0207660359945)\n",
      "Type: Graph\n",
      "Number of nodes: 198\n",
      "Number of edges: 393\n",
      "Average degree:   3.9697\n",
      "Name: gnp_random_graph(165,0.0276422764228)\n",
      "Type: Graph\n",
      "Number of nodes: 165\n",
      "Number of edges: 365\n",
      "Average degree:   4.4242\n",
      "Name: gnp_random_graph(136,0.0350762527233)\n",
      "Type: Graph\n",
      "Number of nodes: 136\n",
      "Number of edges: 299\n",
      "Average degree:   4.3971\n",
      "Name: gnp_random_graph(139,0.0425398811386)\n",
      "Type: Graph\n",
      "Number of nodes: 139\n",
      "Number of edges: 391\n",
      "Average degree:   5.6259\n",
      "Name: gnp_random_graph(122,0.0494512938626)\n",
      "Type: Graph\n",
      "Number of nodes: 122\n",
      "Number of edges: 361\n",
      "Average degree:   5.9180\n",
      "Name: gnp_random_graph(108,0.0650744202146)\n",
      "Type: Graph\n",
      "Number of nodes: 108\n",
      "Number of edges: 378\n",
      "Average degree:   7.0000\n",
      "Name: gnp_random_graph(116,0.0608695652174)\n",
      "Type: Graph\n",
      "Number of nodes: 116\n",
      "Number of edges: 407\n",
      "Average degree:   7.0172\n",
      "Name: gnp_random_graph(105,0.0531135531136)\n",
      "Type: Graph\n",
      "Number of nodes: 105\n",
      "Number of edges: 285\n",
      "Average degree:   5.4286\n",
      "Name: gnp_random_graph(106,0.0632524707996)\n",
      "Type: Graph\n",
      "Number of nodes: 106\n",
      "Number of edges: 334\n",
      "Average degree:   6.3019\n",
      "Name: gnp_random_graph(104,0.0739357729649)\n",
      "Type: Graph\n",
      "Number of nodes: 104\n",
      "Number of edges: 404\n",
      "Average degree:   7.7692\n",
      "Name: gnp_random_graph(129,0.0635901162791)\n",
      "Type: Graph\n",
      "Number of nodes: 129\n",
      "Number of edges: 558\n",
      "Average degree:   8.6512\n",
      "Name: gnp_random_graph(137,0.0642979819665)\n",
      "Type: Graph\n",
      "Number of nodes: 137\n",
      "Number of edges: 578\n",
      "Average degree:   8.4380\n",
      "Name: gnp_random_graph(220,0.0406392694064)\n",
      "Type: Graph\n",
      "Number of nodes: 220\n",
      "Number of edges: 968\n",
      "Average degree:   8.8000\n",
      "Name: gnp_random_graph(222,0.049896049896)\n",
      "Type: Graph\n",
      "Number of nodes: 222\n",
      "Number of edges: 1302\n",
      "Average degree:  11.7297\n",
      "Name: gnp_random_graph(264,0.0560260398663)\n",
      "Type: Graph\n",
      "Number of nodes: 264\n",
      "Number of edges: 1946\n",
      "Average degree:  14.7424\n",
      "Name: gnp_random_graph(428,0.0590623563659)\n",
      "Type: Graph\n",
      "Number of nodes: 428\n",
      "Number of edges: 5423\n",
      "Average degree:  25.3411\n",
      "Name: gnp_random_graph(562,0.0550427870922)\n",
      "Type: Graph\n",
      "Number of nodes: 562\n",
      "Number of edges: 8620\n",
      "Average degree:  30.6762\n",
      "Name: gnp_random_graph(585,0.0564512352184)\n",
      "Type: Graph\n",
      "Number of nodes: 585\n",
      "Number of edges: 9629\n",
      "Average degree:  32.9197\n",
      "Name: gnp_random_graph(637,0.0410483496737)\n",
      "Type: Graph\n",
      "Number of nodes: 637\n",
      "Number of edges: 8331\n",
      "Average degree:  26.1570\n",
      "Name: gnp_random_graph(691,0.036854799807)\n",
      "Type: Graph\n",
      "Number of nodes: 691\n",
      "Number of edges: 8896\n",
      "Average degree:  25.7482\n",
      "Name: gnp_random_graph(585,0.057873785271)\n",
      "Type: Graph\n",
      "Number of nodes: 585\n",
      "Number of edges: 9912\n",
      "Average degree:  33.8872\n",
      "Name: gnp_random_graph(529,0.0640717190812)\n",
      "Type: Graph\n",
      "Number of nodes: 529\n",
      "Number of edges: 9019\n",
      "Average degree:  34.0983\n",
      "Name: gnp_random_graph(597,0.0548042224546)\n",
      "Type: Graph\n",
      "Number of nodes: 597\n",
      "Number of edges: 9759\n",
      "Average degree:  32.6935\n",
      "Name: gnp_random_graph(531,0.0553885513272)\n",
      "Type: Graph\n",
      "Number of nodes: 531\n",
      "Number of edges: 7749\n",
      "Average degree:  29.1864\n",
      "Name: gnp_random_graph(507,0.0594444574378)\n",
      "Type: Graph\n",
      "Number of nodes: 507\n",
      "Number of edges: 7643\n",
      "Average degree:  30.1499\n",
      "Name: gnp_random_graph(456,0.0534605745132)\n",
      "Type: Graph\n",
      "Number of nodes: 456\n",
      "Number of edges: 5560\n",
      "Average degree:  24.3860\n",
      "Name: gnp_random_graph(459,0.0447526900134)\n",
      "Type: Graph\n",
      "Number of nodes: 459\n",
      "Number of edges: 4691\n",
      "Average degree:  20.4401\n",
      "Name: gnp_random_graph(455,0.0425521614949)\n",
      "Type: Graph\n",
      "Number of nodes: 455\n",
      "Number of edges: 4311\n",
      "Average degree:  18.9495\n",
      "Name: gnp_random_graph(395,0.0483197326994)\n",
      "Type: Graph\n",
      "Number of nodes: 395\n",
      "Number of edges: 3730\n",
      "Average degree:  18.8861\n",
      "Name: gnp_random_graph(424,0.0408805031447)\n",
      "Type: Graph\n",
      "Number of nodes: 424\n",
      "Number of edges: 3722\n",
      "Average degree:  17.5566\n",
      "Name: gnp_random_graph(374,0.0354976989577)\n",
      "Type: Graph\n",
      "Number of nodes: 374\n",
      "Number of edges: 2428\n",
      "Average degree:  12.9840\n",
      "Name: gnp_random_graph(398,0.0351252484083)\n",
      "Type: Graph\n",
      "Number of nodes: 398\n",
      "Number of edges: 2780\n",
      "Average degree:  13.9698\n",
      "Name: gnp_random_graph(315,0.0473157415833)\n",
      "Type: Graph\n",
      "Number of nodes: 315\n",
      "Number of edges: 2299\n",
      "Average degree:  14.5968\n",
      "Name: gnp_random_graph(242,0.0373443983402)\n",
      "Type: Graph\n",
      "Number of nodes: 242\n",
      "Number of edges: 1088\n",
      "Average degree:   8.9917\n",
      "Name: gnp_random_graph(182,0.0446238844029)\n",
      "Type: Graph\n",
      "Number of nodes: 182\n",
      "Number of edges: 753\n",
      "Average degree:   8.2747\n",
      "Name: gnp_random_graph(214,0.0316352946338)\n",
      "Type: Graph\n",
      "Number of nodes: 214\n",
      "Number of edges: 693\n",
      "Average degree:   6.4766\n",
      "Name: gnp_random_graph(177,0.0480868002054)\n",
      "Type: Graph\n",
      "Number of nodes: 177\n",
      "Number of edges: 741\n",
      "Average degree:   8.3729\n",
      "Name: gnp_random_graph(206,0.0407766990291)\n",
      "Type: Graph\n",
      "Number of nodes: 206\n",
      "Number of edges: 861\n",
      "Average degree:   8.3592\n",
      "Name: gnp_random_graph(185,0.0487661574618)\n",
      "Type: Graph\n",
      "Number of nodes: 185\n",
      "Number of edges: 826\n",
      "Average degree:   8.9297\n",
      "Name: gnp_random_graph(192,0.0370855148342)\n",
      "Type: Graph\n",
      "Number of nodes: 192\n",
      "Number of edges: 712\n",
      "Average degree:   7.4167\n",
      "Name: gnp_random_graph(218,0.0316661734241)\n",
      "Type: Graph\n",
      "Number of nodes: 218\n",
      "Number of edges: 789\n",
      "Average degree:   7.2385\n",
      "Name: gnp_random_graph(177,0.0391628145865)\n",
      "Type: Graph\n",
      "Number of nodes: 177\n",
      "Number of edges: 567\n",
      "Average degree:   6.4068\n",
      "Name: gnp_random_graph(157,0.0379715825576)\n",
      "Type: Graph\n",
      "Number of nodes: 157\n",
      "Number of edges: 478\n",
      "Average degree:   6.0892\n",
      "Name: gnp_random_graph(187,0.0231154045196)\n",
      "Type: Graph\n",
      "Number of nodes: 187\n",
      "Number of edges: 415\n",
      "Average degree:   4.4385\n",
      "Name: gnp_random_graph(196,0.0229722658294)\n",
      "Type: Graph\n",
      "Number of nodes: 196\n",
      "Number of edges: 413\n",
      "Average degree:   4.2143\n"
     ]
    }
   ],
   "source": [
    "for g in rnd_graphs:\n",
    "    print nx.info(g)"
   ]
  },
  {
   "cell_type": "code",
   "execution_count": 153,
   "metadata": {
    "collapsed": false
   },
   "outputs": [
    {
     "name": "stdout",
     "output_type": "stream",
     "text": [
      "[0.09243697478991597, 0.07313738892686261, 0.0701052912168466, 0.06632026452527161, 0.05459822238345728, 0.07549634273772204, 0.06890012642225031, 0.03948350500074638, 0.06935123042505593, 0.053043110735418425, 0.01746314184036604, 0.020476360970453345, 0.03782194725988329, 0.04221461598510779, 0.015868289475316683, 0.027793462576071272, 0.02890576281134221, 0.02702702702702703, 0.024233211124027543, 0.024992734670154025, 0.020150746039070914, 0.02697708795269771, 0.03257080610021786, 0.0407673860911271, 0.04890936187508468, 0.06542056074766354, 0.06101949025487256, 0.0521978021978022, 0.06001796945193172, 0.07542942494398805, 0.06758720930232558, 0.06204379562043796, 0.04018264840182648, 0.053075700134523666, 0.05605484502822906, 0.059346888747838646, 0.05468120603142584, 0.056369277602154315, 0.04112733627558426, 0.03731621888042954, 0.05802599227256761, 0.06458011113020565, 0.05485481096758962, 0.055068755996162455, 0.0595847853372937, 0.053595527279737806, 0.04462901123574126, 0.04173887786222588, 0.04793420291717535, 0.0415049734600116, 0.034809536780834684, 0.03518853714415908, 0.0464867050854312, 0.03731010596344433, 0.045716714225001516, 0.030406739502435172, 0.04757318952234207, 0.040776699029126215, 0.04853113983548766, 0.03883071553228621, 0.03335729082991587, 0.03640215716486903, 0.03903315368283521, 0.02386291760105802, 0.02161172161172161]\n",
      "[0.04873949579831933, 0.03708133971291866, 0.0352525656404105, 0.03377420878601795, 0.02634681661527299, 0.03683385579937304, 0.03373893805309734, 0.020637408568443052, 0.03561521252796421, 0.026063679909833756, 0.008960345704117946, 0.01011030978807563, 0.019108419990347066, 0.021287455713685222, 0.008008585501420577, 0.0134732417341113, 0.013517479182715234, 0.013484136310223266, 0.0124295806134311, 0.012932287125835513, 0.010383017997231195, 0.013821138211382113, 0.017538126361655772, 0.021269940569283705, 0.02472564693131012, 0.032537210107303566, 0.030434782608695653, 0.026556776556776556, 0.031626235399820304, 0.03696788648244959, 0.031795058139534885, 0.03214899098325462, 0.020319634703196348, 0.02494802494802495, 0.028013019933172026, 0.029531178182932435, 0.02752139354609524, 0.028225617609179254, 0.020524174836843302, 0.018427399903521467, 0.028936892635522772, 0.03203585954058544, 0.027402111227277325, 0.02769427566357531, 0.029722228718884237, 0.026730287256603046, 0.022376345006707196, 0.021276080747446385, 0.024159866349675513, 0.020440251572327043, 0.017748849478860518, 0.017562624204144145, 0.023657870791628753, 0.01867219917012448, 0.022311942201444963, 0.015817647316923346, 0.024043400102722136, 0.020388349514563107, 0.02438307873090482, 0.018542757417102967, 0.015833086712044985, 0.0195814072932717, 0.01898579127878491, 0.011557702259789547, 0.011486132914704343]\n",
      "[0.10027210884353742, 0.05850714941624034, 0.066716863560479, 0.06814791328288504, 0.07457253234987142, 0.08737412320300016, 0.0701291334034696, 0.049587368204254606, 0.0688263762381409, 0.052395007050419454, 0.016458847597637632, 0.01619373499839971, 0.03705001476441826, 0.035744461973970146, 0.015364505750809518, 0.02484841684446426, 0.029050460460716854, 0.033118833118833096, 0.015882885458357154, 0.029497354497354484, 0.02345278178611512, 0.0294035594035594, 0.020838107970460908, 0.04224049331962999, 0.04964398079152175, 0.06565456148789478, 0.0674565855600338, 0.058651824366110085, 0.06395685027760496, 0.0682019903173749, 0.07641748269943241, 0.05919832397934583, 0.042871358439540236, 0.062160694668434574, 0.05924114120024035, 0.058620985566056244, 0.05418607483993051, 0.0552067365631413, 0.04097648913169864, 0.037011417086729545, 0.058303758191067895, 0.06490784201995961, 0.055287244713543536, 0.056161195367356156, 0.0596097203700589, 0.05499458573540314, 0.04283725585859537, 0.043000184745137615, 0.04782011210328402, 0.04147957955784201, 0.03410683217913228, 0.03540571706830378, 0.04613877045668585, 0.041356312218003975, 0.04379807583971834, 0.03233706309572167, 0.04520759695236264, 0.04252807602322162, 0.04679252826311645, 0.04022370858308355, 0.02861534489974855, 0.03125157955666428, 0.04710300315395853, 0.02758254817078346, 0.014561798745472216]\n",
      "[0.1467151675485009, 0.3696754015204886, 0.4043883367102452, 0.2800117236843172, 0.2923817641738225, 0.25238682122846284, 0.26236010697318835, 0.28630479842152173, 0.2879146341682188, 0.3288437961803365, 0.12090498719582594, 0.12019906484929925, 0.18457978714550738, 0.17863479977967217, 0.11561919977680223, 0.11411101747708069, 0.14237780236711878, 0.1471538975232582, 0.07539767265295828, 0.08343336992066465, 0.057355854002900594, 0.08782227261104406, 0.0954522457347252, 0.2878031115484823, 0.2710273306190986, 0.27920463947511026, 0.2739162577753748, 0.2130436817709514, 0.2654175971129825, 0.27077322402990245, 0.35561796488765546, 0.33416804615376594, 0.23630405761521692, 0.3283524436646843, 0.32840890849597854, 0.442503582714127, 0.4596709514550172, 0.3919822666279532, 0.29563278375510904, 0.30601647710859536, 0.4012787407981309, 0.4052373442632525, 0.37296654707263815, 0.3649217878867327, 0.4086148742823212, 0.3372493401426008, 0.29418165845836963, 0.28639878211296865, 0.3376969542061843, 0.31079502809812926, 0.26787889338462917, 0.262458621918478, 0.29428004841936745, 0.3253699344139446, 0.31536363819902163, 0.22928766248068033, 0.2960137158988592, 0.32017275365612535, 0.24607368239756344, 0.226124737642991, 0.18195287477349012, 0.23204881656656226, 0.18151426163310427, 0.11369513949810811, 0.12392752976341215]\n"
     ]
    }
   ],
   "source": [
    "density_rnd = []\n",
    "cc_rnd = []\n",
    "for g in rnd_graphs:\n",
    "    d = nx.density(g)\n",
    "    c = nx.average_clustering(g)  #'Clustering algorithms are not defined ', 'for directed graphs.'\n",
    "    density_rnd.append(d)\n",
    "    cc_rnd.append(c)\n",
    "print density_rnd\n",
    "print density\n",
    "print cc_rnd\n",
    "print cc"
   ]
  },
  {
   "cell_type": "code",
   "execution_count": null,
   "metadata": {
    "collapsed": true
   },
   "outputs": [],
   "source": []
  }
 ],
 "metadata": {
  "kernelspec": {
   "display_name": "Python 2",
   "language": "python",
   "name": "python2"
  },
  "language_info": {
   "codemirror_mode": {
    "name": "ipython",
    "version": 2
   },
   "file_extension": ".py",
   "mimetype": "text/x-python",
   "name": "python",
   "nbconvert_exporter": "python",
   "pygments_lexer": "ipython2",
   "version": "2.7.11"
  }
 },
 "nbformat": 4,
 "nbformat_minor": 0
}
