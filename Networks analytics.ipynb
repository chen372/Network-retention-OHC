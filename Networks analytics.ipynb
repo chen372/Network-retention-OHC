{
 "cells": [
  {
   "cell_type": "code",
   "execution_count": 1,
   "metadata": {
    "collapsed": true
   },
   "outputs": [],
   "source": [
    "import json\n",
    "import networkx as nx"
   ]
  },
  {
   "cell_type": "code",
   "execution_count": 2,
   "metadata": {
    "collapsed": false
   },
   "outputs": [
    {
     "name": "stdout",
     "output_type": "stream",
     "text": [
      "gracelyn\n",
      "rosie43539\n"
     ]
    }
   ],
   "source": [
    "# load json file\n",
    "with open('em_data.txt') as json_file:  \n",
    "    data = json.load(json_file)\n",
    "print data['/node/139863']['user']\n",
    "print data['/node/139863']['reply'][1]['user']"
   ]
  },
  {
   "cell_type": "markdown",
   "metadata": {},
   "source": [
    "# Construct undirected graph"
   ]
  },
  {
   "cell_type": "code",
   "execution_count": 12,
   "metadata": {
    "collapsed": false
   },
   "outputs": [],
   "source": [
    "g = nx.Graph()\n",
    "for key in data:\n",
    "    i = 0\n",
    "    while i < 100:\n",
    "        try:\n",
    "            if data[key]['user'] != data[key]['reply'][i]['user']:  #forbid self-loop\n",
    "                g.add_edges_from([(data[key]['user'], data[key]['reply'][i]['user'])])\n",
    "        except:\n",
    "            pass\n",
    "        i += 1"
   ]
  },
  {
   "cell_type": "code",
   "execution_count": 13,
   "metadata": {
    "collapsed": false
   },
   "outputs": [
    {
     "name": "stdout",
     "output_type": "stream",
     "text": [
      "Name: \n",
      "Type: Graph\n",
      "Number of nodes: 1757\n",
      "Number of edges: 3668\n",
      "Average degree:   4.1753\n"
     ]
    }
   ],
   "source": [
    "print nx.info(g)\n",
    "#print nx.edges(g)"
   ]
  },
  {
   "cell_type": "markdown",
   "metadata": {},
   "source": [
    "# Construct directed graph"
   ]
  },
  {
   "cell_type": "code",
   "execution_count": 9,
   "metadata": {
    "collapsed": true
   },
   "outputs": [],
   "source": [
    "g = nx.DiGraph()\n",
    "for key in data:\n",
    "    i = 0\n",
    "    while i < 100:\n",
    "        try:\n",
    "            if data[key]['user'] != data[key]['reply'][i]['user']:  #forbid self-loop\n",
    "                g.add_edge(data[key]['reply'][i]['user'], data[key]['user'])\n",
    "        except:\n",
    "            pass\n",
    "        i += 1"
   ]
  },
  {
   "cell_type": "code",
   "execution_count": 10,
   "metadata": {
    "collapsed": false
   },
   "outputs": [
    {
     "name": "stdout",
     "output_type": "stream",
     "text": [
      "Name: \n",
      "Type: DiGraph\n",
      "Number of nodes: 1757\n",
      "Number of edges: 3774\n",
      "Average in degree:   2.1480\n",
      "Average out degree:   2.1480\n"
     ]
    }
   ],
   "source": [
    "print nx.info(g)\n",
    "#print nx.edges(g)"
   ]
  },
  {
   "cell_type": "markdown",
   "metadata": {},
   "source": [
    "# Calculate centralities and visualize via Gephi"
   ]
  },
  {
   "cell_type": "code",
   "execution_count": 62,
   "metadata": {
    "collapsed": false
   },
   "outputs": [],
   "source": [
    "eign = nx.eigenvector_centrality(g)\n",
    "nx.set_node_attributes(g, \"eigenvector\", eign)\n",
    "#print g.node[data['/node/139863']['user']]['eigenvector']\n",
    "\n",
    "between = nx.betweenness_centrality(g)\n",
    "nx.set_node_attributes(g, \"betweenness\", between)\n",
    "\n",
    "close = nx.closeness_centrality(g)\n",
    "nx.set_node_attributes(g, \"closeness\", close)\n",
    "\n",
    "degree = nx.degree_centrality(g)\n",
    "nx.set_node_attributes(g, \"degree\", degree)\n",
    "\n",
    "nx.write_gexf(g, 'em_network.gexf')"
   ]
  },
  {
   "cell_type": "code",
   "execution_count": 11,
   "metadata": {
    "collapsed": false
   },
   "outputs": [],
   "source": [
    "eign = nx.eigenvector_centrality(g)\n",
    "nx.set_node_attributes(g, \"eigenvector\", eign)\n",
    "#print g.node[data['/node/139863']['user']]['eigenvector']\n",
    "\n",
    "between = nx.betweenness_centrality(g)\n",
    "nx.set_node_attributes(g, \"betweenness\", between)\n",
    "\n",
    "close = nx.closeness_centrality(g)\n",
    "nx.set_node_attributes(g, \"closeness\", close)\n",
    "\n",
    "indegree = nx.in_degree_centrality(g)\n",
    "nx.set_node_attributes(g, \"indegree\", indegree)\n",
    "\n",
    "outdegree = nx.out_degree_centrality(g)\n",
    "nx.set_node_attributes(g, \"outdegree\", outdegree)\n",
    "\n",
    "nx.write_gexf(g, 'em_network2.gexf')"
   ]
  },
  {
   "cell_type": "code",
   "execution_count": 15,
   "metadata": {
    "collapsed": false
   },
   "outputs": [
    {
     "data": {
      "text/plain": [
       "{}"
      ]
     },
     "execution_count": 15,
     "metadata": {},
     "output_type": "execute_result"
    }
   ],
   "source": []
  },
  {
   "cell_type": "code",
   "execution_count": null,
   "metadata": {
    "collapsed": true
   },
   "outputs": [],
   "source": []
  }
 ],
 "metadata": {
  "kernelspec": {
   "display_name": "Python 2",
   "language": "python",
   "name": "python2"
  },
  "language_info": {
   "codemirror_mode": {
    "name": "ipython",
    "version": 2
   },
   "file_extension": ".py",
   "mimetype": "text/x-python",
   "name": "python",
   "nbconvert_exporter": "python",
   "pygments_lexer": "ipython2",
   "version": "2.7.11"
  }
 },
 "nbformat": 4,
 "nbformat_minor": 0
}
